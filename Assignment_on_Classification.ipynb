{
  "nbformat": 4,
  "nbformat_minor": 0,
  "metadata": {
    "colab": {
      "provenance": []
    },
    "kernelspec": {
      "name": "python3",
      "display_name": "Python 3"
    },
    "language_info": {
      "name": "python"
    }
  },
  "cells": [
    {
      "cell_type": "markdown",
      "source": [
        "**1. Read the dataset to python environment**"
      ],
      "metadata": {
        "id": "Q7o1I1IqrC1M"
      }
    },
    {
      "cell_type": "code",
      "source": [
        "import numpy as np\n",
        "import pandas as pd\n",
        "import matplotlib.pyplot as plt\n",
        "import seaborn as sns\n",
        "%matplotlib inline"
      ],
      "metadata": {
        "id": "mTdTWexwrFPk"
      },
      "execution_count": 8,
      "outputs": []
    },
    {
      "cell_type": "code",
      "source": [
        "from google.colab import files\n",
        "files.upload()"
      ],
      "metadata": {
        "colab": {
          "base_uri": "https://localhost:8080/",
          "height": 1000
        },
        "id": "3TNTMfqYpAAW",
        "outputId": "676b98c8-451f-4314-e7d7-6939b3e4e9d1"
      },
      "execution_count": 2,
      "outputs": [
        {
          "output_type": "display_data",
          "data": {
            "text/plain": [
              "<IPython.core.display.HTML object>"
            ],
            "text/html": [
              "\n",
              "     <input type=\"file\" id=\"files-0f27622d-1b7b-4771-a9b1-590f19b366a4\" name=\"files[]\" multiple disabled\n",
              "        style=\"border:none\" />\n",
              "     <output id=\"result-0f27622d-1b7b-4771-a9b1-590f19b366a4\">\n",
              "      Upload widget is only available when the cell has been executed in the\n",
              "      current browser session. Please rerun this cell to enable.\n",
              "      </output>\n",
              "      <script>// Copyright 2017 Google LLC\n",
              "//\n",
              "// Licensed under the Apache License, Version 2.0 (the \"License\");\n",
              "// you may not use this file except in compliance with the License.\n",
              "// You may obtain a copy of the License at\n",
              "//\n",
              "//      http://www.apache.org/licenses/LICENSE-2.0\n",
              "//\n",
              "// Unless required by applicable law or agreed to in writing, software\n",
              "// distributed under the License is distributed on an \"AS IS\" BASIS,\n",
              "// WITHOUT WARRANTIES OR CONDITIONS OF ANY KIND, either express or implied.\n",
              "// See the License for the specific language governing permissions and\n",
              "// limitations under the License.\n",
              "\n",
              "/**\n",
              " * @fileoverview Helpers for google.colab Python module.\n",
              " */\n",
              "(function(scope) {\n",
              "function span(text, styleAttributes = {}) {\n",
              "  const element = document.createElement('span');\n",
              "  element.textContent = text;\n",
              "  for (const key of Object.keys(styleAttributes)) {\n",
              "    element.style[key] = styleAttributes[key];\n",
              "  }\n",
              "  return element;\n",
              "}\n",
              "\n",
              "// Max number of bytes which will be uploaded at a time.\n",
              "const MAX_PAYLOAD_SIZE = 100 * 1024;\n",
              "\n",
              "function _uploadFiles(inputId, outputId) {\n",
              "  const steps = uploadFilesStep(inputId, outputId);\n",
              "  const outputElement = document.getElementById(outputId);\n",
              "  // Cache steps on the outputElement to make it available for the next call\n",
              "  // to uploadFilesContinue from Python.\n",
              "  outputElement.steps = steps;\n",
              "\n",
              "  return _uploadFilesContinue(outputId);\n",
              "}\n",
              "\n",
              "// This is roughly an async generator (not supported in the browser yet),\n",
              "// where there are multiple asynchronous steps and the Python side is going\n",
              "// to poll for completion of each step.\n",
              "// This uses a Promise to block the python side on completion of each step,\n",
              "// then passes the result of the previous step as the input to the next step.\n",
              "function _uploadFilesContinue(outputId) {\n",
              "  const outputElement = document.getElementById(outputId);\n",
              "  const steps = outputElement.steps;\n",
              "\n",
              "  const next = steps.next(outputElement.lastPromiseValue);\n",
              "  return Promise.resolve(next.value.promise).then((value) => {\n",
              "    // Cache the last promise value to make it available to the next\n",
              "    // step of the generator.\n",
              "    outputElement.lastPromiseValue = value;\n",
              "    return next.value.response;\n",
              "  });\n",
              "}\n",
              "\n",
              "/**\n",
              " * Generator function which is called between each async step of the upload\n",
              " * process.\n",
              " * @param {string} inputId Element ID of the input file picker element.\n",
              " * @param {string} outputId Element ID of the output display.\n",
              " * @return {!Iterable<!Object>} Iterable of next steps.\n",
              " */\n",
              "function* uploadFilesStep(inputId, outputId) {\n",
              "  const inputElement = document.getElementById(inputId);\n",
              "  inputElement.disabled = false;\n",
              "\n",
              "  const outputElement = document.getElementById(outputId);\n",
              "  outputElement.innerHTML = '';\n",
              "\n",
              "  const pickedPromise = new Promise((resolve) => {\n",
              "    inputElement.addEventListener('change', (e) => {\n",
              "      resolve(e.target.files);\n",
              "    });\n",
              "  });\n",
              "\n",
              "  const cancel = document.createElement('button');\n",
              "  inputElement.parentElement.appendChild(cancel);\n",
              "  cancel.textContent = 'Cancel upload';\n",
              "  const cancelPromise = new Promise((resolve) => {\n",
              "    cancel.onclick = () => {\n",
              "      resolve(null);\n",
              "    };\n",
              "  });\n",
              "\n",
              "  // Wait for the user to pick the files.\n",
              "  const files = yield {\n",
              "    promise: Promise.race([pickedPromise, cancelPromise]),\n",
              "    response: {\n",
              "      action: 'starting',\n",
              "    }\n",
              "  };\n",
              "\n",
              "  cancel.remove();\n",
              "\n",
              "  // Disable the input element since further picks are not allowed.\n",
              "  inputElement.disabled = true;\n",
              "\n",
              "  if (!files) {\n",
              "    return {\n",
              "      response: {\n",
              "        action: 'complete',\n",
              "      }\n",
              "    };\n",
              "  }\n",
              "\n",
              "  for (const file of files) {\n",
              "    const li = document.createElement('li');\n",
              "    li.append(span(file.name, {fontWeight: 'bold'}));\n",
              "    li.append(span(\n",
              "        `(${file.type || 'n/a'}) - ${file.size} bytes, ` +\n",
              "        `last modified: ${\n",
              "            file.lastModifiedDate ? file.lastModifiedDate.toLocaleDateString() :\n",
              "                                    'n/a'} - `));\n",
              "    const percent = span('0% done');\n",
              "    li.appendChild(percent);\n",
              "\n",
              "    outputElement.appendChild(li);\n",
              "\n",
              "    const fileDataPromise = new Promise((resolve) => {\n",
              "      const reader = new FileReader();\n",
              "      reader.onload = (e) => {\n",
              "        resolve(e.target.result);\n",
              "      };\n",
              "      reader.readAsArrayBuffer(file);\n",
              "    });\n",
              "    // Wait for the data to be ready.\n",
              "    let fileData = yield {\n",
              "      promise: fileDataPromise,\n",
              "      response: {\n",
              "        action: 'continue',\n",
              "      }\n",
              "    };\n",
              "\n",
              "    // Use a chunked sending to avoid message size limits. See b/62115660.\n",
              "    let position = 0;\n",
              "    do {\n",
              "      const length = Math.min(fileData.byteLength - position, MAX_PAYLOAD_SIZE);\n",
              "      const chunk = new Uint8Array(fileData, position, length);\n",
              "      position += length;\n",
              "\n",
              "      const base64 = btoa(String.fromCharCode.apply(null, chunk));\n",
              "      yield {\n",
              "        response: {\n",
              "          action: 'append',\n",
              "          file: file.name,\n",
              "          data: base64,\n",
              "        },\n",
              "      };\n",
              "\n",
              "      let percentDone = fileData.byteLength === 0 ?\n",
              "          100 :\n",
              "          Math.round((position / fileData.byteLength) * 100);\n",
              "      percent.textContent = `${percentDone}% done`;\n",
              "\n",
              "    } while (position < fileData.byteLength);\n",
              "  }\n",
              "\n",
              "  // All done.\n",
              "  yield {\n",
              "    response: {\n",
              "      action: 'complete',\n",
              "    }\n",
              "  };\n",
              "}\n",
              "\n",
              "scope.google = scope.google || {};\n",
              "scope.google.colab = scope.google.colab || {};\n",
              "scope.google.colab._files = {\n",
              "  _uploadFiles,\n",
              "  _uploadFilesContinue,\n",
              "};\n",
              "})(self);\n",
              "</script> "
            ]
          },
          "metadata": {}
        },
        {
          "output_type": "stream",
          "name": "stdout",
          "text": [
            "Saving iris (2).xls to iris (2).xls\n"
          ]
        },
        {
          "output_type": "execute_result",
          "data": {
            "text/plain": [
              "{'iris (2).xls': b'\\xd0\\xcf\\x11\\xe0\\xa1\\xb1\\x1a\\xe1\\x00\\x00\\x00\\x00\\x00\\x00\\x00\\x00\\x00\\x00\\x00\\x00\\x00\\x00\\x00\\x00>\\x00\\x03\\x00\\xfe\\xff\\t\\x00\\x06\\x00\\x00\\x00\\x00\\x00\\x00\\x00\\x00\\x00\\x00\\x00\\x01\\x00\\x00\\x00D\\x00\\x00\\x00\\x00\\x00\\x00\\x00\\x00\\x10\\x00\\x00\\xfe\\xff\\xff\\xff\\x00\\x00\\x00\\x00\\xfe\\xff\\xff\\xff\\x00\\x00\\x00\\x00C\\x00\\x00\\x00\\xff\\xff\\xff\\xff\\xff\\xff\\xff\\xff\\xff\\xff\\xff\\xff\\xff\\xff\\xff\\xff\\xff\\xff\\xff\\xff\\xff\\xff\\xff\\xff\\xff\\xff\\xff\\xff\\xff\\xff\\xff\\xff\\xff\\xff\\xff\\xff\\xff\\xff\\xff\\xff\\xff\\xff\\xff\\xff\\xff\\xff\\xff\\xff\\xff\\xff\\xff\\xff\\xff\\xff\\xff\\xff\\xff\\xff\\xff\\xff\\xff\\xff\\xff\\xff\\xff\\xff\\xff\\xff\\xff\\xff\\xff\\xff\\xff\\xff\\xff\\xff\\xff\\xff\\xff\\xff\\xff\\xff\\xff\\xff\\xff\\xff\\xff\\xff\\xff\\xff\\xff\\xff\\xff\\xff\\xff\\xff\\xff\\xff\\xff\\xff\\xff\\xff\\xff\\xff\\xff\\xff\\xff\\xff\\xff\\xff\\xff\\xff\\xff\\xff\\xff\\xff\\xff\\xff\\xff\\xff\\xff\\xff\\xff\\xff\\xff\\xff\\xff\\xff\\xff\\xff\\xff\\xff\\xff\\xff\\xff\\xff\\xff\\xff\\xff\\xff\\xff\\xff\\xff\\xff\\xff\\xff\\xff\\xff\\xff\\xff\\xff\\xff\\xff\\xff\\xff\\xff\\xff\\xff\\xff\\xff\\xff\\xff\\xff\\xff\\xff\\xff\\xff\\xff\\xff\\xff\\xff\\xff\\xff\\xff\\xff\\xff\\xff\\xff\\xff\\xff\\xff\\xff\\xff\\xff\\xff\\xff\\xff\\xff\\xff\\xff\\xff\\xff\\xff\\xff\\xff\\xff\\xff\\xff\\xff\\xff\\xff\\xff\\xff\\xff\\xff\\xff\\xff\\xff\\xff\\xff\\xff\\xff\\xff\\xff\\xff\\xff\\xff\\xff\\xff\\xff\\xff\\xff\\xff\\xff\\xff\\xff\\xff\\xff\\xff\\xff\\xff\\xff\\xff\\xff\\xff\\xff\\xff\\xff\\xff\\xff\\xff\\xff\\xff\\xff\\xff\\xff\\xff\\xff\\xff\\xff\\xff\\xff\\xff\\xff\\xff\\xff\\xff\\xff\\xff\\xff\\xff\\xff\\xff\\xff\\xff\\xff\\xff\\xff\\xff\\xff\\xff\\xff\\xff\\xff\\xff\\xff\\xff\\xff\\xff\\xff\\xff\\xff\\xff\\xff\\xff\\xff\\xff\\xff\\xff\\xff\\xff\\xff\\xff\\xff\\xff\\xff\\xff\\xff\\xff\\xff\\xff\\xff\\xff\\xff\\xff\\xff\\xff\\xff\\xff\\xff\\xff\\xff\\xff\\xff\\xff\\xff\\xff\\xff\\xff\\xff\\xff\\xff\\xff\\xff\\xff\\xff\\xff\\xff\\xff\\xff\\xff\\xff\\xff\\xff\\xff\\xff\\xff\\xff\\xff\\xff\\xff\\xff\\xff\\xff\\xff\\xff\\xff\\xff\\xff\\xff\\xff\\xff\\xff\\xff\\xff\\xff\\xff\\xff\\xff\\xff\\xff\\xff\\xff\\xff\\xff\\xff\\xff\\xff\\xff\\xff\\xff\\xff\\xff\\xff\\xff\\xff\\xff\\xff\\xff\\xff\\xff\\xff\\xff\\xff\\xff\\xff\\xff\\xff\\xff\\xff\\xff\\xff\\xff\\xff\\xff\\xff\\xff\\xff\\xff\\xff\\xff\\xff\\xff\\xff\\xff\\xff\\xff\\xff\\xff\\xff\\xff\\xff\\xff\\xff\\xff\\xff\\xff\\xff\\xff\\xff\\xff\\xff\\xff\\xff\\xff\\xff\\xff\\xff\\xff\\xff\\xff\\xff\\t\\x08\\x10\\x00\\x00\\x06\\x05\\x00ZO\\xcd\\x07\\xc9\\x00\\x02\\x00\\x06\\x08\\x00\\x00\\xe1\\x00\\x02\\x00\\xb0\\x04\\xc1\\x00\\x02\\x00\\x00\\x00\\xe2\\x00\\x00\\x00\\\\\\x00p\\x00\\x1a\\x00\\x00chidambareswaren mahadevan                                                                                   B\\x00\\x02\\x00\\xb0\\x04a\\x01\\x02\\x00\\x00\\x00\\xc0\\x01\\x00\\x00=\\x01\\x02\\x00\\x01\\x00\\x9c\\x00\\x02\\x00\\x11\\x00\\x19\\x00\\x02\\x00\\x00\\x00\\x12\\x00\\x02\\x00\\x00\\x00\\x13\\x00\\x02\\x00\\x00\\x00\\xaf\\x01\\x02\\x00\\x00\\x00\\xbc\\x01\\x02\\x00\\x00\\x00=\\x00\\x12\\x00\\xe0\\x01\\x1e\\x00 N\\xee48\\x00\\x00\\x00\\x00\\x00\\x01\\x00X\\x02@\\x00\\x02\\x00\\x00\\x00\\x8d\\x00\\x02\\x00\\x00\\x00\"\\x00\\x02\\x00\\x00\\x00\\x0e\\x00\\x02\\x00\\x01\\x00\\xb7\\x01\\x02\\x00\\x00\\x00\\xda\\x00\\x02\\x00\\x00\\x001\\x00\\x1a\\x00\\xc8\\x00\\x00\\x00\\xff\\x7f\\x90\\x01\\x00\\x00\\x00\\x00\\x00\\x7f\\x05\\x01A\\x00r\\x00i\\x00a\\x00l\\x001\\x00\\x1a\\x00\\xc8\\x00\\x00\\x00\\xff\\x7f\\x90\\x01\\x00\\x00\\x00\\x00\\x00\\x7f\\x05\\x01A\\x00r\\x00i\\x00a\\x00l\\x001\\x00\\x1a\\x00\\xc8\\x00\\x00\\x00\\xff\\x7f\\x90\\x01\\x00\\x00\\x00\\x00\\x00\\x7f\\x05\\x01A\\x00r\\x00i\\x00a\\x00l\\x001\\x00\\x1a\\x00\\xc8\\x00\\x00\\x00\\xff\\x7f\\x90\\x01\\x00\\x00\\x00\\x00\\x00\\x7f\\x05\\x01A\\x00r\\x00i\\x00a\\x00l\\x001\\x00\\x1a\\x00\\xc8\\x00\\x00\\x00\\xff\\x7f\\x90\\x01\\x00\\x00\\x00\\x00\\x00\\x7f\\x05\\x01A\\x00r\\x00i\\x00a\\x00l\\x001\\x00*\\x00h\\x01\\x00\\x006\\x00\\x90\\x01\\x00\\x00\\x00\\x02\\x00\\x02\\r\\x01C\\x00a\\x00l\\x00i\\x00b\\x00r\\x00i\\x00 \\x00L\\x00i\\x00g\\x00h\\x00t\\x001\\x00\\x1e\\x00,\\x01\\x01\\x006\\x00\\xbc\\x02\\x00\\x00\\x00\\x02\\x00\\x02\\x07\\x01C\\x00a\\x00l\\x00i\\x00b\\x00r\\x00i\\x001\\x00\\x1e\\x00\\x04\\x01\\x01\\x006\\x00\\xbc\\x02\\x00\\x00\\x00\\x02\\x00\\x02\\x07\\x01C\\x00a\\x00l\\x00i\\x00b\\x00r\\x00i\\x001\\x00\\x1e\\x00\\xdc\\x00\\x01\\x006\\x00\\xbc\\x02\\x00\\x00\\x00\\x02\\x00\\x02\\x07\\x01C\\x00a\\x00l\\x00i\\x00b\\x00r\\x00i\\x001\\x00\\x1e\\x00\\xdc\\x00\\x00\\x00\\x11\\x00\\x90\\x01\\x00\\x00\\x00\\x02\\x00\\x02\\x07\\x01C\\x00a\\x00l\\x00i\\x00b\\x00r\\x00i\\x001\\x00\\x1e\\x00\\xdc\\x00\\x00\\x00\\x14\\x00\\x90\\x01\\x00\\x00\\x00\\x02\\x00\\x02\\x07\\x01C\\x00a\\x00l\\x00i\\x00b\\x00r\\x00i\\x001\\x00\\x1e\\x00\\xdc\\x00\\x00\\x00<\\x00\\x90\\x01\\x00\\x00\\x00\\x02\\x00\\x02\\x07\\x01C\\x00a\\x00l\\x00i\\x00b\\x00r\\x00i\\x001\\x00\\x1e\\x00\\xdc\\x00\\x00\\x00>\\x00\\x90\\x01\\x00\\x00\\x00\\x02\\x00\\x02\\x07\\x01C\\x00a\\x00l\\x00i\\x00b\\x00r\\x00i\\x001\\x00\\x1e\\x00\\xdc\\x00\\x01\\x00?\\x00\\xbc\\x02\\x00\\x00\\x00\\x02\\x00\\x02\\x07\\x01C\\x00a\\x00l\\x00i\\x00b\\x00r\\x00i\\x001\\x00\\x1e\\x00\\xdc\\x00\\x01\\x004\\x00\\xbc\\x02\\x00\\x00\\x00\\x02\\x00\\x02\\x07\\x01C\\x00a\\x00l\\x00i\\x00b\\x00r\\x00i\\x001\\x00\\x1e\\x00\\xdc\\x00\\x00\\x004\\x00\\x90\\x01\\x00\\x00\\x00\\x02\\x00\\x02\\x07\\x01C\\x00a\\x00l\\x00i\\x00b\\x00r\\x00i\\x001\\x00\\x1e\\x00\\xdc\\x00\\x01\\x00\\t\\x00\\xbc\\x02\\x00\\x00\\x00\\x02\\x00\\x02\\x07\\x01C\\x00a\\x00l\\x00i\\x00b\\x00r\\x00i\\x001\\x00\\x1e\\x00\\xdc\\x00\\x00\\x00\\n\\x00\\x90\\x01\\x00\\x00\\x00\\x02\\x00\\x02\\x07\\x01C\\x00a\\x00l\\x00i\\x00b\\x00r\\x00i\\x001\\x00\\x1e\\x00\\xdc\\x00\\x02\\x00\\x17\\x00\\x90\\x01\\x00\\x00\\x00\\x02\\x00\\x02\\x07\\x01C\\x00a\\x00l\\x00i\\x00b\\x00r\\x00i\\x001\\x00\\x1e\\x00\\xdc\\x00\\x01\\x00\\x08\\x00\\xbc\\x02\\x00\\x00\\x00\\x02\\x00\\x02\\x07\\x01C\\x00a\\x00l\\x00i\\x00b\\x00r\\x00i\\x001\\x00\\x1e\\x00\\xdc\\x00\\x00\\x00\\t\\x00\\x90\\x01\\x00\\x00\\x00\\x02\\x00\\x02\\x07\\x01C\\x00a\\x00l\\x00i\\x00b\\x00r\\x00i\\x001\\x00\\x1e\\x00\\xdc\\x00\\x00\\x00\\x08\\x00\\x90\\x01\\x00\\x00\\x00\\x02\\x00\\x02\\x07\\x01C\\x00a\\x00l\\x00i\\x00b\\x00r\\x00i\\x00\\x1e\\x04\\x1c\\x00\\x05\\x00\\x17\\x00\\x00\"$\"#,##0_);\\\\(\"$\"#,##0\\\\)\\x1e\\x04!\\x00\\x06\\x00\\x1c\\x00\\x00\"$\"#,##0_);[Red]\\\\(\"$\"#,##0\\\\)\\x1e\\x04\"\\x00\\x07\\x00\\x1d\\x00\\x00\"$\"#,##0.00_);\\\\(\"$\"#,##0.00\\\\)\\x1e\\x04\\'\\x00\\x08\\x00\"\\x00\\x00\"$\"#,##0.00_);[Red]\\\\(\"$\"#,##0.00\\\\)\\x1e\\x047\\x00*\\x002\\x00\\x00_(\"$\"* #,##0_);_(\"$\"* \\\\(#,##0\\\\);_(\"$\"* \"-\"_);_(@_)\\x1e\\x04.\\x00)\\x00)\\x00\\x00_(* #,##0_);_(* \\\\(#,##0\\\\);_(* \"-\"_);_(@_)\\x1e\\x04?\\x00,\\x00:\\x00\\x00_(\"$\"* #,##0.00_);_(\"$\"* \\\\(#,##0.00\\\\);_(\"$\"* \"-\"??_);_(@_)\\x1e\\x046\\x00+\\x001\\x00\\x00_(* #,##0.00_);_(* \\\\(#,##0.00\\\\);_(* \"-\"??_);_(@_)\\xe0\\x00\\x14\\x00\\x00\\x00\\x00\\x00\\xf5\\xff \\x00\\x00\\x00\\x00\\x00\\x00\\x00\\x00\\x00\\x00\\x00\\xc0 \\xe0\\x00\\x14\\x00\\x01\\x00\\x00\\x00\\xf5\\xff \\x00\\x00\\xf4\\x00\\x00\\x00\\x00\\x00\\x00\\x00\\x00\\xc0 \\xe0\\x00\\x14\\x00\\x01\\x00\\x00\\x00\\xf5\\xff \\x00\\x00\\xf4\\x00\\x00\\x00\\x00\\x00\\x00\\x00\\x00\\xc0 \\xe0\\x00\\x14\\x00\\x02\\x00\\x00\\x00\\xf5\\xff \\x00\\x00\\xf4\\x00\\x00\\x00\\x00\\x00\\x00\\x00\\x00\\xc0 \\xe0\\x00\\x14\\x00\\x02\\x00\\x00\\x00\\xf5\\xff \\x00\\x00\\xf4\\x00\\x00\\x00\\x00\\x00\\x00\\x00\\x00\\xc0 \\xe0\\x00\\x14\\x00\\x00\\x00\\x00\\x00\\xf5\\xff \\x00\\x00\\xf4\\x00\\x00\\x00\\x00\\x00\\x00\\x00\\x00\\xc0 \\xe0\\x00\\x14\\x00\\x00\\x00\\x00\\x00\\xf5\\xff \\x00\\x00\\xf4\\x00\\x00\\x00\\x00\\x00\\x00\\x00\\x00\\xc0 \\xe0\\x00\\x14\\x00\\x00\\x00\\x00\\x00\\xf5\\xff \\x00\\x00\\xf4\\x00\\x00\\x00\\x00\\x00\\x00\\x00\\x00\\xc0 \\xe0\\x00\\x14\\x00\\x00\\x00\\x00\\x00\\xf5\\xff \\x00\\x00\\xf4\\x00\\x00\\x00\\x00\\x00\\x00\\x00\\x00\\xc0 \\xe0\\x00\\x14\\x00\\x00\\x00\\x00\\x00\\xf5\\xff \\x00\\x00\\xf4\\x00\\x00\\x00\\x00\\x00\\x00\\x00\\x00\\xc0 \\xe0\\x00\\x14\\x00\\x00\\x00\\x00\\x00\\xf5\\xff \\x00\\x00\\xf4\\x00\\x00\\x00\\x00\\x00\\x00\\x00\\x00\\xc0 \\xe0\\x00\\x14\\x00\\x00\\x00\\x00\\x00\\xf5\\xff \\x00\\x00\\xf4\\x00\\x00\\x00\\x00\\x00\\x00\\x00\\x00\\xc0 \\xe0\\x00\\x14\\x00\\x00\\x00\\x00\\x00\\xf5\\xff \\x00\\x00\\xf4\\x00\\x00\\x00\\x00\\x00\\x00\\x00\\x00\\xc0 \\xe0\\x00\\x14\\x00\\x00\\x00\\x00\\x00\\xf5\\xff \\x00\\x00\\xf4\\x00\\x00\\x00\\x00\\x00\\x00\\x00\\x00\\xc0 \\xe0\\x00\\x14\\x00\\x00\\x00\\x00\\x00\\xf5\\xff \\x00\\x00\\xf4\\x00\\x00\\x00\\x00\\x00\\x00\\x00\\x00\\xc0 \\xe0\\x00\\x14\\x00\\x00\\x00\\x00\\x00\\x01\\x00 \\x00\\x00\\x00\\x00\\x00\\x00\\x00\\x00\\x00\\x00\\x00\\xc0 \\xe0\\x00\\x14\\x00\\x16\\x00\\x00\\x00\\xf5\\xff \\x00\\x00\\xb4\\x00\\x00\\x00\\x00\\x00\\x00\\x00\\x04\\x9f \\xe0\\x00\\x14\\x00\\x16\\x00\\x00\\x00\\xf5\\xff \\x00\\x00\\xb4\\x00\\x00\\x00\\x00\\x00\\x00\\x00\\x04\\xaf \\xe0\\x00\\x14\\x00\\x16\\x00\\x00\\x00\\xf5\\xff \\x00\\x00\\xb4\\x00\\x00\\x00\\x00\\x00\\x00\\x00\\x04\\x89 \\xe0\\x00\\x14\\x00\\x16\\x00\\x00\\x00\\xf5\\xff \\x00\\x00\\xb4\\x00\\x00\\x00\\x00\\x00\\x00\\x00\\x04\\x9a \\xe0\\x00\\x14\\x00\\x16\\x00\\x00\\x00\\xf5\\xff \\x00\\x00\\xb4\\x00\\x00\\x00\\x00\\x00\\x00\\x00\\x04\\x9b \\xe0\\x00\\x14\\x00\\x16\\x00\\x00\\x00\\xf5\\xff \\x00\\x00\\xb4\\x00\\x00\\x00\\x00\\x00\\x00\\x00\\x04\\xaa \\xe0\\x00\\x14\\x00\\x16\\x00\\x00\\x00\\xf5\\xff \\x00\\x00\\xb4\\x00\\x00\\x00\\x00\\x00\\x00\\x00\\x04\\xac \\xe0\\x00\\x14\\x00\\x16\\x00\\x00\\x00\\xf5\\xff \\x00\\x00\\xb4\\x00\\x00\\x00\\x00\\x00\\x00\\x00\\x04\\xaf \\xe0\\x00\\x14\\x00\\x16\\x00\\x00\\x00\\xf5\\xff \\x00\\x00\\xb4\\x00\\x00\\x00\\x00\\x00\\x00\\x00\\x04\\x96 \\xe0\\x00\\x14\\x00\\x16\\x00\\x00\\x00\\xf5\\xff \\x00\\x00\\xb4\\x00\\x00\\x00\\x00\\x00\\x00\\x00\\x04\\xab \\xe0\\x00\\x14\\x00\\x16\\x00\\x00\\x00\\xf5\\xff \\x00\\x00\\xb4\\x00\\x00\\x00\\x00\\x00\\x00\\x00\\x04\\xac \\xe0\\x00\\x14\\x00\\x16\\x00\\x00\\x00\\xf5\\xff \\x00\\x00\\xb4\\x00\\x00\\x00\\x00\\x00\\x00\\x00\\x04\\xab \\xe0\\x00\\x14\\x00\\x16\\x00\\x00\\x00\\xf5\\xff \\x00\\x00\\xb4\\x00\\x00\\x00\\x00\\x00\\x00\\x00\\x04\\xb1 \\xe0\\x00\\x14\\x00\\x16\\x00\\x00\\x00\\xf5\\xff \\x00\\x00\\xb4\\x00\\x00\\x00\\x00\\x00\\x00\\x00\\x04\\xaf \\xe0\\x00\\x14\\x00\\x16\\x00\\x00\\x00\\xf5\\xff \\x00\\x00\\xb4\\x00\\x00\\x00\\x00\\x00\\x00\\x00\\x04\\x96 \\xe0\\x00\\x14\\x00\\x16\\x00\\x00\\x00\\xf5\\xff \\x00\\x00\\xb4\\x00\\x00\\x00\\x00\\x00\\x00\\x00\\x04\\xab \\xe0\\x00\\x14\\x00\\x16\\x00\\x00\\x00\\xf5\\xff \\x00\\x00\\xb4\\x00\\x00\\x00\\x00\\x00\\x00\\x00\\x04\\xac \\xe0\\x00\\x14\\x00\\x16\\x00\\x00\\x00\\xf5\\xff \\x00\\x00\\xb4\\x00\\x00\\x00\\x00\\x00\\x00\\x00\\x04\\xb9 \\xe0\\x00\\x14\\x00\\x15\\x00\\x00\\x00\\xf5\\xff \\x00\\x00\\xb4\\x00\\x00\\x00\\x00\\x00\\x00\\x00\\x04\\xbe \\xe0\\x00\\x14\\x00\\x15\\x00\\x00\\x00\\xf5\\xff \\x00\\x00\\xb4\\x00\\x00\\x00\\x00\\x00\\x00\\x00\\x04\\xb5 \\xe0\\x00\\x14\\x00\\x15\\x00\\x00\\x00\\xf5\\xff \\x00\\x00\\xb4\\x00\\x00\\x00\\x00\\x00\\x00\\x00\\x04\\xb7 \\xe0\\x00\\x14\\x00\\x15\\x00\\x00\\x00\\xf5\\xff \\x00\\x00\\xb4\\x00\\x00\\x00\\x00\\x00\\x00\\x00\\x04\\xb3 \\xe0\\x00\\x14\\x00\\x15\\x00\\x00\\x00\\xf5\\xff \\x00\\x00\\xb4\\x00\\x00\\x00\\x00\\x00\\x00\\x00\\x04\\xb1 \\xe0\\x00\\x14\\x00\\x15\\x00\\x00\\x00\\xf5\\xff \\x00\\x00\\xb4\\x00\\x00\\x00\\x00\\x00\\x00\\x00\\x04\\xb9 \\xe0\\x00\\x14\\x00\\x0b\\x00\\x00\\x00\\xf5\\xff \\x00\\x00\\xb4\\x00\\x00\\x00\\x00\\x00\\x00\\x00\\x04\\xad \\xe0\\x00\\x14\\x00\\x0f\\x00\\x00\\x00\\xf5\\xff \\x00\\x00\\x94\\x11\\x11\\x97\\x0b\\x97\\x0b\\x00\\x04\\x96 \\xe0\\x00\\x14\\x00\\x11\\x00\\x00\\x00\\xf5\\xff \\x00\\x00\\x94ff\\xbf\\x1f\\xbf\\x1f\\x00\\x04\\xb7 \\xe0\\x00\\x14\\x00\\x01\\x00+\\x00\\xf5\\xff \\x00\\x00\\xf8\\x00\\x00\\x00\\x00\\x00\\x00\\x00\\x00\\xc0 \\xe0\\x00\\x14\\x00\\x01\\x00)\\x00\\xf5\\xff \\x00\\x00\\xf8\\x00\\x00\\x00\\x00\\x00\\x00\\x00\\x00\\xc0 \\xe0\\x00\\x14\\x00\\x01\\x00,\\x00\\xf5\\xff \\x00\\x00\\xf8\\x00\\x00\\x00\\x00\\x00\\x00\\x00\\x00\\xc0 \\xe0\\x00\\x14\\x00\\x01\\x00*\\x00\\xf5\\xff \\x00\\x00\\xf8\\x00\\x00\\x00\\x00\\x00\\x00\\x00\\x00\\xc0 \\xe0\\x00\\x14\\x00\\x13\\x00\\x00\\x00\\xf5\\xff \\x00\\x00\\xf4\\x00\\x00\\x00\\x00\\x00\\x00\\x00\\x00\\xc0 \\xe0\\x00\\x14\\x00\\n\\x00\\x00\\x00\\xf5\\xff \\x00\\x00\\xb4\\x00\\x00\\x00\\x00\\x00\\x00\\x00\\x04\\xaa \\xe0\\x00\\x14\\x00\\x07\\x00\\x00\\x00\\xf5\\xff \\x00\\x00\\xd4\\x00P\\x00\\x00\\x00\\x1f\\x00\\x00\\xc0 \\xe0\\x00\\x14\\x00\\x08\\x00\\x00\\x00\\xf5\\xff \\x00\\x00\\xd4\\x00P\\x00\\x00\\x00\\x16\\x00\\x00\\xc0 \\xe0\\x00\\x14\\x00\\t\\x00\\x00\\x00\\xf5\\xff \\x00\\x00\\xd4\\x00 \\x00\\x00\\x80\\x18\\x00\\x00\\xc0 \\xe0\\x00\\x14\\x00\\t\\x00\\x00\\x00\\xf5\\xff \\x00\\x00\\xf4\\x00\\x00\\x00\\x00\\x00\\x00\\x00\\x00\\xc0 \\xe0\\x00\\x14\\x00\\r\\x00\\x00\\x00\\xf5\\xff \\x00\\x00\\x94\\x11\\x11\\x97\\x0b\\x97\\x0b\\x00\\x04\\xaf \\xe0\\x00\\x14\\x00\\x10\\x00\\x00\\x00\\xf5\\xff \\x00\\x00\\xd4\\x00`\\x00\\x00\\x00\\x1a\\x00\\x00\\xc0 \\xe0\\x00\\x14\\x00\\x0c\\x00\\x00\\x00\\xf5\\xff \\x00\\x00\\xb4\\x00\\x00\\x00\\x00\\x00\\x00\\x00\\x04\\xab \\xe0\\x00\\x14\\x00\\x05\\x00\\x00\\x00\\xf5\\xff \\x00\\x00\\x9c\\x11\\x11\\x16\\x0b\\x16\\x0b\\x00\\x04\\x9a \\xe0\\x00\\x14\\x00\\x0e\\x00\\x00\\x00\\xf5\\xff \\x00\\x00\\x94\\x11\\x11\\xbf\\x1f\\xbf\\x1f\\x00\\x04\\x96 \\xe0\\x00\\x14\\x00\\x01\\x00\\t\\x00\\xf5\\xff \\x00\\x00\\xf8\\x00\\x00\\x00\\x00\\x00\\x00\\x00\\x00\\xc0 \\xe0\\x00\\x14\\x00\\x06\\x00\\x00\\x00\\xf5\\xff \\x00\\x00\\xf4\\x00\\x00\\x00\\x00\\x00\\x00\\x00\\x00\\xc0 \\xe0\\x00\\x14\\x00\\x14\\x00\\x00\\x00\\xf5\\xff \\x00\\x00\\xd4\\x00a\\x00\\x00>\\x1f\\x00\\x00\\xc0 \\xe0\\x00\\x14\\x00\\x12\\x00\\x00\\x00\\xf5\\xff \\x00\\x00\\xf4\\x00\\x00\\x00\\x00\\x00\\x00\\x00\\x00\\xc0 \\xe0\\x00\\x14\\x00\\x00\\x00\\x00\\x00\\x01\\x00\"\\x00\\x00\\x10\\x00\\x00\\x00\\x00\\x00\\x00\\x00\\x00\\xc0 |\\x08\\x14\\x00|\\x08\\x00\\x00\\x00\\x00\\x00\\x00\\x00\\x00\\x00\\x00\\x00\\x00?\\x00Q\\xaf\\xd1\\r}\\x08A\\x00}\\x08\\x00\\x00\\x00\\x00\\x00\\x00\\x00\\x00\\x00\\x00\\x00\\x00\\x10\\x00\\x00\\x00\\x03\\x00\\r\\x00\\x14\\x00\\x03\\x00\\x00\\x00\\x01\\x00\\x00\\x0000\\\\);_(*\\x0e\\x00\\x05\\x00\\x02\\x04\\x00\\x14\\x00\\x03\\x00ef\\x04\\x00\\x00\\x00;_(@_)  }\\x08A\\x00}\\x08\\x00\\x00\\x00\\x00\\x00\\x00\\x00\\x00\\x00\\x00\\x00\\x00\\x11\\x00\\x00\\x00\\x03\\x00\\r\\x00\\x14\\x00\\x03\\x00\\x00\\x00\\x01\\x00\\x00\\x0000\\\\);_(*\\x0e\\x00\\x05\\x00\\x02\\x04\\x00\\x14\\x00\\x03\\x00ef\\x05\\x00\\x00\\x00;_(@_)  }\\x08A\\x00}\\x08\\x00\\x00\\x00\\x00\\x00\\x00\\x00\\x00\\x00\\x00\\x00\\x00\\x12\\x00\\x00\\x00\\x03\\x00\\r\\x00\\x14\\x00\\x03\\x00\\x00\\x00\\x01\\x00\\x00\\x0000\\\\);_(*\\x0e\\x00\\x05\\x00\\x02\\x04\\x00\\x14\\x00\\x03\\x00ef\\x06\\x00\\x00\\x00;_(@_)  }\\x08A\\x00}\\x08\\x00\\x00\\x00\\x00\\x00\\x00\\x00\\x00\\x00\\x00\\x00\\x00\\x13\\x00\\x00\\x00\\x03\\x00\\r\\x00\\x14\\x00\\x03\\x00\\x00\\x00\\x01\\x00\\x00\\x0000\\\\);_(*\\x0e\\x00\\x05\\x00\\x02\\x04\\x00\\x14\\x00\\x03\\x00ef\\x07\\x00\\x00\\x00;_(@_)  }\\x08A\\x00}\\x08\\x00\\x00\\x00\\x00\\x00\\x00\\x00\\x00\\x00\\x00\\x00\\x00\\x14\\x00\\x00\\x00\\x03\\x00\\r\\x00\\x14\\x00\\x03\\x00\\x00\\x00\\x01\\x00\\x00\\x0000\\\\);_(*\\x0e\\x00\\x05\\x00\\x02\\x04\\x00\\x14\\x00\\x03\\x00ef\\x08\\x00\\x00\\x00;_(@_)  }\\x08A\\x00}\\x08\\x00\\x00\\x00\\x00\\x00\\x00\\x00\\x00\\x00\\x00\\x00\\x00\\x15\\x00\\x00\\x00\\x03\\x00\\r\\x00\\x14\\x00\\x03\\x00\\x00\\x00\\x01\\x00\\x00\\x0000\\\\);_(*\\x0e\\x00\\x05\\x00\\x02\\x04\\x00\\x14\\x00\\x03\\x00ef\\t\\x00\\x00\\x00;_(@_)  }\\x08A\\x00}\\x08\\x00\\x00\\x00\\x00\\x00\\x00\\x00\\x00\\x00\\x00\\x00\\x00\\x16\\x00\\x00\\x00\\x03\\x00\\r\\x00\\x14\\x00\\x03\\x00\\x00\\x00\\x01\\x00\\x00\\x0000\\\\);_(*\\x0e\\x00\\x05\\x00\\x02\\x04\\x00\\x14\\x00\\x03\\x00\\xccL\\x04\\x00\\x00\\x00;_(@_)  }\\x08A\\x00}\\x08\\x00\\x00\\x00\\x00\\x00\\x00\\x00\\x00\\x00\\x00\\x00\\x00\\x17\\x00\\x00\\x00\\x03\\x00\\r\\x00\\x14\\x00\\x03\\x00\\x00\\x00\\x01\\x00\\x00\\x0000\\\\);_(*\\x0e\\x00\\x05\\x00\\x02\\x04\\x00\\x14\\x00\\x03\\x00\\xccL\\x05\\x00\\x00\\x00;_(@_)  }\\x08A\\x00}\\x08\\x00\\x00\\x00\\x00\\x00\\x00\\x00\\x00\\x00\\x00\\x00\\x00\\x18\\x00\\x00\\x00\\x03\\x00\\r\\x00\\x14\\x00\\x03\\x00\\x00\\x00\\x01\\x00\\x00\\x0000\\\\);_(*\\x0e\\x00\\x05\\x00\\x02\\x04\\x00\\x14\\x00\\x03\\x00\\xccL\\x06\\x00\\x00\\x00;_(@_)  }\\x08A\\x00}\\x08\\x00\\x00\\x00\\x00\\x00\\x00\\x00\\x00\\x00\\x00\\x00\\x00\\x19\\x00\\x00\\x00\\x03\\x00\\r\\x00\\x14\\x00\\x03\\x00\\x00\\x00\\x01\\x00\\x00\\x0000\\\\);_(*\\x0e\\x00\\x05\\x00\\x02\\x04\\x00\\x14\\x00\\x03\\x00\\xccL\\x07\\x00\\x00\\x00;_(@_)  }\\x08A\\x00}\\x08\\x00\\x00\\x00\\x00\\x00\\x00\\x00\\x00\\x00\\x00\\x00\\x00\\x1a\\x00\\x00\\x00\\x03\\x00\\r\\x00\\x14\\x00\\x03\\x00\\x00\\x00\\x01\\x00\\x00\\x0000\\\\);_(*\\x0e\\x00\\x05\\x00\\x02\\x04\\x00\\x14\\x00\\x03\\x00\\xccL\\x08\\x00\\x00\\x00;_(@_)  }\\x08A\\x00}\\x08\\x00\\x00\\x00\\x00\\x00\\x00\\x00\\x00\\x00\\x00\\x00\\x00\\x1b\\x00\\x00\\x00\\x03\\x00\\r\\x00\\x14\\x00\\x03\\x00\\x00\\x00\\x01\\x00\\x00\\x0000\\\\);_(*\\x0e\\x00\\x05\\x00\\x02\\x04\\x00\\x14\\x00\\x03\\x00\\xccL\\t\\x00\\x00\\x00;_(@_)  }\\x08A\\x00}\\x08\\x00\\x00\\x00\\x00\\x00\\x00\\x00\\x00\\x00\\x00\\x00\\x00\\x1c\\x00\\x00\\x00\\x03\\x00\\r\\x00\\x14\\x00\\x03\\x00\\x00\\x00\\x01\\x00\\x00\\x0000\\\\);_(*\\x0e\\x00\\x05\\x00\\x02\\x04\\x00\\x14\\x00\\x03\\x0023\\x04\\x00\\x00\\x00;_(@_)  }\\x08A\\x00}\\x08\\x00\\x00\\x00\\x00\\x00\\x00\\x00\\x00\\x00\\x00\\x00\\x00\\x1d\\x00\\x00\\x00\\x03\\x00\\r\\x00\\x14\\x00\\x03\\x00\\x00\\x00\\x01\\x00\\x00\\x0000\\\\);_(*\\x0e\\x00\\x05\\x00\\x02\\x04\\x00\\x14\\x00\\x03\\x0023\\x05\\x00\\x00\\x00;_(@_)  }\\x08A\\x00}\\x08\\x00\\x00\\x00\\x00\\x00\\x00\\x00\\x00\\x00\\x00\\x00\\x00\\x1e\\x00\\x00\\x00\\x03\\x00\\r\\x00\\x14\\x00\\x03\\x00\\x00\\x00\\x01\\x00\\x00\\x0000\\\\);_(*\\x0e\\x00\\x05\\x00\\x02\\x04\\x00\\x14\\x00\\x03\\x0023\\x06\\x00\\x00\\x00;_(@_)  }\\x08A\\x00}\\x08\\x00\\x00\\x00\\x00\\x00\\x00\\x00\\x00\\x00\\x00\\x00\\x00\\x1f\\x00\\x00\\x00\\x03\\x00\\r\\x00\\x14\\x00\\x03\\x00\\x00\\x00\\x01\\x00\\x00\\x0000\\\\);_(*\\x0e\\x00\\x05\\x00\\x02\\x04\\x00\\x14\\x00\\x03\\x0023\\x07\\x00\\x00\\x00;_(@_)  }\\x08A\\x00}\\x08\\x00\\x00\\x00\\x00\\x00\\x00\\x00\\x00\\x00\\x00\\x00\\x00 \\x00\\x00\\x00\\x03\\x00\\r\\x00\\x14\\x00\\x03\\x00\\x00\\x00\\x01\\x00\\x00\\x0000\\\\);_(*\\x0e\\x00\\x05\\x00\\x02\\x04\\x00\\x14\\x00\\x03\\x0023\\x08\\x00\\x00\\x00;_(@_)  }\\x08A\\x00}\\x08\\x00\\x00\\x00\\x00\\x00\\x00\\x00\\x00\\x00\\x00\\x00\\x00!\\x00\\x00\\x00\\x03\\x00\\r\\x00\\x14\\x00\\x03\\x00\\x00\\x00\\x01\\x00\\x00\\x0000\\\\);_(*\\x0e\\x00\\x05\\x00\\x02\\x04\\x00\\x14\\x00\\x03\\x0023\\t\\x00\\x00\\x00;_(@_)  }\\x08A\\x00}\\x08\\x00\\x00\\x00\\x00\\x00\\x00\\x00\\x00\\x00\\x00\\x00\\x00\"\\x00\\x00\\x00\\x03\\x00\\r\\x00\\x14\\x00\\x03\\x00\\x00\\x00\\x00\\x00\\x00\\x0000\\\\);_(*\\x0e\\x00\\x05\\x00\\x02\\x04\\x00\\x14\\x00\\x03\\x00\\x00\\x00\\x04\\x00\\x00\\x00;_(@_)  }\\x08A\\x00}\\x08\\x00\\x00\\x00\\x00\\x00\\x00\\x00\\x00\\x00\\x00\\x00\\x00#\\x00\\x00\\x00\\x03\\x00\\r\\x00\\x14\\x00\\x03\\x00\\x00\\x00\\x00\\x00\\x00\\x0000\\\\);_(*\\x0e\\x00\\x05\\x00\\x02\\x04\\x00\\x14\\x00\\x03\\x00\\x00\\x00\\x05\\x00\\x00\\x00;_(@_)  }\\x08A\\x00}\\x08\\x00\\x00\\x00\\x00\\x00\\x00\\x00\\x00\\x00\\x00\\x00\\x00$\\x00\\x00\\x00\\x03\\x00\\r\\x00\\x14\\x00\\x03\\x00\\x00\\x00\\x00\\x00\\x00\\x0000\\\\);_(*\\x0e\\x00\\x05\\x00\\x02\\x04\\x00\\x14\\x00\\x03\\x00\\x00\\x00\\x06\\x00\\x00\\x00;_(@_)  }\\x08A\\x00}\\x08\\x00\\x00\\x00\\x00\\x00\\x00\\x00\\x00\\x00\\x00\\x00\\x00%\\x00\\x00\\x00\\x03\\x00\\r\\x00\\x14\\x00\\x03\\x00\\x00\\x00\\x00\\x00\\x00\\x0000\\\\);_(*\\x0e\\x00\\x05\\x00\\x02\\x04\\x00\\x14\\x00\\x03\\x00\\x00\\x00\\x07\\x00\\x00\\x00;_(@_)  }\\x08A\\x00}\\x08\\x00\\x00\\x00\\x00\\x00\\x00\\x00\\x00\\x00\\x00\\x00\\x00&\\x00\\x00\\x00\\x03\\x00\\r\\x00\\x14\\x00\\x03\\x00\\x00\\x00\\x00\\x00\\x00\\x0000\\\\);_(*\\x0e\\x00\\x05\\x00\\x02\\x04\\x00\\x14\\x00\\x03\\x00\\x00\\x00\\x08\\x00\\x00\\x00;_(@_)  }\\x08A\\x00}\\x08\\x00\\x00\\x00\\x00\\x00\\x00\\x00\\x00\\x00\\x00\\x00\\x00\\'\\x00\\x00\\x00\\x03\\x00\\r\\x00\\x14\\x00\\x03\\x00\\x00\\x00\\x00\\x00\\x00\\x0000\\\\);_(*\\x0e\\x00\\x05\\x00\\x02\\x04\\x00\\x14\\x00\\x03\\x00\\x00\\x00\\t\\x00\\x00\\x00;_(@_)  }\\x08A\\x00}\\x08\\x00\\x00\\x00\\x00\\x00\\x00\\x00\\x00\\x00\\x00\\x00\\x00(\\x00\\x00\\x00\\x03\\x00\\r\\x00\\x14\\x00\\x02\\x00\\x00\\x00\\x9c\\x00\\x06\\xff00\\\\);_(*\\x0e\\x00\\x05\\x00\\x02\\x04\\x00\\x14\\x00\\x02\\x00\\x00\\x00\\xff\\xc7\\xce\\xff;_(@_)  }\\x08\\x91\\x00}\\x08\\x00\\x00\\x00\\x00\\x00\\x00\\x00\\x00\\x00\\x00\\x00\\x00)\\x00\\x00\\x00\\x07\\x00\\r\\x00\\x14\\x00\\x02\\x00\\x00\\x00\\xfa}\\x00\\xff00\\\\);_(*\\x0e\\x00\\x05\\x00\\x02\\x04\\x00\\x14\\x00\\x02\\x00\\x00\\x00\\xf2\\xf2\\xf2\\xff;_(@_)  \\x07\\x00\\x14\\x00\\x02\\x00\\x00\\x00\\x7f\\x7f\\x7f\\xff        \\x08\\x00\\x14\\x00\\x02\\x00\\x00\\x00\\x7f\\x7f\\x7f\\xff        \\t\\x00\\x14\\x00\\x02\\x00\\x00\\x00\\x7f\\x7f\\x7f\\xff\\x00\\x00\\x00\\x00\\x00\\x00\\x00\\x00\\n\\x00\\x14\\x00\\x02\\x00\\x00\\x00\\x7f\\x7f\\x7f\\xff\\x00\\x00\\x00\\x00\\x00\\x00\\x00\\x00}\\x08\\x91\\x00}\\x08\\x00\\x00\\x00\\x00\\x00\\x00\\x00\\x00\\x00\\x00\\x00\\x00*\\x00\\x00\\x00\\x07\\x00\\r\\x00\\x14\\x00\\x03\\x00\\x00\\x00\\x00\\x00\\x00\\x0000\\\\);_(*\\x0e\\x00\\x05\\x00\\x02\\x04\\x00\\x14\\x00\\x02\\x00\\x00\\x00\\xa5\\xa5\\xa5\\xff;_(@_)  \\x07\\x00\\x14\\x00\\x02\\x00\\x00\\x00???\\xff        \\x08\\x00\\x14\\x00\\x02\\x00\\x00\\x00???\\xff        \\t\\x00\\x14\\x00\\x02\\x00\\x00\\x00???\\xff\\x00\\x00\\x00\\x00\\x00\\x00\\x00\\x00\\n\\x00\\x14\\x00\\x02\\x00\\x00\\x00???\\xff\\x00\\x00\\x00\\x00\\x00\\x00\\x00\\x00}\\x08-\\x00}\\x08\\x00\\x00\\x00\\x00\\x00\\x00\\x00\\x00\\x00\\x00\\x00\\x00/\\x00\\x00\\x00\\x02\\x00\\r\\x00\\x14\\x00\\x02\\x00\\x00\\x00\\x7f\\x7f\\x7f\\xff00\\\\);_(*\\x0e\\x00\\x05\\x00\\x02}\\x08A\\x00}\\x08\\x00\\x00\\x00\\x00\\x00\\x00\\x00\\x00\\x00\\x00\\x00\\x000\\x00\\x00\\x00\\x03\\x00\\r\\x00\\x14\\x00\\x02\\x00\\x00\\x00\\x00a\\x00\\xff00\\\\);_(*\\x0e\\x00\\x05\\x00\\x02\\x04\\x00\\x14\\x00\\x02\\x00\\x00\\x00\\xc6\\xef\\xce\\xff;_(@_)  }\\x08A\\x00}\\x08\\x00\\x00\\x00\\x00\\x00\\x00\\x00\\x00\\x00\\x00\\x00\\x001\\x00\\x00\\x00\\x03\\x00\\r\\x00\\x14\\x00\\x03\\x00\\x00\\x00\\x03\\x00\\x00\\x0000\\\\);_(*\\x0e\\x00\\x05\\x00\\x02\\x08\\x00\\x14\\x00\\x03\\x00\\x00\\x00\\x04\\x00\\x00\\x00;_(@_)  }\\x08A\\x00}\\x08\\x00\\x00\\x00\\x00\\x00\\x00\\x00\\x00\\x00\\x00\\x00\\x002\\x00\\x00\\x00\\x03\\x00\\r\\x00\\x14\\x00\\x03\\x00\\x00\\x00\\x03\\x00\\x00\\x0000\\\\);_(*\\x0e\\x00\\x05\\x00\\x02\\x08\\x00\\x14\\x00\\x03\\x00\\xff?\\x04\\x00\\x00\\x00;_(@_)  }\\x08A\\x00}\\x08\\x00\\x00\\x00\\x00\\x00\\x00\\x00\\x00\\x00\\x00\\x00\\x003\\x00\\x00\\x00\\x03\\x00\\r\\x00\\x14\\x00\\x03\\x00\\x00\\x00\\x03\\x00\\x00\\x0000\\\\);_(*\\x0e\\x00\\x05\\x00\\x02\\x08\\x00\\x14\\x00\\x03\\x0023\\x04\\x00\\x00\\x00;_(@_)  }\\x08-\\x00}\\x08\\x00\\x00\\x00\\x00\\x00\\x00\\x00\\x00\\x00\\x00\\x00\\x004\\x00\\x00\\x00\\x02\\x00\\r\\x00\\x14\\x00\\x03\\x00\\x00\\x00\\x03\\x00\\x00\\x0000\\\\);_(*\\x0e\\x00\\x05\\x00\\x02}\\x08\\x91\\x00}\\x08\\x00\\x00\\x00\\x00\\x00\\x00\\x00\\x00\\x00\\x00\\x00\\x005\\x00\\x00\\x00\\x07\\x00\\r\\x00\\x14\\x00\\x02\\x00\\x00\\x00??v\\xff00\\\\);_(*\\x0e\\x00\\x05\\x00\\x02\\x04\\x00\\x14\\x00\\x02\\x00\\x00\\x00\\xff\\xcc\\x99\\xff;_(@_)  \\x07\\x00\\x14\\x00\\x02\\x00\\x00\\x00\\x7f\\x7f\\x7f\\xff        \\x08\\x00\\x14\\x00\\x02\\x00\\x00\\x00\\x7f\\x7f\\x7f\\xff        \\t\\x00\\x14\\x00\\x02\\x00\\x00\\x00\\x7f\\x7f\\x7f\\xff\\x00\\x00\\x00\\x00\\x00\\x00\\x00\\x00\\n\\x00\\x14\\x00\\x02\\x00\\x00\\x00\\x7f\\x7f\\x7f\\xff\\x00\\x00\\x00\\x00\\x00\\x00\\x00\\x00}\\x08A\\x00}\\x08\\x00\\x00\\x00\\x00\\x00\\x00\\x00\\x00\\x00\\x00\\x00\\x006\\x00\\x00\\x00\\x03\\x00\\r\\x00\\x14\\x00\\x02\\x00\\x00\\x00\\xfa}\\x00\\xff00\\\\);_(*\\x0e\\x00\\x05\\x00\\x02\\x08\\x00\\x14\\x00\\x02\\x00\\x00\\x00\\xff\\x80\\x01\\xff;_(@_)  }\\x08A\\x00}\\x08\\x00\\x00\\x00\\x00\\x00\\x00\\x00\\x00\\x00\\x00\\x00\\x007\\x00\\x00\\x00\\x03\\x00\\r\\x00\\x14\\x00\\x02\\x00\\x00\\x00\\x9cW\\x00\\xff00\\\\);_(*\\x0e\\x00\\x05\\x00\\x02\\x04\\x00\\x14\\x00\\x02\\x00\\x00\\x00\\xff\\xeb\\x9c\\xff;_(@_)  }\\x08x\\x00}\\x08\\x00\\x00\\x00\\x00\\x00\\x00\\x00\\x00\\x00\\x00\\x00\\x008\\x00\\x00\\x00\\x05\\x00\\x04\\x00\\x14\\x00\\x02\\x00\\x00\\x00\\xff\\xff\\xcc\\xff00\\\\);_(*\\x07\\x00\\x14\\x00\\x02\\x00\\x00\\x00\\xb2\\xb2\\xb2\\xff\\x00\\xff\\xeb\\x9c\\xff;_(\\x08\\x00\\x14\\x00\\x02\\x00\\x00\\x00\\xb2\\xb2\\xb2\\xff\\x00\\x7f\\x7f\\x7f\\xff   \\t\\x00\\x14\\x00\\x02\\x00\\x00\\x00\\xb2\\xb2\\xb2\\xff\\x00\\x7f\\x7f\\x7f\\xff   \\n\\x00\\x14\\x00\\x02\\x00\\x00\\x00\\xb2\\xb2\\xb2\\xff\\x00\\x7f\\x7f\\x7f\\xff\\x00\\x00\\x00}\\x08\\x91\\x00}\\x08\\x00\\x00\\x00\\x00\\x00\\x00\\x00\\x00\\x00\\x00\\x00\\x009\\x00\\x00\\x00\\x07\\x00\\r\\x00\\x14\\x00\\x02\\x00\\x00\\x00???\\xff00\\\\);_(*\\x0e\\x00\\x05\\x00\\x02\\x04\\x00\\x14\\x00\\x02\\x00\\x00\\x00\\xf2\\xf2\\xf2\\xff;_(\\x08\\x00\\x14\\x00\\x02\\x07\\x00\\x14\\x00\\x02\\x00\\x00\\x00???\\xff   \\t\\x00\\x14\\x00\\x02\\x08\\x00\\x14\\x00\\x02\\x00\\x00\\x00???\\xff   \\n\\x00\\x14\\x00\\x02\\t\\x00\\x14\\x00\\x02\\x00\\x00\\x00???\\xff\\x00\\x00\\x00\\x00\\x00\\x00\\x00\\x00\\n\\x00\\x14\\x00\\x02\\x00\\x00\\x00???\\xff\\x00\\x00\\x00\\x00\\x00\\x00\\x00\\x00}\\x08-\\x00}\\x08\\x00\\x00\\x00\\x00\\x00\\x00\\x00\\x00\\x00\\x00\\x00\\x00;\\x00\\x00\\x00\\x02\\x00\\r\\x00\\x14\\x00\\x03\\x00\\x00\\x00\\x03\\x00\\x00\\x0000\\\\);_(*\\x0e\\x00\\x05\\x00\\x01}\\x08U\\x00}\\x08\\x00\\x00\\x00\\x00\\x00\\x00\\x00\\x00\\x00\\x00\\x00\\x00<\\x00\\x00\\x00\\x04\\x00\\r\\x00\\x14\\x00\\x03\\x00\\x00\\x00\\x01\\x00\\x00\\x0000\\\\);_(*\\x0e\\x00\\x05\\x00\\x02\\x07\\x00\\x14\\x00\\x03\\x00\\x00\\x00\\x04\\x00\\x00\\x00;_(\\x08\\x00\\x14\\x00\\x02\\x08\\x00\\x14\\x00\\x03\\x00\\x00\\x00\\x04\\x00\\x00\\x00   \\t\\x00\\x14\\x00\\x02}\\x08-\\x00}\\x08\\x00\\x00\\x00\\x00\\x00\\x00\\x00\\x00\\x00\\x00\\x00\\x00=\\x00\\x00\\x00\\x02\\x00\\r\\x00\\x14\\x00\\x02\\x00\\x00\\x00\\xff\\x00\\x00\\xff00\\\\);_(*\\x0e\\x00\\x05\\x00\\x02\\x93\\x02\\x12\\x00\\x10\\x00\\r\\x00\\x0020% - Accent1\\x92\\x08M\\x00\\x92\\x08\\x00\\x00\\x00\\x00\\x00\\x00\\x00\\x00\\x00\\x00\\x01\\x04\\x1e\\xff\\r\\x002\\x000\\x00%\\x00 \\x00-\\x00 \\x00A\\x00c\\x00c\\x00e\\x00n\\x00t\\x001\\x00\\x00\\x00\\x03\\x00\\x01\\x00\\x0c\\x00\\x07\\x04ef\\xd9\\xe1\\xf2\\xff\\x05\\x00\\x0c\\x00\\x07\\x01\\x00\\x00\\x00\\x00\\x00\\xff%\\x00\\x05\\x00\\x02\\x93\\x02\\x12\\x00\\x11\\x00\\r\\x00\\x0020% - Accent2\\x92\\x08M\\x00\\x92\\x08\\x00\\x00\\x00\\x00\\x00\\x00\\x00\\x00\\x00\\x00\\x01\\x04\"\\xff\\r\\x002\\x000\\x00%\\x00 \\x00-\\x00 \\x00A\\x00c\\x00c\\x00e\\x00n\\x00t\\x002\\x00\\x00\\x00\\x03\\x00\\x01\\x00\\x0c\\x00\\x07\\x05ef\\xfc\\xe4\\xd6\\xff\\x05\\x00\\x0c\\x00\\x07\\x01\\x00\\x00\\x00\\x00\\x00\\xff%\\x00\\x05\\x00\\x02\\x93\\x02\\x12\\x00\\x12\\x00\\r\\x00\\x0020% - Accent3\\x92\\x08M\\x00\\x92\\x08\\x00\\x00\\x00\\x00\\x00\\x00\\x00\\x00\\x00\\x00\\x01\\x04&\\xff\\r\\x002\\x000\\x00%\\x00 \\x00-\\x00 \\x00A\\x00c\\x00c\\x00e\\x00n\\x00t\\x003\\x00\\x00\\x00\\x03\\x00\\x01\\x00\\x0c\\x00\\x07\\x06ef\\xed\\xed\\xed\\xff\\x05\\x00\\x0c\\x00\\x07\\x01\\x00\\x00\\x00\\x00\\x00\\xff%\\x00\\x05\\x00\\x02\\x93\\x02\\x12\\x00\\x13\\x00\\r\\x00\\x0020% - Accent4\\x92\\x08M\\x00\\x92\\x08\\x00\\x00\\x00\\x00\\x00\\x00\\x00\\x00\\x00\\x00\\x01\\x04*\\xff\\r\\x002\\x000\\x00%\\x00 \\x00-\\x00 \\x00A\\x00c\\x00c\\x00e\\x00n\\x00t\\x004\\x00\\x00\\x00\\x03\\x00\\x01\\x00\\x0c\\x00\\x07\\x07ef\\xff\\xf2\\xcc\\xff\\x05\\x00\\x0c\\x00\\x07\\x01\\x00\\x00\\x00\\x00\\x00\\xff%\\x00\\x05\\x00\\x02\\x93\\x02\\x12\\x00\\x14\\x00\\r\\x00\\x0020% - Accent5\\x92\\x08M\\x00\\x92\\x08\\x00\\x00\\x00\\x00\\x00\\x00\\x00\\x00\\x00\\x00\\x01\\x04.\\xff\\r\\x002\\x000\\x00%\\x00 \\x00-\\x00 \\x00A\\x00c\\x00c\\x00e\\x00n\\x00t\\x005\\x00\\x00\\x00\\x03\\x00\\x01\\x00\\x0c\\x00\\x07\\x08ef\\xdd\\xeb\\xf7\\xff\\x05\\x00\\x0c\\x00\\x07\\x01\\x00\\x00\\x00\\x00\\x00\\xff%\\x00\\x05\\x00\\x02\\x93\\x02\\x12\\x00\\x15\\x00\\r\\x00\\x0020% - Accent6\\x92\\x08M\\x00\\x92\\x08\\x00\\x00\\x00\\x00\\x00\\x00\\x00\\x00\\x00\\x00\\x01\\x042\\xff\\r\\x002\\x000\\x00%\\x00 \\x00-\\x00 \\x00A\\x00c\\x00c\\x00e\\x00n\\x00t\\x006\\x00\\x00\\x00\\x03\\x00\\x01\\x00\\x0c\\x00\\x07\\tef\\xe2\\xef\\xda\\xff\\x05\\x00\\x0c\\x00\\x07\\x01\\x00\\x00\\x00\\x00\\x00\\xff%\\x00\\x05\\x00\\x02\\x93\\x02\\x12\\x00\\x16\\x00\\r\\x00\\x0040% - Accent1\\x92\\x08M\\x00\\x92\\x08\\x00\\x00\\x00\\x00\\x00\\x00\\x00\\x00\\x00\\x00\\x01\\x04\\x1f\\xff\\r\\x004\\x000\\x00%\\x00 \\x00-\\x00 \\x00A\\x00c\\x00c\\x00e\\x00n\\x00t\\x001\\x00\\x00\\x00\\x03\\x00\\x01\\x00\\x0c\\x00\\x07\\x04\\xccL\\xb4\\xc6\\xe7\\xff\\x05\\x00\\x0c\\x00\\x07\\x01\\x00\\x00\\x00\\x00\\x00\\xff%\\x00\\x05\\x00\\x02\\x93\\x02\\x12\\x00\\x17\\x00\\r\\x00\\x0040% - Accent2\\x92\\x08M\\x00\\x92\\x08\\x00\\x00\\x00\\x00\\x00\\x00\\x00\\x00\\x00\\x00\\x01\\x04#\\xff\\r\\x004\\x000\\x00%\\x00 \\x00-\\x00 \\x00A\\x00c\\x00c\\x00e\\x00n\\x00t\\x002\\x00\\x00\\x00\\x03\\x00\\x01\\x00\\x0c\\x00\\x07\\x05\\xccL\\xf8\\xcb\\xad\\xff\\x05\\x00\\x0c\\x00\\x07\\x01\\x00\\x00\\x00\\x00\\x00\\xff%\\x00\\x05\\x00\\x02\\x93\\x02\\x12\\x00\\x18\\x00\\r\\x00\\x0040% - Accent3\\x92\\x08M\\x00\\x92\\x08\\x00\\x00\\x00\\x00\\x00\\x00\\x00\\x00\\x00\\x00\\x01\\x04\\'\\xff\\r\\x004\\x000\\x00%\\x00 \\x00-\\x00 \\x00A\\x00c\\x00c\\x00e\\x00n\\x00t\\x003\\x00\\x00\\x00\\x03\\x00\\x01\\x00\\x0c\\x00\\x07\\x06\\xccL\\xdb\\xdb\\xdb\\xff\\x05\\x00\\x0c\\x00\\x07\\x01\\x00\\x00\\x00\\x00\\x00\\xff%\\x00\\x05\\x00\\x02\\x93\\x02\\x12\\x00\\x19\\x00\\r\\x00\\x0040% - Accent4\\x92\\x08M\\x00\\x92\\x08\\x00\\x00\\x00\\x00\\x00\\x00\\x00\\x00\\x00\\x00\\x01\\x04+\\xff\\r\\x004\\x000\\x00%\\x00 \\x00-\\x00 \\x00A\\x00c\\x00c\\x00e\\x00n\\x00t\\x004\\x00\\x00\\x00\\x03\\x00\\x01\\x00\\x0c\\x00\\x07\\x07\\xccL\\xff\\xe6\\x99\\xff\\x05\\x00\\x0c\\x00\\x07\\x01\\x00\\x00\\x00\\x00\\x00\\xff%\\x00\\x05\\x00\\x02\\x93\\x02\\x12\\x00\\x1a\\x00\\r\\x00\\x0040% - Accent5\\x92\\x08M\\x00\\x92\\x08\\x00\\x00\\x00\\x00\\x00\\x00\\x00\\x00\\x00\\x00\\x01\\x04/\\xff\\r\\x004\\x000\\x00%\\x00 \\x00-\\x00 \\x00A\\x00c\\x00c\\x00e\\x00n\\x00t\\x005\\x00\\x00\\x00\\x03\\x00\\x01\\x00\\x0c\\x00\\x07\\x08\\xccL\\xbd\\xd7\\xee\\xff\\x05\\x00\\x0c\\x00\\x07\\x01\\x00\\x00\\x00\\x00\\x00\\xff%\\x00\\x05\\x00\\x02\\x93\\x02\\x12\\x00\\x1b\\x00\\r\\x00\\x0040% - Accent6\\x92\\x08M\\x00\\x92\\x08\\x00\\x00\\x00\\x00\\x00\\x00\\x00\\x00\\x00\\x00\\x01\\x043\\xff\\r\\x004\\x000\\x00%\\x00 \\x00-\\x00 \\x00A\\x00c\\x00c\\x00e\\x00n\\x00t\\x006\\x00\\x00\\x00\\x03\\x00\\x01\\x00\\x0c\\x00\\x07\\t\\xccL\\xc6\\xe0\\xb4\\xff\\x05\\x00\\x0c\\x00\\x07\\x01\\x00\\x00\\x00\\x00\\x00\\xff%\\x00\\x05\\x00\\x02\\x93\\x02\\x12\\x00\\x1c\\x00\\r\\x00\\x0060% - Accent1\\x92\\x08M\\x00\\x92\\x08\\x00\\x00\\x00\\x00\\x00\\x00\\x00\\x00\\x00\\x00\\x01\\x04 \\xff\\r\\x006\\x000\\x00%\\x00 \\x00-\\x00 \\x00A\\x00c\\x00c\\x00e\\x00n\\x00t\\x001\\x00\\x00\\x00\\x03\\x00\\x01\\x00\\x0c\\x00\\x07\\x0423\\x8e\\xa9\\xdb\\xff\\x05\\x00\\x0c\\x00\\x07\\x01\\x00\\x00\\x00\\x00\\x00\\xff%\\x00\\x05\\x00\\x02\\x93\\x02\\x12\\x00\\x1d\\x00\\r\\x00\\x0060% - Accent2\\x92\\x08M\\x00\\x92\\x08\\x00\\x00\\x00\\x00\\x00\\x00\\x00\\x00\\x00\\x00\\x01\\x04$\\xff\\r\\x006\\x000\\x00%\\x00 \\x00-\\x00 \\x00A\\x00c\\x00c\\x00e\\x00n\\x00t\\x002\\x00\\x00\\x00\\x03\\x00\\x01\\x00\\x0c\\x00\\x07\\x0523\\xf4\\xb0\\x84\\xff\\x05\\x00\\x0c\\x00\\x07\\x01\\x00\\x00\\x00\\x00\\x00\\xff%\\x00\\x05\\x00\\x02\\x93\\x02\\x12\\x00\\x1e\\x00\\r\\x00\\x0060% - Accent3\\x92\\x08M\\x00\\x92\\x08\\x00\\x00\\x00\\x00\\x00\\x00\\x00\\x00\\x00\\x00\\x01\\x04(\\xff\\r\\x006\\x000\\x00%\\x00 \\x00-\\x00 \\x00A\\x00c\\x00c\\x00e\\x00n\\x00t\\x003\\x00\\x00\\x00\\x03\\x00\\x01\\x00\\x0c\\x00\\x07\\x0623\\xc9\\xc9\\xc9\\xff\\x05\\x00\\x0c\\x00\\x07\\x01\\x00\\x00\\x00\\x00\\x00\\xff%\\x00\\x05\\x00\\x02\\x93\\x02\\x12\\x00\\x1f\\x00\\r\\x00\\x0060% - Accent4\\x92\\x08M\\x00\\x92\\x08\\x00\\x00\\x00\\x00\\x00\\x00\\x00\\x00\\x00\\x00\\x01\\x04,\\xff\\r\\x006\\x000\\x00%\\x00 \\x00-\\x00 \\x00A\\x00c\\x00c\\x00e\\x00n\\x00t\\x004\\x00\\x00\\x00\\x03\\x00\\x01\\x00\\x0c\\x00\\x07\\x0723\\xff\\xd9f\\xff\\x05\\x00\\x0c\\x00\\x07\\x01\\x00\\x00\\x00\\x00\\x00\\xff%\\x00\\x05\\x00\\x02\\x93\\x02\\x12\\x00 \\x00\\r\\x00\\x0060% - Accent5\\x92\\x08M\\x00\\x92\\x08\\x00\\x00\\x00\\x00\\x00\\x00\\x00\\x00\\x00\\x00\\x01\\x040\\xff\\r\\x006\\x000\\x00%\\x00 \\x00-\\x00 \\x00A\\x00c\\x00c\\x00e\\x00n\\x00t\\x005\\x00\\x00\\x00\\x03\\x00\\x01\\x00\\x0c\\x00\\x07\\x0823\\x9b\\xc2\\xe6\\xff\\x05\\x00\\x0c\\x00\\x07\\x01\\x00\\x00\\x00\\x00\\x00\\xff%\\x00\\x05\\x00\\x02\\x93\\x02\\x12\\x00!\\x00\\r\\x00\\x0060% - Accent6\\x92\\x08M\\x00\\x92\\x08\\x00\\x00\\x00\\x00\\x00\\x00\\x00\\x00\\x00\\x00\\x01\\x044\\xff\\r\\x006\\x000\\x00%\\x00 \\x00-\\x00 \\x00A\\x00c\\x00c\\x00e\\x00n\\x00t\\x006\\x00\\x00\\x00\\x03\\x00\\x01\\x00\\x0c\\x00\\x07\\t23\\xa9\\xd0\\x8e\\xff\\x05\\x00\\x0c\\x00\\x07\\x01\\x00\\x00\\x00\\x00\\x00\\xff%\\x00\\x05\\x00\\x02\\x93\\x02\\x0c\\x00\"\\x00\\x07\\x00\\x00Accent1\\x92\\x08A\\x00\\x92\\x08\\x00\\x00\\x00\\x00\\x00\\x00\\x00\\x00\\x00\\x00\\x01\\x04\\x1d\\xff\\x07\\x00A\\x00c\\x00c\\x00e\\x00n\\x00t\\x001\\x00\\x00\\x00\\x03\\x00\\x01\\x00\\x0c\\x00\\x07\\x04\\x00\\x00Dr\\xc4\\xff\\x05\\x00\\x0c\\x00\\x07\\x00\\x00\\x00\\xff\\xff\\xff\\xff%\\x00\\x05\\x00\\x02\\x93\\x02\\x0c\\x00#\\x00\\x07\\x00\\x00Accent2\\x92\\x08A\\x00\\x92\\x08\\x00\\x00\\x00\\x00\\x00\\x00\\x00\\x00\\x00\\x00\\x01\\x04!\\xff\\x07\\x00A\\x00c\\x00c\\x00e\\x00n\\x00t\\x002\\x00\\x00\\x00\\x03\\x00\\x01\\x00\\x0c\\x00\\x07\\x05\\x00\\x00\\xed}1\\xff\\x05\\x00\\x0c\\x00\\x07\\x00\\x00\\x00\\xff\\xff\\xff\\xff%\\x00\\x05\\x00\\x02\\x93\\x02\\x0c\\x00$\\x00\\x07\\x00\\x00Accent3\\x92\\x08A\\x00\\x92\\x08\\x00\\x00\\x00\\x00\\x00\\x00\\x00\\x00\\x00\\x00\\x01\\x04%\\xff\\x07\\x00A\\x00c\\x00c\\x00e\\x00n\\x00t\\x003\\x00\\x00\\x00\\x03\\x00\\x01\\x00\\x0c\\x00\\x07\\x06\\x00\\x00\\xa5\\xa5\\xa5\\xff\\x05\\x00\\x0c\\x00\\x07\\x00\\x00\\x00\\xff\\xff\\xff\\xff%\\x00\\x05\\x00\\x02\\x93\\x02\\x0c\\x00%\\x00\\x07\\x00\\x00Accent4\\x92\\x08A\\x00\\x92\\x08\\x00\\x00\\x00\\x00\\x00\\x00\\x00\\x00\\x00\\x00\\x01\\x04)\\xff\\x07\\x00A\\x00c\\x00c\\x00e\\x00n\\x00t\\x004\\x00\\x00\\x00\\x03\\x00\\x01\\x00\\x0c\\x00\\x07\\x07\\x00\\x00\\xff\\xc0\\x00\\xff\\x05\\x00\\x0c\\x00\\x07\\x00\\x00\\x00\\xff\\xff\\xff\\xff%\\x00\\x05\\x00\\x02\\x93\\x02\\x0c\\x00&\\x00\\x07\\x00\\x00Accent5\\x92\\x08A\\x00\\x92\\x08\\x00\\x00\\x00\\x00\\x00\\x00\\x00\\x00\\x00\\x00\\x01\\x04-\\xff\\x07\\x00A\\x00c\\x00c\\x00e\\x00n\\x00t\\x005\\x00\\x00\\x00\\x03\\x00\\x01\\x00\\x0c\\x00\\x07\\x08\\x00\\x00[\\x9b\\xd5\\xff\\x05\\x00\\x0c\\x00\\x07\\x00\\x00\\x00\\xff\\xff\\xff\\xff%\\x00\\x05\\x00\\x02\\x93\\x02\\x0c\\x00\\'\\x00\\x07\\x00\\x00Accent6\\x92\\x08A\\x00\\x92\\x08\\x00\\x00\\x00\\x00\\x00\\x00\\x00\\x00\\x00\\x00\\x01\\x041\\xff\\x07\\x00A\\x00c\\x00c\\x00e\\x00n\\x00t\\x006\\x00\\x00\\x00\\x03\\x00\\x01\\x00\\x0c\\x00\\x07\\t\\x00\\x00p\\xadG\\xff\\x05\\x00\\x0c\\x00\\x07\\x00\\x00\\x00\\xff\\xff\\xff\\xff%\\x00\\x05\\x00\\x02\\x93\\x02\\x08\\x00(\\x00\\x03\\x00\\x00Bad\\x92\\x089\\x00\\x92\\x08\\x00\\x00\\x00\\x00\\x00\\x00\\x00\\x00\\x00\\x00\\x01\\x01\\x1b\\xff\\x03\\x00B\\x00a\\x00d\\x00\\x00\\x00\\x03\\x00\\x01\\x00\\x0c\\x00\\x05\\xff\\x00\\x00\\xff\\xc7\\xce\\xff\\x05\\x00\\x0c\\x00\\x05\\xff\\x00\\x00\\x9c\\x00\\x06\\xff%\\x00\\x05\\x00\\x02\\x93\\x02\\x10\\x00)\\x00\\x0b\\x00\\x00Calculation\\x92\\x08\\x81\\x00\\x92\\x08\\x00\\x00\\x00\\x00\\x00\\x00\\x00\\x00\\x00\\x00\\x01\\x02\\x16\\xff\\x0b\\x00C\\x00a\\x00l\\x00c\\x00u\\x00l\\x00a\\x00t\\x00i\\x00o\\x00n\\x00\\x00\\x00\\x07\\x00\\x01\\x00\\x0c\\x00\\x05\\xff\\x00\\x00\\xf2\\xf2\\xf2\\xff\\x05\\x00\\x0c\\x00\\x05\\xff\\x00\\x00\\xfa}\\x00\\xff%\\x00\\x05\\x00\\x02\\x06\\x00\\x0e\\x00\\x05\\xff\\x00\\x00\\x7f\\x7f\\x7f\\xff\\x01\\x00\\x07\\x00\\x0e\\x00\\x05\\xff\\x00\\x00\\x7f\\x7f\\x7f\\xff\\x01\\x00\\x08\\x00\\x0e\\x00\\x05\\xff\\x00\\x00\\x7f\\x7f\\x7f\\xff\\x01\\x00\\t\\x00\\x0e\\x00\\x05\\xff\\x00\\x00\\x7f\\x7f\\x7f\\xff\\x01\\x00\\x93\\x02\\x0f\\x00*\\x00\\n\\x00\\x00Check Cell\\x92\\x08\\x7f\\x00\\x92\\x08\\x00\\x00\\x00\\x00\\x00\\x00\\x00\\x00\\x00\\x00\\x01\\x02\\x17\\xff\\n\\x00C\\x00h\\x00e\\x00c\\x00k\\x00 \\x00C\\x00e\\x00l\\x00l\\x00\\x00\\x00\\x07\\x00\\x01\\x00\\x0c\\x00\\x05\\xff\\x00\\x00\\xa5\\xa5\\xa5\\xff\\x05\\x00\\x0c\\x00\\x07\\x00\\x00\\x00\\xff\\xff\\xff\\xff%\\x00\\x05\\x00\\x02\\x06\\x00\\x0e\\x00\\x05\\xff\\x00\\x00???\\xff\\x06\\x00\\x07\\x00\\x0e\\x00\\x05\\xff\\x00\\x00???\\xff\\x06\\x00\\x08\\x00\\x0e\\x00\\x05\\xff\\x00\\x00???\\xff\\x06\\x00\\t\\x00\\x0e\\x00\\x05\\xff\\x00\\x00???\\xff\\x06\\x00\\x93\\x02\\x04\\x00+\\x80\\x03\\xff\\x92\\x08 \\x00\\x92\\x08\\x00\\x00\\x00\\x00\\x00\\x00\\x00\\x00\\x00\\x00\\x01\\x05\\x03\\xff\\x05\\x00C\\x00o\\x00m\\x00m\\x00a\\x00\\x00\\x00\\x00\\x00\\x93\\x02\\x04\\x00,\\x80\\x06\\xff\\x92\\x08(\\x00\\x92\\x08\\x00\\x00\\x00\\x00\\x00\\x00\\x00\\x00\\x00\\x00\\x01\\x05\\x06\\xff\\t\\x00C\\x00o\\x00m\\x00m\\x00a\\x00 \\x00[\\x000\\x00]\\x00\\x00\\x00\\x00\\x00\\x93\\x02\\x04\\x00-\\x80\\x04\\xff\\x92\\x08&\\x00\\x92\\x08\\x00\\x00\\x00\\x00\\x00\\x00\\x00\\x00\\x00\\x00\\x01\\x05\\x04\\xff\\x08\\x00C\\x00u\\x00r\\x00r\\x00e\\x00n\\x00c\\x00y\\x00\\x00\\x00\\x00\\x00\\x93\\x02\\x04\\x00.\\x80\\x07\\xff\\x92\\x08.\\x00\\x92\\x08\\x00\\x00\\x00\\x00\\x00\\x00\\x00\\x00\\x00\\x00\\x01\\x05\\x07\\xff\\x0c\\x00C\\x00u\\x00r\\x00r\\x00e\\x00n\\x00c\\x00y\\x00 \\x00[\\x000\\x00]\\x00\\x00\\x00\\x00\\x00\\x93\\x02\\x15\\x00/\\x00\\x10\\x00\\x00Explanatory Text\\x92\\x08G\\x00\\x92\\x08\\x00\\x00\\x00\\x00\\x00\\x00\\x00\\x00\\x00\\x00\\x01\\x025\\xff\\x10\\x00E\\x00x\\x00p\\x00l\\x00a\\x00n\\x00a\\x00t\\x00o\\x00r\\x00y\\x00 \\x00T\\x00e\\x00x\\x00t\\x00\\x00\\x00\\x02\\x00\\x05\\x00\\x0c\\x00\\x05\\xff\\x00\\x00\\x7f\\x7f\\x7f\\xff%\\x00\\x05\\x00\\x02\\x93\\x02\\t\\x000\\x00\\x04\\x00\\x00Good\\x92\\x08;\\x00\\x92\\x08\\x00\\x00\\x00\\x00\\x00\\x00\\x00\\x00\\x00\\x00\\x01\\x01\\x1a\\xff\\x04\\x00G\\x00o\\x00o\\x00d\\x00\\x00\\x00\\x03\\x00\\x01\\x00\\x0c\\x00\\x05\\xff\\x00\\x00\\xc6\\xef\\xce\\xff\\x05\\x00\\x0c\\x00\\x05\\xff\\x00\\x00\\x00a\\x00\\xff%\\x00\\x05\\x00\\x02\\x93\\x02\\x0e\\x001\\x00\\t\\x00\\x00Heading 1\\x92\\x08G\\x00\\x92\\x08\\x00\\x00\\x00\\x00\\x00\\x00\\x00\\x00\\x00\\x00\\x01\\x03\\x10\\xff\\t\\x00H\\x00e\\x00a\\x00d\\x00i\\x00n\\x00g\\x00 \\x001\\x00\\x00\\x00\\x03\\x00\\x05\\x00\\x0c\\x00\\x07\\x03\\x00\\x00DTj\\xff%\\x00\\x05\\x00\\x02\\x07\\x00\\x0e\\x00\\x07\\x04\\x00\\x00Dr\\xc4\\xff\\x05\\x00\\x93\\x02\\x0e\\x002\\x00\\t\\x00\\x00Heading 2\\x92\\x08G\\x00\\x92\\x08\\x00\\x00\\x00\\x00\\x00\\x00\\x00\\x00\\x00\\x00\\x01\\x03\\x11\\xff\\t\\x00H\\x00e\\x00a\\x00d\\x00i\\x00n\\x00g\\x00 \\x002\\x00\\x00\\x00\\x03\\x00\\x05\\x00\\x0c\\x00\\x07\\x03\\x00\\x00DTj\\xff%\\x00\\x05\\x00\\x02\\x07\\x00\\x0e\\x00\\x07\\x04\\xff?\\xa2\\xb8\\xe1\\xff\\x05\\x00\\x93\\x02\\x0e\\x003\\x00\\t\\x00\\x00Heading 3\\x92\\x08G\\x00\\x92\\x08\\x00\\x00\\x00\\x00\\x00\\x00\\x00\\x00\\x00\\x00\\x01\\x03\\x12\\xff\\t\\x00H\\x00e\\x00a\\x00d\\x00i\\x00n\\x00g\\x00 \\x003\\x00\\x00\\x00\\x03\\x00\\x05\\x00\\x0c\\x00\\x07\\x03\\x00\\x00DTj\\xff%\\x00\\x05\\x00\\x02\\x07\\x00\\x0e\\x00\\x07\\x0423\\x8e\\xa9\\xdb\\xff\\x02\\x00\\x93\\x02\\x0e\\x004\\x00\\t\\x00\\x00Heading 4\\x92\\x089\\x00\\x92\\x08\\x00\\x00\\x00\\x00\\x00\\x00\\x00\\x00\\x00\\x00\\x01\\x03\\x13\\xff\\t\\x00H\\x00e\\x00a\\x00d\\x00i\\x00n\\x00g\\x00 \\x004\\x00\\x00\\x00\\x02\\x00\\x05\\x00\\x0c\\x00\\x07\\x03\\x00\\x00DTj\\xff%\\x00\\x05\\x00\\x02\\x93\\x02\\n\\x005\\x00\\x05\\x00\\x00Input\\x92\\x08u\\x00\\x92\\x08\\x00\\x00\\x00\\x00\\x00\\x00\\x00\\x00\\x00\\x00\\x01\\x02\\x14\\xff\\x05\\x00I\\x00n\\x00p\\x00u\\x00t\\x00\\x00\\x00\\x07\\x00\\x01\\x00\\x0c\\x00\\x05\\xff\\x00\\x00\\xff\\xcc\\x99\\xff\\x05\\x00\\x0c\\x00\\x05\\xff\\x00\\x00??v\\xff%\\x00\\x05\\x00\\x02\\x06\\x00\\x0e\\x00\\x05\\xff\\x00\\x00\\x7f\\x7f\\x7f\\xff\\x01\\x00\\x07\\x00\\x0e\\x00\\x05\\xff\\x00\\x00\\x7f\\x7f\\x7f\\xff\\x01\\x00\\x08\\x00\\x0e\\x00\\x05\\xff\\x00\\x00\\x7f\\x7f\\x7f\\xff\\x01\\x00\\t\\x00\\x0e\\x00\\x05\\xff\\x00\\x00\\x7f\\x7f\\x7f\\xff\\x01\\x00\\x93\\x02\\x10\\x006\\x00\\x0b\\x00\\x00Linked Cell\\x92\\x08K\\x00\\x92\\x08\\x00\\x00\\x00\\x00\\x00\\x00\\x00\\x00\\x00\\x00\\x01\\x02\\x18\\xff\\x0b\\x00L\\x00i\\x00n\\x00k\\x00e\\x00d\\x00 \\x00C\\x00e\\x00l\\x00l\\x00\\x00\\x00\\x03\\x00\\x05\\x00\\x0c\\x00\\x05\\xff\\x00\\x00\\xfa}\\x00\\xff%\\x00\\x05\\x00\\x02\\x07\\x00\\x0e\\x00\\x05\\xff\\x00\\x00\\xff\\x80\\x01\\xff\\x06\\x00\\x93\\x02\\x0c\\x007\\x00\\x07\\x00\\x00Neutral\\x92\\x08A\\x00\\x92\\x08\\x00\\x00\\x00\\x00\\x00\\x00\\x00\\x00\\x00\\x00\\x01\\x01\\x1c\\xff\\x07\\x00N\\x00e\\x00u\\x00t\\x00r\\x00a\\x00l\\x00\\x00\\x00\\x03\\x00\\x01\\x00\\x0c\\x00\\x05\\xff\\x00\\x00\\xff\\xeb\\x9c\\xff\\x05\\x00\\x0c\\x00\\x05\\xff\\x00\\x00\\x9cW\\x00\\xff%\\x00\\x05\\x00\\x02\\x93\\x02\\x04\\x00\\x00\\x80\\x00\\xff\\x92\\x08\"\\x00\\x92\\x08\\x00\\x00\\x00\\x00\\x00\\x00\\x00\\x00\\x00\\x00\\x01\\x01\\x00\\xff\\x06\\x00N\\x00o\\x00r\\x00m\\x00a\\x00l\\x00\\x00\\x00\\x00\\x00\\x93\\x02\\t\\x008\\x00\\x04\\x00\\x00Note\\x92\\x08b\\x00\\x92\\x08\\x00\\x00\\x00\\x00\\x00\\x00\\x00\\x00\\x00\\x00\\x01\\x02\\n\\xff\\x04\\x00N\\x00o\\x00t\\x00e\\x00\\x00\\x00\\x05\\x00\\x01\\x00\\x0c\\x00\\x05\\xff\\x00\\x00\\xff\\xff\\xcc\\xff\\x06\\x00\\x0e\\x00\\x05\\xff\\x00\\x00\\xb2\\xb2\\xb2\\xff\\x01\\x00\\x07\\x00\\x0e\\x00\\x05\\xff\\x00\\x00\\xb2\\xb2\\xb2\\xff\\x01\\x00\\x08\\x00\\x0e\\x00\\x05\\xff\\x00\\x00\\xb2\\xb2\\xb2\\xff\\x01\\x00\\t\\x00\\x0e\\x00\\x05\\xff\\x00\\x00\\xb2\\xb2\\xb2\\xff\\x01\\x00\\x93\\x02\\x0b\\x009\\x00\\x06\\x00\\x00Output\\x92\\x08w\\x00\\x92\\x08\\x00\\x00\\x00\\x00\\x00\\x00\\x00\\x00\\x00\\x00\\x01\\x02\\x15\\xff\\x06\\x00O\\x00u\\x00t\\x00p\\x00u\\x00t\\x00\\x00\\x00\\x07\\x00\\x01\\x00\\x0c\\x00\\x05\\xff\\x00\\x00\\xf2\\xf2\\xf2\\xff\\x05\\x00\\x0c\\x00\\x05\\xff\\x00\\x00???\\xff%\\x00\\x05\\x00\\x02\\x06\\x00\\x0e\\x00\\x05\\xff\\x00\\x00???\\xff\\x01\\x00\\x07\\x00\\x0e\\x00\\x05\\xff\\x00\\x00???\\xff\\x01\\x00\\x08\\x00\\x0e\\x00\\x05\\xff\\x00\\x00???\\xff\\x01\\x00\\t\\x00\\x0e\\x00\\x05\\xff\\x00\\x00???\\xff\\x01\\x00\\x93\\x02\\x04\\x00:\\x80\\x05\\xff\\x92\\x08$\\x00\\x92\\x08\\x00\\x00\\x00\\x00\\x00\\x00\\x00\\x00\\x00\\x00\\x01\\x05\\x05\\xff\\x07\\x00P\\x00e\\x00r\\x00c\\x00e\\x00n\\x00t\\x00\\x00\\x00\\x00\\x00\\x93\\x02\\n\\x00;\\x00\\x05\\x00\\x00Title\\x92\\x081\\x00\\x92\\x08\\x00\\x00\\x00\\x00\\x00\\x00\\x00\\x00\\x00\\x00\\x01\\x03\\x0f\\xff\\x05\\x00T\\x00i\\x00t\\x00l\\x00e\\x00\\x00\\x00\\x02\\x00\\x05\\x00\\x0c\\x00\\x07\\x03\\x00\\x00DTj\\xff%\\x00\\x05\\x00\\x01\\x93\\x02\\n\\x00<\\x00\\x05\\x00\\x00Total\\x92\\x08M\\x00\\x92\\x08\\x00\\x00\\x00\\x00\\x00\\x00\\x00\\x00\\x00\\x00\\x01\\x03\\x19\\xff\\x05\\x00T\\x00o\\x00t\\x00a\\x00l\\x00\\x00\\x00\\x04\\x00\\x05\\x00\\x0c\\x00\\x07\\x01\\x00\\x00\\x00\\x00\\x00\\xff%\\x00\\x05\\x00\\x02\\x06\\x00\\x0e\\x00\\x07\\x04\\x00\\x00Dr\\xc4\\xff\\x01\\x00\\x07\\x00\\x0e\\x00\\x07\\x04\\x00\\x00Dr\\xc4\\xff\\x06\\x00\\x93\\x02\\x11\\x00=\\x00\\x0c\\x00\\x00Warning Text\\x92\\x08?\\x00\\x92\\x08\\x00\\x00\\x00\\x00\\x00\\x00\\x00\\x00\\x00\\x00\\x01\\x02\\x0b\\xff\\x0c\\x00W\\x00a\\x00r\\x00n\\x00i\\x00n\\x00g\\x00 \\x00T\\x00e\\x00x\\x00t\\x00\\x00\\x00\\x02\\x00\\x05\\x00\\x0c\\x00\\x05\\xff\\x00\\x00\\xff\\x00\\x00\\xff%\\x00\\x05\\x00\\x02\\x8e\\x08X\\x00\\x8e\\x08\\x00\\x00\\x00\\x00\\x00\\x00\\x00\\x00\\x00\\x00\\x90\\x00\\x00\\x00\\x11\\x00\\x11\\x00T\\x00a\\x00b\\x00l\\x00e\\x00S\\x00t\\x00y\\x00l\\x00e\\x00M\\x00e\\x00d\\x00i\\x00u\\x00m\\x002\\x00P\\x00i\\x00v\\x00o\\x00t\\x00S\\x00t\\x00y\\x00l\\x00e\\x00L\\x00i\\x00g\\x00h\\x00t\\x001\\x006\\x00`\\x01\\x02\\x00\\x00\\x00\\x85\\x00\\x0e\\x00\\xab6\\x00\\x00\\x00\\x00\\x06\\x00Sheet1\\x9a\\x08\\x18\\x00\\x9a\\x08\\x00\\x00\\x00\\x00\\x00\\x00\\x00\\x00\\x00\\x00\\x01\\x00\\x00\\x00\\x00\\x00\\x00\\x00\\x04\\x00\\x00\\x00\\xa3\\x08\\x10\\x00\\xa3\\x08\\x00\\x00\\x00\\x00\\x00\\x00\\x00\\x00\\x00\\x00\\x00\\x00\\x00\\x00\\x8c\\x00\\x04\\x00\\x01\\x00\\x01\\x00\\xc1\\x01\\x08\\x00\\xc1\\x01\\x00\\x00\"\\xbe\\x01\\x00\\xfc\\x00^\\x00\\x9b\\x00\\x00\\x00\\x08\\x00\\x00\\x00\\x02\\x00\\x00SL\\x02\\x00\\x00SW\\x02\\x00\\x00PL\\x02\\x00\\x00PW\\x0b\\x00\\x00Iris-setosa\\x0f\\x00\\x00Iris-versicolor\\x0e\\x00\\x00Iris-virginica\\x0e\\x00\\x00Classification\\xff\\x00\\n\\x00\\x08\\x00\\xa6)\\x00\\x00\\x0c\\x00\\x00\\x00c\\x08\\x16\\x00c\\x08\\x00\\x00\\x00\\x00\\x00\\x00\\x00\\x00\\x00\\x00\\x16\\x00\\x00\\x00\\x00\\x00\\x00\\x00\"\\x00\\x96\\x08W\\x0c\\x96\\x08\\x00\\x00\\x00\\x00\\x00\\x00\\x00\\x00\\x00\\x00\\r\\x8c\\x02\\x00PK\\x03\\x04\\x14\\x00\\x06\\x00\\x08\\x00\\x00\\x00!\\x00\\xe9\\xde\\x0f\\xbf\\xff\\x00\\x00\\x00\\x1c\\x02\\x00\\x00\\x13\\x00\\x00\\x00[Content_Types].xml\\xac\\x91\\xcbN\\xc30\\x10E\\xf7H\\xfc\\x83\\xe5-J\\x9c\\xb2@\\x08%\\xe9\\x82\\xc7\\x8e\\xc7\\xa2|\\xc0\\xc8\\x99$\\x16\\xc9\\xd8\\xb2\\xa7U\\xfb\\xf7L\\xd2TB\\xa8 \\x16l,\\xd93\\xf7\\x9e;\\xe3r\\xbd\\x1f\\x07\\xb5\\xc3\\x98\\x9c\\xa7J\\xaf\\xf2B+$\\xeb\\x1bG]\\xa5\\xdf7O\\xd9\\xadV\\x89\\x81\\x1a\\x18<a\\xa5\\x0f\\x98\\xf4\\xba\\xbe\\xbc(7\\x87\\x80I\\x89\\x9aR\\xa5{\\xe6pgL\\xb2=\\x8e\\x90r\\x1f\\x90\\xa4\\xd2\\xfa8\\x02\\xcb5v&\\x80\\xfd\\x80\\x0e\\xcduQ\\xdc\\x18\\xeb\\x89\\x918\\xe3\\xc9C\\xd7\\xe5\\x03\\xb6\\xb0\\x1dX=\\xee\\xe5\\xf9\\x98$\\xe2\\x90\\xb4\\xba?6N\\xacJC\\x08\\x83\\xb3\\xc0\\x92\\xd4\\xec\\xa8\\xf9F\\xc9\\x16B.\\xca\\xb9\\'\\xf5.\\xa4+\\x89\\xa1\\xcdY\\xc2T\\xf9\\x19\\xb0\\xe8^e5\\xd15\\xa8\\xde \\xf2\\x0b\\x8c\\x12\\xc3\\xb0\\x0c\\x89_\\xcfg \\x19-\\xe6\\xbf;\\x9e\\x89\\xec\\xdb\\xd6Yl\\xbc\\xdd\\x8e\\xb2\\x8e|6^\\xccN\\xc1\\xff\\x14`\\xf5?\\xe8\\x13\\xd3\\xcc\\x7f[\\x7f\\x02\\x00\\x00\\xff\\xff\\x03\\x00PK\\x03\\x04\\x14\\x00\\x06\\x00\\x08\\x00\\x00\\x00!\\x00\\xa5\\xd6\\xa7\\xe7\\xc0\\x00\\x00\\x006\\x01\\x00\\x00\\x0b\\x00\\x00\\x00_rels/.rels\\x84\\x8f\\xcfj\\xc30\\x0c\\x87\\xef\\x85\\xbd\\x83\\xd1}Q\\xd2\\xc3\\x18%v/\\xa5\\x90C/\\xa3}\\x00\\xe1(\\x7fh\"\\x1b\\xdb\\x1b\\xeb\\xdbO\\xc7\\x06\\n\\xbb\\x08\\x84\\xa4\\xef\\xf7\\xa9=\\xfe\\xae\\x8b\\xf9\\xe1\\x94\\xe7 \\x16\\x9a\\xaa\\x06\\xc3\\xe2C?\\xcbh\\xe1v=\\xbf\\x7f\\x82\\xc9\\x85\\xa4\\xa7%\\x08[xp\\x86\\xa3{\\xdb\\xb5_\\xbcP\\xd1\\xa3<\\xcd1\\x1b\\xa5H\\xb60\\x95\\x12\\x0f\\x88\\xd9O\\xbcR\\xaeBd\\xd1\\xc9\\x10\\xd2JE\\xdb4b$\\x7f\\xa7\\x91q_\\xd7\\x1f\\x98\\x9e\\x19\\xe06L\\xd3\\xf5\\x16R\\xd77`\\xae\\x8f\\xa8\\xc9\\xff\\xb3\\xc30\\xcc\\x9eO\\xc1\\x7f\\xaf,\\xe5E\\x04n7\\x94Li\\xe4b\\xa1\\xa8/\\xe3S\\xbd\\x90\\xa8e\\xaa\\xd4\\x1e\\xd0\\xb5\\xb8\\xf9\\xd6\\xfd\\x01\\x00\\x00\\xff\\xff\\x03\\x00PK\\x03\\x04\\x14\\x00\\x06\\x00\\x08\\x00\\x00\\x00!\\x00ky\\x96\\x16\\x83\\x00\\x00\\x00\\x8a\\x00\\x00\\x00\\x1c\\x00\\x00\\x00theme/theme/themeManager.xml\\x0c\\xccM\\n\\xc3 \\x10@\\xe1}\\xa1w\\x90\\xd97c\\xbb(Eb\\xb2\\xcb\\xae\\xbb\\xf6\\x00C\\x9c\\x1aA\\xc7\\xa0\\xd2\\x9f\\xdb\\xd7\\xe5\\xe3\\x837\\xce\\xdf\\x14\\xd5\\x9bK\\rY,\\x9c\\x07\\r\\x8ae\\xcd.\\x88\\xb7\\xf0|,\\xa7\\x1b\\xa8\\xdaH\\x1c\\xc5,l\\xe1\\xc7\\x15\\xe6\\xe9x\\x18\\xc9\\xb4\\x8d\\x13\\xdfI\\xc8sQ}#\\xd5\\x90\\x85\\xad\\xb5\\xdd \\xd6\\xb5+\\xd5!\\xef,\\xdd^\\xb9$j=\\x8bGW\\xe8\\xd3\\xf7)\\xe2E\\xeb+&\\n\\x028\\xfd\\x01\\x00\\x00\\xff\\xff\\x03\\x00PK\\x03\\x04\\x14\\x00\\x06\\x00\\x08\\x00\\x00\\x00!\\x00N\\xd2m\\xd1\\xcf\\x06\\x00\\x00\\xb0\\x1f\\x00\\x00\\x16\\x00\\x00\\x00theme/theme/theme1.xml\\xecYKo\\x1b7\\x10\\xbe\\x17\\xe8\\x7fX\\xec\\xbd\\xb1d\\xeb\\x11\\x19\\x91\\x03\\xeb\\x15\\'\\xb1l#RR\\xe4HI\\xd4.-\\xeerARvt+\\x92S/\\x05\\n\\xa4E/\\x05z\\xeb\\xa1(\\x1a\\xa0\\x01\\x1a\\xf4\\xd2\\x1fc A\\x9b\\xfe\\x88\\x0e\\xb9\\xd2.)Q\\xf1\\x03F\\x91\\x16\\xb6\\x00CK}3\\xfc83;3;{\\xe7\\xee\\xb3\\x88z\\'\\x98\\x0b\\xc2\\xe2\\xba_\\xbcU\\xf0=\\x1c\\x0f\\xd9\\x88\\xc4A\\xdd\\x7f\\xdc\\xef|v\\xdb\\xf7\\x84D\\xf1\\x08Q\\x16\\xe3\\xba?\\xc3\\xc2\\xbf\\xbb\\xf3\\xe9\\'w\\xd0\\xb6\\x0cq\\x84=\\x90\\x8f\\xc56\\xaa\\xfb\\xa1\\x94\\xc9\\xf6\\xc6\\x86\\x18\\xc22\\x12\\xb7X\\x82c\\xf8m\\xccx\\x84$\\\\\\xf2`c\\xc4\\xd1)\\xe8\\x8d\\xe8\\xc6f\\xa1P\\xd9\\x88\\x10\\x89}/F\\x11\\xa8=\\x1c\\x8f\\xc9\\x10{}\\xa5\\xd2\\xdfY(oS\\xb8\\x8c\\xa5P\\x0bC\\xca{J5\\xb6$4v4)*\\x84\\x98\\x89&\\xe5\\xde\\t\\xa2u\\x1f\\xf6\\x19\\xb1\\xd3>~&}\\x8f\"!\\xe1\\x87\\xba_\\xd0\\x7f\\xfe\\xc6\\xce\\x9d\\r\\xb4=\\x17\\xa2r\\x8d\\xac!\\xd7\\xd1\\x7fs\\xb9\\xb9\\xc0h\\xb2\\xa9\\xf7\\xe4\\xc1 \\xdb\\xb4T*\\x97*\\xbb\\x99~\\r\\xa0r\\x15\\xd7\\xae\\xb6+\\xedJ\\xa6O\\x03\\xd0p\\x08\\'M\\xb9\\xd8:\\xab\\x9b\\xcd\\xd2\\x1ck\\x80\\xd2\\xaf\\x0e\\xdd\\xadjk\\xabh\\xe1\\r\\xfd[+\\x9cw\\xcb\\xeac\\xe15(\\xd5_Z\\xc1w:M\\xb0\\xa2\\x85\\xd7\\xa0\\x14_^\\xc1\\x97\\x1b\\xb5F\\xcb\\xd6\\xafA)\\xbe\\xb2\\x82\\xaf\\x16v[\\xa5\\xaa\\xa5_\\x83BJ\\xe2\\xc9\\n\\xbaP\\xael5\\x17\\xa7\\xcd cF\\xf7\\x9c\\xf0Z\\xb9\\xd4\\xa9n\\xce\\x95\\xe7(\\x88\\x86,\\xba\\xd4\\x16c\\x16\\xcbu\\xb1\\x16\\xa1c\\xc6;\\x00P@\\x8a$\\x89=9K\\xf0\\x18\\r!\\x8a\\x9b\\x88\\x92\\x01\\'\\xde>\\tB\\x08\\xbc\\x04\\xc5L\\xc0ra\\xb3\\xd0)l\\xc1\\x7f\\xf5)\\xe9o\\xda\\xa3h\\x1b#CZ\\xf1\\x02&beI\\xf1\\xf1\\xc4\\x90\\x93D\\xd6\\xfd\\x07\\xa0\\xd57 o\\xdf\\xbc9{\\xfe\\xfa\\xec\\xf9og/^\\x9c=\\xffe\\xbe\\xb7Ve\\xc9\\xed\\xa180\\xe5\\xde\\xff\\xf8\\xf5\\xdf\\xdf\\x7f\\xe1\\xfd\\xf5\\xeb\\x0f\\xef_~\\x93n\\xbd\\x8c\\x17&\\xfe\\xdd\\xcf_\\xbe\\xfb\\xfd\\x8f\\x0f\\xa9\\x87\\x13\\xe7\\xa6x\\xfb\\xed\\xabw\\xaf_\\xbd\\xfd\\xee\\xab?\\x7fz\\xe9\\xd0\\xbe\\xcb\\xd1\\xc0\\x84\\xf7I\\x84\\x85w\\x80O\\xbdG,\\x82\\x03:\\xf8\\xe3\\x01\\xbf\\x9cD?D\\xc4\\x92@!\\xe8v\\xa8n\\xcb\\xd0\\x02\\x1e\\xcc\\x10u\\xe1\\x1a\\xd86\\xe1\\x13\\x0eY\\xc6\\x05\\xbc7=\\xb6\\xb8\\xf6B>\\x95\\xc4\\xb1\\xf3\\xc30\\xb2\\x80]\\xc6h\\x83q\\xa7\\x01\\x1e\\xaa\\xbd\\x0c\\x0b\\xf7\\xa7q\\xe0\\xde\\x9cOM\\xdc#\\x84N\\\\{7Ql9\\xb8=M \\xbd\\x12\\x97\\xcaf\\x88-\\x9aG\\x14\\xc5\\x12\\x058\\xc6\\xd2S\\xbf\\xb1\\t\\xc6\\x8e\\xd3=%\\xc4\\xb2k\\x97\\x0c9\\x13l,\\xbd\\xa7\\xc4k \\xe24I\\x9f\\x0c\\xac@\\xca\\x85\\xf6H\\x04~\\x99\\xb9\\x08\\x82\\xab-\\xdbt\\x9fx\\rF]\\xa7n\\xe1\\x13\\x1b\\t\\xb7\\x05\\xa2\\x0e\\xf2}L-3\\xdeCS\\x89\"\\x97\\xca>\\x8a\\xa8i\\xf0}$C\\x17\\xc9\\xde\\x8c\\x0fM\\\\[H\\xf0t\\x80)\\xf3\\xda#,\\x84K\\xe6\\x90\\xc3y\\r\\xa7?\\x84\\x0c\\xe3v{\\x97\\xce\"\\x1b\\xc9%\\x99\\xb8t\\xee#\\xc6Ld\\x8bM\\x9a!\\x8a\\x12\\x17\\xb6G\\xe2\\xd0\\xc4\\xde\\x17\\x13\\x08Q\\xe4\\x1d1\\xe9\\x82w\\x99}\\x87\\xa8k\\xf0\\x03\\x8a\\xd7\\xba\\xfb\\t\\xc1\\x96\\xbb\\xcfO\\x04\\x8f!\\xb9\\x9a\\x94\\xf2\\x00Q\\xbfL\\xb9\\xc3\\x97\\xf70\\xb3\\xe2\\xb77\\xa3c\\x84]Yf\\x97GVv\\xdd\\xe5\\xc4\\x19\\x1d\\x8di`\\x85\\xf6>\\xc6\\x14\\x9d\\xa2\\x11\\xc6\\xde\\xe3\\xfb\\x0e\\x06\\r\\x96X6\\xcfI?\\x08!\\xab\\xecaW`=@v\\xac\\xaa\\xeb\\x18\\x0bh\\x93T_\\xb3\\x9a\"\\xf7\\x89\\xb0B\\xb6\\x87\\x03\\xb6\\x86Ow\\xb6\\x94xf(\\x8e\\x10_\\xa7\\xf9\\x00\\xbcn\\xda\\xbc\\rU\\xce\\x99J\\x0f\\xe9pb\\x02\\x0f\\x08\\xb4\\x7f\\x10/N\\xa3\\x1c\\n\\xd0a\\x04\\xf7Z\\xadG!\\xb2j\\x97\\xba\\x16\\xeex\\x9dq\\xcb\\x7f\\x17\\xb9\\xc7\\xe0\\xbe<\\xb6h\\\\\\xe0\\xbe\\x04\\x19|i\\x19H\\xec\\xa6\\xcc\\x07m\\xd3G\\xd4\\xda \\x0f\\x98>\\x82\\x06\\xc3\\x95nA\\xc4r\\x7f.\\xa2\\xea\\xaa\\x16\\x9b:\\xe5\\xc6\\xf6M\\x9b\\xbb\\x01\\x1a#\\xab\\xdf\\x89H|n\\xf3\\xb3\\xd4\\xf6\\x94\\xff\\x9d\\xb6\\xc7q7\\\\O\\xc3\\xe3Vl\\xa5\\xacK\\xb6:\\xebR\\xca\\xdeR\\x83\\xb3\\x0e\\xf7\\x1flkZh\\x1a\\x1fa\\xa8$\\xab9\\xeb\\xa6\\xab\\xb9\\xe9j\\xfc\\xff}W\\xb3\\xee^\\xbe\\xe9e\\xd6u\\x1c7\\xbd\\x8c\\x0f=\\xc6M/3\\x9f\\xac\\\\O/\\x93\\xb7/\\xd0\\xd9\\xa8iG:\\xe5\\xd13\\x9fh\\xed\\xc8gL(\\xed\\xc9\\x19\\xc5\\xfbBO}\\x04<\\xd1\\x8c:\\xb0\\xa8\\xe4\\xf4\\xb8\\x13g#\\xc0$\\x84\\xaf\\xaa\\xcc\\xc1\\x06\\x16.\\xe0H\\xcbx\\x9c\\xc9\\xcf\\x89\\x0c{!J`4T\\xf4\\x95\\x92@\\xccU\\x07\\xc2K\\x98\\x80\\x89\\x91^v\\xeaVx:\\x8d\\xbal\\x94N:\\x8bE5\\xd5L+\\xab@2_/\\x94\\xb3u\\x98R\\xc9\\x14]\\xa9\\xe6\\xd3\\xbbL\\xbdf\\x1b\\xe8)\\xeb\\x82\\x80\\x92\\xbd\\x0c\\tc3\\x9b\\xc4\\x96\\x83Du\\xb1\\xa8\\x8c\\xa4g\\xba`4\\x07\\t}\\xb2kaQs\\xb0\\xb8\\xad\\xd4/\\\\\\xb5\\xc2\\x02\\xa8e^\\x81Gn\\x0f\\x1e\\xd4\\xeb~\\xb9\\x04\" \\x04\\xc38h\\xcfG\\xcaO\\xa9\\xab\\x17\\xde\\xd5\\xce\\xbcNO\\xaf3\\xa6\\x15\\x01\\xd0b/\" \\xf7tMq]{<u\\xba4\\xd4.\\xe0i\\x8b\\x84\\x11n6\\tm\\x19\\xdd\\xe0\\x89\\x10\\x1e\\x84\\xe7\\xd1\\xa9V/B\\xe3\\xb2\\xbe\\xae\\xe5.\\xb5\\xe8)S\\xe8\\xfd \\xb4r\\x1a\\xd5\\xdb\\x1fbqU_\\x83\\xdcrn\\xa0\\xb1\\x99)h\\xec\\x9d\\xd6\\xfd\\xcaV\\x19Bf\\x88\\x92\\xba?\\x86\\x891|\\x8d\\x12\\x88\\x1d\\xa1\\x9e\\xba\\x10\\r\\xe0\\xb5\\xcbP\\xf2\\xf4\\x86\\xbfJfI\\xb8\\x90-$\\xc2\\xd4\\xe0:\\xe9\\xa4\\xd9 \"\\x12s\\x8f\\x92\\xa8\\xee\\xab\\xe3gn\\xa0\\xb1\\xce!\\x9a[q\\x13\\x12\\xc2GK\\xae\\x06i\\xe5c#\\x07N\\xb7\\x9d\\x8c\\xc7c<\\x94\\xa6\\xdb\\x8d\\x15e\\xe9\\xf4\\x122|\\x9a+\\x9c\\xbfj\\xf1\\xab\\x83\\x95$\\x9b\\x82\\xbb{\\xe1\\xe8\\xd4\\x1b\\xd0)\\x7f\\x84 \\xc4\\xca\\xd5\\xa22\\xe0\\x88\\x08xqPL\\xad9\"\\xf0&,Kdy\\xfc-\\x15\\xa6y\\xda5_E\\xe9\\x18J\\xd7\\x11MB4\\xaf(f2O\\xe1:\\x95gt\\xf4Uf\\x03\\xe3j~f0\\xa8a\\x92y!\\x1c\\x04\\xaa\\xc0\\x9aF\\xb5\\xaaiV5R\\x0ek\\xab\\xee\\xf9B\\xcarF\\xd2\\xcck\\xa6\\x95UT\\xd5tg1k\\x87E\\x19X\\xb2\\xe5\\xd5\\x8a\\xbc\\xc1jab\\xc8if\\x85OS\\xf7r\\xca\\xad-r\\xddR\\x9f\\x90U\\t0xf?G\\xd5\\xbd@A0\\xa8\\xe5\\x9bY\\xd4\\x14\\xe3\\xd54\\xacr\\xf6|\\xd5\\xae\\x1d\\x8b\\x03\\x9eC\\xed\"E\\xc2\\xc8\\xfa\\x95\\x85\\xda%\\xbbe5\\xc2\\xb9\\x1d,^\\xa9\\xf2\\x83\\xdcr\\xd4\\xc2\\xd2x\\xd1WjK\\xebW\\xe6\\xe6[m68\\x86\\xe4\\xd1\\x82.wJ\\xa5\\xd0\\xae\\x84\\xd9.G\\xd0\\x10\\xf5tO\\x92\\xa5\\r-\\xba\\xf3\\x0f\\x00\\x00\\x00\\xff\\xff\\x03\\x00PK\\x03\\x04\\x14\\x00\\x06\\x00\\x08\\x00\\x00\\x00!\\x00\\r\\xd1\\x90\\x9f\\xb6\\x00\\x00\\x00\\x1b\\x01\\x00\\x00\\'\\x00\\x00\\x00theme/theme/_rels/themeManager.xml.rels\\x84\\x8fM\\n\\xc20\\x14\\x84\\xf7\\x82w\\x08oo\\xd3\\xba\\x10\\x91&\\xdd\\x88\\xd0\\xad\\xd4\\x03\\x84\\xe45\\r6?$Q\\xec\\xed\\r\\xae,\\x08.\\x87a\\xbe\\x99i\\xbb\\x97\\x9d\\xc9\\x13c2\\xde1h\\xaa\\x1a\\x08:\\xe9\\x95q\\x9a\\xc1m\\xb8\\xec\\x8e@R\\x16N\\x89\\xd9;d\\xb0`\\x82\\x8eo7\\xed\\x15g\\x91K(M&$R(.1\\x98r\\x0e\\'J\\x93\\x9c\\xd0\\x8aT\\xf9\\x80\\xae8\\xa3\\x8fV\\xe4\"\\xa3\\xa6A\\xc8\\xbb\\xd0H\\xf7u}\\xa0\\xf1\\x9b\\x01|\\xc5$\\xbdb\\x10{\\xd5\\x00\\x19\\x96P\\x9a\\xff\\xb3\\xfd8\\x1a\\x89g/\\x1f\\x16]\\xfeQAs\\xd9\\x85\\x05(\\xa2\\xc6\\xcc\\xe0#\\x9b\\xaaL\\x04\\xca[\\xba\\xba\\xc4\\xdf\\x00\\x00\\x00\\xff\\xff\\x03\\x00PK\\x01\\x02-\\x00\\x14\\x00\\x06\\x00\\x08\\x00\\x00\\x00!\\x00\\xe9\\xde\\x0f\\xbf\\xff\\x00\\x00\\x00\\x1c\\x02\\x00\\x00\\x13\\x00\\x00\\x00\\x00\\x00\\x00\\x00\\x00\\x00\\x00\\x00\\x00\\x00\\x00\\x00\\x00\\x00[Content_Types].xmlPK\\x01\\x02-\\x00\\x14\\x00\\x06\\x00\\x08\\x00\\x00\\x00!\\x00\\xa5\\xd6\\xa7\\xe7\\xc0\\x00\\x00\\x006\\x01\\x00\\x00\\x0b\\x00\\x00\\x00\\x00\\x00\\x00\\x00\\x00\\x00\\x00\\x00\\x00\\x000\\x01\\x00\\x00_rels/.relsPK\\x01\\x02-\\x00\\x14\\x00\\x06\\x00\\x08\\x00\\x00\\x00!\\x00ky\\x96\\x16\\x83\\x00\\x00\\x00\\x8a\\x00\\x00\\x00\\x1c\\x00\\x00\\x00\\x00\\x00\\x00\\x00\\x00\\x00\\x00\\x00\\x00\\x00\\x19\\x02\\x00\\x00theme/theme/themeManager.xmlPK\\x01\\x02-\\x00\\x14\\x00\\x06\\x00\\x08\\x00\\x00\\x00!\\x00N\\xd2m\\xd1\\xcf\\x06\\x00\\x00\\xb0\\x1f\\x00\\x00\\x16\\x00\\x00\\x00\\x00\\x00\\x00\\x00\\x00\\x00\\x00\\x00\\x00\\x00\\xd6\\x02\\x00\\x00theme/theme/theme1.xmlPK\\x01\\x02-\\x00\\x14\\x00\\x06\\x00\\x08\\x00\\x00\\x00!\\x00\\r\\xd1\\x90\\x9f\\xb6\\x00\\x00\\x00\\x1b\\x01\\x00\\x00\\'\\x00\\x00\\x00\\x00\\x00\\x00\\x00\\x00\\x00\\x00\\x00\\x00\\x00\\xd9\\t\\x00\\x00theme/theme/_rels/themeManager.xml.relsPK\\x05\\x06\\x00\\x00\\x00\\x00\\x05\\x00\\x05\\x00]\\x01\\x00\\x00\\xd4\\n\\x00\\x00\\x00\\x00\\x9b\\x08\\x10\\x00\\x9b\\x08\\x00\\x00\\x00\\x00\\x00\\x00\\x00\\x00\\x00\\x00\\x01\\x00\\x00\\x00\\x8c\\x08\\x10\\x00\\x8c\\x08\\x00\\x00\\x00\\x00\\x00\\x00\\x00\\x00\\x00\\x00\\x00\\x00\\x00\\x00\\n\\x00\\x00\\x00\\t\\x08\\x10\\x00\\x00\\x06\\x10\\x00ZO\\xcd\\x07\\xc9\\x00\\x02\\x00\\x06\\x08\\x00\\x00\\x0b\\x02$\\x00\\x00\\x00\\x00\\x00\\x00\\x00\\x00\\x00\\x97\\x00\\x00\\x00\\xd17\\x00\\x00)A\\x00\\x00\\xd5J\\x00\\x00\\x8fT\\x00\\x00-^\\x00\\x00/e\\x00\\x00\\r\\x00\\x02\\x00\\x01\\x00\\x0c\\x00\\x02\\x00d\\x00\\x0f\\x00\\x02\\x00\\x01\\x00\\x11\\x00\\x02\\x00\\x00\\x00\\x10\\x00\\x08\\x00\\xfc\\xa9\\xf1\\xd2MbP?_\\x00\\x02\\x00\\x01\\x00*\\x00\\x02\\x00\\x00\\x00+\\x00\\x02\\x00\\x00\\x00\\x82\\x00\\x02\\x00\\x01\\x00\\x80\\x00\\x08\\x00\\x00\\x00\\x00\\x00\\x00\\x00\\x00\\x00%\\x02\\x04\\x00\\x00\\x00\\xfa\\x00\\x81\\x00\\x02\\x00\\xc1\\x04\\x14\\x00\\x00\\x00\\x15\\x00\\x00\\x00\\x83\\x00\\x02\\x00\\x00\\x00\\x84\\x00\\x02\\x00\\x00\\x00&\\x00\\x08\\x00\\x00\\x00\\x00\\x00\\x00\\x00\\xe8?\\'\\x00\\x08\\x00\\x00\\x00\\x00\\x00\\x00\\x00\\xe8?(\\x00\\x08\\x00\\x00\\x00\\x00\\x00\\x00\\x00\\xf0?)\\x00\\x08\\x00\\x00\\x00\\x00\\x00\\x00\\x00\\xf0?\\xa1\\x00\"\\x00\\x00\\x00\\xfa\\x00\\x01\\x00\\x01\\x00\\x01\\x00\\x04\\x00\\r\\x8c\\x02\\x00\\x00\\x00\\x00\\x00\\x00\\x00\\xe0?\\x00\\x00\\x00\\x00\\x00\\x00\\xe0?\\x0f\\xbf\\x9c\\x08&\\x00\\x9c\\x08\\x00\\x00\\x00\\x00\\x00\\x00\\x00\\x00\\x00\\x00\\x00\\x00\\x00\\x00\\x00\\x00\\x00\\x00\\x00\\x00\\x00\\x00\\x00\\x00\\x00\\x00\\x04\\x00\\x00\\x00\\x00\\x00\\x00\\x00\\x00\\x00U\\x00\\x02\\x00\\x08\\x00}\\x00\\x0c\\x00\\x04\\x00\\x04\\x00\\xd1\\r\\x0f\\x00\\x02\\x00\\x00\\x00\\x00\\x02\\x0e\\x00\\x00\\x00\\x00\\x00\\x97\\x00\\x00\\x00\\x00\\x00\\x05\\x00\\x00\\x00\\x08\\x02\\x10\\x00\\x00\\x00\\x00\\x00\\x05\\x00\\xfa\\x00\\x00\\x00\\x00\\x00\\x00\\x01\\x0f\\x00\\x08\\x02\\x10\\x00\\x01\\x00\\x00\\x00\\x05\\x00\\xfa\\x00\\x00\\x00\\x00\\x00\\x00\\x01\\x0f\\x00\\x08\\x02\\x10\\x00\\x02\\x00\\x00\\x00\\x05\\x00\\xfa\\x00\\x00\\x00\\x00\\x00\\x00\\x01\\x0f\\x00\\x08\\x02\\x10\\x00\\x03\\x00\\x00\\x00\\x05\\x00\\xfa\\x00\\x00\\x00\\x00\\x00\\x00\\x01\\x0f\\x00\\x08\\x02\\x10\\x00\\x04\\x00\\x00\\x00\\x05\\x00\\xfa\\x00\\x00\\x00\\x00\\x00\\x00\\x01\\x0f\\x00\\x08\\x02\\x10\\x00\\x05\\x00\\x00\\x00\\x05\\x00\\xfa\\x00\\x00\\x00\\x00\\x00\\x00\\x01\\x0f\\x00\\x08\\x02\\x10\\x00\\x06\\x00\\x00\\x00\\x05\\x00\\xfa\\x00\\x00\\x00\\x00\\x00\\x00\\x01\\x0f\\x00\\x08\\x02\\x10\\x00\\x07\\x00\\x00\\x00\\x05\\x00\\xfa\\x00\\x00\\x00\\x00\\x00\\x00\\x01\\x0f\\x00\\x08\\x02\\x10\\x00\\x08\\x00\\x00\\x00\\x05\\x00\\xfa\\x00\\x00\\x00\\x00\\x00\\x00\\x01\\x0f\\x00\\x08\\x02\\x10\\x00\\t\\x00\\x00\\x00\\x05\\x00\\xfa\\x00\\x00\\x00\\x00\\x00\\x00\\x01\\x0f\\x00\\x08\\x02\\x10\\x00\\n\\x00\\x00\\x00\\x05\\x00\\xfa\\x00\\x00\\x00\\x00\\x00\\x00\\x01\\x0f\\x00\\x08\\x02\\x10\\x00\\x0b\\x00\\x00\\x00\\x05\\x00\\xfa\\x00\\x00\\x00\\x00\\x00\\x00\\x01\\x0f\\x00\\x08\\x02\\x10\\x00\\x0c\\x00\\x00\\x00\\x05\\x00\\xfa\\x00\\x00\\x00\\x00\\x00\\x00\\x01\\x0f\\x00\\x08\\x02\\x10\\x00\\r\\x00\\x00\\x00\\x05\\x00\\xfa\\x00\\x00\\x00\\x00\\x00\\x00\\x01\\x0f\\x00\\x08\\x02\\x10\\x00\\x0e\\x00\\x00\\x00\\x05\\x00\\xfa\\x00\\x00\\x00\\x00\\x00\\x00\\x01\\x0f\\x00\\x08\\x02\\x10\\x00\\x0f\\x00\\x00\\x00\\x05\\x00\\xfa\\x00\\x00\\x00\\x00\\x00\\x00\\x01\\x0f\\x00\\x08\\x02\\x10\\x00\\x10\\x00\\x00\\x00\\x05\\x00\\xfa\\x00\\x00\\x00\\x00\\x00\\x00\\x01\\x0f\\x00\\x08\\x02\\x10\\x00\\x11\\x00\\x00\\x00\\x05\\x00\\xfa\\x00\\x00\\x00\\x00\\x00\\x00\\x01\\x0f\\x00\\x08\\x02\\x10\\x00\\x12\\x00\\x00\\x00\\x05\\x00\\xfa\\x00\\x00\\x00\\x00\\x00\\x00\\x01\\x0f\\x00\\x08\\x02\\x10\\x00\\x13\\x00\\x00\\x00\\x05\\x00\\xfa\\x00\\x00\\x00\\x00\\x00\\x00\\x01\\x0f\\x00\\x08\\x02\\x10\\x00\\x14\\x00\\x00\\x00\\x05\\x00\\xfa\\x00\\x00\\x00\\x00\\x00\\x00\\x01\\x0f\\x00\\x08\\x02\\x10\\x00\\x15\\x00\\x00\\x00\\x05\\x00\\xfa\\x00\\x00\\x00\\x00\\x00\\x00\\x01\\x0f\\x00\\x08\\x02\\x10\\x00\\x16\\x00\\x00\\x00\\x05\\x00\\xfa\\x00\\x00\\x00\\x00\\x00\\x00\\x01\\x0f\\x00\\x08\\x02\\x10\\x00\\x17\\x00\\x00\\x00\\x05\\x00\\xfa\\x00\\x00\\x00\\x00\\x00\\x00\\x01\\x0f\\x00\\x08\\x02\\x10\\x00\\x18\\x00\\x00\\x00\\x05\\x00\\xfa\\x00\\x00\\x00\\x00\\x00\\x00\\x01\\x0f\\x00\\x08\\x02\\x10\\x00\\x19\\x00\\x00\\x00\\x05\\x00\\xfa\\x00\\x00\\x00\\x00\\x00\\x00\\x01\\x0f\\x00\\x08\\x02\\x10\\x00\\x1a\\x00\\x00\\x00\\x05\\x00\\xfa\\x00\\x00\\x00\\x00\\x00\\x00\\x01\\x0f\\x00\\x08\\x02\\x10\\x00\\x1b\\x00\\x00\\x00\\x05\\x00\\xfa\\x00\\x00\\x00\\x00\\x00\\x00\\x01\\x0f\\x00\\x08\\x02\\x10\\x00\\x1c\\x00\\x00\\x00\\x05\\x00\\xfa\\x00\\x00\\x00\\x00\\x00\\x00\\x01\\x0f\\x00\\x08\\x02\\x10\\x00\\x1d\\x00\\x00\\x00\\x05\\x00\\xfa\\x00\\x00\\x00\\x00\\x00\\x00\\x01\\x0f\\x00\\x08\\x02\\x10\\x00\\x1e\\x00\\x00\\x00\\x05\\x00\\xfa\\x00\\x00\\x00\\x00\\x00\\x00\\x01\\x0f\\x00\\x08\\x02\\x10\\x00\\x1f\\x00\\x00\\x00\\x05\\x00\\xfa\\x00\\x00\\x00\\x00\\x00\\x00\\x01\\x0f\\x00\\xfd\\x00\\n\\x00\\x00\\x00\\x00\\x00>\\x00\\x00\\x00\\x00\\x00\\xfd\\x00\\n\\x00\\x00\\x00\\x01\\x00>\\x00\\x01\\x00\\x00\\x00\\xfd\\x00\\n\\x00\\x00\\x00\\x02\\x00>\\x00\\x02\\x00\\x00\\x00\\xfd\\x00\\n\\x00\\x00\\x00\\x03\\x00>\\x00\\x03\\x00\\x00\\x00\\xfd\\x00\\n\\x00\\x00\\x00\\x04\\x00>\\x00\\x07\\x00\\x00\\x00\\x03\\x02\\x0e\\x00\\x01\\x00\\x00\\x00\\x0f\\x00ffffff\\x14@\\xbd\\x00\\x18\\x00\\x01\\x00\\x01\\x00\\x0f\\x00\\x00\\x00\\x0c@\\x0f\\x00\\x01\\x80a@\\x0f\\x00\\x01\\x004@\\x03\\x00\\xfd\\x00\\n\\x00\\x01\\x00\\x04\\x00\\x0f\\x00\\x04\\x00\\x00\\x00\\x03\\x02\\x0e\\x00\\x02\\x00\\x00\\x00\\x0f\\x00\\x9a\\x99\\x99\\x99\\x99\\x99\\x13@\\xbd\\x00\\x18\\x00\\x02\\x00\\x01\\x00\\x0f\\x00\\x00\\x00\\x08@\\x0f\\x00\\x01\\x80a@\\x0f\\x00\\x01\\x004@\\x03\\x00\\xfd\\x00\\n\\x00\\x02\\x00\\x04\\x00\\x0f\\x00\\x04\\x00\\x00\\x00\\xbd\\x00\\x18\\x00\\x03\\x00\\x01\\x00\\x0f\\x00\\x01\\x00t@\\x0f\\x00\\x01@`@\\x0f\\x00\\x01\\x004@\\x03\\x00\\xfd\\x00\\n\\x00\\x03\\x00\\x04\\x00\\x0f\\x00\\x04\\x00\\x00\\x00\\x03\\x02\\x0e\\x00\\x04\\x00\\x00\\x00\\x0f\\x00ffffff\\x12@\\xbd\\x00\\x18\\x00\\x04\\x00\\x01\\x00\\x0f\\x00\\x01`s@\\x0f\\x00\\x00\\x00\\xf8?\\x0f\\x00\\x01\\x004@\\x03\\x00\\xfd\\x00\\n\\x00\\x04\\x00\\x04\\x00\\x0f\\x00\\x04\\x00\\x00\\x00\\xbd\\x00\\x1e\\x00\\x05\\x00\\x00\\x00\\x0f\\x00\\x00\\x00\\x14@\\x0f\\x00\\x01\\x80v@\\x0f\\x00\\x01\\x80a@\\x0f\\x00\\x01\\x004@\\x03\\x00\\xfd\\x00\\n\\x00\\x05\\x00\\x04\\x00\\x0f\\x00\\x04\\x00\\x00\\x00\\xbd\\x00\\x1e\\x00\\x06\\x00\\x00\\x00\\x0f\\x00\\x01\\xe0\\x80@\\x0f\\x00\\x01`x@\\x0f\\x00\\x01@e@\\x0f\\x00\\x01\\x00D@\\x03\\x00\\xfd\\x00\\n\\x00\\x06\\x00\\x04\\x00\\x0f\\x00\\x04\\x00\\x00\\x00\\x03\\x02\\x0e\\x00\\x07\\x00\\x00\\x00\\x0f\\x00ffffff\\x12@\\xbd\\x00\\x18\\x00\\x07\\x00\\x01\\x00\\x0f\\x00\\x01@u@\\x0f\\x00\\x01\\x80a@\\x0f\\x00\\x01\\x00>@\\x03\\x00\\xfd\\x00\\n\\x00\\x07\\x00\\x04\\x00\\x0f\\x00\\x04\\x00\\x00\\x00\\xbd\\x00\\x1e\\x00\\x08\\x00\\x00\\x00\\x0f\\x00\\x00\\x00\\x14@\\x0f\\x00\\x01@u@\\x0f\\x00\\x00\\x00\\xf8?\\x0f\\x00\\x01\\x004@\\x03\\x00\\xfd\\x00\\n\\x00\\x08\\x00\\x04\\x00\\x0f\\x00\\x04\\x00\\x00\\x00\\x03\\x02\\x0e\\x00\\t\\x00\\x00\\x00\\x0f\\x00\\x9a\\x99\\x99\\x99\\x99\\x99\\x11@\\xbd\\x00\\x18\\x00\\t\\x00\\x01\\x00\\x0f\\x00\\x01 r@\\x0f\\x00\\x01\\x80a@\\x0f\\x00\\x01\\x004@\\x03\\x00\\xfd\\x00\\n\\x00\\t\\x00\\x04\\x00\\x0f\\x00\\x04\\x00\\x00\\x00\\x03\\x02\\x0e\\x00\\n\\x00\\x00\\x00\\x0f\\x00\\x9a\\x99\\x99\\x99\\x99\\x99\\x13@\\xbd\\x00\\x18\\x00\\n\\x00\\x01\\x00\\x0f\\x00\\x01`s@\\x0f\\x00\\x00\\x00\\xf8?\\x0f\\x00\\x01\\x00$@\\x03\\x00\\xfd\\x00\\n\\x00\\n\\x00\\x04\\x00\\x0f\\x00\\x04\\x00\\x00\\x00~\\x02\\n\\x00\\x0b\\x00\\x00\\x00\\x0f\\x00\\x01\\xe0\\x80@\\xbd\\x00\\x12\\x00\\x0b\\x00\\x02\\x00\\x0f\\x00\\x00\\x00\\xf8?\\x0f\\x00\\x01\\x004@\\x03\\x00\\xfd\\x00\\n\\x00\\x0b\\x00\\x04\\x00\\x0f\\x00\\x04\\x00\\x00\\x00\\xbd\\x00\\x1e\\x00\\x0c\\x00\\x00\\x00\\x0f\\x00\\x01\\x00~@\\x0f\\x00\\x01@u@\\x0f\\x00\\x01\\x00d@\\x0f\\x00\\x01\\x004@\\x03\\x00\\xfd\\x00\\n\\x00\\x0c\\x00\\x04\\x00\\x0f\\x00\\x04\\x00\\x00\\x00\\xbd\\x00\\x1e\\x00\\r\\x00\\x00\\x00\\x0f\\x00\\x01\\x00~@\\x0f\\x00\\x00\\x00\\x08@\\x0f\\x00\\x01\\x80a@\\x0f\\x00\\x01\\x00$@\\x03\\x00\\xfd\\x00\\n\\x00\\r\\x00\\x04\\x00\\x0f\\x00\\x04\\x00\\x00\\x00\\xbd\\x00\\x12\\x00\\x0e\\x00\\x00\\x00\\x0f\\x00\\x01\\xe0z@\\x0f\\x00\\x00\\x00\\x08@\\x01\\x00\\x03\\x02\\x0e\\x00\\x0e\\x00\\x02\\x00\\x0f\\x00\\x9a\\x99\\x99\\x99\\x99\\x99\\xf1?~\\x02\\n\\x00\\x0e\\x00\\x03\\x00\\x0f\\x00\\x01\\x00$@\\xfd\\x00\\n\\x00\\x0e\\x00\\x04\\x00\\x0f\\x00\\x04\\x00\\x00\\x00\\xbd\\x00\\x1e\\x00\\x0f\\x00\\x00\\x00\\x0f\\x00\\x01 \\x82@\\x0f\\x00\\x00\\x00\\x10@\\x0f\\x00\\x01\\x00^@\\x0f\\x00\\x01\\x004@\\x03\\x00\\xfd\\x00\\n\\x00\\x0f\\x00\\x04\\x00\\x0f\\x00\\x04\\x00\\x00\\x00~\\x02\\n\\x00\\x10\\x00\\x00\\x00\\x0f\\x00\\x01\\xd0\\x81@\\x03\\x02\\x0e\\x00\\x10\\x00\\x01\\x00\\x0f\\x00\\x9a\\x99\\x99\\x99\\x99\\x99\\x11@\\xbd\\x00\\x12\\x00\\x10\\x00\\x02\\x00\\x0f\\x00\\x00\\x00\\xf8?\\x0f\\x00\\x01\\x00D@\\x03\\x00\\xfd\\x00\\n\\x00\\x10\\x00\\x04\\x00\\x0f\\x00\\x04\\x00\\x00\\x00\\xbd\\x00\\x1e\\x00\\x11\\x00\\x00\\x00\\x0f\\x00\\x01\\xe0\\x80@\\x0f\\x00\\x01`x@\\x0f\\x00\\x01@`@\\x0f\\x00\\x01\\x00D@\\x03\\x00\\xfd\\x00\\n\\x00\\x11\\x00\\x04\\x00\\x0f\\x00\\x04\\x00\\x00\\x00\\x03\\x02\\x0e\\x00\\x12\\x00\\x00\\x00\\x0f\\x00ffffff\\x14@\\xbd\\x00\\x18\\x00\\x12\\x00\\x01\\x00\\x0f\\x00\\x00\\x00\\x0c@\\x0f\\x00\\x01\\x80a@\\x0f\\x00\\x01\\x00>@\\x03\\x00\\xfd\\x00\\n\\x00\\x12\\x00\\x04\\x00\\x0f\\x00\\x04\\x00\\x00\\x00\\xbd\\x00\\x1e\\x00\\x13\\x00\\x00\\x00\\x0f\\x00\\x01\\xd0\\x81@\\x0f\\x00\\x01\\xc0w@\\x0f\\x00\\x01@e@\\x0f\\x00\\x01\\x00>@\\x03\\x00\\xfd\\x00\\n\\x00\\x13\\x00\\x04\\x00\\x0f\\x00\\x04\\x00\\x00\\x00\\x03\\x02\\x0e\\x00\\x14\\x00\\x00\\x00\\x0f\\x00ffffff\\x14@\\xbd\\x00\\x18\\x00\\x14\\x00\\x01\\x00\\x0f\\x00\\x01\\xc0w@\\x0f\\x00\\x00\\x00\\xf8?\\x0f\\x00\\x01\\x00>@\\x03\\x00\\xfd\\x00\\n\\x00\\x14\\x00\\x04\\x00\\x0f\\x00\\x04\\x00\\x00\\x00\\xbd\\x00\\x1e\\x00\\x15\\x00\\x00\\x00\\x0f\\x00\\x01\\xe0\\x80@\\x0f\\x00\\x01@u@\\x0f\\x00\\x01@e@\\x0f\\x00\\x01\\x004@\\x03\\x00\\xfd\\x00\\n\\x00\\x15\\x00\\x04\\x00\\x0f\\x00\\x04\\x00\\x00\\x00\\xbd\\x00\\x18\\x00\\x16\\x00\\x01\\x00\\x0f\\x00\\x01 w@\\x0f\\x00\\x00\\x00\\xf8?\\x0f\\x00\\x01\\x00D@\\x03\\x00\\xfd\\x00\\n\\x00\\x16\\x00\\x04\\x00\\x0f\\x00\\x04\\x00\\x00\\x00\\x03\\x02\\x0e\\x00\\x17\\x00\\x00\\x00\\x0f\\x00ffffff\\x12@\\xbd\\x00\\x18\\x00\\x17\\x00\\x01\\x00\\x0f\\x00\\x01\\x80v@\\x0f\\x00\\x00\\x00\\xf0?\\x0f\\x00\\x01\\x004@\\x03\\x00\\xfd\\x00\\n\\x00\\x17\\x00\\x04\\x00\\x0f\\x00\\x04\\x00\\x00\\x00\\x03\\x02\\x0e\\x00\\x18\\x00\\x00\\x00\\x0f\\x00ffffff\\x14@\\xbd\\x00\\x18\\x00\\x18\\x00\\x01\\x00\\x0f\\x00\\x01\\xa0t@\\x0f\\x00\\x01@e@\\x0f\\x00\\x00\\x00\\xe0?\\x03\\x00\\xfd\\x00\\n\\x00\\x18\\x00\\x04\\x00\\x0f\\x00\\x04\\x00\\x00\\x00\\xbd\\x00\\x1e\\x00\\x19\\x00\\x00\\x00\\x0f\\x00\\x01\\x00~@\\x0f\\x00\\x01@u@\\x0f\\x00\\x01\\xc0g@\\x0f\\x00\\x01\\x004@\\x03\\x00\\xfd\\x00\\n\\x00\\x19\\x00\\x04\\x00\\x0f\\x00\\x04\\x00\\x00\\x00\\xbd\\x00\\x1e\\x00\\x1a\\x00\\x00\\x00\\x0f\\x00\\x00\\x00\\x14@\\x0f\\x00\\x00\\x00\\x08@\\x0f\\x00\\x01\\x00d@\\x0f\\x00\\x01\\x004@\\x03\\x00\\xfd\\x00\\n\\x00\\x1a\\x00\\x04\\x00\\x0f\\x00\\x04\\x00\\x00\\x00\\xbd\\x00\\x1e\\x00\\x1b\\x00\\x00\\x00\\x0f\\x00\\x00\\x00\\x14@\\x0f\\x00\\x01@u@\\x0f\\x00\\x01\\x00d@\\x0f\\x00\\x01\\x00D@\\x03\\x00\\xfd\\x00\\n\\x00\\x1b\\x00\\x04\\x00\\x0f\\x00\\x04\\x00\\x00\\x00~\\x02\\n\\x00\\x1c\\x00\\x00\\x00\\x0f\\x00\\x01@\\x80@\\xbd\\x00\\x12\\x00\\x1c\\x00\\x02\\x00\\x0f\\x00\\x00\\x00\\xf8?\\x0f\\x00\\x01\\x004@\\x03\\x00\\xfd\\x00\\n\\x00\\x1c\\x00\\x04\\x00\\x0f\\x00\\x04\\x00\\x00\\x00\\xbd\\x00\\x12\\x00\\x1d\\x00\\x00\\x00\\x0f\\x00\\x01@\\x80@\\x0f\\x00\\x01@u@\\x01\\x00~\\x02\\n\\x00\\x1d\\x00\\x03\\x00\\x0f\\x00\\x01\\x004@\\xfd\\x00\\n\\x00\\x1d\\x00\\x04\\x00\\x0f\\x00\\x04\\x00\\x00\\x00\\xbd\\x00\\x1e\\x00\\x1e\\x00\\x00\\x00\\x0f\\x00\\x01`}@\\x0f\\x00\\x01\\x00t@\\x0f\\x00\\x01\\x00d@\\x0f\\x00\\x01\\x004@\\x03\\x00\\xfd\\x00\\n\\x00\\x1e\\x00\\x04\\x00\\x0f\\x00\\x04\\x00\\x00\\x00\\xbd\\x00\\x1e\\x00\\x1f\\x00\\x00\\x00\\x0f\\x00\\x01\\x00~@\\x0f\\x00\\x01`s@\\x0f\\x00\\x01\\x00d@\\x0f\\x00\\x01\\x004@\\x03\\x00\\xfd\\x00\\n\\x00\\x1f\\x00\\x04\\x00\\x0f\\x00\\x04\\x00\\x00\\x00\\xd7\\x00D\\x000\\t\\x00\\x00l\\x02F\\x00<\\x00<\\x00*\\x00<\\x000\\x000\\x00<\\x000\\x00<\\x00<\\x002\\x000\\x000\\x00D\\x000\\x00D\\x000\\x00<\\x000\\x00<\\x000\\x00*\\x00<\\x00<\\x000\\x000\\x000\\x002\\x002\\x000\\x00\\x08\\x02\\x10\\x00 \\x00\\x00\\x00\\x05\\x00\\xfa\\x00\\x00\\x00\\x00\\x00\\x00\\x01\\x0f\\x00\\x08\\x02\\x10\\x00!\\x00\\x00\\x00\\x05\\x00\\xfa\\x00\\x00\\x00\\x00\\x00\\x00\\x01\\x0f\\x00\\x08\\x02\\x10\\x00\"\\x00\\x00\\x00\\x05\\x00\\xfa\\x00\\x00\\x00\\x00\\x00\\x00\\x01\\x0f\\x00\\x08\\x02\\x10\\x00#\\x00\\x00\\x00\\x05\\x00\\xfa\\x00\\x00\\x00\\x00\\x00\\x00\\x01\\x0f\\x00\\x08\\x02\\x10\\x00$\\x00\\x00\\x00\\x05\\x00\\xfa\\x00\\x00\\x00\\x00\\x00\\x00\\x01\\x0f\\x00\\x08\\x02\\x10\\x00%\\x00\\x00\\x00\\x05\\x00\\xfa\\x00\\x00\\x00\\x00\\x00\\x00\\x01\\x0f\\x00\\x08\\x02\\x10\\x00&\\x00\\x00\\x00\\x05\\x00\\xfa\\x00\\x00\\x00\\x00\\x00\\x00\\x01\\x0f\\x00\\x08\\x02\\x10\\x00\\'\\x00\\x00\\x00\\x05\\x00\\xfa\\x00\\x00\\x00\\x00\\x00\\x00\\x01\\x0f\\x00\\x08\\x02\\x10\\x00(\\x00\\x00\\x00\\x05\\x00\\xfa\\x00\\x00\\x00\\x00\\x00\\x00\\x01\\x0f\\x00\\x08\\x02\\x10\\x00)\\x00\\x00\\x00\\x05\\x00\\xfa\\x00\\x00\\x00\\x00\\x00\\x00\\x01\\x0f\\x00\\x08\\x02\\x10\\x00*\\x00\\x00\\x00\\x05\\x00\\xfa\\x00\\x00\\x00\\x00\\x00\\x00\\x01\\x0f\\x00\\x08\\x02\\x10\\x00+\\x00\\x00\\x00\\x05\\x00\\xfa\\x00\\x00\\x00\\x00\\x00\\x00\\x01\\x0f\\x00\\x08\\x02\\x10\\x00,\\x00\\x00\\x00\\x05\\x00\\xfa\\x00\\x00\\x00\\x00\\x00\\x00\\x01\\x0f\\x00\\x08\\x02\\x10\\x00-\\x00\\x00\\x00\\x05\\x00\\xfa\\x00\\x00\\x00\\x00\\x00\\x00\\x01\\x0f\\x00\\x08\\x02\\x10\\x00.\\x00\\x00\\x00\\x05\\x00\\xfa\\x00\\x00\\x00\\x00\\x00\\x00\\x01\\x0f\\x00\\x08\\x02\\x10\\x00/\\x00\\x00\\x00\\x05\\x00\\xfa\\x00\\x00\\x00\\x00\\x00\\x00\\x01\\x0f\\x00\\x08\\x02\\x10\\x000\\x00\\x00\\x00\\x05\\x00\\xfa\\x00\\x00\\x00\\x00\\x00\\x00\\x01\\x0f\\x00\\x08\\x02\\x10\\x001\\x00\\x00\\x00\\x05\\x00\\xfa\\x00\\x00\\x00\\x00\\x00\\x00\\x01\\x0f\\x00\\x08\\x02\\x10\\x002\\x00\\x00\\x00\\x05\\x00\\xfa\\x00\\x00\\x00\\x00\\x00\\x00\\x01\\x0f\\x00\\x08\\x02\\x10\\x003\\x00\\x00\\x00\\x05\\x00\\xfa\\x00\\x00\\x00\\x00\\x00\\x00\\x01\\x0f\\x00\\x08\\x02\\x10\\x004\\x00\\x00\\x00\\x05\\x00\\xfa\\x00\\x00\\x00\\x00\\x00\\x00\\x01\\x0f\\x00\\x08\\x02\\x10\\x005\\x00\\x00\\x00\\x05\\x00\\xfa\\x00\\x00\\x00\\x00\\x00\\x00\\x01\\x0f\\x00\\x08\\x02\\x10\\x006\\x00\\x00\\x00\\x05\\x00\\xfa\\x00\\x00\\x00\\x00\\x00\\x00\\x01\\x0f\\x00\\x08\\x02\\x10\\x007\\x00\\x00\\x00\\x05\\x00\\xfa\\x00\\x00\\x00\\x00\\x00\\x00\\x01\\x0f\\x00\\x08\\x02\\x10\\x008\\x00\\x00\\x00\\x05\\x00\\xfa\\x00\\x00\\x00\\x00\\x00\\x00\\x01\\x0f\\x00\\x08\\x02\\x10\\x009\\x00\\x00\\x00\\x05\\x00\\xfa\\x00\\x00\\x00\\x00\\x00\\x00\\x01\\x0f\\x00\\x08\\x02\\x10\\x00:\\x00\\x00\\x00\\x05\\x00\\xfa\\x00\\x00\\x00\\x00\\x00\\x00\\x01\\x0f\\x00\\x08\\x02\\x10\\x00;\\x00\\x00\\x00\\x05\\x00\\xfa\\x00\\x00\\x00\\x00\\x00\\x00\\x01\\x0f\\x00\\x08\\x02\\x10\\x00<\\x00\\x00\\x00\\x05\\x00\\xfa\\x00\\x00\\x00\\x00\\x00\\x00\\x01\\x0f\\x00\\x08\\x02\\x10\\x00=\\x00\\x00\\x00\\x05\\x00\\xfa\\x00\\x00\\x00\\x00\\x00\\x00\\x01\\x0f\\x00\\x08\\x02\\x10\\x00>\\x00\\x00\\x00\\x05\\x00\\xfa\\x00\\x00\\x00\\x00\\x00\\x00\\x01\\x0f\\x00\\x08\\x02\\x10\\x00?\\x00\\x00\\x00\\x05\\x00\\xfa\\x00\\x00\\x00\\x00\\x00\\x00\\x01\\x0f\\x00\\xbd\\x00\\x1e\\x00 \\x00\\x00\\x00\\x0f\\x00\\x01\\xe0\\x80@\\x0f\\x00\\x01@u@\\x0f\\x00\\x00\\x00\\xf8?\\x0f\\x00\\x01\\x00D@\\x03\\x00\\xfd\\x00\\n\\x00 \\x00\\x04\\x00\\x0f\\x00\\x04\\x00\\x00\\x00~\\x02\\n\\x00!\\x00\\x00\\x00\\x0f\\x00\\x01@\\x80@\\x03\\x02\\x0e\\x00!\\x00\\x01\\x00\\x0f\\x00ffffff\\x10@\\xbd\\x00\\x12\\x00!\\x00\\x02\\x00\\x0f\\x00\\x00\\x00\\xf8?\\x0f\\x00\\x01\\x00$@\\x03\\x00\\xfd\\x00\\n\\x00!\\x00\\x04\\x00\\x0f\\x00\\x04\\x00\\x00\\x00\\xbd\\x00\\x1e\\x00\"\\x00\\x00\\x00\\x0f\\x00\\x00\\x00\\x16@\\x0f\\x00\\x01@z@\\x0f\\x00\\x01\\x80a@\\x0f\\x00\\x01\\x004@\\x03\\x00\\xfd\\x00\\n\\x00\"\\x00\\x04\\x00\\x0f\\x00\\x04\\x00\\x00\\x00\\x03\\x02\\x0e\\x00#\\x00\\x00\\x00\\x0f\\x00\\x9a\\x99\\x99\\x99\\x99\\x99\\x13@\\xbd\\x00\\x18\\x00#\\x00\\x01\\x00\\x0f\\x00\\x01`s@\\x0f\\x00\\x00\\x00\\xf8?\\x0f\\x00\\x01\\x00$@\\x03\\x00\\xfd\\x00\\n\\x00#\\x00\\x04\\x00\\x0f\\x00\\x04\\x00\\x00\\x00\\xbd\\x00\\x1e\\x00$\\x00\\x00\\x00\\x0f\\x00\\x00\\x00\\x14@\\x0f\\x00\\x01\\x00t@\\x0f\\x00\\x01\\x00^@\\x0f\\x00\\x01\\x004@\\x03\\x00\\xfd\\x00\\n\\x00$\\x00\\x04\\x00\\x0f\\x00\\x04\\x00\\x00\\x00\\xbd\\x00\\x1e\\x00%\\x00\\x00\\x00\\x0f\\x00\\x00\\x00\\x16@\\x0f\\x00\\x00\\x00\\x0c@\\x0f\\x00\\x01@`@\\x0f\\x00\\x01\\x004@\\x03\\x00\\xfd\\x00\\n\\x00%\\x00\\x04\\x00\\x0f\\x00\\x04\\x00\\x00\\x00\\x03\\x02\\x0e\\x00&\\x00\\x00\\x00\\x0f\\x00\\x9a\\x99\\x99\\x99\\x99\\x99\\x13@\\xbd\\x00\\x18\\x00&\\x00\\x01\\x00\\x0f\\x00\\x01`s@\\x0f\\x00\\x00\\x00\\xf8?\\x0f\\x00\\x01\\x00$@\\x03\\x00\\xfd\\x00\\n\\x00&\\x00\\x04\\x00\\x0f\\x00\\x04\\x00\\x00\\x00\\x03\\x02\\x0e\\x00\\'\\x00\\x00\\x00\\x0f\\x00\\x9a\\x99\\x99\\x99\\x99\\x99\\x11@\\xbd\\x00\\x18\\x00\\'\\x00\\x01\\x00\\x0f\\x00\\x00\\x00\\x08@\\x0f\\x00\\x01@`@\\x0f\\x00\\x01\\x004@\\x03\\x00\\xfd\\x00\\n\\x00\\'\\x00\\x04\\x00\\x0f\\x00\\x04\\x00\\x00\\x00\\xbd\\x00\\x18\\x00(\\x00\\x01\\x00\\x0f\\x00\\x01@u@\\x0f\\x00\\x00\\x00\\xf8?\\x0f\\x00\\x01\\x004@\\x03\\x00\\xfd\\x00\\n\\x00(\\x00\\x04\\x00\\x0f\\x00\\x04\\x00\\x00\\x00\\xbd\\x00\\x1e\\x00)\\x00\\x00\\x00\\x0f\\x00\\x00\\x00\\x14@\\x0f\\x00\\x00\\x00\\x0c@\\x0f\\x00\\x01@`@\\x0f\\x00\\x01\\x00>@\\x03\\x00\\xfd\\x00\\n\\x00)\\x00\\x04\\x00\\x0f\\x00\\x04\\x00\\x00\\x00~\\x02\\n\\x00*\\x00\\x00\\x00\\x0f\\x00\\x00\\x00\\x12@\\x03\\x02\\x0e\\x00*\\x00\\x01\\x00\\x0f\\x00ffffff\\x02@\\xbd\\x00\\x12\\x00*\\x00\\x02\\x00\\x0f\\x00\\x01@`@\\x0f\\x00\\x01\\x00>@\\x03\\x00\\xfd\\x00\\n\\x00*\\x00\\x04\\x00\\x0f\\x00\\x04\\x00\\x00\\x00\\x03\\x02\\x0e\\x00+\\x00\\x00\\x00\\x0f\\x00\\x9a\\x99\\x99\\x99\\x99\\x99\\x11@~\\x02\\n\\x00+\\x00\\x01\\x00\\x0f\\x00\\x01\\x00t@~\\x02\\n\\x00+\\x00\\x03\\x00\\x0f\\x00\\x01\\x004@\\xfd\\x00\\n\\x00+\\x00\\x04\\x00\\x0f\\x00\\x04\\x00\\x00\\x00~\\x02\\n\\x00,\\x00\\x00\\x00\\x0f\\x00\\x00\\x00\\x14@\\xbd\\x00\\x12\\x00,\\x00\\x02\\x00\\x0f\\x00\\x01\\x00d@\\x0f\\x00\\x01\\x00N@\\x03\\x00\\xfd\\x00\\n\\x00,\\x00\\x04\\x00\\x0f\\x00\\x04\\x00\\x00\\x00\\x03\\x02\\x0e\\x00-\\x00\\x00\\x00\\x0f\\x00ffffff\\x14@\\xbd\\x00\\x18\\x00-\\x00\\x01\\x00\\x0f\\x00\\x01\\xc0w@\\x0f\\x00\\x01\\xc0g@\\x0f\\x00\\x01\\x00D@\\x03\\x00\\xfd\\x00\\n\\x00-\\x00\\x04\\x00\\x0f\\x00\\x04\\x00\\x00\\x00\\xbd\\x00\\x1e\\x00.\\x00\\x00\\x00\\x0f\\x00\\x01\\x00~@\\x0f\\x00\\x00\\x00\\x08@\\x0f\\x00\\x01\\x80a@\\x0f\\x00\\x01\\x00>@\\x03\\x00\\xfd\\x00\\n\\x00.\\x00\\x04\\x00\\x0f\\x00\\x04\\x00\\x00\\x00\\x03\\x02\\x0e\\x00/\\x00\\x00\\x00\\x0f\\x00ffffff\\x14@\\xbd\\x00\\x18\\x00/\\x00\\x01\\x00\\x0f\\x00\\x01\\xc0w@\\x0f\\x00\\x01\\x00d@\\x0f\\x00\\x01\\x004@\\x03\\x00\\xfd\\x00\\n\\x00/\\x00\\x04\\x00\\x0f\\x00\\x04\\x00\\x00\\x00\\x03\\x02\\x0e\\x000\\x00\\x00\\x00\\x0f\\x00ffffff\\x12@\\xbd\\x00\\x18\\x000\\x00\\x01\\x00\\x0f\\x00\\x01\\x00t@\\x0f\\x00\\x01\\x80a@\\x0f\\x00\\x01\\x004@\\x03\\x00\\xfd\\x00\\n\\x000\\x00\\x04\\x00\\x0f\\x00\\x04\\x00\\x00\\x00\\xbd\\x00\\x1e\\x001\\x00\\x00\\x00\\x0f\\x00\\x01\\x90\\x80@\\x0f\\x00\\x01 w@\\x0f\\x00\\x00\\x00\\xf8?\\x0f\\x00\\x01\\x004@\\x03\\x00\\xfd\\x00\\n\\x001\\x00\\x04\\x00\\x0f\\x00\\x04\\x00\\x00\\x00\\xbd\\x00\\x1e\\x002\\x00\\x00\\x00\\x0f\\x00\\x00\\x00\\x14@\\x0f\\x00\\x01\\xa0t@\\x0f\\x00\\x01\\x80a@\\x0f\\x00\\x01\\x004@\\x03\\x00\\xfd\\x00\\n\\x002\\x00\\x04\\x00\\x0f\\x00\\x04\\x00\\x00\\x00\\xbd\\x00\\x1e\\x003\\x00\\x00\\x00\\x0f\\x00\\x00\\x00\\x1c@\\x0f\\x00\\x01\\x00t@\\x0f\\x00\\x01`}@\\x0f\\x00\\x01\\x80a@\\x03\\x00\\xfd\\x00\\n\\x003\\x00\\x04\\x00\\x0f\\x00\\x05\\x00\\x00\\x00\\xbd\\x00\\x18\\x004\\x00\\x01\\x00\\x0f\\x00\\x01\\x00t@\\x0f\\x00\\x00\\x00\\x12@\\x0f\\x00\\x00\\x00\\xf8?\\x03\\x00\\xfd\\x00\\n\\x004\\x00\\x04\\x00\\x0f\\x00\\x05\\x00\\x00\\x00\\xbd\\x00\\x12\\x005\\x00\\x00\\x00\\x0f\\x00\\x01\\x90\\x85@\\x0f\\x00\\x01`s@\\x01\\x00\\x03\\x02\\x0e\\x005\\x00\\x02\\x00\\x0f\\x00\\x9a\\x99\\x99\\x99\\x99\\x99\\x13@~\\x02\\n\\x005\\x00\\x03\\x00\\x0f\\x00\\x00\\x00\\xf8?\\xfd\\x00\\n\\x005\\x00\\x04\\x00\\x0f\\x00\\x05\\x00\\x00\\x00~\\x02\\n\\x006\\x00\\x00\\x00\\x0f\\x00\\x00\\x00\\x16@\\x03\\x02\\x0e\\x006\\x00\\x01\\x00\\x0f\\x00ffffff\\x02@\\xbd\\x00\\x12\\x006\\x00\\x02\\x00\\x0f\\x00\\x00\\x00\\x10@\\x0f\\x00\\x01@`@\\x03\\x00\\xfd\\x00\\n\\x006\\x00\\x04\\x00\\x0f\\x00\\x05\\x00\\x00\\x00\\xbd\\x00\\x12\\x007\\x00\\x00\\x00\\x0f\\x00\\x00\\x00\\x1a@\\x0f\\x00\\x01\\x80q@\\x01\\x00\\x03\\x02\\x0e\\x007\\x00\\x02\\x00\\x0f\\x00ffffff\\x12@~\\x02\\n\\x007\\x00\\x03\\x00\\x0f\\x00\\x00\\x00\\xf8?\\xfd\\x00\\n\\x007\\x00\\x04\\x00\\x0f\\x00\\x05\\x00\\x00\\x00\\xbd\\x00\\x1e\\x008\\x00\\x00\\x00\\x0f\\x00\\x01\\xd0\\x81@\\x0f\\x00\\x01\\x80q@\\x0f\\x00\\x00\\x00\\x12@\\x0f\\x00\\x01@`@\\x03\\x00\\xfd\\x00\\n\\x008\\x00\\x04\\x00\\x0f\\x00\\x05\\x00\\x00\\x00\\xbd\\x00\\x12\\x009\\x00\\x00\\x00\\x0f\\x00\\x01\\xb0\\x83@\\x0f\\x00\\x01\\xa0t@\\x01\\x00~\\x02\\n\\x009\\x00\\x03\\x00\\x0f\\x00\\x01\\x00d@\\xfd\\x00\\n\\x009\\x00\\x04\\x00\\x0f\\x00\\x05\\x00\\x00\\x00\\x03\\x02\\x0e\\x00:\\x00\\x00\\x00\\x0f\\x00\\x9a\\x99\\x99\\x99\\x99\\x99\\x13@\\xbd\\x00\\x18\\x00:\\x00\\x01\\x00\\x0f\\x00\\x01\\x00n@\\x0f\\x00\\x01\\xa0t@\\x0f\\x00\\x00\\x00\\xf0?\\x03\\x00\\xfd\\x00\\n\\x00:\\x00\\x04\\x00\\x0f\\x00\\x05\\x00\\x00\\x00\\xbd\\x00\\x12\\x00;\\x00\\x00\\x00\\x0f\\x00\\x01\\xa0\\x84@\\x0f\\x00\\x01 r@\\x01\\x00\\x03\\x02\\x0e\\x00;\\x00\\x02\\x00\\x0f\\x00ffffff\\x12@~\\x02\\n\\x00;\\x00\\x03\\x00\\x0f\\x00\\x01@`@\\xfd\\x00\\n\\x00;\\x00\\x04\\x00\\x0f\\x00\\x05\\x00\\x00\\x00\\xbd\\x00\\x1e\\x00<\\x00\\x00\\x00\\x0f\\x00\\x01@\\x80@\\x0f\\x00\\x01\\xe0p@\\x0f\\x00\\x01`x@\\x0f\\x00\\x01\\x80a@\\x03\\x00\\xfd\\x00\\n\\x00<\\x00\\x04\\x00\\x0f\\x00\\x05\\x00\\x00\\x00\\xbd\\x00\\x1e\\x00=\\x00\\x00\\x00\\x0f\\x00\\x00\\x00\\x14@\\x0f\\x00\\x00\\x00\\x00@\\x0f\\x00\\x00\\x00\\x0c@\\x0f\\x00\\x00\\x00\\xf0?\\x03\\x00\\xfd\\x00\\n\\x00=\\x00\\x04\\x00\\x0f\\x00\\x05\\x00\\x00\\x00\\xbd\\x00\\x1e\\x00>\\x00\\x00\\x00\\x0f\\x00\\x01p\\x82@\\x0f\\x00\\x00\\x00\\x08@\\x0f\\x00\\x01@z@\\x0f\\x00\\x00\\x00\\xf8?\\x03\\x00\\xfd\\x00\\n\\x00>\\x00\\x04\\x00\\x0f\\x00\\x05\\x00\\x00\\x00~\\x02\\n\\x00?\\x00\\x00\\x00\\x0f\\x00\\x00\\x00\\x18@\\x03\\x02\\x0e\\x00?\\x00\\x01\\x00\\x0f\\x00\\x9a\\x99\\x99\\x99\\x99\\x99\\x01@\\xbd\\x00\\x12\\x00?\\x00\\x02\\x00\\x0f\\x00\\x00\\x00\\x10@\\x0f\\x00\\x00\\x00\\xf0?\\x03\\x00\\xfd\\x00\\n\\x00?\\x00\\x04\\x00\\x0f\\x00\\x05\\x00\\x00\\x00\\xd7\\x00D\\x00d\\t\\x00\\x00l\\x020\\x00D\\x000\\x00<\\x000\\x000\\x00<\\x00<\\x00*\\x000\\x00D\\x00<\\x002\\x00<\\x000\\x00<\\x00<\\x000\\x000\\x000\\x00*\\x00D\\x00D\\x00D\\x000\\x002\\x00<\\x00D\\x000\\x000\\x000\\x00\\x08\\x02\\x10\\x00@\\x00\\x00\\x00\\x05\\x00\\xfa\\x00\\x00\\x00\\x00\\x00\\x00\\x01\\x0f\\x00\\x08\\x02\\x10\\x00A\\x00\\x00\\x00\\x05\\x00\\xfa\\x00\\x00\\x00\\x00\\x00\\x00\\x01\\x0f\\x00\\x08\\x02\\x10\\x00B\\x00\\x00\\x00\\x05\\x00\\xfa\\x00\\x00\\x00\\x00\\x00\\x00\\x01\\x0f\\x00\\x08\\x02\\x10\\x00C\\x00\\x00\\x00\\x05\\x00\\xfa\\x00\\x00\\x00\\x00\\x00\\x00\\x01\\x0f\\x00\\x08\\x02\\x10\\x00D\\x00\\x00\\x00\\x05\\x00\\xfa\\x00\\x00\\x00\\x00\\x00\\x00\\x01\\x0f\\x00\\x08\\x02\\x10\\x00E\\x00\\x00\\x00\\x05\\x00\\xfa\\x00\\x00\\x00\\x00\\x00\\x00\\x01\\x0f\\x00\\x08\\x02\\x10\\x00F\\x00\\x00\\x00\\x05\\x00\\xfa\\x00\\x00\\x00\\x00\\x00\\x00\\x01\\x0f\\x00\\x08\\x02\\x10\\x00G\\x00\\x00\\x00\\x05\\x00\\xfa\\x00\\x00\\x00\\x00\\x00\\x00\\x01\\x0f\\x00\\x08\\x02\\x10\\x00H\\x00\\x00\\x00\\x05\\x00\\xfa\\x00\\x00\\x00\\x00\\x00\\x00\\x01\\x0f\\x00\\x08\\x02\\x10\\x00I\\x00\\x00\\x00\\x05\\x00\\xfa\\x00\\x00\\x00\\x00\\x00\\x00\\x01\\x0f\\x00\\x08\\x02\\x10\\x00J\\x00\\x00\\x00\\x05\\x00\\xfa\\x00\\x00\\x00\\x00\\x00\\x00\\x01\\x0f\\x00\\x08\\x02\\x10\\x00K\\x00\\x00\\x00\\x05\\x00\\xfa\\x00\\x00\\x00\\x00\\x00\\x00\\x01\\x0f\\x00\\x08\\x02\\x10\\x00L\\x00\\x00\\x00\\x05\\x00\\xfa\\x00\\x00\\x00\\x00\\x00\\x00\\x01\\x0f\\x00\\x08\\x02\\x10\\x00M\\x00\\x00\\x00\\x05\\x00\\xfa\\x00\\x00\\x00\\x00\\x00\\x00\\x01\\x0f\\x00\\x08\\x02\\x10\\x00N\\x00\\x00\\x00\\x05\\x00\\xfa\\x00\\x00\\x00\\x00\\x00\\x00\\x01\\x0f\\x00\\x08\\x02\\x10\\x00O\\x00\\x00\\x00\\x05\\x00\\xfa\\x00\\x00\\x00\\x00\\x00\\x00\\x01\\x0f\\x00\\x08\\x02\\x10\\x00P\\x00\\x00\\x00\\x05\\x00\\xfa\\x00\\x00\\x00\\x00\\x00\\x00\\x01\\x0f\\x00\\x08\\x02\\x10\\x00Q\\x00\\x00\\x00\\x05\\x00\\xfa\\x00\\x00\\x00\\x00\\x00\\x00\\x01\\x0f\\x00\\x08\\x02\\x10\\x00R\\x00\\x00\\x00\\x05\\x00\\xfa\\x00\\x00\\x00\\x00\\x00\\x00\\x01\\x0f\\x00\\x08\\x02\\x10\\x00S\\x00\\x00\\x00\\x05\\x00\\xfa\\x00\\x00\\x00\\x00\\x00\\x00\\x01\\x0f\\x00\\x08\\x02\\x10\\x00T\\x00\\x00\\x00\\x05\\x00\\xfa\\x00\\x00\\x00\\x00\\x00\\x00\\x01\\x0f\\x00\\x08\\x02\\x10\\x00U\\x00\\x00\\x00\\x05\\x00\\xfa\\x00\\x00\\x00\\x00\\x00\\x00\\x01\\x0f\\x00\\x08\\x02\\x10\\x00V\\x00\\x00\\x00\\x05\\x00\\xfa\\x00\\x00\\x00\\x00\\x00\\x00\\x01\\x0f\\x00\\x08\\x02\\x10\\x00W\\x00\\x00\\x00\\x05\\x00\\xfa\\x00\\x00\\x00\\x00\\x00\\x00\\x01\\x0f\\x00\\x08\\x02\\x10\\x00X\\x00\\x00\\x00\\x05\\x00\\xfa\\x00\\x00\\x00\\x00\\x00\\x00\\x01\\x0f\\x00\\x08\\x02\\x10\\x00Y\\x00\\x00\\x00\\x05\\x00\\xfa\\x00\\x00\\x00\\x00\\x00\\x00\\x01\\x0f\\x00\\x08\\x02\\x10\\x00Z\\x00\\x00\\x00\\x05\\x00\\xfa\\x00\\x00\\x00\\x00\\x00\\x00\\x01\\x0f\\x00\\x08\\x02\\x10\\x00[\\x00\\x00\\x00\\x05\\x00\\xfa\\x00\\x00\\x00\\x00\\x00\\x00\\x01\\x0f\\x00\\x08\\x02\\x10\\x00\\\\\\x00\\x00\\x00\\x05\\x00\\xfa\\x00\\x00\\x00\\x00\\x00\\x00\\x01\\x0f\\x00\\x08\\x02\\x10\\x00]\\x00\\x00\\x00\\x05\\x00\\xfa\\x00\\x00\\x00\\x00\\x00\\x00\\x01\\x0f\\x00\\x08\\x02\\x10\\x00^\\x00\\x00\\x00\\x05\\x00\\xfa\\x00\\x00\\x00\\x00\\x00\\x00\\x01\\x0f\\x00\\x08\\x02\\x10\\x00_\\x00\\x00\\x00\\x05\\x00\\xfa\\x00\\x00\\x00\\x00\\x00\\x00\\x01\\x0f\\x00\\xbd\\x00\\x1e\\x00@\\x00\\x00\\x00\\x0f\\x00\\x01\\x10\\x83@\\x0f\\x00\\x01 r@\\x0f\\x00\\x01`}@\\x0f\\x00\\x01\\x80a@\\x03\\x00\\xfd\\x00\\n\\x00@\\x00\\x04\\x00\\x0f\\x00\\x05\\x00\\x00\\x00\\xbd\\x00\\x1e\\x00A\\x00\\x00\\x00\\x0f\\x00\\x01\\x80\\x81@\\x0f\\x00\\x01 r@\\x0f\\x00\\x01\\x80v@\\x0f\\x00\\x01@`@\\x03\\x00\\xfd\\x00\\n\\x00A\\x00\\x04\\x00\\x0f\\x00\\x05\\x00\\x00\\x00\\xbd\\x00\\x12\\x00B\\x00\\x00\\x00\\x0f\\x00\\x01\\xf0\\x84@\\x0f\\x00\\x01`s@\\x01\\x00\\x03\\x02\\x0e\\x00B\\x00\\x02\\x00\\x0f\\x00\\x9a\\x99\\x99\\x99\\x99\\x99\\x11@~\\x02\\n\\x00B\\x00\\x03\\x00\\x0f\\x00\\x01\\x80a@\\xfd\\x00\\n\\x00B\\x00\\x04\\x00\\x0f\\x00\\x05\\x00\\x00\\x00\\xbd\\x00\\x1e\\x00C\\x00\\x00\\x00\\x0f\\x00\\x01\\x80\\x81@\\x0f\\x00\\x00\\x00\\x08@\\x0f\\x00\\x00\\x00\\x12@\\x0f\\x00\\x00\\x00\\xf8?\\x03\\x00\\xfd\\x00\\n\\x00C\\x00\\x04\\x00\\x0f\\x00\\x05\\x00\\x00\\x00\\xbd\\x00\\x12\\x00D\\x00\\x00\\x00\\x0f\\x00\\x01 \\x82@\\x0f\\x00\\x01\\xe0p@\\x01\\x00\\x03\\x02\\x0e\\x00D\\x00\\x02\\x00\\x0f\\x00ffffff\\x10@~\\x02\\n\\x00D\\x00\\x03\\x00\\x0f\\x00\\x00\\x00\\xf0?\\xfd\\x00\\n\\x00D\\x00\\x04\\x00\\x0f\\x00\\x05\\x00\\x00\\x00~\\x02\\n\\x00E\\x00\\x00\\x00\\x0f\\x00\\x01`\\x83@\\x03\\x02\\x0e\\x00E\\x00\\x01\\x00\\x0f\\x00\\x9a\\x99\\x99\\x99\\x99\\x99\\x01@\\xbd\\x00\\x12\\x00E\\x00\\x02\\x00\\x0f\\x00\\x00\\x00\\x12@\\x0f\\x00\\x00\\x00\\xf8?\\x03\\x00\\xfd\\x00\\n\\x00E\\x00\\x04\\x00\\x0f\\x00\\x05\\x00\\x00\\x00\\xbd\\x00\\x18\\x00F\\x00\\x00\\x00\\x0f\\x00\\x01\\x80\\x81@\\x0f\\x00\\x00\\x00\\x04@\\x0f\\x00\\x01`x@\\x02\\x00\\x03\\x02\\x0e\\x00F\\x00\\x03\\x00\\x0f\\x00\\x9a\\x99\\x99\\x99\\x99\\x99\\xf1?\\xfd\\x00\\n\\x00F\\x00\\x04\\x00\\x0f\\x00\\x05\\x00\\x00\\x00\\xbd\\x00\\x1e\\x00G\\x00\\x00\\x00\\x0f\\x00\\x01p\\x82@\\x0f\\x00\\x01\\x00t@\\x0f\\x00\\x01\\x00~@\\x0f\\x00\\x01\\x80f@\\x03\\x00\\xfd\\x00\\n\\x00G\\x00\\x04\\x00\\x0f\\x00\\x05\\x00\\x00\\x00\\xbd\\x00\\x1e\\x00H\\x00\\x00\\x00\\x0f\\x00\\x01\\x10\\x83@\\x0f\\x00\\x01\\x80q@\\x0f\\x00\\x00\\x00\\x10@\\x0f\\x00\\x01@`@\\x03\\x00\\xfd\\x00\\n\\x00H\\x00\\x04\\x00\\x0f\\x00\\x05\\x00\\x00\\x00~\\x02\\n\\x00I\\x00\\x00\\x00\\x0f\\x00\\x01\\xb0\\x83@\\x03\\x02\\x0e\\x00I\\x00\\x02\\x00\\x0f\\x00\\x9a\\x99\\x99\\x99\\x99\\x99\\x13@~\\x02\\n\\x00I\\x00\\x03\\x00\\x0f\\x00\\x00\\x00\\xf8?\\xfd\\x00\\n\\x00I\\x00\\x04\\x00\\x0f\\x00\\x05\\x00\\x00\\x00\\xbd\\x00\\x1e\\x00J\\x00\\x00\\x00\\x0f\\x00\\x01\\x10\\x83@\\x0f\\x00\\x01\\x80q@\\x0f\\x00\\x01`}@\\x0f\\x00\\x01\\x00^@\\x03\\x00\\xfd\\x00\\n\\x00J\\x00\\x04\\x00\\x0f\\x00\\x05\\x00\\x00\\x00\\xbd\\x00\\x1e\\x00K\\x00\\x00\\x00\\x0f\\x00\\x01\\x00\\x84@\\x0f\\x00\\x01 r@\\x0f\\x00\\x01\\xe0z@\\x0f\\x00\\x01@`@\\x03\\x00\\xfd\\x00\\n\\x00K\\x00\\x04\\x00\\x0f\\x00\\x05\\x00\\x00\\x00\\xbd\\x00\\x12\\x00L\\x00\\x00\\x00\\x0f\\x00\\x01\\xa0\\x84@\\x0f\\x00\\x00\\x00\\x08@\\x01\\x00\\x03\\x02\\x0e\\x00L\\x00\\x02\\x00\\x0f\\x00\\x9a\\x99\\x99\\x99\\x99\\x99\\x11@~\\x02\\n\\x00L\\x00\\x03\\x00\\x0f\\x00\\x01\\x80a@\\xfd\\x00\\n\\x00L\\x00\\x04\\x00\\x0f\\x00\\x05\\x00\\x00\\x00\\xbd\\x00\\x1e\\x00M\\x00\\x00\\x00\\x0f\\x00\\x01@\\x85@\\x0f\\x00\\x01\\x80q@\\x0f\\x00\\x01\\x00~@\\x0f\\x00\\x01\\x80a@\\x03\\x00\\xfd\\x00\\n\\x00M\\x00\\x04\\x00\\x0f\\x00\\x05\\x00\\x00\\x00\\xbd\\x00\\x1e\\x00N\\x00\\x00\\x00\\x0f\\x00\\x01\\xf0\\x84@\\x0f\\x00\\x00\\x00\\x08@\\x0f\\x00\\x00\\x00\\x14@\\x0f\\x00\\x01@e@\\x03\\x00\\xfd\\x00\\n\\x00N\\x00\\x04\\x00\\x0f\\x00\\x05\\x00\\x00\\x00\\xbd\\x00\\x1e\\x00O\\x00\\x00\\x00\\x0f\\x00\\x00\\x00\\x18@\\x0f\\x00\\x01 r@\\x0f\\x00\\x00\\x00\\x12@\\x0f\\x00\\x00\\x00\\xf8?\\x03\\x00\\xfd\\x00\\n\\x00O\\x00\\x04\\x00\\x0f\\x00\\x05\\x00\\x00\\x00\\xbd\\x00\\x1e\\x00P\\x00\\x00\\x00\\x0f\\x00\\x01\\xd0\\x81@\\x0f\\x00\\x01@p@\\x0f\\x00\\x00\\x00\\x0c@\\x0f\\x00\\x00\\x00\\xf0?\\x03\\x00\\xfd\\x00\\n\\x00P\\x00\\x04\\x00\\x0f\\x00\\x05\\x00\\x00\\x00\\xbd\\x00\\x18\\x00Q\\x00\\x00\\x00\\x0f\\x00\\x00\\x00\\x16@\\x0f\\x00\\x01\\x00n@\\x0f\\x00\\x01\\xc0w@\\x02\\x00\\x03\\x02\\x0e\\x00Q\\x00\\x03\\x00\\x0f\\x00\\x9a\\x99\\x99\\x99\\x99\\x99\\xf1?\\xfd\\x00\\n\\x00Q\\x00\\x04\\x00\\x0f\\x00\\x05\\x00\\x00\\x00\\xbd\\x00\\x1e\\x00R\\x00\\x00\\x00\\x0f\\x00\\x00\\x00\\x16@\\x0f\\x00\\x01\\x00n@\\x0f\\x00\\x01 w@\\x0f\\x00\\x00\\x00\\xf0?\\x03\\x00\\xfd\\x00\\n\\x00R\\x00\\x04\\x00\\x0f\\x00\\x05\\x00\\x00\\x00\\xbd\\x00\\x1e\\x00S\\x00\\x00\\x00\\x0f\\x00\\x01 \\x82@\\x0f\\x00\\x01\\xe0p@\\x0f\\x00\\x01`x@\\x0f\\x00\\x01\\x00^@\\x03\\x00\\xfd\\x00\\n\\x00S\\x00\\x04\\x00\\x0f\\x00\\x05\\x00\\x00\\x00\\xbd\\x00\\x12\\x00T\\x00\\x00\\x00\\x0f\\x00\\x00\\x00\\x18@\\x0f\\x00\\x01\\xe0p@\\x01\\x00\\x03\\x02\\x0e\\x00T\\x00\\x02\\x00\\x0f\\x00ffffff\\x14@~\\x02\\n\\x00T\\x00\\x03\\x00\\x0f\\x00\\x01\\x00d@\\xfd\\x00\\n\\x00T\\x00\\x04\\x00\\x0f\\x00\\x05\\x00\\x00\\x00\\xbd\\x00\\x1e\\x00U\\x00\\x00\\x00\\x0f\\x00\\x01\\xe0\\x80@\\x0f\\x00\\x00\\x00\\x08@\\x0f\\x00\\x00\\x00\\x12@\\x0f\\x00\\x00\\x00\\xf8?\\x03\\x00\\xfd\\x00\\n\\x00U\\x00\\x04\\x00\\x0f\\x00\\x05\\x00\\x00\\x00\\xbd\\x00\\x18\\x00V\\x00\\x01\\x00\\x0f\\x00\\x01@u@\\x0f\\x00\\x00\\x00\\x12@\\x0f\\x00\\x01\\x00d@\\x03\\x00\\xfd\\x00\\n\\x00V\\x00\\x04\\x00\\x0f\\x00\\x05\\x00\\x00\\x00\\xbd\\x00\\x1e\\x00W\\x00\\x00\\x00\\x0f\\x00\\x01\\xf0\\x84@\\x0f\\x00\\x01`s@\\x0f\\x00\\x01`}@\\x0f\\x00\\x00\\x00\\xf8?\\x03\\x00\\xfd\\x00\\n\\x00W\\x00\\x04\\x00\\x0f\\x00\\x05\\x00\\x00\\x00~\\x02\\n\\x00X\\x00\\x00\\x00\\x0f\\x00\\x01\\xb0\\x83@\\x03\\x02\\x0e\\x00X\\x00\\x01\\x00\\x0f\\x00ffffff\\x02@\\x03\\x02\\x0e\\x00X\\x00\\x02\\x00\\x0f\\x00\\x9a\\x99\\x99\\x99\\x99\\x99\\x11@~\\x02\\n\\x00X\\x00\\x03\\x00\\x0f\\x00\\x01@`@\\xfd\\x00\\n\\x00X\\x00\\x04\\x00\\x0f\\x00\\x05\\x00\\x00\\x00\\xbd\\x00\\x12\\x00Y\\x00\\x00\\x00\\x0f\\x00\\x01\\x80\\x81@\\x0f\\x00\\x00\\x00\\x08@\\x01\\x00\\x03\\x02\\x0e\\x00Y\\x00\\x02\\x00\\x0f\\x00ffffff\\x10@~\\x02\\n\\x00Y\\x00\\x03\\x00\\x0f\\x00\\x01@`@\\xfd\\x00\\n\\x00Y\\x00\\x04\\x00\\x0f\\x00\\x05\\x00\\x00\\x00\\xbd\\x00\\x1e\\x00Z\\x00\\x00\\x00\\x0f\\x00\\x00\\x00\\x16@\\x0f\\x00\\x00\\x00\\x04@\\x0f\\x00\\x00\\x00\\x10@\\x0f\\x00\\x01@`@\\x03\\x00\\xfd\\x00\\n\\x00Z\\x00\\x04\\x00\\x0f\\x00\\x05\\x00\\x00\\x00\\xbd\\x00\\x12\\x00[\\x00\\x00\\x00\\x0f\\x00\\x00\\x00\\x16@\\x0f\\x00\\x01@p@\\x01\\x00\\x03\\x02\\x0e\\x00[\\x00\\x02\\x00\\x0f\\x00\\x9a\\x99\\x99\\x99\\x99\\x99\\x11@~\\x02\\n\\x00[\\x00\\x03\\x00\\x0f\\x00\\x01\\x00^@\\xfd\\x00\\n\\x00[\\x00\\x04\\x00\\x0f\\x00\\x05\\x00\\x00\\x00\\xbd\\x00\\x12\\x00\\\\\\x00\\x00\\x00\\x0f\\x00\\x01\\x10\\x83@\\x0f\\x00\\x00\\x00\\x08@\\x01\\x00\\x03\\x02\\x0e\\x00\\\\\\x00\\x02\\x00\\x0f\\x00ffffff\\x12@~\\x02\\n\\x00\\\\\\x00\\x03\\x00\\x0f\\x00\\x01\\x80a@\\xfd\\x00\\n\\x00\\\\\\x00\\x04\\x00\\x0f\\x00\\x05\\x00\\x00\\x00\\xbd\\x00\\x1e\\x00]\\x00\\x00\\x00\\x0f\\x00\\x01 \\x82@\\x0f\\x00\\x01@p@\\x0f\\x00\\x00\\x00\\x10@\\x0f\\x00\\x01\\x00^@\\x03\\x00\\xfd\\x00\\n\\x00]\\x00\\x04\\x00\\x0f\\x00\\x05\\x00\\x00\\x00~\\x02\\n\\x00^\\x00\\x00\\x00\\x0f\\x00\\x00\\x00\\x14@\\x03\\x02\\x0e\\x00^\\x00\\x01\\x00\\x0f\\x00ffffff\\x02@\\xbd\\x00\\x12\\x00^\\x00\\x02\\x00\\x0f\\x00\\x01\\xa0t@\\x0f\\x00\\x00\\x00\\xf0?\\x03\\x00\\xfd\\x00\\n\\x00^\\x00\\x04\\x00\\x0f\\x00\\x05\\x00\\x00\\x00\\xbd\\x00\\x12\\x00_\\x00\\x00\\x00\\x0f\\x00\\x01\\x80\\x81@\\x0f\\x00\\x01\\xe0p@\\x01\\x00~\\x02\\n\\x00_\\x00\\x03\\x00\\x0f\\x00\\x01@`@\\xfd\\x00\\n\\x00_\\x00\\x04\\x00\\x0f\\x00\\x05\\x00\\x00\\x00\\xd7\\x00D\\x00r\\t\\x00\\x00l\\x020\\x000\\x00D\\x000\\x00D\\x00D\\x00<\\x000\\x000\\x00<\\x000\\x000\\x00D\\x000\\x000\\x000\\x000\\x00<\\x000\\x000\\x00D\\x000\\x00*\\x000\\x00N\\x00D\\x000\\x00D\\x00D\\x000\\x00D\\x00\\x08\\x02\\x10\\x00`\\x00\\x00\\x00\\x05\\x00\\xfa\\x00\\x00\\x00\\x00\\x00\\x00\\x01\\x0f\\x00\\x08\\x02\\x10\\x00a\\x00\\x00\\x00\\x05\\x00\\xfa\\x00\\x00\\x00\\x00\\x00\\x00\\x01\\x0f\\x00\\x08\\x02\\x10\\x00b\\x00\\x00\\x00\\x05\\x00\\xfa\\x00\\x00\\x00\\x00\\x00\\x00\\x01\\x0f\\x00\\x08\\x02\\x10\\x00c\\x00\\x00\\x00\\x05\\x00\\xfa\\x00\\x00\\x00\\x00\\x00\\x00\\x01\\x0f\\x00\\x08\\x02\\x10\\x00d\\x00\\x00\\x00\\x05\\x00\\xfa\\x00\\x00\\x00\\x00\\x00\\x00\\x01\\x0f\\x00\\x08\\x02\\x10\\x00e\\x00\\x00\\x00\\x05\\x00\\xfa\\x00\\x00\\x00\\x00\\x00\\x00\\x01\\x0f\\x00\\x08\\x02\\x10\\x00f\\x00\\x00\\x00\\x05\\x00\\xfa\\x00\\x00\\x00\\x00\\x00\\x00\\x01\\x0f\\x00\\x08\\x02\\x10\\x00g\\x00\\x00\\x00\\x05\\x00\\xfa\\x00\\x00\\x00\\x00\\x00\\x00\\x01\\x0f\\x00\\x08\\x02\\x10\\x00h\\x00\\x00\\x00\\x05\\x00\\xfa\\x00\\x00\\x00\\x00\\x00\\x00\\x01\\x0f\\x00\\x08\\x02\\x10\\x00i\\x00\\x00\\x00\\x05\\x00\\xfa\\x00\\x00\\x00\\x00\\x00\\x00\\x01\\x0f\\x00\\x08\\x02\\x10\\x00j\\x00\\x00\\x00\\x05\\x00\\xfa\\x00\\x00\\x00\\x00\\x00\\x00\\x01\\x0f\\x00\\x08\\x02\\x10\\x00k\\x00\\x00\\x00\\x05\\x00\\xfa\\x00\\x00\\x00\\x00\\x00\\x00\\x01\\x0f\\x00\\x08\\x02\\x10\\x00l\\x00\\x00\\x00\\x05\\x00\\xfa\\x00\\x00\\x00\\x00\\x00\\x00\\x01\\x0f\\x00\\x08\\x02\\x10\\x00m\\x00\\x00\\x00\\x05\\x00\\xfa\\x00\\x00\\x00\\x00\\x00\\x00\\x01\\x0f\\x00\\x08\\x02\\x10\\x00n\\x00\\x00\\x00\\x05\\x00\\xfa\\x00\\x00\\x00\\x00\\x00\\x00\\x01\\x0f\\x00\\x08\\x02\\x10\\x00o\\x00\\x00\\x00\\x05\\x00\\xfa\\x00\\x00\\x00\\x00\\x00\\x00\\x01\\x0f\\x00\\x08\\x02\\x10\\x00p\\x00\\x00\\x00\\x05\\x00\\xfa\\x00\\x00\\x00\\x00\\x00\\x00\\x01\\x0f\\x00\\x08\\x02\\x10\\x00q\\x00\\x00\\x00\\x05\\x00\\xfa\\x00\\x00\\x00\\x00\\x00\\x00\\x01\\x0f\\x00\\x08\\x02\\x10\\x00r\\x00\\x00\\x00\\x05\\x00\\xfa\\x00\\x00\\x00\\x00\\x00\\x00\\x01\\x0f\\x00\\x08\\x02\\x10\\x00s\\x00\\x00\\x00\\x05\\x00\\xfa\\x00\\x00\\x00\\x00\\x00\\x00\\x01\\x0f\\x00\\x08\\x02\\x10\\x00t\\x00\\x00\\x00\\x05\\x00\\xfa\\x00\\x00\\x00\\x00\\x00\\x00\\x01\\x0f\\x00\\x08\\x02\\x10\\x00u\\x00\\x00\\x00\\x05\\x00\\xfa\\x00\\x00\\x00\\x00\\x00\\x00\\x01\\x0f\\x00\\x08\\x02\\x10\\x00v\\x00\\x00\\x00\\x05\\x00\\xfa\\x00\\x00\\x00\\x00\\x00\\x00\\x01\\x0f\\x00\\x08\\x02\\x10\\x00w\\x00\\x00\\x00\\x05\\x00\\xfa\\x00\\x00\\x00\\x00\\x00\\x00\\x01\\x0f\\x00\\x08\\x02\\x10\\x00x\\x00\\x00\\x00\\x05\\x00\\xfa\\x00\\x00\\x00\\x00\\x00\\x00\\x01\\x0f\\x00\\x08\\x02\\x10\\x00y\\x00\\x00\\x00\\x05\\x00\\xfa\\x00\\x00\\x00\\x00\\x00\\x00\\x01\\x0f\\x00\\x08\\x02\\x10\\x00z\\x00\\x00\\x00\\x05\\x00\\xfa\\x00\\x00\\x00\\x00\\x00\\x00\\x01\\x0f\\x00\\x08\\x02\\x10\\x00{\\x00\\x00\\x00\\x05\\x00\\xfa\\x00\\x00\\x00\\x00\\x00\\x00\\x01\\x0f\\x00\\x08\\x02\\x10\\x00|\\x00\\x00\\x00\\x05\\x00\\xfa\\x00\\x00\\x00\\x00\\x00\\x00\\x01\\x0f\\x00\\x08\\x02\\x10\\x00}\\x00\\x00\\x00\\x05\\x00\\xfa\\x00\\x00\\x00\\x00\\x00\\x00\\x01\\x0f\\x00\\x08\\x02\\x10\\x00~\\x00\\x00\\x00\\x05\\x00\\xfa\\x00\\x00\\x00\\x00\\x00\\x00\\x01\\x0f\\x00\\x08\\x02\\x10\\x00\\x7f\\x00\\x00\\x00\\x05\\x00\\xfa\\x00\\x00\\x00\\x00\\x00\\x00\\x01\\x0f\\x00\\xbd\\x00\\x1e\\x00`\\x00\\x00\\x00\\x0f\\x00\\x01\\xd0\\x81@\\x0f\\x00\\x00\\x00\\x08@\\x0f\\x00\\x01@z@\\x0f\\x00\\x01\\x00^@\\x03\\x00\\xfd\\x00\\n\\x00`\\x00\\x04\\x00\\x0f\\x00\\x05\\x00\\x00\\x00\\xbd\\x00\\x1e\\x00a\\x00\\x00\\x00\\x0f\\x00\\x01\\xd0\\x81@\\x0f\\x00\\x01 r@\\x0f\\x00\\x01@z@\\x0f\\x00\\x01@`@\\x03\\x00\\xfd\\x00\\n\\x00a\\x00\\x04\\x00\\x0f\\x00\\x05\\x00\\x00\\x00\\xbd\\x00\\x1e\\x00b\\x00\\x00\\x00\\x0f\\x00\\x01`\\x83@\\x0f\\x00\\x01 r@\\x0f\\x00\\x01\\xe0z@\\x0f\\x00\\x01@`@\\x03\\x00\\xfd\\x00\\n\\x00b\\x00\\x04\\x00\\x0f\\x00\\x05\\x00\\x00\\x00\\x03\\x02\\x0e\\x00c\\x00\\x00\\x00\\x0f\\x00ffffff\\x14@~\\x02\\n\\x00c\\x00\\x02\\x00\\x0f\\x00\\x00\\x00\\x08@\\x03\\x02\\x0e\\x00c\\x00\\x03\\x00\\x0f\\x00\\x9a\\x99\\x99\\x99\\x99\\x99\\xf1?\\xfd\\x00\\n\\x00c\\x00\\x04\\x00\\x0f\\x00\\x05\\x00\\x00\\x00\\xbd\\x00\\x12\\x00d\\x00\\x00\\x00\\x0f\\x00\\x01\\xd0\\x81@\\x0f\\x00\\x01\\x80q@\\x01\\x00\\x03\\x02\\x0e\\x00d\\x00\\x02\\x00\\x0f\\x00ffffff\\x10@~\\x02\\n\\x00d\\x00\\x03\\x00\\x0f\\x00\\x01@`@\\xfd\\x00\\n\\x00d\\x00\\x04\\x00\\x0f\\x00\\x05\\x00\\x00\\x00\\xbd\\x00\\x1e\\x00e\\x00\\x00\\x00\\x0f\\x00\\x01\\xb0\\x83@\\x0f\\x00\\x01\\xa0t@\\x0f\\x00\\x00\\x00\\x18@\\x0f\\x00\\x00\\x00\\x04@\\x03\\x00\\xfd\\x00\\n\\x00e\\x00\\x04\\x00\\x0f\\x00\\x06\\x00\\x00\\x00\\xbd\\x00\\x12\\x00f\\x00\\x00\\x00\\x0f\\x00\\x01 \\x82@\\x0f\\x00\\x01\\xe0p@\\x01\\x00\\x03\\x02\\x0e\\x00f\\x00\\x02\\x00\\x0f\\x00ffffff\\x14@~\\x02\\n\\x00f\\x00\\x03\\x00\\x0f\\x00\\x01\\xc0g@\\xfd\\x00\\n\\x00f\\x00\\x04\\x00\\x0f\\x00\\x06\\x00\\x00\\x00\\xbd\\x00\\x1e\\x00g\\x00\\x00\\x00\\x0f\\x00\\x010\\x86@\\x0f\\x00\\x00\\x00\\x08@\\x0f\\x00\\x01p\\x82@\\x0f\\x00\\x01@j@\\x03\\x00\\xfd\\x00\\n\\x00g\\x00\\x04\\x00\\x0f\\x00\\x06\\x00\\x00\\x00\\xbd\\x00\\x1e\\x00h\\x00\\x00\\x00\\x0f\\x00\\x01\\xb0\\x83@\\x0f\\x00\\x01 r@\\x0f\\x00\\x01\\x80\\x81@\\x0f\\x00\\x01\\x80f@\\x03\\x00\\xfd\\x00\\n\\x00h\\x00\\x04\\x00\\x0f\\x00\\x06\\x00\\x00\\x00\\xbd\\x00\\x18\\x00i\\x00\\x00\\x00\\x0f\\x00\\x00\\x00\\x1a@\\x0f\\x00\\x00\\x00\\x08@\\x0f\\x00\\x01 \\x82@\\x02\\x00\\x03\\x02\\x0e\\x00i\\x00\\x03\\x00\\x0f\\x00\\x9a\\x99\\x99\\x99\\x99\\x99\\x01@\\xfd\\x00\\n\\x00i\\x00\\x04\\x00\\x0f\\x00\\x06\\x00\\x00\\x00\\xbd\\x00\\x1e\\x00j\\x00\\x00\\x00\\x0f\\x00\\x01\\xc0\\x87@\\x0f\\x00\\x00\\x00\\x08@\\x0f\\x00\\x01\\xa0\\x84@\\x0f\\x00\\x01@j@\\x03\\x00\\xfd\\x00\\n\\x00j\\x00\\x04\\x00\\x0f\\x00\\x06\\x00\\x00\\x00\\xbd\\x00\\x18\\x00k\\x00\\x01\\x00\\x0f\\x00\\x00\\x00\\x04@\\x0f\\x00\\x00\\x00\\x12@\\x0f\\x00\\x01@e@\\x03\\x00\\xfd\\x00\\n\\x00k\\x00\\x04\\x00\\x0f\\x00\\x06\\x00\\x00\\x00\\xbd\\x00\\x1e\\x00l\\x00\\x00\\x00\\x0f\\x00\\x01\\xd0\\x86@\\x0f\\x00\\x01 r@\\x0f\\x00\\x01\\xb0\\x83@\\x0f\\x00\\x01\\x80f@\\x03\\x00\\xfd\\x00\\n\\x00l\\x00\\x04\\x00\\x0f\\x00\\x06\\x00\\x00\\x00\\xbd\\x00\\x1e\\x00m\\x00\\x00\\x00\\x0f\\x00\\x01\\xf0\\x84@\\x0f\\x00\\x00\\x00\\x04@\\x0f\\x00\\x01 \\x82@\\x0f\\x00\\x01\\x80f@\\x03\\x00\\xfd\\x00\\n\\x00m\\x00\\x04\\x00\\x0f\\x00\\x06\\x00\\x00\\x00\\xbd\\x00\\x12\\x00n\\x00\\x00\\x00\\x0f\\x00\\x01\\x80\\x86@\\x0f\\x00\\x01\\x80v@\\x01\\x00~\\x02\\n\\x00n\\x00\\x03\\x00\\x0f\\x00\\x00\\x00\\x04@\\xfd\\x00\\n\\x00n\\x00\\x04\\x00\\x0f\\x00\\x06\\x00\\x00\\x00\\xbd\\x00\\x12\\x00o\\x00\\x00\\x00\\x0f\\x00\\x00\\x00\\x1a@\\x0f\\x00\\x01\\x00t@\\x01\\x00\\x03\\x02\\x0e\\x00o\\x00\\x02\\x00\\x0f\\x00ffffff\\x14@~\\x02\\n\\x00o\\x00\\x03\\x00\\x0f\\x00\\x00\\x00\\x00@\\xfd\\x00\\n\\x00o\\x00\\x04\\x00\\x0f\\x00\\x06\\x00\\x00\\x00\\xbd\\x00\\x1e\\x00p\\x00\\x00\\x00\\x0f\\x00\\x01\\x00\\x84@\\x0f\\x00\\x01\\xe0p@\\x0f\\x00\\x01\\x90\\x80@\\x0f\\x00\\x01\\xc0g@\\x03\\x00\\xfd\\x00\\n\\x00p\\x00\\x04\\x00\\x0f\\x00\\x06\\x00\\x00\\x00\\xbd\\x00\\x1e\\x00q\\x00\\x00\\x00\\x0f\\x00\\x01@\\x85@\\x0f\\x00\\x00\\x00\\x08@\\x0f\\x00\\x00\\x00\\x16@\\x0f\\x00\\x01@j@\\x03\\x00\\xfd\\x00\\n\\x00q\\x00\\x04\\x00\\x0f\\x00\\x06\\x00\\x00\\x00\\xbd\\x00\\x1e\\x00r\\x00\\x00\\x00\\x0f\\x00\\x01\\xd0\\x81@\\x0f\\x00\\x00\\x00\\x04@\\x0f\\x00\\x00\\x00\\x14@\\x0f\\x00\\x00\\x00\\x00@\\x03\\x00\\xfd\\x00\\n\\x00r\\x00\\x04\\x00\\x0f\\x00\\x06\\x00\\x00\\x00\\xbd\\x00\\x12\\x00s\\x00\\x00\\x00\\x0f\\x00\\x01 \\x82@\\x0f\\x00\\x01\\x80q@\\x01\\x00\\x03\\x02\\x0e\\x00s\\x00\\x02\\x00\\x0f\\x00ffffff\\x14@~\\x02\\n\\x00s\\x00\\x03\\x00\\x0f\\x00\\x01\\x00n@\\xfd\\x00\\n\\x00s\\x00\\x04\\x00\\x0f\\x00\\x06\\x00\\x00\\x00\\xbd\\x00\\x18\\x00t\\x00\\x00\\x00\\x0f\\x00\\x01\\x00\\x84@\\x0f\\x00\\x01\\x00t@\\x0f\\x00\\x01\\x90\\x80@\\x02\\x00\\x03\\x02\\x0e\\x00t\\x00\\x03\\x00\\x0f\\x00ffffff\\x02@\\xfd\\x00\\n\\x00t\\x00\\x04\\x00\\x0f\\x00\\x06\\x00\\x00\\x00\\xbd\\x00\\x1e\\x00u\\x00\\x00\\x00\\x0f\\x00\\x00\\x00\\x1a@\\x0f\\x00\\x00\\x00\\x08@\\x0f\\x00\\x00\\x00\\x16@\\x0f\\x00\\x01\\x80f@\\x03\\x00\\xfd\\x00\\n\\x00u\\x00\\x04\\x00\\x0f\\x00\\x06\\x00\\x00\\x00\\xbd\\x00\\x18\\x00v\\x00\\x00\\x00\\x0f\\x00\\x01\\x10\\x88@\\x0f\\x00\\x01\\xc0w@\\x0f\\x00\\x01\\xf0\\x84@\\x02\\x00\\x03\\x02\\x0e\\x00v\\x00\\x03\\x00\\x0f\\x00\\x9a\\x99\\x99\\x99\\x99\\x99\\x01@\\xfd\\x00\\n\\x00v\\x00\\x04\\x00\\x0f\\x00\\x06\\x00\\x00\\x00\\xbd\\x00\\x18\\x00w\\x00\\x00\\x00\\x0f\\x00\\x01\\x10\\x88@\\x0f\\x00\\x01@p@\\x0f\\x00\\x01\\x90\\x85@\\x02\\x00\\x03\\x02\\x0e\\x00w\\x00\\x03\\x00\\x0f\\x00ffffff\\x02@\\xfd\\x00\\n\\x00w\\x00\\x04\\x00\\x0f\\x00\\x06\\x00\\x00\\x00~\\x02\\n\\x00x\\x00\\x00\\x00\\x0f\\x00\\x00\\x00\\x18@\\x03\\x02\\x0e\\x00x\\x00\\x01\\x00\\x0f\\x00\\x9a\\x99\\x99\\x99\\x99\\x99\\x01@\\xbd\\x00\\x12\\x00x\\x00\\x02\\x00\\x0f\\x00\\x00\\x00\\x14@\\x0f\\x00\\x00\\x00\\xf8?\\x03\\x00\\xfd\\x00\\n\\x00x\\x00\\x04\\x00\\x0f\\x00\\x06\\x00\\x00\\x00\\xbd\\x00\\x18\\x00y\\x00\\x00\\x00\\x0f\\x00\\x01\\x90\\x85@\\x0f\\x00\\x01\\x00t@\\x0f\\x00\\x01\\xd0\\x81@\\x02\\x00\\x03\\x02\\x0e\\x00y\\x00\\x03\\x00\\x0f\\x00ffffff\\x02@\\xfd\\x00\\n\\x00y\\x00\\x04\\x00\\x0f\\x00\\x06\\x00\\x00\\x00\\xbd\\x00\\x12\\x00z\\x00\\x00\\x00\\x0f\\x00\\x01\\x80\\x81@\\x0f\\x00\\x01\\x80q@\\x01\\x00\\x03\\x02\\x0e\\x00z\\x00\\x02\\x00\\x0f\\x00\\x9a\\x99\\x99\\x99\\x99\\x99\\x13@~\\x02\\n\\x00z\\x00\\x03\\x00\\x0f\\x00\\x00\\x00\\x00@\\xfd\\x00\\n\\x00z\\x00\\x04\\x00\\x0f\\x00\\x06\\x00\\x00\\x00\\xbd\\x00\\x1e\\x00{\\x00\\x00\\x00\\x0f\\x00\\x01\\x10\\x88@\\x0f\\x00\\x01\\x80q@\\x0f\\x00\\x01\\xf0\\x84@\\x0f\\x00\\x00\\x00\\x00@\\x03\\x00\\xfd\\x00\\n\\x00{\\x00\\x04\\x00\\x0f\\x00\\x06\\x00\\x00\\x00\\xbd\\x00\\x12\\x00|\\x00\\x00\\x00\\x0f\\x00\\x01\\xb0\\x83@\\x0f\\x00\\x01\\xe0p@\\x01\\x00\\x03\\x02\\x0e\\x00|\\x00\\x02\\x00\\x0f\\x00\\x9a\\x99\\x99\\x99\\x99\\x99\\x13@~\\x02\\n\\x00|\\x00\\x03\\x00\\x0f\\x00\\x01\\x80f@\\xfd\\x00\\n\\x00|\\x00\\x04\\x00\\x0f\\x00\\x06\\x00\\x00\\x00~\\x02\\n\\x00}\\x00\\x00\\x00\\x0f\\x00\\x01\\xf0\\x84@\\xbd\\x00\\x12\\x00}\\x00\\x02\\x00\\x0f\\x00\\x01\\xd0\\x81@\\x0f\\x00\\x01@j@\\x03\\x00\\xfd\\x00\\n\\x00}\\x00\\x04\\x00\\x0f\\x00\\x06\\x00\\x00\\x00\\xbd\\x00\\x1e\\x00~\\x00\\x00\\x00\\x0f\\x00\\x01\\x80\\x86@\\x0f\\x00\\x01\\x00t@\\x0f\\x00\\x00\\x00\\x18@\\x0f\\x00\\x01\\x80f@\\x03\\x00\\xfd\\x00\\n\\x00~\\x00\\x04\\x00\\x0f\\x00\\x06\\x00\\x00\\x00\\xbd\\x00\\x1e\\x00\\x7f\\x00\\x00\\x00\\x0f\\x00\\x01`\\x83@\\x0f\\x00\\x01\\x80q@\\x0f\\x00\\x01\\x00~@\\x0f\\x00\\x01\\x80f@\\x03\\x00\\xfd\\x00\\n\\x00\\x7f\\x00\\x04\\x00\\x0f\\x00\\x06\\x00\\x00\\x00\\xd7\\x00D\\x00V\\t\\x00\\x00l\\x020\\x000\\x000\\x00@\\x00D\\x000\\x00D\\x000\\x000\\x00<\\x000\\x00*\\x000\\x000\\x002\\x00D\\x000\\x000\\x000\\x00D\\x00<\\x000\\x00<\\x00<\\x00D\\x00<\\x00D\\x000\\x00D\\x002\\x000\\x00\\x08\\x02\\x10\\x00\\x80\\x00\\x00\\x00\\x05\\x00\\xfa\\x00\\x00\\x00\\x00\\x00\\x00\\x01\\x0f\\x00\\x08\\x02\\x10\\x00\\x81\\x00\\x00\\x00\\x05\\x00\\xfa\\x00\\x00\\x00\\x00\\x00\\x00\\x01\\x0f\\x00\\x08\\x02\\x10\\x00\\x82\\x00\\x00\\x00\\x05\\x00\\xfa\\x00\\x00\\x00\\x00\\x00\\x00\\x01\\x0f\\x00\\x08\\x02\\x10\\x00\\x83\\x00\\x00\\x00\\x05\\x00\\xfa\\x00\\x00\\x00\\x00\\x00\\x00\\x01\\x0f\\x00\\x08\\x02\\x10\\x00\\x84\\x00\\x00\\x00\\x05\\x00\\xfa\\x00\\x00\\x00\\x00\\x00\\x00\\x01\\x0f\\x00\\x08\\x02\\x10\\x00\\x85\\x00\\x00\\x00\\x05\\x00\\xfa\\x00\\x00\\x00\\x00\\x00\\x00\\x01\\x0f\\x00\\x08\\x02\\x10\\x00\\x86\\x00\\x00\\x00\\x05\\x00\\xfa\\x00\\x00\\x00\\x00\\x00\\x00\\x01\\x0f\\x00\\x08\\x02\\x10\\x00\\x87\\x00\\x00\\x00\\x05\\x00\\xfa\\x00\\x00\\x00\\x00\\x00\\x00\\x01\\x0f\\x00\\x08\\x02\\x10\\x00\\x88\\x00\\x00\\x00\\x05\\x00\\xfa\\x00\\x00\\x00\\x00\\x00\\x00\\x01\\x0f\\x00\\x08\\x02\\x10\\x00\\x89\\x00\\x00\\x00\\x05\\x00\\xfa\\x00\\x00\\x00\\x00\\x00\\x00\\x01\\x0f\\x00\\x08\\x02\\x10\\x00\\x8a\\x00\\x00\\x00\\x05\\x00\\xfa\\x00\\x00\\x00\\x00\\x00\\x00\\x01\\x0f\\x00\\x08\\x02\\x10\\x00\\x8b\\x00\\x00\\x00\\x05\\x00\\xfa\\x00\\x00\\x00\\x00\\x00\\x00\\x01\\x0f\\x00\\x08\\x02\\x10\\x00\\x8c\\x00\\x00\\x00\\x05\\x00\\xfa\\x00\\x00\\x00\\x00\\x00\\x00\\x01\\x0f\\x00\\x08\\x02\\x10\\x00\\x8d\\x00\\x00\\x00\\x05\\x00\\xfa\\x00\\x00\\x00\\x00\\x00\\x00\\x01\\x0f\\x00\\x08\\x02\\x10\\x00\\x8e\\x00\\x00\\x00\\x05\\x00\\xfa\\x00\\x00\\x00\\x00\\x00\\x00\\x01\\x0f\\x00\\x08\\x02\\x10\\x00\\x8f\\x00\\x00\\x00\\x05\\x00\\xfa\\x00\\x00\\x00\\x00\\x00\\x00\\x01\\x0f\\x00\\x08\\x02\\x10\\x00\\x90\\x00\\x00\\x00\\x05\\x00\\xfa\\x00\\x00\\x00\\x00\\x00\\x00\\x01\\x0f\\x00\\x08\\x02\\x10\\x00\\x91\\x00\\x00\\x00\\x05\\x00\\xfa\\x00\\x00\\x00\\x00\\x00\\x00\\x01\\x0f\\x00\\x08\\x02\\x10\\x00\\x92\\x00\\x00\\x00\\x05\\x00\\xfa\\x00\\x00\\x00\\x00\\x00\\x00\\x01\\x0f\\x00\\x08\\x02\\x10\\x00\\x93\\x00\\x00\\x00\\x05\\x00\\xfa\\x00\\x00\\x00\\x00\\x00\\x00\\x01\\x0f\\x00\\x08\\x02\\x10\\x00\\x94\\x00\\x00\\x00\\x05\\x00\\xfa\\x00\\x00\\x00\\x00\\x00\\x00\\x01\\x0f\\x00\\x08\\x02\\x10\\x00\\x95\\x00\\x00\\x00\\x05\\x00\\xfa\\x00\\x00\\x00\\x00\\x00\\x00\\x01\\x0f\\x00\\x08\\x02\\x10\\x00\\x96\\x00\\x00\\x00\\x05\\x00\\xfa\\x00\\x00\\x00\\x00\\x00\\x00\\x01\\x0f\\x00\\xbd\\x00\\x12\\x00\\x80\\x00\\x00\\x00\\x0f\\x00\\x01\\x10\\x83@\\x0f\\x00\\x00\\x00\\x08@\\x01\\x00\\x03\\x02\\x0e\\x00\\x80\\x00\\x02\\x00\\x0f\\x00\\x9a\\x99\\x99\\x99\\x99\\x99\\x13@~\\x02\\n\\x00\\x80\\x00\\x03\\x00\\x0f\\x00\\x01\\x80f@\\xfd\\x00\\n\\x00\\x80\\x00\\x04\\x00\\x0f\\x00\\x06\\x00\\x00\\x00\\xbd\\x00\\x1e\\x00\\x81\\x00\\x00\\x00\\x0f\\x00\\x01\\x00\\x84@\\x0f\\x00\\x01\\x80q@\\x0f\\x00\\x01\\x80\\x81@\\x0f\\x00\\x01@j@\\x03\\x00\\xfd\\x00\\n\\x00\\x81\\x00\\x04\\x00\\x0f\\x00\\x06\\x00\\x00\\x00\\xbd\\x00\\x1e\\x00\\x82\\x00\\x00\\x00\\x0f\\x00\\x01\\x80\\x86@\\x0f\\x00\\x00\\x00\\x08@\\x0f\\x00\\x01 \\x82@\\x0f\\x00\\x01\\x00d@\\x03\\x00\\xfd\\x00\\n\\x00\\x82\\x00\\x04\\x00\\x0f\\x00\\x06\\x00\\x00\\x00\\xbd\\x00\\x1e\\x00\\x83\\x00\\x00\\x00\\x0f\\x00\\x01 \\x87@\\x0f\\x00\\x01\\x80q@\\x0f\\x00\\x01\\x10\\x83@\\x0f\\x00\\x01\\xc0g@\\x03\\x00\\xfd\\x00\\n\\x00\\x83\\x00\\x04\\x00\\x0f\\x00\\x06\\x00\\x00\\x00\\xbd\\x00\\x1e\\x00\\x84\\x00\\x00\\x00\\x0f\\x00\\x01\\xb0\\x88@\\x0f\\x00\\x01\\xc0w@\\x0f\\x00\\x01\\x00\\x84@\\x0f\\x00\\x00\\x00\\x00@\\x03\\x00\\xfd\\x00\\n\\x00\\x84\\x00\\x04\\x00\\x0f\\x00\\x06\\x00\\x00\\x00\\xbd\\x00\\x18\\x00\\x85\\x00\\x00\\x00\\x0f\\x00\\x01\\x00\\x84@\\x0f\\x00\\x01\\x80q@\\x0f\\x00\\x01\\x80\\x81@\\x02\\x00\\x03\\x02\\x0e\\x00\\x85\\x00\\x03\\x00\\x0f\\x00\\x9a\\x99\\x99\\x99\\x99\\x99\\x01@\\xfd\\x00\\n\\x00\\x85\\x00\\x04\\x00\\x0f\\x00\\x06\\x00\\x00\\x00\\xbd\\x00\\x12\\x00\\x86\\x00\\x00\\x00\\x0f\\x00\\x01\\xb0\\x83@\\x0f\\x00\\x01\\x80q@\\x01\\x00\\x03\\x02\\x0e\\x00\\x86\\x00\\x02\\x00\\x0f\\x00ffffff\\x14@~\\x02\\n\\x00\\x86\\x00\\x03\\x00\\x0f\\x00\\x00\\x00\\xf8?\\xfd\\x00\\n\\x00\\x86\\x00\\x04\\x00\\x0f\\x00\\x06\\x00\\x00\\x00\\xbd\\x00\\x1e\\x00\\x87\\x00\\x00\\x00\\x0f\\x00\\x01\\x10\\x83@\\x0f\\x00\\x01@p@\\x0f\\x00\\x01\\x80\\x81@\\x0f\\x00\\x01\\x80a@\\x03\\x00\\xfd\\x00\\n\\x00\\x87\\x00\\x04\\x00\\x0f\\x00\\x06\\x00\\x00\\x00\\xbd\\x00\\x18\\x00\\x88\\x00\\x00\\x00\\x0f\\x00\\x01\\x10\\x88@\\x0f\\x00\\x00\\x00\\x08@\\x0f\\x00\\x01\\x10\\x83@\\x02\\x00\\x03\\x02\\x0e\\x00\\x88\\x00\\x03\\x00\\x0f\\x00ffffff\\x02@\\xfd\\x00\\n\\x00\\x88\\x00\\x04\\x00\\x0f\\x00\\x06\\x00\\x00\\x00\\xbd\\x00\\x1e\\x00\\x89\\x00\\x00\\x00\\x0f\\x00\\x01\\xb0\\x83@\\x0f\\x00\\x01@u@\\x0f\\x00\\x01\\x80\\x81@\\x0f\\x00\\x01\\x00n@\\x03\\x00\\xfd\\x00\\n\\x00\\x89\\x00\\x04\\x00\\x0f\\x00\\x06\\x00\\x00\\x00\\xbd\\x00\\x1e\\x00\\x8a\\x00\\x00\\x00\\x0f\\x00\\x01\\x00\\x84@\\x0f\\x00\\x01`s@\\x0f\\x00\\x00\\x00\\x16@\\x0f\\x00\\x01\\x80f@\\x03\\x00\\xfd\\x00\\n\\x00\\x8a\\x00\\x04\\x00\\x0f\\x00\\x06\\x00\\x00\\x00\\xbd\\x00\\x1e\\x00\\x8b\\x00\\x00\\x00\\x0f\\x00\\x00\\x00\\x18@\\x0f\\x00\\x00\\x00\\x08@\\x0f\\x00\\x01\\x00~@\\x0f\\x00\\x01\\x80f@\\x03\\x00\\xfd\\x00\\n\\x00\\x8b\\x00\\x04\\x00\\x0f\\x00\\x06\\x00\\x00\\x00\\xbd\\x00\\x1e\\x00\\x8c\\x00\\x00\\x00\\x0f\\x00\\x01\\x90\\x85@\\x0f\\x00\\x01`s@\\x0f\\x00\\x01\\xe0\\x80@\\x0f\\x00\\x01@j@\\x03\\x00\\xfd\\x00\\n\\x00\\x8c\\x00\\x04\\x00\\x0f\\x00\\x06\\x00\\x00\\x00\\xbd\\x00\\x1e\\x00\\x8d\\x00\\x00\\x00\\x0f\\x00\\x01\\xf0\\x84@\\x0f\\x00\\x01`s@\\x0f\\x00\\x01\\x80\\x81@\\x0f\\x00\\x01\\x00n@\\x03\\x00\\xfd\\x00\\n\\x00\\x8d\\x00\\x04\\x00\\x0f\\x00\\x06\\x00\\x00\\x00~\\x02\\n\\x00\\x8e\\x00\\x01\\x00\\x0f\\x00\\x01`s@\\x03\\x02\\x0e\\x00\\x8e\\x00\\x02\\x00\\x0f\\x00ffffff\\x14@\\x03\\x02\\x0e\\x00\\x8e\\x00\\x03\\x00\\x0f\\x00ffffff\\x02@\\xfd\\x00\\n\\x00\\x8e\\x00\\x04\\x00\\x0f\\x00\\x06\\x00\\x00\\x00\\xbd\\x00\\x12\\x00\\x8f\\x00\\x00\\x00\\x0f\\x00\\x01 \\x82@\\x0f\\x00\\x01\\xe0p@\\x01\\x00\\x03\\x02\\x0e\\x00\\x8f\\x00\\x02\\x00\\x0f\\x00ffffff\\x14@~\\x02\\n\\x00\\x8f\\x00\\x03\\x00\\x0f\\x00\\x01\\xc0g@\\xfd\\x00\\n\\x00\\x8f\\x00\\x04\\x00\\x0f\\x00\\x06\\x00\\x00\\x00\\xbd\\x00\\x18\\x00\\x90\\x00\\x00\\x00\\x0f\\x00\\x01@\\x85@\\x0f\\x00\\x01\\x00t@\\x0f\\x00\\x01p\\x82@\\x02\\x00\\x03\\x02\\x0e\\x00\\x90\\x00\\x03\\x00\\x0f\\x00ffffff\\x02@\\xfd\\x00\\n\\x00\\x90\\x00\\x04\\x00\\x0f\\x00\\x06\\x00\\x00\\x00\\xbd\\x00\\x1e\\x00\\x91\\x00\\x00\\x00\\x0f\\x00\\x01\\xf0\\x84@\\x0f\\x00\\x01\\xa0t@\\x0f\\x00\\x01\\xd0\\x81@\\x0f\\x00\\x00\\x00\\x04@\\x03\\x00\\xfd\\x00\\n\\x00\\x91\\x00\\x04\\x00\\x0f\\x00\\x06\\x00\\x00\\x00\\xbd\\x00\\x18\\x00\\x92\\x00\\x00\\x00\\x0f\\x00\\x01\\xf0\\x84@\\x0f\\x00\\x00\\x00\\x08@\\x0f\\x00\\x01@\\x80@\\x02\\x00\\x03\\x02\\x0e\\x00\\x92\\x00\\x03\\x00\\x0f\\x00ffffff\\x02@\\xfd\\x00\\n\\x00\\x92\\x00\\x04\\x00\\x0f\\x00\\x06\\x00\\x00\\x00\\xbd\\x00\\x1e\\x00\\x93\\x00\\x00\\x00\\x0f\\x00\\x01\\xb0\\x83@\\x0f\\x00\\x00\\x00\\x04@\\x0f\\x00\\x00\\x00\\x14@\\x0f\\x00\\x01\\xc0g@\\x03\\x00\\xfd\\x00\\n\\x00\\x93\\x00\\x04\\x00\\x0f\\x00\\x06\\x00\\x00\\x00\\xbd\\x00\\x12\\x00\\x94\\x00\\x00\\x00\\x0f\\x00\\x00\\x00\\x1a@\\x0f\\x00\\x00\\x00\\x08@\\x01\\x00~\\x02\\n\\x00\\x94\\x00\\x03\\x00\\x0f\\x00\\x00\\x00\\x00@\\xfd\\x00\\n\\x00\\x94\\x00\\x04\\x00\\x0f\\x00\\x06\\x00\\x00\\x00\\xbd\\x00\\x18\\x00\\x95\\x00\\x00\\x00\\x0f\\x00\\x01`\\x83@\\x0f\\x00\\x01@u@\\x0f\\x00\\x01\\xe0\\x80@\\x02\\x00\\x03\\x02\\x0e\\x00\\x95\\x00\\x03\\x00\\x0f\\x00ffffff\\x02@\\xfd\\x00\\n\\x00\\x95\\x00\\x04\\x00\\x0f\\x00\\x06\\x00\\x00\\x00\\xbd\\x00\\x12\\x00\\x96\\x00\\x00\\x00\\x0f\\x00\\x01p\\x82@\\x0f\\x00\\x00\\x00\\x08@\\x01\\x00\\x03\\x02\\x0e\\x00\\x96\\x00\\x02\\x00\\x0f\\x00ffffff\\x14@~\\x02\\n\\x00\\x96\\x00\\x03\\x00\\x0f\\x00\\x01\\x80f@\\xfd\\x00\\n\\x00\\x96\\x00\\x04\\x00\\x0f\\x00\\x06\\x00\\x00\\x00\\xd7\\x002\\x00\\xba\\x06\\x00\\x00\\xb8\\x01D\\x000\\x000\\x000\\x000\\x00<\\x00D\\x000\\x00<\\x000\\x000\\x000\\x000\\x000\\x00@\\x00D\\x00<\\x000\\x00<\\x000\\x002\\x00<\\x00>\\x02\\x12\\x00\\xb6\\x06\\x00\\x00\\x00\\x00@\\x00\\x00\\x00\\x00\\x00\\x00\\x00\\x96\\x00\\x00\\x00\\x8b\\x08\\x10\\x00\\x8b\\x08\\x00\\x00\\x00\\x00\\x00\\x00\\x00\\x00\\x00\\x00\\x00\\x00\\x92\\x00\\x1d\\x00\\x0f\\x00\\x03\\x00\\x00\\x00\\x00\\x00\\x00\\x01\\x00\\x00\\x00\\x00\\x00\\x00\\x00\\xef\\x00\\x06\\x00\\x00\\x007\\x00\\x00\\x00g\\x08\\x17\\x00g\\x08\\x00\\x00\\x00\\x00\\x00\\x00\\x00\\x00\\x00\\x00\\x02\\x00\\x01\\xff\\xff\\xff\\xff\\x03D\\x00\\x00\\n\\x00\\x00\\x00\\x00\\x00\\x00\\x00\\x00\\x00\\x00\\x00\\x00\\x00\\x00\\x00\\x00\\x00\\x00\\x00\\x00\\x00\\x00\\x00\\x00\\x00\\x00\\x00\\x00\\x00\\x00\\x00\\x00\\x00\\x00\\x00\\x00\\x00\\x00\\x00\\x00\\x00\\x00\\x00\\x00\\x00\\x00\\x00\\x00\\x00\\x00\\x00\\x00\\x00\\x00\\x00\\x00\\xfe\\xff\\x00\\x00\\n\\x00\\x02\\x00\\x00\\x00\\x00\\x00\\x00\\x00\\x00\\x00\\x00\\x00\\x00\\x00\\x00\\x00\\x00\\x00\\x01\\x00\\x00\\x00\\xe0\\x85\\x9f\\xf2\\xf9Oh\\x10\\xab\\x91\\x08\\x00+\\'\\xb3\\xd90\\x00\\x00\\x00\\xb8\\x00\\x00\\x00\\x07\\x00\\x00\\x00\\x01\\x00\\x00\\x00@\\x00\\x00\\x00\\x04\\x00\\x00\\x00H\\x00\\x00\\x00\\x08\\x00\\x00\\x00d\\x00\\x00\\x00\\x12\\x00\\x00\\x00\\x80\\x00\\x00\\x00\\x0c\\x00\\x00\\x00\\x98\\x00\\x00\\x00\\r\\x00\\x00\\x00\\xa4\\x00\\x00\\x00\\x13\\x00\\x00\\x00\\xb0\\x00\\x00\\x00\\x02\\x00\\x00\\x00\\xe4\\x04\\x00\\x00\\x1e\\x00\\x00\\x00\\x14\\x00\\x00\\x00_john aleshunas_\\x00\\x00\\x00\\x00\\x1e\\x00\\x00\\x00\\x14\\x00\\x00\\x00John J Padamadan\\x00\\x00\\x00\\x00\\x1e\\x00\\x00\\x00\\x10\\x00\\x00\\x00Microsoft Excel\\x00@\\x00\\x00\\x00\\x80:\\xafKD\\x16\\xc6\\x01@\\x00\\x00\\x00\\x808yW9\\xa5\\xd7\\x01\\x03\\x00\\x00\\x00\\x00\\x00\\x00\\x00\\x00\\x00\\x00\\x00\\x00\\x00\\x00\\x00\\x00\\x00\\x00\\x00\\x00\\x00\\x00\\x00\\x00\\x00\\x00\\x00\\x00\\x00\\x00\\x00\\x00\\x00\\x00\\x00\\x00\\x00\\x00\\x00\\x00\\x00\\x00\\x00\\x00\\x00\\x00\\x00\\x00\\x00\\x00\\x00\\x00\\x00\\x00\\x00\\x00\\x00\\x00\\x00\\x00\\x00\\x00\\x00\\x00\\x00\\x00\\x00\\x00\\x00\\x00\\x00\\x00\\x00\\x00\\x00\\x00\\x00\\x00\\x00\\x00\\x00\\x00\\x00\\x00\\x00\\x00\\x00\\x00\\x00\\x00\\x00\\x00\\x00\\x00\\x00\\x00\\x00\\x00\\x00\\x00\\x00\\x00\\x00\\x00\\x00\\x00\\x00\\x00\\x00\\x00\\x00\\x00\\x00\\x00\\x00\\x00\\x00\\x00\\x00\\x00\\x00\\x00\\x00\\x00\\x00\\x00\\x00\\x00\\x00\\x00\\x00\\x00\\x00\\x00\\x00\\x00\\x00\\x00\\x00\\x00\\x00\\x00\\x00\\x00\\x00\\x00\\x00\\x00\\x00\\x00\\x00\\x00\\x00\\x00\\x00\\x00\\x00\\x00\\x00\\x00\\x00\\x00\\x00\\x00\\x00\\x00\\x00\\x00\\x00\\x00\\x00\\x00\\x00\\x00\\x00\\x00\\x00\\x00\\x00\\x00\\x00\\x00\\x00\\x00\\x00\\x00\\x00\\x00\\x00\\x00\\x00\\x00\\x00\\x00\\x00\\x00\\x00\\x00\\x00\\x00\\x00\\x00\\x00\\x00\\x00\\x00\\x00\\x00\\x00\\x00\\x00\\x00\\x00\\x00\\x00\\x00\\x00\\x00\\x00\\x00\\x00\\x00\\x00\\x00\\x00\\x00\\x00\\x00\\x00\\x00\\x00\\x00\\x00\\x00\\x00\\x00\\x00\\x00\\x00\\x00\\x00\\x00\\x00\\x00\\x00\\x00\\x00\\x00\\x00\\x00\\x00\\x00\\x00\\x00\\x00\\x00\\x00\\x00\\x00\\x00\\x00\\x00\\x00\\x00\\x00\\x00\\x00\\x00\\x00\\x00\\x00\\x00\\x00\\x00\\x00\\x00\\x00\\x00\\x00\\x00\\x00\\x00\\x00\\x00\\x00\\x00\\x00\\x00\\x00\\x00\\x00\\x00\\x00\\x00\\x00\\x00\\x00\\x00\\x00\\x00\\x00\\x00\\x00\\x00\\x00\\x00\\x00\\x00\\x00\\x00\\x00\\x00\\x00\\x00\\x00\\x00\\x00\\x00\\x00\\x00\\x00\\x00\\x00\\x00\\x00\\x00\\x00\\x00\\x00\\x00\\x00\\x00\\x00\\x00\\x00\\x00\\x00\\x00\\x00\\x00\\x00\\x00\\x00\\x00\\x00\\x00\\x00\\x00\\x00\\x00\\x00\\x00\\x00\\x00\\x00\\x00\\x00\\x00\\x00\\x00\\x00\\x00\\x00\\x00\\x00\\x00\\x00\\x00\\x00\\x00\\x00\\x00\\x00\\x00\\x00\\x00\\x00\\x00\\x00\\x00\\x00\\x00\\x00\\x00\\x00\\x00\\x00\\x00\\x00\\x00\\x00\\x00\\x00\\x00\\x00\\x00\\x00\\x00\\x00\\x00\\x00\\x00\\x00\\x00\\x00\\x00\\x00\\x00\\x00\\x00\\x00\\x00\\x00\\x00\\x00\\x00\\x00\\x00\\x00\\x00\\x00\\x00\\x00\\x00\\x00\\x00\\x00\\x00\\x00\\x00\\x00\\x00\\x00\\x00\\x00\\x00\\x00\\x00\\x00\\x00\\x00\\x00\\x00\\x00\\x00\\x00\\x00\\x00\\x00\\x00\\x00\\x00\\x00\\x00\\x00\\x00\\x00\\x00\\x00\\x00\\x00\\x00\\x00\\x00\\x00\\x00\\x00\\x00\\x00\\x00\\x00\\x00\\x00\\x00\\x00\\x00\\x00\\x00\\x00\\x00\\x00\\x00\\x00\\x00\\x00\\x00\\x00\\x00\\x00\\x00\\x00\\x00\\x00\\x00\\x00\\x00\\x00\\x00\\x00\\x00\\x00\\x00\\x00\\x00\\x00\\x00\\x00\\x00\\x00\\x00\\x00\\x00\\x00\\x00\\x00\\x00\\x00\\x00\\x00\\x00\\x00\\x00\\x00\\x00\\x00\\x00\\x00\\x00\\x00\\x00\\x00\\x00\\x00\\x00\\x00\\x00\\x00\\x00\\x00\\x00\\x00\\x00\\x00\\x00\\x00\\x00\\x00\\x00\\x00\\x00\\x00\\x00\\x00\\x00\\x00\\x00\\x00\\x00\\x00\\x00\\x00\\x00\\x00\\x00\\x00\\x00\\x00\\x00\\x00\\x00\\x00\\x00\\x00\\x00\\x00\\x00\\x00\\x00\\x00\\x00\\x00\\x00\\x00\\x00\\x00\\x00\\x00\\x00\\x00\\x00\\x00\\x00\\x00\\x00\\x00\\x00\\x00\\x00\\x00\\x00\\x00\\x00\\x00\\x00\\x00\\x00\\x00\\x00\\x00\\x00\\x00\\x00\\x00\\x00\\x00\\x00\\x00\\x00\\x00\\x00\\x00\\x00\\x00\\x00\\x00\\x00\\x00\\x00\\x00\\x00\\x00\\x00\\x00\\x00\\x00\\x00\\x00\\x00\\x00\\x00\\x00\\x00\\x00\\x00\\x00\\x00\\x00\\x00\\x00\\x00\\x00\\x00\\x00\\x00\\x00\\x00\\x00\\x00\\x00\\x00\\x00\\x00\\x00\\x00\\x00\\x00\\x00\\x00\\x00\\x00\\x00\\x00\\x00\\x00\\x00\\x00\\x00\\x00\\x00\\x00\\x00\\x00\\x00\\x00\\x00\\x00\\x00\\x00\\x00\\x00\\x00\\x00\\x00\\x00\\x00\\x00\\x00\\x00\\x00\\x00\\x00\\x00\\x00\\x00\\x00\\x00\\x00\\x00\\x00\\x00\\x00\\x00\\x00\\x00\\x00\\x00\\x00\\x00\\x00\\x00\\x00\\x00\\x00\\x00\\x00\\x00\\x00\\x00\\x00\\x00\\x00\\x00\\x00\\x00\\x00\\x00\\x00\\x00\\x00\\x00\\x00\\x00\\x00\\x00\\x00\\x00\\x00\\x00\\x00\\x00\\x00\\x00\\x00\\x00\\x00\\x00\\x00\\x00\\x00\\x00\\x00\\x00\\x00\\x00\\x00\\x00\\x00\\x00\\x00\\x00\\x00\\x00\\x00\\x00\\x00\\x00\\x00\\x00\\x00\\x00\\x00\\x00\\x00\\x00\\x00\\x00\\x00\\x00\\x00\\x00\\x00\\x00\\x00\\x00\\x00\\x00\\x00\\x00\\x00\\x00\\x00\\x00\\x00\\x00\\x00\\x00\\x00\\x00\\x00\\x00\\x00\\x00\\x00\\x00\\x00\\x00\\x00\\x00\\x00\\x00\\x00\\x00\\x00\\x00\\x00\\x00\\x00\\x00\\x00\\x00\\x00\\x00\\x00\\x00\\x00\\x00\\x00\\x00\\x00\\x00\\x00\\x00\\x00\\x00\\x00\\x00\\x00\\x00\\x00\\x00\\x00\\x00\\x00\\x00\\x00\\x00\\x00\\x00\\x00\\x00\\x00\\x00\\x00\\x00\\x00\\x00\\x00\\x00\\x00\\x00\\x00\\x00\\x00\\x00\\x00\\x00\\x00\\x00\\x00\\x00\\x00\\x00\\x00\\x00\\x00\\x00\\x00\\x00\\x00\\x00\\x00\\x00\\x00\\x00\\x00\\x00\\x00\\x00\\x00\\x00\\x00\\x00\\x00\\x00\\x00\\x00\\x00\\x00\\x00\\x00\\x00\\x00\\x00\\x00\\x00\\x00\\x00\\x00\\x00\\x00\\x00\\x00\\x00\\x00\\x00\\x00\\x00\\x00\\x00\\x00\\x00\\x00\\x00\\x00\\x00\\x00\\x00\\x00\\x00\\x00\\x00\\x00\\x00\\x00\\x00\\x00\\x00\\x00\\x00\\x00\\x00\\x00\\x00\\x00\\x00\\x00\\x00\\x00\\x00\\x00\\x00\\x00\\x00\\x00\\x00\\x00\\x00\\x00\\x00\\x00\\x00\\x00\\x00\\x00\\x00\\x00\\x00\\x00\\x00\\x00\\x00\\x00\\x00\\x00\\x00\\x00\\x00\\x00\\x00\\x00\\x00\\x00\\x00\\x00\\x00\\x00\\x00\\x00\\x00\\x00\\x00\\x00\\x00\\x00\\x00\\x00\\x00\\x00\\x00\\x00\\x00\\x00\\x00\\x00\\x00\\x00\\x00\\x00\\x00\\x00\\x00\\x00\\x00\\x00\\x00\\x00\\x00\\x00\\x00\\x00\\x00\\x00\\x00\\x00\\x00\\x00\\x00\\x00\\x00\\x00\\x00\\x00\\x00\\x00\\x00\\x00\\x00\\x00\\x00\\x00\\x00\\x00\\x00\\x00\\x00\\x00\\x00\\x00\\x00\\x00\\x00\\x00\\x00\\x00\\x00\\x00\\x00\\x00\\x00\\x00\\x00\\x00\\x00\\x00\\x00\\x00\\x00\\x00\\x00\\x00\\x00\\x00\\x00\\x00\\x00\\x00\\x00\\x00\\x00\\x00\\x00\\x00\\x00\\x00\\x00\\x00\\x00\\x00\\x00\\x00\\x00\\x00\\x00\\x00\\x00\\x00\\x00\\x00\\x00\\x00\\x00\\x00\\x00\\x00\\x00\\x00\\x00\\x00\\x00\\x00\\x00\\x00\\x00\\x00\\x00\\x00\\x00\\x00\\x00\\x00\\x00\\x00\\x00\\x00\\x00\\x00\\x00\\x00\\x00\\x00\\x00\\x00\\x00\\x00\\x00\\x00\\x00\\x00\\x00\\x00\\x00\\x00\\x00\\x00\\x00\\x00\\x00\\x00\\x00\\x00\\x00\\x00\\x00\\x00\\x00\\x00\\x00\\x00\\x00\\x00\\x00\\x00\\x00\\x00\\x00\\x00\\x00\\x00\\x00\\x00\\x00\\x00\\x00\\x00\\x00\\x00\\x00\\x00\\x00\\x00\\x00\\x00\\x00\\x00\\x00\\x00\\x00\\x00\\x00\\x00\\x00\\x00\\x00\\x00\\x00\\x00\\x00\\x00\\x00\\x00\\x00\\x00\\x00\\x00\\x00\\x00\\x00\\x00\\x00\\x00\\x00\\x00\\x00\\x00\\x00\\x00\\x00\\x00\\x00\\x00\\x00\\x00\\x00\\x00\\x00\\x00\\x00\\x00\\x00\\x00\\x00\\x00\\x00\\x00\\x00\\x00\\x00\\x00\\x00\\x00\\x00\\x00\\x00\\x00\\x00\\x00\\x00\\x00\\x00\\x00\\x00\\x00\\x00\\x00\\x00\\x00\\x00\\x00\\x00\\x00\\x00\\x00\\x00\\x00\\x00\\x00\\x00\\x00\\x00\\x00\\x00\\x00\\x00\\x00\\x00\\x00\\x00\\x00\\x00\\x00\\x00\\x00\\x00\\x00\\x00\\x00\\x00\\x00\\x00\\x00\\x00\\x00\\x00\\x00\\x00\\x00\\x00\\x00\\x00\\x00\\x00\\x00\\x00\\x00\\x00\\x00\\x00\\x00\\x00\\x00\\x00\\x00\\x00\\x00\\x00\\x00\\x00\\x00\\x00\\x00\\x00\\x00\\x00\\x00\\x00\\x00\\x00\\x00\\x00\\x00\\x00\\x00\\x00\\x00\\x00\\x00\\x00\\x00\\x00\\x00\\x00\\x00\\x00\\x00\\x00\\x00\\x00\\x00\\x00\\x00\\x00\\x00\\x00\\x00\\x00\\x00\\x00\\x00\\x00\\x00\\x00\\x00\\x00\\x00\\x00\\x00\\x00\\x00\\x00\\x00\\x00\\x00\\x00\\x00\\x00\\x00\\x00\\x00\\x00\\x00\\x00\\x00\\x00\\x00\\x00\\x00\\x00\\x00\\x00\\x00\\x00\\x00\\x00\\x00\\x00\\x00\\x00\\x00\\x00\\x00\\x00\\x00\\x00\\x00\\x00\\x00\\x00\\x00\\x00\\x00\\x00\\x00\\x00\\x00\\x00\\x00\\x00\\x00\\x00\\x00\\x00\\x00\\x00\\x00\\x00\\x00\\x00\\x00\\x00\\x00\\x00\\x00\\x00\\x00\\x00\\x00\\x00\\x00\\x00\\x00\\x00\\x00\\x00\\x00\\x00\\x00\\x00\\x00\\x00\\x00\\x00\\x00\\x00\\x00\\x00\\x00\\x00\\x00\\x00\\x00\\x00\\x00\\x00\\x00\\x00\\x00\\x00\\x00\\x00\\x00\\x00\\x00\\x00\\x00\\x00\\x00\\x00\\x00\\x00\\x00\\x00\\x00\\x00\\x00\\x00\\x00\\x00\\x00\\x00\\x00\\x00\\x00\\x00\\x00\\x00\\x00\\x00\\x00\\x00\\x00\\x00\\x00\\x00\\x00\\x00\\x00\\x00\\x00\\x00\\x00\\x00\\x00\\x00\\x00\\x00\\x00\\x00\\x00\\x00\\x00\\x00\\x00\\x00\\x00\\x00\\x00\\x00\\x00\\x00\\x00\\x00\\x00\\x00\\x00\\x00\\x00\\x00\\x00\\x00\\x00\\x00\\x00\\x00\\x00\\x00\\x00\\x00\\x00\\x00\\x00\\x00\\x00\\x00\\x00\\x00\\x00\\x00\\x00\\x00\\x00\\x00\\x00\\x00\\x00\\x00\\x00\\x00\\x00\\x00\\x00\\x00\\x00\\x00\\x00\\x00\\x00\\x00\\x00\\x00\\x00\\x00\\x00\\x00\\x00\\x00\\x00\\x00\\x00\\x00\\x00\\x00\\x00\\x00\\x00\\x00\\x00\\x00\\x00\\x00\\x00\\x00\\x00\\x00\\x00\\x00\\x00\\x00\\x00\\x00\\x00\\x00\\x00\\x00\\x00\\x00\\x00\\x00\\x00\\x00\\x00\\x00\\x00\\x00\\x00\\x00\\x00\\x00\\x00\\x00\\x00\\x00\\x00\\x00\\x00\\x00\\x00\\x00\\x00\\x00\\x00\\x00\\x00\\x00\\x00\\x00\\x00\\x00\\x00\\x00\\x00\\x00\\x00\\x00\\x00\\x00\\x00\\x00\\x00\\x00\\x00\\x00\\x00\\x00\\x00\\x00\\x00\\x00\\x00\\x00\\x00\\x00\\x00\\x00\\x00\\x00\\x00\\x00\\x00\\x00\\x00\\x00\\x00\\x00\\x00\\x00\\x00\\x00\\x00\\x00\\x00\\x00\\x00\\x00\\x00\\x00\\x00\\x00\\x00\\x00\\x00\\x00\\x00\\x00\\x00\\x00\\x00\\x00\\x00\\x00\\x00\\x00\\x00\\x00\\x00\\x00\\x00\\x00\\x00\\x00\\x00\\x00\\x00\\x00\\x00\\x00\\x00\\x00\\x00\\x00\\x00\\x00\\x00\\x00\\x00\\x00\\x00\\x00\\x00\\x00\\x00\\x00\\x00\\x00\\x00\\x00\\x00\\x00\\x00\\x00\\x00\\x00\\x00\\x00\\x00\\x00\\x00\\x00\\x00\\x00\\x00\\x00\\x00\\x00\\x00\\x00\\x00\\x00\\x00\\x00\\x00\\x00\\x00\\x00\\x00\\x00\\x00\\x00\\x00\\x00\\x00\\x00\\x00\\x00\\x00\\x00\\x00\\x00\\x00\\x00\\x00\\x00\\x00\\x00\\x00\\x00\\x00\\x00\\x00\\x00\\x00\\x00\\x00\\x00\\x00\\x00\\x00\\x00\\x00\\x00\\x00\\x00\\x00\\x00\\x00\\x00\\x00\\x00\\x00\\x00\\x00\\x00\\x00\\x00\\x00\\x00\\x00\\x00\\x00\\x00\\x00\\x00\\x00\\x00\\x00\\x00\\x00\\x00\\x00\\x00\\x00\\x00\\x00\\x00\\x00\\x00\\x00\\x00\\x00\\x00\\x00\\x00\\x00\\x00\\x00\\x00\\x00\\x00\\x00\\x00\\x00\\x00\\x00\\x00\\x00\\x00\\x00\\x00\\x00\\x00\\x00\\x00\\x00\\x00\\x00\\x00\\x00\\x00\\x00\\x00\\x00\\x00\\x00\\x00\\x00\\x00\\x00\\x00\\x00\\x00\\x00\\x00\\x00\\x00\\x00\\x00\\x00\\x00\\x00\\x00\\x00\\x00\\x00\\x00\\x00\\x00\\x00\\x00\\x00\\x00\\x00\\x00\\x00\\x00\\x00\\x00\\x00\\x00\\x00\\x00\\x00\\x00\\x00\\x00\\x00\\x00\\x00\\x00\\x00\\x00\\x00\\x00\\x00\\x00\\x00\\x00\\x00\\x00\\x00\\x00\\x00\\x00\\x00\\x00\\x00\\x00\\x00\\x00\\x00\\x00\\x00\\x00\\x00\\x00\\x00\\x00\\x00\\x00\\x00\\x00\\x00\\x00\\x00\\x00\\x00\\x00\\x00\\x00\\x00\\x00\\x00\\x00\\x00\\x00\\x00\\x00\\x00\\x00\\x00\\x00\\x00\\x00\\x00\\x00\\x00\\x00\\x00\\x00\\x00\\x00\\x00\\x00\\x00\\x00\\x00\\x00\\x00\\x00\\x00\\x00\\x00\\x00\\x00\\x00\\x00\\x00\\x00\\x00\\x00\\x00\\x00\\x00\\x00\\x00\\x00\\x00\\x00\\x00\\x00\\x00\\x00\\x00\\x00\\x00\\x00\\x00\\x00\\x00\\x00\\x00\\x00\\x00\\x00\\x00\\x00\\x00\\x00\\x00\\x00\\x00\\x00\\x00\\x00\\x00\\x00\\x00\\x00\\x00\\x00\\x00\\x00\\x00\\x00\\x00\\x00\\x00\\x00\\x00\\x00\\x00\\x00\\x00\\x00\\x00\\x00\\x00\\x00\\x00\\x00\\x00\\x00\\x00\\x00\\x00\\x00\\x00\\x00\\x00\\x00\\x00\\x00\\x00\\x00\\x00\\x00\\x00\\x00\\x00\\x00\\x00\\x00\\x00\\x00\\x00\\x00\\x00\\x00\\x00\\x00\\x00\\x00\\x00\\x00\\x00\\x00\\x00\\x00\\x00\\x00\\x00\\x00\\x00\\x00\\x00\\x00\\x00\\x00\\x00\\x00\\x00\\x00\\x00\\x00\\x00\\x00\\x00\\x00\\x00\\x00\\x00\\x00\\x00\\x00\\x00\\x00\\x00\\x00\\x00\\x00\\x00\\x00\\x00\\x00\\x00\\x00\\x00\\x00\\x00\\x00\\x00\\x00\\x00\\x00\\x00\\x00\\x00\\x00\\x00\\x00\\x00\\x00\\x00\\x00\\x00\\x00\\x00\\x00\\x00\\x00\\x00\\x00\\x00\\x00\\x00\\x00\\x00\\x00\\x00\\x00\\x00\\x00\\x00\\x00\\x00\\x00\\x00\\x00\\x00\\x00\\x00\\x00\\x00\\x00\\x00\\x00\\x00\\x00\\x00\\x00\\x00\\x00\\x00\\x00\\x00\\x00\\x00\\x00\\x00\\x00\\x00\\x00\\x00\\x00\\x00\\x00\\x00\\x00\\x00\\x00\\x00\\x00\\x00\\x00\\x00\\x00\\x00\\x00\\x00\\x00\\x00\\x00\\x00\\x00\\x00\\x00\\x00\\x00\\x00\\x00\\x00\\x00\\x00\\x00\\x00\\x00\\x00\\x00\\x00\\x00\\x00\\x00\\x00\\x00\\x00\\x00\\x00\\x00\\x00\\x00\\x00\\x00\\x00\\x00\\x00\\x00\\x00\\x00\\x00\\x00\\x00\\x00\\x00\\x00\\x00\\x00\\x00\\x00\\x00\\x00\\x00\\x00\\x00\\x00\\x00\\x00\\x00\\x00\\x00\\x00\\x00\\x00\\x00\\x00\\x00\\x00\\x00\\x00\\x00\\x00\\x00\\x00\\x00\\x00\\x00\\x00\\x00\\x00\\x00\\x00\\x00\\x00\\x00\\x00\\x00\\x00\\x00\\x00\\x00\\x00\\x00\\x00\\x00\\x00\\x00\\x00\\x00\\x00\\x00\\x00\\x00\\x00\\x00\\x00\\x00\\x00\\x00\\x00\\x00\\x00\\x00\\x00\\x00\\x00\\x00\\x00\\x00\\x00\\x00\\x00\\x00\\x00\\x00\\x00\\x00\\x00\\x00\\x00\\x00\\x00\\x00\\x00\\x00\\x00\\x00\\x00\\x00\\x00\\x00\\x00\\x00\\x00\\x00\\x00\\x00\\x00\\x00\\x00\\x00\\x00\\x00\\x00\\x00\\x00\\x00\\x00\\x00\\x00\\x00\\x00\\x00\\x00\\x00\\x00\\x00\\x00\\x00\\x00\\x00\\x00\\x00\\x00\\x00\\x00\\x00\\x00\\x00\\x00\\x00\\x00\\x00\\x00\\x00\\x00\\x00\\x00\\x00\\x00\\x00\\x00\\x00\\x00\\x00\\x00\\x00\\x00\\x00\\x00\\x00\\x00\\x00\\x00\\x00\\x00\\x00\\x00\\x00\\x00\\x00\\x00\\x00\\x00\\x00\\x00\\x00\\x00\\x00\\x00\\x00\\x00\\x00\\x00\\x00\\x00\\x00\\x00\\x00\\x00\\x00\\x00\\x00\\x00\\x00\\x00\\x00\\x00\\x00\\x00\\x00\\x00\\x00\\x00\\x00\\x00\\x00\\x00\\x00\\x00\\x00\\x00\\x00\\x00\\x00\\x00\\x00\\x00\\x00\\x00\\x00\\x00\\x00\\x00\\x00\\x00\\x00\\x00\\x00\\x00\\x00\\x00\\x00\\x00\\x00\\x00\\x00\\x00\\x00\\x00\\x00\\x00\\x00\\x00\\x00\\x00\\x00\\x00\\x00\\x00\\x00\\x00\\x00\\x00\\x00\\x00\\x00\\x00\\x00\\x00\\x00\\x00\\x00\\x00\\x00\\x00\\x00\\x00\\x00\\x00\\x00\\x00\\x00\\x00\\x00\\x00\\x00\\x00\\x00\\x00\\x00\\x00\\x00\\x00\\x00\\x00\\x00\\x00\\x00\\x00\\x00\\x00\\x00\\x00\\x00\\x00\\x00\\x00\\x00\\x00\\x00\\x00\\x00\\x00\\x00\\x00\\x00\\x00\\x00\\x00\\x00\\x00\\x00\\x00\\x00\\x00\\x00\\x00\\x00\\x00\\x00\\x00\\x00\\x00\\x00\\x00\\x00\\x00\\x00\\x00\\x00\\x00\\x00\\x00\\x00\\x00\\x00\\x00\\x00\\x00\\x00\\x00\\x00\\x00\\x00\\x00\\x00\\x00\\x00\\x00\\x00\\x00\\x00\\x00\\x00\\x00\\x00\\x00\\x00\\x00\\x00\\x00\\x00\\x00\\x00\\x00\\x00\\x00\\x00\\x00\\x00\\x00\\x00\\x00\\x00\\x00\\x00\\x00\\x00\\x00\\x00\\x00\\x00\\x00\\x00\\x00\\x00\\x00\\x00\\x00\\x00\\x00\\x00\\x00\\x00\\x00\\x00\\x00\\x00\\x00\\x00\\x00\\x00\\x00\\x00\\x00\\x00\\x00\\x00\\x00\\x00\\x00\\x00\\x00\\x00\\x00\\x00\\x00\\x00\\x00\\x00\\x00\\x00\\x00\\x00\\x00\\x00\\x00\\x00\\x00\\x00\\x00\\x00\\x00\\x00\\x00\\x00\\x00\\x00\\x00\\x00\\x00\\x00\\x00\\x00\\x00\\x00\\x00\\x00\\x00\\x00\\x00\\x00\\x00\\x00\\x00\\x00\\x00\\x00\\x00\\x00\\x00\\x00\\x00\\x00\\x00\\x00\\x00\\x00\\x00\\x00\\x00\\x00\\x00\\x00\\x00\\x00\\x00\\x00\\x00\\x00\\x00\\x00\\x00\\x00\\x00\\x00\\x00\\x00\\x00\\x00\\x00\\x00\\x00\\x00\\x00\\x00\\x00\\x00\\x00\\x00\\x00\\x00\\x00\\x00\\x00\\x00\\x00\\x00\\x00\\x00\\x00\\x00\\x00\\x00\\x00\\x00\\x00\\x00\\x00\\x00\\x00\\x00\\x00\\x00\\x00\\x00\\x00\\x00\\x00\\x00\\x00\\x00\\x00\\x00\\x00\\x00\\x00\\x00\\x00\\x00\\x00\\x00\\x00\\x00\\x00\\x00\\x00\\x00\\x00\\x00\\x00\\x00\\x00\\x00\\x00\\x00\\x00\\x00\\x00\\x00\\x00\\x00\\x00\\x00\\x00\\x00\\x00\\x00\\x00\\x00\\x00\\x00\\x00\\x00\\x00\\x00\\x00\\x00\\x00\\x00\\x00\\x00\\x00\\x00\\x00\\x00\\x00\\x00\\x00\\x00\\x00\\x00\\x00\\x00\\x00\\x00\\x00\\x00\\x00\\x00\\x00\\x00\\x00\\x00\\x00\\x00\\x00\\x00\\x00\\x00\\x00\\x00\\x00\\x00\\x00\\x00\\x00\\x00\\x00\\x00\\x00\\x00\\x00\\x00\\x00\\x00\\x00\\x00\\x00\\x00\\x00\\x00\\x00\\x00\\x00\\x00\\x00\\x00\\x00\\x00\\x00\\x00\\x00\\x00\\x00\\x00\\x00\\x00\\x00\\x00\\x00\\x00\\x00\\x00\\x00\\x00\\x00\\x00\\x00\\x00\\x00\\x00\\x00\\x00\\x00\\x00\\x00\\x00\\x00\\x00\\x00\\x00\\x00\\x00\\x00\\x00\\x00\\x00\\x00\\x00\\x00\\x00\\x00\\x00\\x00\\x00\\x00\\x00\\x00\\x00\\x00\\x00\\x00\\x00\\x00\\x00\\x00\\x00\\x00\\x00\\x00\\x00\\x00\\x00\\x00\\x00\\x00\\x00\\x00\\x00\\x00\\x00\\x00\\x00\\x00\\x00\\x00\\x00\\x00\\x00\\x00\\x00\\x00\\x00\\x00\\x00\\x00\\x00\\x00\\x00\\x00\\x00\\x00\\x00\\x00\\x00\\x00\\x00\\x00\\x00\\x00\\x00\\x00\\x00\\x00\\x00\\x00\\x00\\x00\\x00\\x00\\x00\\x00\\x00\\x00\\x00\\x00\\x00\\x00\\x00\\x00\\x00\\x00\\x00\\x00\\x00\\x00\\x00\\x00\\x00\\x00\\x00\\x00\\x00\\x00\\x00\\x00\\x00\\x00\\x00\\x00\\x00\\x00\\x00\\x00\\x00\\x00\\x00\\x00\\x00\\x00\\x00\\x00\\x00\\x00\\x00\\x00\\x00\\x00\\x00\\x00\\x00\\x00\\x00\\x00\\x00\\x00\\x00\\x00\\x00\\x00\\x00\\x00\\x00\\x00\\x00\\x00\\x00\\x00\\x00\\x00\\x00\\x00\\x00\\x00\\x00\\x00\\x00\\x00\\x00\\x00\\x00\\x00\\x00\\x00\\x00\\x00\\x00\\x00\\x00\\x00\\x00\\x00\\x00\\x00\\x00\\x00\\x00\\x00\\x00\\x00\\x00\\x00\\x00\\x00\\x00\\x00\\x00\\x00\\x00\\x00\\x00\\x00\\x00\\x00\\x00\\x00\\x00\\x00\\x00\\x00\\x00\\x00\\x00\\x00\\x00\\x00\\x00\\x00\\x00\\x00\\x00\\x00\\x00\\x00\\x00\\x00\\x00\\x00\\x00\\x00\\x00\\x00\\x00\\x00\\x00\\x00\\x00\\x00\\x00\\x00\\x00\\x00\\x00\\x00\\x00\\x00\\x00\\x00\\x00\\x00\\x00\\x00\\x00\\x00\\x00\\x00\\x00\\x00\\x00\\x00\\x00\\x00\\x00\\x00\\x00\\x00\\x00\\x00\\x00\\x00\\x00\\x00\\x00\\x00\\x00\\x00\\x00\\x00\\x00\\x00\\x00\\x00\\x00\\x00\\x00\\x00\\x00\\x00\\x00\\x00\\x00\\x00\\x00\\x00\\x00\\x00\\x00\\x00\\x00\\x00\\x00\\x00\\x00\\x00\\x00\\x00\\x00\\x00\\x00\\x00\\x00\\x00\\x00\\x00\\x00\\x00\\x00\\x00\\x00\\x00\\x00\\x00\\x00\\x00\\x00\\x00\\x00\\x00\\x00\\x00\\x00\\x00\\x00\\x00\\x00\\x00\\x00\\x00\\x00\\x00\\x00\\x00\\x00\\x00\\x00\\x00\\x00\\x00\\x00\\x00\\x00\\x00\\x00\\x00\\x00\\x00\\x00\\x00\\x00\\x00\\x00\\x00\\x00\\x00\\x00\\x00\\x00\\x00\\x00\\x00\\x00\\x00\\x00\\x00\\x00\\x00\\x00\\x00\\x00\\x00\\x00\\x00\\x00\\x00\\x00\\x00\\x00\\x00\\x00\\x00\\x00\\x00\\x00\\x00\\x00\\x00\\x00\\x00\\x00\\x00\\x00\\x00\\x00\\x00\\x00\\x00\\x00\\x00\\x00\\x00\\x00\\x00\\x00\\x00\\x00\\x00\\x00\\x00\\x00\\x00\\x00\\x00\\x00\\x00\\x00\\x00\\x00\\x00\\x00\\x00\\x00\\x00\\x00\\x00\\x00\\x00\\x00\\x00\\x00\\x00\\x00\\x00\\x00\\x00\\x00\\x00\\x00\\x00\\x00\\x00\\x00\\x00\\x00\\x00\\x00\\x00\\x00\\x00\\x00\\x00\\x00\\x00\\x00\\x00\\x00\\x00\\x00\\x00\\x00\\x00\\x00\\x00\\x00\\x00\\x00\\x00\\x00\\x00\\x00\\x00\\x00\\x00\\x00\\x00\\x00\\x00\\x00\\x00\\x00\\x00\\x00\\x00\\x00\\x00\\x00\\x00\\x00\\x00\\x00\\x00\\x00\\x00\\x00\\x00\\x00\\x00\\x00\\x00\\x00\\x00\\x00\\x00\\x00\\x00\\x00\\x00\\x00\\x00\\x00\\x00\\x00\\x00\\x00\\x00\\x00\\x00\\x00\\x00\\x00\\x00\\x00\\x00\\x00\\x00\\x00\\x00\\x00\\x00\\x00\\x00\\x00\\x00\\x00\\x00\\x00\\x00\\x00\\x00\\x00\\x00\\x00\\x00\\x00\\x00\\x00\\x00\\x00\\x00\\x00\\x00\\x00\\x00\\x00\\x00\\x00\\x00\\x00\\x00\\x00\\x00\\x00\\x00\\x00\\x00\\x00\\x00\\x00\\x00\\x00\\x00\\x00\\x00\\x00\\x00\\x00\\x00\\x00\\x00\\x00\\x00\\x00\\x00\\x00\\x00\\x00\\x00\\x00\\x00\\x00\\x00\\x00\\x00\\x00\\x00\\x00\\x00\\x00\\x00\\x00\\x00\\x00\\x00\\x00\\x00\\x00\\x00\\x00\\x00\\x00\\x00\\x00\\x00\\x00\\x00\\x00\\x00\\x00\\x00\\x00\\x00\\x00\\x00\\x00\\x00\\x00\\x00\\x00\\x00\\x00\\x00\\x00\\x00\\x00\\x00\\x00\\x00\\x00\\x00\\x00\\x00\\x00\\x00\\x00\\x00\\x00\\x00\\x00\\x00\\x00\\x00\\x00\\x00\\x00\\x00\\x00\\x00\\x00\\x00\\x00\\x00\\x00\\x00\\x00\\x00\\x00\\x00\\x00\\x00\\x00\\x00\\x00\\x00\\x00\\x00\\x00\\x00\\x00\\x00\\x00\\x00\\x00\\x00\\x00\\x00\\x00\\x00\\x00\\x00\\x00\\x00\\x00\\x00\\x00\\x00\\x00\\x00\\x00\\x00\\x00\\x00\\x00\\x00\\x00\\x00\\x00\\x00\\x00\\x00\\x00\\x00\\x00\\x00\\x00\\x00\\x00\\x00\\x00\\x00\\x00\\x00\\x00\\x00\\x00\\x00\\x00\\x00\\x00\\x00\\x00\\x00\\x00\\x00\\x00\\x00\\x00\\x00\\x00\\x00\\x00\\x00\\x00\\x00\\x00\\x00\\x00\\x00\\x00\\x00\\x00\\x00\\x00\\x00\\x00\\x00\\x00\\x00\\x00\\x00\\x00\\x00\\x00\\x00\\x00\\x00\\x00\\x00\\x00\\x00\\x00\\x00\\x00\\x00\\x00\\x00\\x00\\x00\\x00\\x00\\x00\\x00\\x00\\x00\\x00\\x00\\x00\\x00\\x00\\x00\\x00\\x00\\x00\\x00\\x00\\x00\\x00\\x00\\x00\\x00\\x00\\x00\\x00\\x00\\x00\\x00\\x00\\x00\\x00\\x00\\x00\\x00\\x00\\x00\\x00\\x00\\x00\\x00\\x00\\x00\\x00\\x00\\x00\\x00\\x00\\x00\\x00\\x00\\x00\\x00\\x00\\x00\\x00\\x00\\x00\\x00\\x00\\x00\\x00\\x00\\x00\\x00\\x00\\x00\\x00\\x00\\x00\\x00\\x00\\x00\\x00\\x00\\x00\\x00\\x00\\x00\\x00\\x00\\x00\\x00\\x00\\x00\\x00\\x00\\x00\\x00\\x00\\x00\\x00\\x00\\x00\\x00\\x00\\x00\\x00\\x00\\x00\\x00\\x00\\x00\\x00\\x00\\x00\\x00\\x00\\x00\\x00\\x00\\x00\\x00\\x00\\x00\\x00\\x00\\x00\\x00\\x00\\x00\\x00\\x00\\x00\\x00\\x00\\x00\\x00\\x00\\x00\\x00\\x00\\x00\\x00\\x00\\x00\\x00\\x00\\x00\\x00\\x00\\x00\\x00\\x00\\x00\\x00\\x00\\x00\\xfe\\xff\\x00\\x00\\n\\x00\\x02\\x00\\x00\\x00\\x00\\x00\\x00\\x00\\x00\\x00\\x00\\x00\\x00\\x00\\x00\\x00\\x00\\x00\\x01\\x00\\x00\\x00\\x02\\xd5\\xcd\\xd5\\x9c.\\x1b\\x10\\x93\\x97\\x08\\x00+,\\xf9\\xae0\\x00\\x00\\x00\\xd4\\x00\\x00\\x00\\t\\x00\\x00\\x00\\x01\\x00\\x00\\x00P\\x00\\x00\\x00\\x0f\\x00\\x00\\x00X\\x00\\x00\\x00\\x17\\x00\\x00\\x00t\\x00\\x00\\x00\\x0b\\x00\\x00\\x00|\\x00\\x00\\x00\\x10\\x00\\x00\\x00\\x84\\x00\\x00\\x00\\x13\\x00\\x00\\x00\\x8c\\x00\\x00\\x00\\x16\\x00\\x00\\x00\\x94\\x00\\x00\\x00\\r\\x00\\x00\\x00\\x9c\\x00\\x00\\x00\\x0c\\x00\\x00\\x00\\xaf\\x00\\x00\\x00\\x02\\x00\\x00\\x00\\xe4\\x04\\x00\\x00\\x1e\\x00\\x00\\x00\\x14\\x00\\x00\\x00Webster University\\x00\\x00\\x03\\x00\\x00\\x00\\x00\\x00\\x10\\x00\\x0b\\x00\\x00\\x00\\x00\\x00\\x00\\x00\\x0b\\x00\\x00\\x00\\x00\\x00\\x00\\x00\\x0b\\x00\\x00\\x00\\x00\\x00\\x00\\x00\\x0b\\x00\\x00\\x00\\x00\\x00\\x00\\x00\\x1e\\x10\\x00\\x00\\x01\\x00\\x00\\x00\\x07\\x00\\x00\\x00Sheet1\\x00\\x0c\\x10\\x00\\x00\\x02\\x00\\x00\\x00\\x1e\\x00\\x00\\x00\\x0b\\x00\\x00\\x00Worksheets\\x00\\x03\\x00\\x00\\x00\\x01\\x00\\x00\\x00\\x00\\x00\\x00\\x00\\x00\\x00\\x00\\x00\\x00\\x00\\x00\\x00\\x00\\x00\\x00\\x00\\x00\\x00\\x00\\x00\\x00\\x00\\x00\\x00\\x00\\x00\\x00\\x00\\x00\\x00\\x00\\x00\\x00\\x00\\x00\\x00\\x00\\x00\\x00\\x00\\x00\\x00\\x00\\x00\\x00\\x00\\x00\\x00\\x00\\x00\\x00\\x00\\x00\\x00\\x00\\x00\\x00\\x00\\x00\\x00\\x00\\x00\\x00\\x00\\x00\\x00\\x00\\x00\\x00\\x00\\x00\\x00\\x00\\x00\\x00\\x00\\x00\\x00\\x00\\x00\\x00\\x00\\x00\\x00\\x00\\x00\\x00\\x00\\x00\\x00\\x00\\x00\\x00\\x00\\x00\\x00\\x00\\x00\\x00\\x00\\x00\\x00\\x00\\x00\\x00\\x00\\x00\\x00\\x00\\x00\\x00\\x00\\x00\\x00\\x00\\x00\\x00\\x00\\x00\\x00\\x00\\x00\\x00\\x00\\x00\\x00\\x00\\x00\\x00\\x00\\x00\\x00\\x00\\x00\\x00\\x00\\x00\\x00\\x00\\x00\\x00\\x00\\x00\\x00\\x00\\x00\\x00\\x00\\x00\\x00\\x00\\x00\\x00\\x00\\x00\\x00\\x00\\x00\\x00\\x00\\x00\\x00\\x00\\x00\\x00\\x00\\x00\\x00\\x00\\x00\\x00\\x00\\x00\\x00\\x00\\x00\\x00\\x00\\x00\\x00\\x00\\x00\\x00\\x00\\x00\\x00\\x00\\x00\\x00\\x00\\x00\\x00\\x00\\x00\\x00\\x00\\x00\\x00\\x00\\x00\\x00\\x00\\x00\\x00\\x00\\x00\\x00\\x00\\x00\\x00\\x00\\x00\\x00\\x00\\x00\\x00\\x00\\x00\\x00\\x00\\x00\\x00\\x00\\x00\\x00\\x00\\x00\\x00\\x00\\x00\\x00\\x00\\x00\\x00\\x00\\x00\\x00\\x00\\x00\\x00\\x00\\x00\\x00\\x00\\x00\\x00\\x00\\x00\\x00\\x00\\x00\\x00\\x00\\x00\\x00\\x00\\x00\\x00\\x00\\x00\\x00\\x00\\x00\\x00\\x00\\x00\\x00\\x00\\x00\\x00\\x00\\x00\\x00\\x00\\x00\\x00\\x00\\x00\\x00\\x00\\x00\\x00\\x00\\x00\\x00\\x00\\x00\\x00\\x00\\x00\\x00\\x00\\x00\\x00\\x00\\x00\\x00\\x00\\x00\\x00\\x00\\x00\\x00\\x00\\x00\\x00\\x00\\x00\\x00\\x00\\x00\\x00\\x00\\x00\\x00\\x00\\x00\\x00\\x00\\x00\\x00\\x00\\x00\\x00\\x00\\x00\\x00\\x00\\x00\\x00\\x00\\x00\\x00\\x00\\x00\\x00\\x00\\x00\\x00\\x00\\x00\\x00\\x00\\x00\\x00\\x00\\x00\\x00\\x00\\x00\\x00\\x00\\x00\\x00\\x00\\x00\\x00\\x00\\x00\\x00\\x00\\x00\\x00\\x00\\x00\\x00\\x00\\x00\\x00\\x00\\x00\\x00\\x00\\x00\\x00\\x00\\x00\\x00\\x00\\x00\\x00\\x00\\x00\\x00\\x00\\x00\\x00\\x00\\x00\\x00\\x00\\x00\\x00\\x00\\x00\\x00\\x00\\x00\\x00\\x00\\x00\\x00\\x00\\x00\\x00\\x00\\x00\\x00\\x00\\x00\\x00\\x00\\x00\\x00\\x00\\x00\\x00\\x00\\x00\\x00\\x00\\x00\\x00\\x00\\x00\\x00\\x00\\x00\\x00\\x00\\x00\\x00\\x00\\x00\\x00\\x00\\x00\\x00\\x00\\x00\\x00\\x00\\x00\\x00\\x00\\x00\\x00\\x00\\x00\\x00\\x00\\x00\\x00\\x00\\x00\\x00\\x00\\x00\\x00\\x00\\x00\\x00\\x00\\x00\\x00\\x00\\x00\\x00\\x00\\x00\\x00\\x00\\x00\\x00\\x00\\x00\\x00\\x00\\x00\\x00\\x00\\x00\\x00\\x00\\x00\\x00\\x00\\x00\\x00\\x00\\x00\\x00\\x00\\x00\\x00\\x00\\x00\\x00\\x00\\x00\\x00\\x00\\x00\\x00\\x00\\x00\\x00\\x00\\x00\\x00\\x00\\x00\\x00\\x00\\x00\\x00\\x00\\x00\\x00\\x00\\x00\\x00\\x00\\x00\\x00\\x00\\x00\\x00\\x00\\x00\\x00\\x00\\x00\\x00\\x00\\x00\\x00\\x00\\x00\\x00\\x00\\x00\\x00\\x00\\x00\\x00\\x00\\x00\\x00\\x00\\x00\\x00\\x00\\x00\\x00\\x00\\x00\\x00\\x00\\x00\\x00\\x00\\x00\\x00\\x00\\x00\\x00\\x00\\x00\\x00\\x00\\x00\\x00\\x00\\x00\\x00\\x00\\x00\\x00\\x00\\x00\\x00\\x00\\x00\\x00\\x00\\x00\\x00\\x00\\x00\\x00\\x00\\x00\\x00\\x00\\x00\\x00\\x00\\x00\\x00\\x00\\x00\\x00\\x00\\x00\\x00\\x00\\x00\\x00\\x00\\x00\\x00\\x00\\x00\\x00\\x00\\x00\\x00\\x00\\x00\\x00\\x00\\x00\\x00\\x00\\x00\\x00\\x00\\x00\\x00\\x00\\x00\\x00\\x00\\x00\\x00\\x00\\x00\\x00\\x00\\x00\\x00\\x00\\x00\\x00\\x00\\x00\\x00\\x00\\x00\\x00\\x00\\x00\\x00\\x00\\x00\\x00\\x00\\x00\\x00\\x00\\x00\\x00\\x00\\x00\\x00\\x00\\x00\\x00\\x00\\x00\\x00\\x00\\x00\\x00\\x00\\x00\\x00\\x00\\x00\\x00\\x00\\x00\\x00\\x00\\x00\\x00\\x00\\x00\\x00\\x00\\x00\\x00\\x00\\x00\\x00\\x00\\x00\\x00\\x00\\x00\\x00\\x00\\x00\\x00\\x00\\x00\\x00\\x00\\x00\\x00\\x00\\x00\\x00\\x00\\x00\\x00\\x00\\x00\\x00\\x00\\x00\\x00\\x00\\x00\\x00\\x00\\x00\\x00\\x00\\x00\\x00\\x00\\x00\\x00\\x00\\x00\\x00\\x00\\x00\\x00\\x00\\x00\\x00\\x00\\x00\\x00\\x00\\x00\\x00\\x00\\x00\\x00\\x00\\x00\\x00\\x00\\x00\\x00\\x00\\x00\\x00\\x00\\x00\\x00\\x00\\x00\\x00\\x00\\x00\\x00\\x00\\x00\\x00\\x00\\x00\\x00\\x00\\x00\\x00\\x00\\x00\\x00\\x00\\x00\\x00\\x00\\x00\\x00\\x00\\x00\\x00\\x00\\x00\\x00\\x00\\x00\\x00\\x00\\x00\\x00\\x00\\x00\\x00\\x00\\x00\\x00\\x00\\x00\\x00\\x00\\x00\\x00\\x00\\x00\\x00\\x00\\x00\\x00\\x00\\x00\\x00\\x00\\x00\\x00\\x00\\x00\\x00\\x00\\x00\\x00\\x00\\x00\\x00\\x00\\x00\\x00\\x00\\x00\\x00\\x00\\x00\\x00\\x00\\x00\\x00\\x00\\x00\\x00\\x00\\x00\\x00\\x00\\x00\\x00\\x00\\x00\\x00\\x00\\x00\\x00\\x00\\x00\\x00\\x00\\x00\\x00\\x00\\x00\\x00\\x00\\x00\\x00\\x00\\x00\\x00\\x00\\x00\\x00\\x00\\x00\\x00\\x00\\x00\\x00\\x00\\x00\\x00\\x00\\x00\\x00\\x00\\x00\\x00\\x00\\x00\\x00\\x00\\x00\\x00\\x00\\x00\\x00\\x00\\x00\\x00\\x00\\x00\\x00\\x00\\x00\\x00\\x00\\x00\\x00\\x00\\x00\\x00\\x00\\x00\\x00\\x00\\x00\\x00\\x00\\x00\\x00\\x00\\x00\\x00\\x00\\x00\\x00\\x00\\x00\\x00\\x00\\x00\\x00\\x00\\x00\\x00\\x00\\x00\\x00\\x00\\x00\\x00\\x00\\x00\\x00\\x00\\x00\\x00\\x00\\x00\\x00\\x00\\x00\\x00\\x00\\x00\\x00\\x00\\x00\\x00\\x00\\x00\\x00\\x00\\x00\\x00\\x00\\x00\\x00\\x00\\x00\\x00\\x00\\x00\\x00\\x00\\x00\\x00\\x00\\x00\\x00\\x00\\x00\\x00\\x00\\x00\\x00\\x00\\x00\\x00\\x00\\x00\\x00\\x00\\x00\\x00\\x00\\x00\\x00\\x00\\x00\\x00\\x00\\x00\\x00\\x00\\x00\\x00\\x00\\x00\\x00\\x00\\x00\\x00\\x00\\x00\\x00\\x00\\x00\\x00\\x00\\x00\\x00\\x00\\x00\\x00\\x00\\x00\\x00\\x00\\x00\\x00\\x00\\x00\\x00\\x00\\x00\\x00\\x00\\x00\\x00\\x00\\x00\\x00\\x00\\x00\\x00\\x00\\x00\\x00\\x00\\x00\\x00\\x00\\x00\\x00\\x00\\x00\\x00\\x00\\x00\\x00\\x00\\x00\\x00\\x00\\x00\\x00\\x00\\x00\\x00\\x00\\x00\\x00\\x00\\x00\\x00\\x00\\x00\\x00\\x00\\x00\\x00\\x00\\x00\\x00\\x00\\x00\\x00\\x00\\x00\\x00\\x00\\x00\\x00\\x00\\x00\\x00\\x00\\x00\\x00\\x00\\x00\\x00\\x00\\x00\\x00\\x00\\x00\\x00\\x00\\x00\\x00\\x00\\x00\\x00\\x00\\x00\\x00\\x00\\x00\\x00\\x00\\x00\\x00\\x00\\x00\\x00\\x00\\x00\\x00\\x00\\x00\\x00\\x00\\x00\\x00\\x00\\x00\\x00\\x00\\x00\\x00\\x00\\x00\\x00\\x00\\x00\\x00\\x00\\x00\\x00\\x00\\x00\\x00\\x00\\x00\\x00\\x00\\x00\\x00\\x00\\x00\\x00\\x00\\x00\\x00\\x00\\x00\\x00\\x00\\x00\\x00\\x00\\x00\\x00\\x00\\x00\\x00\\x00\\x00\\x00\\x00\\x00\\x00\\x00\\x00\\x00\\x00\\x00\\x00\\x00\\x00\\x00\\x00\\x00\\x00\\x00\\x00\\x00\\x00\\x00\\x00\\x00\\x00\\x00\\x00\\x00\\x00\\x00\\x00\\x00\\x00\\x00\\x00\\x00\\x00\\x00\\x00\\x00\\x00\\x00\\x00\\x00\\x00\\x00\\x00\\x00\\x00\\x00\\x00\\x00\\x00\\x00\\x00\\x00\\x00\\x00\\x00\\x00\\x00\\x00\\x00\\x00\\x00\\x00\\x00\\x00\\x00\\x00\\x00\\x00\\x00\\x00\\x00\\x00\\x00\\x00\\x00\\x00\\x00\\x00\\x00\\x00\\x00\\x00\\x00\\x00\\x00\\x00\\x00\\x00\\x00\\x00\\x00\\x00\\x00\\x00\\x00\\x00\\x00\\x00\\x00\\x00\\x00\\x00\\x00\\x00\\x00\\x00\\x00\\x00\\x00\\x00\\x00\\x00\\x00\\x00\\x00\\x00\\x00\\x00\\x00\\x00\\x00\\x00\\x00\\x00\\x00\\x00\\x00\\x00\\x00\\x00\\x00\\x00\\x00\\x00\\x00\\x00\\x00\\x00\\x00\\x00\\x00\\x00\\x00\\x00\\x00\\x00\\x00\\x00\\x00\\x00\\x00\\x00\\x00\\x00\\x00\\x00\\x00\\x00\\x00\\x00\\x00\\x00\\x00\\x00\\x00\\x00\\x00\\x00\\x00\\x00\\x00\\x00\\x00\\x00\\x00\\x00\\x00\\x00\\x00\\x00\\x00\\x00\\x00\\x00\\x00\\x00\\x00\\x00\\x00\\x00\\x00\\x00\\x00\\x00\\x00\\x00\\x00\\x00\\x00\\x00\\x00\\x00\\x00\\x00\\x00\\x00\\x00\\x00\\x00\\x00\\x00\\x00\\x00\\x00\\x00\\x00\\x00\\x00\\x00\\x00\\x00\\x00\\x00\\x00\\x00\\x00\\x00\\x00\\x00\\x00\\x00\\x00\\x00\\x00\\x00\\x00\\x00\\x00\\x00\\x00\\x00\\x00\\x00\\x00\\x00\\x00\\x00\\x00\\x00\\x00\\x00\\x00\\x00\\x00\\x00\\x00\\x00\\x00\\x00\\x00\\x00\\x00\\x00\\x00\\x00\\x00\\x00\\x00\\x00\\x00\\x00\\x00\\x00\\x00\\x00\\x00\\x00\\x00\\x00\\x00\\x00\\x00\\x00\\x00\\x00\\x00\\x00\\x00\\x00\\x00\\x00\\x00\\x00\\x00\\x00\\x00\\x00\\x00\\x00\\x00\\x00\\x00\\x00\\x00\\x00\\x00\\x00\\x00\\x00\\x00\\x00\\x00\\x00\\x00\\x00\\x00\\x00\\x00\\x00\\x00\\x00\\x00\\x00\\x00\\x00\\x00\\x00\\x00\\x00\\x00\\x00\\x00\\x00\\x00\\x00\\x00\\x00\\x00\\x00\\x00\\x00\\x00\\x00\\x00\\x00\\x00\\x00\\x00\\x00\\x00\\x00\\x00\\x00\\x00\\x00\\x00\\x00\\x00\\x00\\x00\\x00\\x00\\x00\\x00\\x00\\x00\\x00\\x00\\x00\\x00\\x00\\x00\\x00\\x00\\x00\\x00\\x00\\x00\\x00\\x00\\x00\\x00\\x00\\x00\\x00\\x00\\x00\\x00\\x00\\x00\\x00\\x00\\x00\\x00\\x00\\x00\\x00\\x00\\x00\\x00\\x00\\x00\\x00\\x00\\x00\\x00\\x00\\x00\\x00\\x00\\x00\\x00\\x00\\x00\\x00\\x00\\x00\\x00\\x00\\x00\\x00\\x00\\x00\\x00\\x00\\x00\\x00\\x00\\x00\\x00\\x00\\x00\\x00\\x00\\x00\\x00\\x00\\x00\\x00\\x00\\x00\\x00\\x00\\x00\\x00\\x00\\x00\\x00\\x00\\x00\\x00\\x00\\x00\\x00\\x00\\x00\\x00\\x00\\x00\\x00\\x00\\x00\\x00\\x00\\x00\\x00\\x00\\x00\\x00\\x00\\x00\\x00\\x00\\x00\\x00\\x00\\x00\\x00\\x00\\x00\\x00\\x00\\x00\\x00\\x00\\x00\\x00\\x00\\x00\\x00\\x00\\x00\\x00\\x00\\x00\\x00\\x00\\x00\\x00\\x00\\x00\\x00\\x00\\x00\\x00\\x00\\x00\\x00\\x00\\x00\\x00\\x00\\x00\\x00\\x00\\x00\\x00\\x00\\x00\\x00\\x00\\x00\\x00\\x00\\x00\\x00\\x00\\x00\\x00\\x00\\x00\\x00\\x00\\x00\\x00\\x00\\x00\\x00\\x00\\x00\\x00\\x00\\x00\\x00\\x00\\x00\\x00\\x00\\x00\\x00\\x00\\x00\\x00\\x00\\x00\\x00\\x00\\x00\\x00\\x00\\x00\\x00\\x00\\x00\\x00\\x00\\x00\\x00\\x00\\x00\\x00\\x00\\x00\\x00\\x00\\x00\\x00\\x00\\x00\\x00\\x00\\x00\\x00\\x00\\x00\\x00\\x00\\x00\\x00\\x00\\x00\\x00\\x00\\x00\\x00\\x00\\x00\\x00\\x00\\x00\\x00\\x00\\x00\\x00\\x00\\x00\\x00\\x00\\x00\\x00\\x00\\x00\\x00\\x00\\x00\\x00\\x00\\x00\\x00\\x00\\x00\\x00\\x00\\x00\\x00\\x00\\x00\\x00\\x00\\x00\\x00\\x00\\x00\\x00\\x00\\x00\\x00\\x00\\x00\\x00\\x00\\x00\\x00\\x00\\x00\\x00\\x00\\x00\\x00\\x00\\x00\\x00\\x00\\x00\\x00\\x00\\x00\\x00\\x00\\x00\\x00\\x00\\x00\\x00\\x00\\x00\\x00\\x00\\x00\\x00\\x00\\x00\\x00\\x00\\x00\\x00\\x00\\x00\\x00\\x00\\x00\\x00\\x00\\x00\\x00\\x00\\x00\\x00\\x00\\x00\\x00\\x00\\x00\\x00\\x00\\x00\\x00\\x00\\x00\\x00\\x00\\x00\\x00\\x00\\x00\\x00\\x00\\x00\\x00\\x00\\x00\\x00\\x00\\x00\\x00\\x00\\x00\\x00\\x00\\x00\\x00\\x00\\x00\\x00\\x00\\x00\\x00\\x00\\x00\\x00\\x00\\x00\\x00\\x00\\x00\\x00\\x00\\x00\\x00\\x00\\x00\\x00\\x00\\x00\\x00\\x00\\x00\\x00\\x00\\x00\\x00\\x00\\x00\\x00\\x00\\x00\\x00\\x00\\x00\\x00\\x00\\x00\\x00\\x00\\x00\\x00\\x00\\x00\\x00\\x00\\x00\\x00\\x00\\x00\\x00\\x00\\x00\\x00\\x00\\x00\\x00\\x00\\x00\\x00\\x00\\x00\\x00\\x00\\x00\\x00\\x00\\x00\\x00\\x00\\x00\\x00\\x00\\x00\\x00\\x00\\x00\\x00\\x00\\x00\\x00\\x00\\x00\\x00\\x00\\x00\\x00\\x00\\x00\\x00\\x00\\x00\\x00\\x00\\x00\\x00\\x00\\x00\\x00\\x00\\x00\\x00\\x00\\x00\\x00\\x00\\x00\\x00\\x00\\x00\\x00\\x00\\x00\\x00\\x00\\x00\\x00\\x00\\x00\\x00\\x00\\x00\\x00\\x00\\x00\\x00\\x00\\x00\\x00\\x00\\x00\\x00\\x00\\x00\\x00\\x00\\x00\\x00\\x00\\x00\\x00\\x00\\x00\\x00\\x00\\x00\\x00\\x00\\x00\\x00\\x00\\x00\\x00\\x00\\x00\\x00\\x00\\x00\\x00\\x00\\x00\\x00\\x00\\x00\\x00\\x00\\x00\\x00\\x00\\x00\\x00\\x00\\x00\\x00\\x00\\x00\\x00\\x00\\x00\\x00\\x00\\x00\\x00\\x00\\x00\\x00\\x00\\x00\\x00\\x00\\x00\\x00\\x00\\x00\\x00\\x00\\x00\\x00\\x00\\x00\\x00\\x00\\x00\\x00\\x00\\x00\\x00\\x00\\x00\\x00\\x00\\x00\\x00\\x00\\x00\\x00\\x00\\x00\\x00\\x00\\x00\\x00\\x00\\x00\\x00\\x00\\x00\\x00\\x00\\x00\\x00\\x00\\x00\\x00\\x00\\x00\\x00\\x00\\x00\\x00\\x00\\x00\\x00\\x00\\x00\\x00\\x00\\x00\\x00\\x00\\x00\\x00\\x00\\x00\\x00\\x00\\x00\\x00\\x00\\x00\\x00\\x00\\x00\\x00\\x00\\x00\\x00\\x00\\x00\\x00\\x00\\x00\\x00\\x00\\x00\\x00\\x00\\x00\\x00\\x00\\x00\\x00\\x00\\x00\\x00\\x00\\x00\\x00\\x00\\x00\\x00\\x00\\x00\\x00\\x00\\x00\\x00\\x00\\x00\\x00\\x00\\x00\\x00\\x00\\x00\\x00\\x00\\x00\\x00\\x00\\x00\\x00\\x00\\x00\\x00\\x00\\x00\\x00\\x00\\x00\\x00\\x00\\x00\\x00\\x00\\x00\\x00\\x00\\x00\\x00\\x00\\x00\\x00\\x00\\x00\\x00\\x00\\x00\\x00\\x00\\x00\\x00\\x00\\x00\\x00\\x00\\x00\\x00\\x00\\x00\\x00\\x00\\x00\\x00\\x00\\x00\\x00\\x00\\x00\\x00\\x00\\x00\\x00\\x00\\x00\\x00\\x00\\x00\\x00\\x00\\x00\\x00\\x00\\x00\\x00\\x00\\x00\\x00\\x00\\x00\\x00\\x00\\x00\\x00\\x00\\x00\\x00\\x00\\x00\\x00\\x00\\x00\\x00\\x00\\x00\\x00\\x00\\x00\\x00\\x00\\x00\\x00\\x00\\x00\\x00\\x00\\x00\\x00\\x00\\x00\\x00\\x00\\x00\\x00\\x00\\x00\\x00\\x00\\x00\\x00\\x00\\x00\\x00\\x00\\x00\\x00\\x00\\x00\\x00\\x00\\x00\\x00\\x00\\x00\\x00\\x00\\x00\\x00\\x00\\x00\\x00\\x00\\x00\\x00\\x00\\x00\\x00\\x00\\x00\\x00\\x00\\x00\\x00\\x00\\x00\\x00\\x00\\x00\\x00\\x00\\x00\\x00\\x00\\x00\\x00\\x00\\x00\\x00\\x00\\x00\\x00\\x00\\x00\\x00\\x00\\x00\\x00\\x00\\x00\\x00\\x00\\x00\\x00\\x00\\x00\\x00\\x00\\x00\\x00\\x00\\x00\\x00\\x00\\x00\\x00\\x00\\x00\\x00\\x00\\x00\\x00\\x00\\x00\\x00\\x00\\x00\\x00\\x00\\x00\\x00\\x00\\x00\\x00\\x00\\x00\\x00\\x00\\x00\\x00\\x00\\x00\\x00\\x00\\x00\\x00\\x00\\x00\\x00\\x00\\x00\\x00\\x00\\x00\\x00\\x00\\x00\\x00\\x00\\x00\\x00\\x00\\x00\\x00\\x00\\x00\\x00\\x00\\x00\\x00\\x00\\x00\\x00\\x00\\x00\\x00\\x00\\x00\\x00\\x00\\x00\\x00\\x00\\x00\\x00\\x00\\x00\\x00\\x00\\x00\\x00\\x00\\x00\\x00\\x00\\x00\\x00\\x00\\x00\\x00\\x00\\x00\\x00\\x00\\x00\\x00\\x00\\x00\\x00\\x00\\x00\\x00\\x00\\x00\\x00\\x00\\x00\\x00\\x00\\x00\\x00\\x00\\x00\\x00\\x00\\x00\\x00\\x00\\x00\\x00\\x00\\x00\\x00\\x00\\x00\\x00\\x00\\x00\\x00\\x00\\x00\\x00\\x00\\x00\\x00\\x00\\x00\\x00\\x00\\x00\\x00\\x00\\x00\\x00\\x00\\x00\\x00\\x00\\x00\\x00\\x00\\x00\\x00\\x00\\x00\\x00\\x00\\x00\\x00\\x00\\x00\\x00\\x00\\x00\\x00\\x00\\x00\\x00\\x00\\x00\\x00\\x00\\x00\\x00\\x00\\x00\\x00\\x00\\x00\\x00\\x00\\x00\\x00\\x00\\x00\\x00\\x00\\x00\\x00\\x00\\x00\\x00\\x00\\x00\\x00\\x00\\x00\\x00\\x00\\x00\\x00\\x00\\x00\\x00\\x00\\x00\\x00\\x00\\x00\\x00\\x00\\x00\\x00\\x00\\x00\\x00\\x00\\x00\\x00\\x00\\x00\\x00\\x00\\x00\\x00\\x00\\x00\\x00\\x00\\x00\\x00\\x00\\x00\\x00\\x00\\x00\\x00\\x00\\x00\\x00\\x00\\x00\\x00\\x00\\x00\\x00\\x00\\x00\\x00\\x00\\x00\\x00\\x00\\x00\\x00\\x00\\x00\\x00\\x00\\x00\\x00\\x00\\x00\\x00\\x00\\x00\\x00\\x00\\x00\\x00\\x00\\x00\\x00\\x00\\x00\\x00\\x00\\x00\\x00\\x00\\x00\\x00\\x00\\x00\\x00\\x00\\x00\\x00\\x00\\x00\\x00\\x00\\x00\\x00\\x00\\x00\\x00\\x00\\x00\\x00\\x00\\x00\\x00\\x00\\x00\\x00\\x00\\x00\\x00\\x00\\x00\\x00\\x00\\x00\\x00\\x00\\x00\\x00\\x00\\x00\\x00\\x00\\x00\\x00\\x00\\x00\\x00\\x00\\x00\\x00\\x00\\x00\\x00\\x00\\x00\\x00\\x00\\x00\\x00\\x00\\x00\\x00\\x00\\x00\\x00\\x00\\x00\\x00\\x00\\x00\\x00\\x00\\x00\\x00\\x00\\x00\\x00\\x00\\x00\\x00\\x00\\x00\\x00\\x00\\x00\\x00\\x00\\x00\\x00\\x00\\x00\\x00\\x00\\x00\\x00\\x00\\x00\\x00\\x00\\x00\\x00\\x00\\x00\\x00\\x00\\x00\\x00\\x00\\x00\\x00\\x00\\x00\\x00\\x00\\x00\\x00\\x00\\x00\\x00\\x00\\x00\\x00\\x00\\x00\\x00\\x00\\x00\\x00\\x00\\x00\\x00\\x00\\x00\\x00\\x00\\x00\\x00\\x00\\x00\\x00\\x00\\x00\\x00\\x00\\x00\\x00\\x00\\x00\\x00\\x00\\x00\\x00\\x00\\x00\\x00\\x00\\x00\\x00\\x00\\x00\\x00\\x00\\x00\\x00\\x00\\x00\\x00\\x00\\x00\\x00\\x00\\x00\\x00\\x00\\x00\\x00\\x00\\x00\\x00\\x00\\x00\\x00\\x00\\x00\\x00\\x00\\x00\\x00\\x00\\x00\\x00\\x00\\x00\\x00\\x00\\x00\\x00\\x00\\x00\\x00\\x00\\x00\\x00\\x00\\x00\\x00\\x00\\x00\\x00\\x00\\x00\\x00\\x00\\x00\\x00\\x00\\x00\\x00\\x00\\x00\\x00\\x00\\x00\\x00\\x00\\x00\\x00\\x00\\x00\\x00\\x00\\x00\\x00\\x00\\x00\\x00\\x00\\x00\\x00\\x00\\x00\\x00\\x00\\x00\\x00\\x00\\x00\\x00\\x00\\x00\\x00\\x00\\x00\\x00\\x00\\x00\\x00\\x00\\x00\\x00\\x00\\x00\\x00\\x00\\x00\\x00\\x00\\x00\\x00\\x00\\x00\\x00\\x00\\x00\\x00\\x00\\x00\\x00\\x00\\x00\\x00\\x00\\x00\\x00\\x00\\x00\\x00\\x00\\x00\\x00\\x00\\x00\\x00\\x00\\x00\\x00\\x00\\x00\\x00\\x00\\x00\\x00\\x00\\x00\\x00\\x00\\x00\\x00\\x00\\x00\\x00\\x00\\x00\\x00\\x00\\x00\\x00\\x00\\x00\\x00\\x00\\x00\\x00\\x00\\x00\\x00\\x00\\x00\\x00\\x00\\x00\\x00\\x00\\x00\\x00\\x00\\x00\\x00\\x00\\x00\\x00\\x00\\x00\\x00\\x00\\x00\\x00\\x00\\x00\\x00\\x00\\x00\\x00\\x00\\x00\\x00\\x00\\x00\\x00\\x00\\x00\\x00\\x00\\x00\\x00\\x00\\x00\\x00\\x00\\x00\\x00\\x00\\x00\\x00\\x00\\x00\\x00\\x00\\x00\\x00\\x00\\x00\\x00\\x00\\x00\\x00\\x00\\x00\\x00\\x00\\x00\\x00\\x00\\x00\\x00\\x00\\x00\\x00\\x00\\x00\\x00\\x00\\x00\\x00\\x00\\x00\\x00\\x00\\x00\\x00\\x00\\x00\\x00\\x00\\x00\\x00\\x00\\x00\\x00\\x00\\x00\\x00\\x00\\x00\\x00\\x00\\x00\\x00\\x00\\x00\\x00\\x00\\x00\\x00\\x00\\x00\\x00\\x00\\x00\\x00\\x00\\x00\\x00\\x00\\x00\\x00\\x00\\x00\\x00\\x00\\x00\\x00\\x00\\x00\\x00\\x00\\x00\\x00\\x00\\x00\\x00\\x00\\x00\\x00\\x00\\x00\\x00\\x00\\x00\\x00\\x00\\x00\\x00\\x00\\x00\\x00\\x00\\x00\\x00\\x00\\x00\\x00\\x00\\x00\\x00\\x00\\x00\\x00\\x00\\x00\\x00\\x00\\x00\\x00\\x00\\x00\\x00\\x00\\x00\\x00\\x00\\x00\\x00\\x00\\x00\\x00\\x00\\x00\\x00\\x00\\x00\\x00\\x00\\x00\\x00\\x00\\x00\\x00\\x00\\x00\\x00\\x00\\x00\\x00\\x00\\x00\\x00\\x00\\x00\\x00\\x00\\x00\\x00\\x00\\x00\\x00\\x00\\x00\\x00\\x00\\x00\\x00\\x00\\x00\\x00\\x00\\x00\\x00\\x00\\x00\\x00\\x00\\x00\\x00\\x00\\x00\\x00\\x00\\x00\\x00\\x00\\x00\\x00\\x00\\x00\\x00\\x00\\x00\\x00\\x00\\x00\\x00\\x00\\x00\\x00\\x00\\x00\\x00\\x00\\x00\\x00\\x00\\x00\\x00\\x00\\x00\\x00\\x00\\x00\\x00\\x00\\x00\\x00\\x00\\x00\\x00\\x00\\x00\\x00\\x00\\x00\\x00\\x00\\x00\\x00\\x00\\x00\\x00\\x00\\x00\\x00\\x00\\x00\\x00\\x00\\x00\\x00\\x00\\x00\\x00\\x00\\x00\\x00\\x00\\x00\\x00\\x00\\x00\\x00\\x00\\x00\\x00\\x00\\x00\\x00\\x00\\x00\\x00\\x00\\x00\\x00\\x00\\x00\\x00\\x00\\x00\\x00\\x00\\x00\\x00\\x00\\x00\\x00\\x00\\x00\\x00\\x00\\x00\\x00\\x00\\x00\\x00\\x00\\x00\\x00\\x00\\x00\\x00\\x00\\x00\\x00\\x00\\x00\\x00\\x00\\x00\\x00\\x00\\x00\\x00\\x00\\x00\\x00\\x00\\x00\\x00\\x00\\x00\\x00\\x00\\x00\\x00\\x00\\x00\\x00\\x00\\x00\\x00\\x00\\x00\\x00\\x00\\x00\\x00\\x00\\x00\\x00\\x00\\x00\\x00\\x00\\x00\\x00\\x00\\x00\\x00\\x00\\x00\\x00\\x00\\x00\\x00\\x00\\x00\\x00\\x00\\x00\\x00\\x00\\x00\\x00\\x00\\x00\\x00\\x00\\x00\\x00\\x00\\x00\\x00\\x00\\x00\\x00\\x00\\x00\\x00\\x00\\x00\\x00\\x00\\x00\\x00\\x00\\x00\\x00\\x00\\x00\\x00\\x00\\x00\\x00\\x00\\x00\\x00\\x00\\x00\\x00\\x00\\x00\\x00\\x00\\x00\\x00\\x00\\x00\\x00\\x00\\x00\\x00\\x00\\x00\\x00\\x00\\x00\\x00\\x00\\x00\\x00\\x00\\x00\\x00\\x00\\x00\\x00\\x00\\x00\\x00\\x00\\x00\\x00\\x00\\x00\\x00\\x00\\x00\\x00\\x00\\x00\\x00\\x00\\x00\\x00\\x00\\x00\\x00\\x00\\x00\\x00\\x00\\x00\\x00\\x00\\x00\\x00\\x00\\x00\\x00\\x00\\x00\\x00\\x00\\x00\\x00\\x00\\x00\\x00\\x00\\x00\\x00\\x00\\x00\\x00\\x00\\x00\\x00\\x00\\x00\\x00\\x00\\x00\\x00\\x00\\x00\\x00\\x00\\x00\\x00\\x00\\x00\\x00\\x00\\x00\\x00\\x00\\x00\\x00\\x00\\x00\\x00\\x00\\x00\\x00\\x00\\x00\\x00\\x00\\x00\\x00\\x00\\x00\\x00\\x00\\x00\\x00\\x00\\x00\\x00\\x00\\x00\\x00\\x00\\x00\\x00\\x00\\x00\\x00\\x00\\x00\\x00\\x00\\x00\\x00\\x00\\x00\\x00\\x00\\x00\\x00\\x00\\x00\\x00\\x00\\x00\\x00\\x00\\x00\\x00\\x00\\x00\\x00\\x00\\x00\\x00\\x00\\x00\\x00\\x00\\x00\\x00\\x00\\x00\\x00\\x00\\x00\\x00\\x00\\x00\\x00\\x00\\x00\\x00\\x00\\x00\\x00\\x00\\x00\\x00\\x00\\x00\\x00\\x00\\x00\\x00\\x00\\x00\\x00\\x00\\x00\\x00\\x00\\x00\\x00\\x00\\x00\\x00\\x00\\x00\\x00\\x00\\x00\\x00\\x00\\x00\\x00\\x00\\x00\\x00\\x00\\x00\\x00\\x00\\x00\\x00\\x00\\x00\\x00\\x00\\x00\\x00\\x00\\x00\\x00\\x00\\x00\\x00\\x00\\x00\\x00\\x00\\x00\\x00\\x00\\x00\\x00\\x00\\x00\\x00\\x00\\x00\\x00\\x00\\x00\\x00\\x00\\x00\\x00\\x00\\x00\\x00\\x00\\x00\\x00\\x00\\x00\\x00\\x00\\x00\\x00\\x00\\x00\\x00\\x00\\x00\\x00\\x00\\x00\\x00\\x00\\x00\\x00\\x00\\x00\\x00\\x00\\x00\\x00\\x00\\x00\\x00\\x00\\x00\\x00\\x00\\x00\\x00\\x00\\x00\\x00\\x00\\x00\\x00\\x00\\x00\\x00\\x00\\x00\\x00\\x00\\x00\\x00\\x00\\x00\\x00\\x00\\x00\\x00\\x00\\x00\\x00\\x00\\x00\\x00\\x00\\x00\\x00\\x00\\x00\\x00\\x00\\x00\\x00\\x00\\x00\\x00\\x00\\x00\\x00\\x00\\x00\\x00\\x00\\x00\\x00\\x00\\x00\\x00\\x00\\x00\\x00\\x00\\x00\\x00\\x00\\x00\\x00\\x00\\x00\\x00\\x00\\x00\\x00\\x00\\x00\\x00\\x00\\x00\\x00\\x00\\x00\\x00\\x00\\x00\\x00\\x00\\x00\\x00\\x00\\x00\\x00\\x00\\x00\\x00\\x00\\x00\\x00\\x00\\x00\\x00\\x00\\x00\\x00\\x00\\x00\\x00\\x00\\x01\\x00\\x00\\x00\\x02\\x00\\x00\\x00\\x03\\x00\\x00\\x00\\x04\\x00\\x00\\x00\\x05\\x00\\x00\\x00\\x06\\x00\\x00\\x00\\x07\\x00\\x00\\x00\\x08\\x00\\x00\\x00\\t\\x00\\x00\\x00\\n\\x00\\x00\\x00\\x0b\\x00\\x00\\x00\\x0c\\x00\\x00\\x00\\r\\x00\\x00\\x00\\x0e\\x00\\x00\\x00\\x0f\\x00\\x00\\x00\\x10\\x00\\x00\\x00\\x11\\x00\\x00\\x00\\x12\\x00\\x00\\x00\\x13\\x00\\x00\\x00\\x14\\x00\\x00\\x00\\x15\\x00\\x00\\x00\\x16\\x00\\x00\\x00\\x17\\x00\\x00\\x00\\x18\\x00\\x00\\x00\\x19\\x00\\x00\\x00\\x1a\\x00\\x00\\x00\\x1b\\x00\\x00\\x00\\x1c\\x00\\x00\\x00\\x1d\\x00\\x00\\x00\\x1e\\x00\\x00\\x00\\x1f\\x00\\x00\\x00 \\x00\\x00\\x00!\\x00\\x00\\x00\"\\x00\\x00\\x00#\\x00\\x00\\x00$\\x00\\x00\\x00%\\x00\\x00\\x00&\\x00\\x00\\x00\\'\\x00\\x00\\x00(\\x00\\x00\\x00)\\x00\\x00\\x00*\\x00\\x00\\x00+\\x00\\x00\\x00,\\x00\\x00\\x00-\\x00\\x00\\x00.\\x00\\x00\\x00/\\x00\\x00\\x000\\x00\\x00\\x001\\x00\\x00\\x002\\x00\\x00\\x00\\xfe\\xff\\xff\\xff4\\x00\\x00\\x005\\x00\\x00\\x006\\x00\\x00\\x007\\x00\\x00\\x008\\x00\\x00\\x009\\x00\\x00\\x00:\\x00\\x00\\x00\\xfe\\xff\\xff\\xff<\\x00\\x00\\x00=\\x00\\x00\\x00>\\x00\\x00\\x00?\\x00\\x00\\x00@\\x00\\x00\\x00A\\x00\\x00\\x00B\\x00\\x00\\x00\\xfe\\xff\\xff\\xff\\xfd\\xff\\xff\\xff\\xfe\\xff\\xff\\xff\\xff\\xff\\xff\\xff\\xff\\xff\\xff\\xff\\xff\\xff\\xff\\xff\\xff\\xff\\xff\\xff\\xff\\xff\\xff\\xff\\xff\\xff\\xff\\xff\\xff\\xff\\xff\\xff\\xff\\xff\\xff\\xff\\xff\\xff\\xff\\xff\\xff\\xff\\xff\\xff\\xff\\xff\\xff\\xff\\xff\\xff\\xff\\xff\\xff\\xff\\xff\\xff\\xff\\xff\\xff\\xff\\xff\\xff\\xff\\xff\\xff\\xff\\xff\\xff\\xff\\xff\\xff\\xff\\xff\\xff\\xff\\xff\\xff\\xff\\xff\\xff\\xff\\xff\\xff\\xff\\xff\\xff\\xff\\xff\\xff\\xff\\xff\\xff\\xff\\xff\\xff\\xff\\xff\\xff\\xff\\xff\\xff\\xff\\xff\\xff\\xff\\xff\\xff\\xff\\xff\\xff\\xff\\xff\\xff\\xff\\xff\\xff\\xff\\xff\\xff\\xff\\xff\\xff\\xff\\xff\\xff\\xff\\xff\\xff\\xff\\xff\\xff\\xff\\xff\\xff\\xff\\xff\\xff\\xff\\xff\\xff\\xff\\xff\\xff\\xff\\xff\\xff\\xff\\xff\\xff\\xff\\xff\\xff\\xff\\xff\\xff\\xff\\xff\\xff\\xff\\xff\\xff\\xff\\xff\\xff\\xff\\xff\\xff\\xff\\xff\\xff\\xff\\xff\\xff\\xff\\xff\\xff\\xff\\xff\\xff\\xff\\xff\\xff\\xff\\xff\\xff\\xff\\xff\\xff\\xff\\xff\\xff\\xff\\xff\\xff\\xff\\xff\\xff\\xff\\xff\\xff\\xff\\xff\\xff\\xff\\xff\\xff\\xff\\xff\\xff\\xff\\xff\\xff\\xff\\xff\\xff\\xff\\xff\\xff\\xff\\xff\\xff\\xff\\xff\\xff\\xff\\xff\\xff\\xff\\xff\\xff\\xff\\xff\\xff\\xff\\xff\\xff\\xff\\xff\\xff\\xffR\\x00o\\x00o\\x00t\\x00 \\x00E\\x00n\\x00t\\x00r\\x00y\\x00\\x00\\x00\\x00\\x00\\x00\\x00\\x00\\x00\\x00\\x00\\x00\\x00\\x00\\x00\\x00\\x00\\x00\\x00\\x00\\x00\\x00\\x00\\x00\\x00\\x00\\x00\\x00\\x00\\x00\\x00\\x00\\x00\\x00\\x00\\x00\\x00\\x00\\x00\\x00\\x00\\x00\\x00\\x00\\x00\\x16\\x00\\x05\\x01\\xff\\xff\\xff\\xff\\xff\\xff\\xff\\xff\\x02\\x00\\x00\\x00 \\x08\\x02\\x00\\x00\\x00\\x00\\x00\\xc0\\x00\\x00\\x00\\x00\\x00\\x00F\\x00\\x00\\x00\\x00\\x00\\x00\\x00\\x00\\x00\\x00\\x00\\x00`\\xc4k\\xa4+$\\xd9\\x01\\xfe\\xff\\xff\\xff\\x00\\x00\\x00\\x00\\x00\\x00\\x00\\x00W\\x00o\\x00r\\x00k\\x00b\\x00o\\x00o\\x00k\\x00\\x00\\x00\\x00\\x00\\x00\\x00\\x00\\x00\\x00\\x00\\x00\\x00\\x00\\x00\\x00\\x00\\x00\\x00\\x00\\x00\\x00\\x00\\x00\\x00\\x00\\x00\\x00\\x00\\x00\\x00\\x00\\x00\\x00\\x00\\x00\\x00\\x00\\x00\\x00\\x00\\x00\\x00\\x00\\x00\\x00\\x00\\x00\\x00\\x12\\x00\\x02\\x01\\xff\\xff\\xff\\xff\\xff\\xff\\xff\\xff\\xff\\xff\\xff\\xff\\x00\\x00\\x00\\x00\\x00\\x00\\x00\\x00\\x00\\x00\\x00\\x00\\x00\\x00\\x00\\x00\\x00\\x00\\x00\\x00\\x00\\x00\\x00\\x00\\x00\\x00\\x00\\x00\\x00\\x00\\x00\\x00\\x00\\x00\\x00\\x00\\x00\\x00\\x00\\x00\\xcbe\\x00\\x00\\x00\\x00\\x00\\x00\\x05\\x00S\\x00u\\x00m\\x00m\\x00a\\x00r\\x00y\\x00I\\x00n\\x00f\\x00o\\x00r\\x00m\\x00a\\x00t\\x00i\\x00o\\x00n\\x00\\x00\\x00\\x00\\x00\\x00\\x00\\x00\\x00\\x00\\x00\\x00\\x00\\x00\\x00\\x00\\x00\\x00\\x00\\x00\\x00\\x00\\x00\\x00\\x00\\x00\\x00(\\x00\\x02\\x01\\x01\\x00\\x00\\x00\\x03\\x00\\x00\\x00\\xff\\xff\\xff\\xff\\x00\\x00\\x00\\x00\\x00\\x00\\x00\\x00\\x00\\x00\\x00\\x00\\x00\\x00\\x00\\x00\\x00\\x00\\x00\\x00\\x00\\x00\\x00\\x00\\x00\\x00\\x00\\x00\\x00\\x00\\x00\\x00\\x00\\x00\\x00\\x003\\x00\\x00\\x00\\x00\\x10\\x00\\x00\\x00\\x00\\x00\\x00\\x05\\x00D\\x00o\\x00c\\x00u\\x00m\\x00e\\x00n\\x00t\\x00S\\x00u\\x00m\\x00m\\x00a\\x00r\\x00y\\x00I\\x00n\\x00f\\x00o\\x00r\\x00m\\x00a\\x00t\\x00i\\x00o\\x00n\\x00\\x00\\x00\\x00\\x00\\x00\\x00\\x00\\x00\\x00\\x008\\x00\\x02\\x01\\xff\\xff\\xff\\xff\\xff\\xff\\xff\\xff\\xff\\xff\\xff\\xff\\x00\\x00\\x00\\x00\\x00\\x00\\x00\\x00\\x00\\x00\\x00\\x00\\x00\\x00\\x00\\x00\\x00\\x00\\x00\\x00\\x00\\x00\\x00\\x00\\x00\\x00\\x00\\x00\\x00\\x00\\x00\\x00\\x00\\x00\\x00\\x00;\\x00\\x00\\x00\\x00\\x10\\x00\\x00\\x00\\x00\\x00\\x00'}"
            ]
          },
          "metadata": {},
          "execution_count": 2
        }
      ]
    },
    {
      "cell_type": "code",
      "source": [
        "data=pd.read_excel('iris (2).xls')"
      ],
      "metadata": {
        "id": "dGq5XWynqAkn"
      },
      "execution_count": 3,
      "outputs": []
    },
    {
      "cell_type": "code",
      "source": [
        "data"
      ],
      "metadata": {
        "colab": {
          "base_uri": "https://localhost:8080/",
          "height": 424
        },
        "id": "J_3Oe6q2qL_7",
        "outputId": "94e4814a-caf2-472e-934d-9b02861a85ab"
      },
      "execution_count": 4,
      "outputs": [
        {
          "output_type": "execute_result",
          "data": {
            "text/plain": [
              "      SL   SW   PL   PW  Classification\n",
              "0    5.1  3.5  1.4  0.2     Iris-setosa\n",
              "1    4.9  3.0  1.4  0.2     Iris-setosa\n",
              "2    NaN  3.2  1.3  0.2     Iris-setosa\n",
              "3    4.6  3.1  1.5  0.2     Iris-setosa\n",
              "4    5.0  3.6  1.4  0.2     Iris-setosa\n",
              "..   ...  ...  ...  ...             ...\n",
              "145  6.7  3.0  5.2  2.3  Iris-virginica\n",
              "146  6.3  2.5  5.0  1.9  Iris-virginica\n",
              "147  6.5  3.0  NaN  2.0  Iris-virginica\n",
              "148  6.2  3.4  5.4  2.3  Iris-virginica\n",
              "149  5.9  3.0  5.1  1.8  Iris-virginica\n",
              "\n",
              "[150 rows x 5 columns]"
            ],
            "text/html": [
              "\n",
              "  <div id=\"df-e4d23878-6429-4c47-b41d-2af2caae5a2a\">\n",
              "    <div class=\"colab-df-container\">\n",
              "      <div>\n",
              "<style scoped>\n",
              "    .dataframe tbody tr th:only-of-type {\n",
              "        vertical-align: middle;\n",
              "    }\n",
              "\n",
              "    .dataframe tbody tr th {\n",
              "        vertical-align: top;\n",
              "    }\n",
              "\n",
              "    .dataframe thead th {\n",
              "        text-align: right;\n",
              "    }\n",
              "</style>\n",
              "<table border=\"1\" class=\"dataframe\">\n",
              "  <thead>\n",
              "    <tr style=\"text-align: right;\">\n",
              "      <th></th>\n",
              "      <th>SL</th>\n",
              "      <th>SW</th>\n",
              "      <th>PL</th>\n",
              "      <th>PW</th>\n",
              "      <th>Classification</th>\n",
              "    </tr>\n",
              "  </thead>\n",
              "  <tbody>\n",
              "    <tr>\n",
              "      <th>0</th>\n",
              "      <td>5.1</td>\n",
              "      <td>3.5</td>\n",
              "      <td>1.4</td>\n",
              "      <td>0.2</td>\n",
              "      <td>Iris-setosa</td>\n",
              "    </tr>\n",
              "    <tr>\n",
              "      <th>1</th>\n",
              "      <td>4.9</td>\n",
              "      <td>3.0</td>\n",
              "      <td>1.4</td>\n",
              "      <td>0.2</td>\n",
              "      <td>Iris-setosa</td>\n",
              "    </tr>\n",
              "    <tr>\n",
              "      <th>2</th>\n",
              "      <td>NaN</td>\n",
              "      <td>3.2</td>\n",
              "      <td>1.3</td>\n",
              "      <td>0.2</td>\n",
              "      <td>Iris-setosa</td>\n",
              "    </tr>\n",
              "    <tr>\n",
              "      <th>3</th>\n",
              "      <td>4.6</td>\n",
              "      <td>3.1</td>\n",
              "      <td>1.5</td>\n",
              "      <td>0.2</td>\n",
              "      <td>Iris-setosa</td>\n",
              "    </tr>\n",
              "    <tr>\n",
              "      <th>4</th>\n",
              "      <td>5.0</td>\n",
              "      <td>3.6</td>\n",
              "      <td>1.4</td>\n",
              "      <td>0.2</td>\n",
              "      <td>Iris-setosa</td>\n",
              "    </tr>\n",
              "    <tr>\n",
              "      <th>...</th>\n",
              "      <td>...</td>\n",
              "      <td>...</td>\n",
              "      <td>...</td>\n",
              "      <td>...</td>\n",
              "      <td>...</td>\n",
              "    </tr>\n",
              "    <tr>\n",
              "      <th>145</th>\n",
              "      <td>6.7</td>\n",
              "      <td>3.0</td>\n",
              "      <td>5.2</td>\n",
              "      <td>2.3</td>\n",
              "      <td>Iris-virginica</td>\n",
              "    </tr>\n",
              "    <tr>\n",
              "      <th>146</th>\n",
              "      <td>6.3</td>\n",
              "      <td>2.5</td>\n",
              "      <td>5.0</td>\n",
              "      <td>1.9</td>\n",
              "      <td>Iris-virginica</td>\n",
              "    </tr>\n",
              "    <tr>\n",
              "      <th>147</th>\n",
              "      <td>6.5</td>\n",
              "      <td>3.0</td>\n",
              "      <td>NaN</td>\n",
              "      <td>2.0</td>\n",
              "      <td>Iris-virginica</td>\n",
              "    </tr>\n",
              "    <tr>\n",
              "      <th>148</th>\n",
              "      <td>6.2</td>\n",
              "      <td>3.4</td>\n",
              "      <td>5.4</td>\n",
              "      <td>2.3</td>\n",
              "      <td>Iris-virginica</td>\n",
              "    </tr>\n",
              "    <tr>\n",
              "      <th>149</th>\n",
              "      <td>5.9</td>\n",
              "      <td>3.0</td>\n",
              "      <td>5.1</td>\n",
              "      <td>1.8</td>\n",
              "      <td>Iris-virginica</td>\n",
              "    </tr>\n",
              "  </tbody>\n",
              "</table>\n",
              "<p>150 rows × 5 columns</p>\n",
              "</div>\n",
              "      <button class=\"colab-df-convert\" onclick=\"convertToInteractive('df-e4d23878-6429-4c47-b41d-2af2caae5a2a')\"\n",
              "              title=\"Convert this dataframe to an interactive table.\"\n",
              "              style=\"display:none;\">\n",
              "        \n",
              "  <svg xmlns=\"http://www.w3.org/2000/svg\" height=\"24px\"viewBox=\"0 0 24 24\"\n",
              "       width=\"24px\">\n",
              "    <path d=\"M0 0h24v24H0V0z\" fill=\"none\"/>\n",
              "    <path d=\"M18.56 5.44l.94 2.06.94-2.06 2.06-.94-2.06-.94-.94-2.06-.94 2.06-2.06.94zm-11 1L8.5 8.5l.94-2.06 2.06-.94-2.06-.94L8.5 2.5l-.94 2.06-2.06.94zm10 10l.94 2.06.94-2.06 2.06-.94-2.06-.94-.94-2.06-.94 2.06-2.06.94z\"/><path d=\"M17.41 7.96l-1.37-1.37c-.4-.4-.92-.59-1.43-.59-.52 0-1.04.2-1.43.59L10.3 9.45l-7.72 7.72c-.78.78-.78 2.05 0 2.83L4 21.41c.39.39.9.59 1.41.59.51 0 1.02-.2 1.41-.59l7.78-7.78 2.81-2.81c.8-.78.8-2.07 0-2.86zM5.41 20L4 18.59l7.72-7.72 1.47 1.35L5.41 20z\"/>\n",
              "  </svg>\n",
              "      </button>\n",
              "      \n",
              "  <style>\n",
              "    .colab-df-container {\n",
              "      display:flex;\n",
              "      flex-wrap:wrap;\n",
              "      gap: 12px;\n",
              "    }\n",
              "\n",
              "    .colab-df-convert {\n",
              "      background-color: #E8F0FE;\n",
              "      border: none;\n",
              "      border-radius: 50%;\n",
              "      cursor: pointer;\n",
              "      display: none;\n",
              "      fill: #1967D2;\n",
              "      height: 32px;\n",
              "      padding: 0 0 0 0;\n",
              "      width: 32px;\n",
              "    }\n",
              "\n",
              "    .colab-df-convert:hover {\n",
              "      background-color: #E2EBFA;\n",
              "      box-shadow: 0px 1px 2px rgba(60, 64, 67, 0.3), 0px 1px 3px 1px rgba(60, 64, 67, 0.15);\n",
              "      fill: #174EA6;\n",
              "    }\n",
              "\n",
              "    [theme=dark] .colab-df-convert {\n",
              "      background-color: #3B4455;\n",
              "      fill: #D2E3FC;\n",
              "    }\n",
              "\n",
              "    [theme=dark] .colab-df-convert:hover {\n",
              "      background-color: #434B5C;\n",
              "      box-shadow: 0px 1px 3px 1px rgba(0, 0, 0, 0.15);\n",
              "      filter: drop-shadow(0px 1px 2px rgba(0, 0, 0, 0.3));\n",
              "      fill: #FFFFFF;\n",
              "    }\n",
              "  </style>\n",
              "\n",
              "      <script>\n",
              "        const buttonEl =\n",
              "          document.querySelector('#df-e4d23878-6429-4c47-b41d-2af2caae5a2a button.colab-df-convert');\n",
              "        buttonEl.style.display =\n",
              "          google.colab.kernel.accessAllowed ? 'block' : 'none';\n",
              "\n",
              "        async function convertToInteractive(key) {\n",
              "          const element = document.querySelector('#df-e4d23878-6429-4c47-b41d-2af2caae5a2a');\n",
              "          const dataTable =\n",
              "            await google.colab.kernel.invokeFunction('convertToInteractive',\n",
              "                                                     [key], {});\n",
              "          if (!dataTable) return;\n",
              "\n",
              "          const docLinkHtml = 'Like what you see? Visit the ' +\n",
              "            '<a target=\"_blank\" href=https://colab.research.google.com/notebooks/data_table.ipynb>data table notebook</a>'\n",
              "            + ' to learn more about interactive tables.';\n",
              "          element.innerHTML = '';\n",
              "          dataTable['output_type'] = 'display_data';\n",
              "          await google.colab.output.renderOutput(dataTable, element);\n",
              "          const docLink = document.createElement('div');\n",
              "          docLink.innerHTML = docLinkHtml;\n",
              "          element.appendChild(docLink);\n",
              "        }\n",
              "      </script>\n",
              "    </div>\n",
              "  </div>\n",
              "  "
            ]
          },
          "metadata": {},
          "execution_count": 4
        }
      ]
    },
    {
      "cell_type": "code",
      "source": [
        "data.info()"
      ],
      "metadata": {
        "colab": {
          "base_uri": "https://localhost:8080/"
        },
        "id": "5t7b8PyOqQd1",
        "outputId": "52df933b-bac2-44ea-9b70-facd572ad622"
      },
      "execution_count": 6,
      "outputs": [
        {
          "output_type": "stream",
          "name": "stdout",
          "text": [
            "<class 'pandas.core.frame.DataFrame'>\n",
            "RangeIndex: 150 entries, 0 to 149\n",
            "Data columns (total 5 columns):\n",
            " #   Column          Non-Null Count  Dtype  \n",
            "---  ------          --------------  -----  \n",
            " 0   SL              143 non-null    float64\n",
            " 1   SW              144 non-null    float64\n",
            " 2   PL              144 non-null    float64\n",
            " 3   PW              150 non-null    float64\n",
            " 4   Classification  150 non-null    object \n",
            "dtypes: float64(4), object(1)\n",
            "memory usage: 6.0+ KB\n"
          ]
        }
      ]
    },
    {
      "cell_type": "code",
      "source": [
        "data.describe()"
      ],
      "metadata": {
        "colab": {
          "base_uri": "https://localhost:8080/",
          "height": 300
        },
        "id": "AfqHIH0rqYJM",
        "outputId": "63fddfbc-e1e0-4b6c-be2b-04cb895f6307"
      },
      "execution_count": 7,
      "outputs": [
        {
          "output_type": "execute_result",
          "data": {
            "text/plain": [
              "               SL          SW          PL          PW\n",
              "count  143.000000  144.000000  144.000000  150.000000\n",
              "mean     5.855944    3.049306    3.756250    1.198667\n",
              "std      0.828168    0.430644    1.761306    0.763161\n",
              "min      4.300000    2.000000    1.000000    0.100000\n",
              "25%      5.100000    2.800000    1.600000    0.300000\n",
              "50%      5.800000    3.000000    4.350000    1.300000\n",
              "75%      6.400000    3.300000    5.100000    1.800000\n",
              "max      7.900000    4.400000    6.900000    2.500000"
            ],
            "text/html": [
              "\n",
              "  <div id=\"df-6f01992c-2163-44e9-8202-9002a615de29\">\n",
              "    <div class=\"colab-df-container\">\n",
              "      <div>\n",
              "<style scoped>\n",
              "    .dataframe tbody tr th:only-of-type {\n",
              "        vertical-align: middle;\n",
              "    }\n",
              "\n",
              "    .dataframe tbody tr th {\n",
              "        vertical-align: top;\n",
              "    }\n",
              "\n",
              "    .dataframe thead th {\n",
              "        text-align: right;\n",
              "    }\n",
              "</style>\n",
              "<table border=\"1\" class=\"dataframe\">\n",
              "  <thead>\n",
              "    <tr style=\"text-align: right;\">\n",
              "      <th></th>\n",
              "      <th>SL</th>\n",
              "      <th>SW</th>\n",
              "      <th>PL</th>\n",
              "      <th>PW</th>\n",
              "    </tr>\n",
              "  </thead>\n",
              "  <tbody>\n",
              "    <tr>\n",
              "      <th>count</th>\n",
              "      <td>143.000000</td>\n",
              "      <td>144.000000</td>\n",
              "      <td>144.000000</td>\n",
              "      <td>150.000000</td>\n",
              "    </tr>\n",
              "    <tr>\n",
              "      <th>mean</th>\n",
              "      <td>5.855944</td>\n",
              "      <td>3.049306</td>\n",
              "      <td>3.756250</td>\n",
              "      <td>1.198667</td>\n",
              "    </tr>\n",
              "    <tr>\n",
              "      <th>std</th>\n",
              "      <td>0.828168</td>\n",
              "      <td>0.430644</td>\n",
              "      <td>1.761306</td>\n",
              "      <td>0.763161</td>\n",
              "    </tr>\n",
              "    <tr>\n",
              "      <th>min</th>\n",
              "      <td>4.300000</td>\n",
              "      <td>2.000000</td>\n",
              "      <td>1.000000</td>\n",
              "      <td>0.100000</td>\n",
              "    </tr>\n",
              "    <tr>\n",
              "      <th>25%</th>\n",
              "      <td>5.100000</td>\n",
              "      <td>2.800000</td>\n",
              "      <td>1.600000</td>\n",
              "      <td>0.300000</td>\n",
              "    </tr>\n",
              "    <tr>\n",
              "      <th>50%</th>\n",
              "      <td>5.800000</td>\n",
              "      <td>3.000000</td>\n",
              "      <td>4.350000</td>\n",
              "      <td>1.300000</td>\n",
              "    </tr>\n",
              "    <tr>\n",
              "      <th>75%</th>\n",
              "      <td>6.400000</td>\n",
              "      <td>3.300000</td>\n",
              "      <td>5.100000</td>\n",
              "      <td>1.800000</td>\n",
              "    </tr>\n",
              "    <tr>\n",
              "      <th>max</th>\n",
              "      <td>7.900000</td>\n",
              "      <td>4.400000</td>\n",
              "      <td>6.900000</td>\n",
              "      <td>2.500000</td>\n",
              "    </tr>\n",
              "  </tbody>\n",
              "</table>\n",
              "</div>\n",
              "      <button class=\"colab-df-convert\" onclick=\"convertToInteractive('df-6f01992c-2163-44e9-8202-9002a615de29')\"\n",
              "              title=\"Convert this dataframe to an interactive table.\"\n",
              "              style=\"display:none;\">\n",
              "        \n",
              "  <svg xmlns=\"http://www.w3.org/2000/svg\" height=\"24px\"viewBox=\"0 0 24 24\"\n",
              "       width=\"24px\">\n",
              "    <path d=\"M0 0h24v24H0V0z\" fill=\"none\"/>\n",
              "    <path d=\"M18.56 5.44l.94 2.06.94-2.06 2.06-.94-2.06-.94-.94-2.06-.94 2.06-2.06.94zm-11 1L8.5 8.5l.94-2.06 2.06-.94-2.06-.94L8.5 2.5l-.94 2.06-2.06.94zm10 10l.94 2.06.94-2.06 2.06-.94-2.06-.94-.94-2.06-.94 2.06-2.06.94z\"/><path d=\"M17.41 7.96l-1.37-1.37c-.4-.4-.92-.59-1.43-.59-.52 0-1.04.2-1.43.59L10.3 9.45l-7.72 7.72c-.78.78-.78 2.05 0 2.83L4 21.41c.39.39.9.59 1.41.59.51 0 1.02-.2 1.41-.59l7.78-7.78 2.81-2.81c.8-.78.8-2.07 0-2.86zM5.41 20L4 18.59l7.72-7.72 1.47 1.35L5.41 20z\"/>\n",
              "  </svg>\n",
              "      </button>\n",
              "      \n",
              "  <style>\n",
              "    .colab-df-container {\n",
              "      display:flex;\n",
              "      flex-wrap:wrap;\n",
              "      gap: 12px;\n",
              "    }\n",
              "\n",
              "    .colab-df-convert {\n",
              "      background-color: #E8F0FE;\n",
              "      border: none;\n",
              "      border-radius: 50%;\n",
              "      cursor: pointer;\n",
              "      display: none;\n",
              "      fill: #1967D2;\n",
              "      height: 32px;\n",
              "      padding: 0 0 0 0;\n",
              "      width: 32px;\n",
              "    }\n",
              "\n",
              "    .colab-df-convert:hover {\n",
              "      background-color: #E2EBFA;\n",
              "      box-shadow: 0px 1px 2px rgba(60, 64, 67, 0.3), 0px 1px 3px 1px rgba(60, 64, 67, 0.15);\n",
              "      fill: #174EA6;\n",
              "    }\n",
              "\n",
              "    [theme=dark] .colab-df-convert {\n",
              "      background-color: #3B4455;\n",
              "      fill: #D2E3FC;\n",
              "    }\n",
              "\n",
              "    [theme=dark] .colab-df-convert:hover {\n",
              "      background-color: #434B5C;\n",
              "      box-shadow: 0px 1px 3px 1px rgba(0, 0, 0, 0.15);\n",
              "      filter: drop-shadow(0px 1px 2px rgba(0, 0, 0, 0.3));\n",
              "      fill: #FFFFFF;\n",
              "    }\n",
              "  </style>\n",
              "\n",
              "      <script>\n",
              "        const buttonEl =\n",
              "          document.querySelector('#df-6f01992c-2163-44e9-8202-9002a615de29 button.colab-df-convert');\n",
              "        buttonEl.style.display =\n",
              "          google.colab.kernel.accessAllowed ? 'block' : 'none';\n",
              "\n",
              "        async function convertToInteractive(key) {\n",
              "          const element = document.querySelector('#df-6f01992c-2163-44e9-8202-9002a615de29');\n",
              "          const dataTable =\n",
              "            await google.colab.kernel.invokeFunction('convertToInteractive',\n",
              "                                                     [key], {});\n",
              "          if (!dataTable) return;\n",
              "\n",
              "          const docLinkHtml = 'Like what you see? Visit the ' +\n",
              "            '<a target=\"_blank\" href=https://colab.research.google.com/notebooks/data_table.ipynb>data table notebook</a>'\n",
              "            + ' to learn more about interactive tables.';\n",
              "          element.innerHTML = '';\n",
              "          dataTable['output_type'] = 'display_data';\n",
              "          await google.colab.output.renderOutput(dataTable, element);\n",
              "          const docLink = document.createElement('div');\n",
              "          docLink.innerHTML = docLinkHtml;\n",
              "          element.appendChild(docLink);\n",
              "        }\n",
              "      </script>\n",
              "    </div>\n",
              "  </div>\n",
              "  "
            ]
          },
          "metadata": {},
          "execution_count": 7
        }
      ]
    },
    {
      "cell_type": "markdown",
      "source": [
        "**2. Do the necessary pre-processing steps**\n"
      ],
      "metadata": {
        "id": "P_4SQhfprORU"
      }
    },
    {
      "cell_type": "code",
      "source": [
        "data.isnull().sum()"
      ],
      "metadata": {
        "colab": {
          "base_uri": "https://localhost:8080/"
        },
        "id": "k0y2ubL4rVd0",
        "outputId": "aadca446-ced5-4f0a-c5ed-5cbfe8c086d6"
      },
      "execution_count": 9,
      "outputs": [
        {
          "output_type": "execute_result",
          "data": {
            "text/plain": [
              "SL                7\n",
              "SW                6\n",
              "PL                6\n",
              "PW                0\n",
              "Classification    0\n",
              "dtype: int64"
            ]
          },
          "metadata": {},
          "execution_count": 9
        }
      ]
    },
    {
      "cell_type": "code",
      "source": [
        "data.dtypes"
      ],
      "metadata": {
        "colab": {
          "base_uri": "https://localhost:8080/"
        },
        "id": "Ph1AXUicrf_L",
        "outputId": "3bc22c2a-ed0a-4c4d-b66b-27a4afde3621"
      },
      "execution_count": 10,
      "outputs": [
        {
          "output_type": "execute_result",
          "data": {
            "text/plain": [
              "SL                float64\n",
              "SW                float64\n",
              "PL                float64\n",
              "PW                float64\n",
              "Classification     object\n",
              "dtype: object"
            ]
          },
          "metadata": {},
          "execution_count": 10
        }
      ]
    },
    {
      "cell_type": "code",
      "source": [
        "freqgraph = data.select_dtypes(include=['float'])"
      ],
      "metadata": {
        "id": "-SCggAz-tlN9"
      },
      "execution_count": 16,
      "outputs": []
    },
    {
      "cell_type": "code",
      "source": [
        "freqgraph"
      ],
      "metadata": {
        "colab": {
          "base_uri": "https://localhost:8080/",
          "height": 424
        },
        "id": "h4glVdL2tnRl",
        "outputId": "fe8468a9-4977-4b7a-8088-0f76b144a422"
      },
      "execution_count": 17,
      "outputs": [
        {
          "output_type": "execute_result",
          "data": {
            "text/plain": [
              "      SL   SW    PL   PW\n",
              "0    5.1  3.5  1.40  0.2\n",
              "1    4.9  3.0  1.40  0.2\n",
              "2    5.8  3.2  1.30  0.2\n",
              "3    4.6  3.1  1.50  0.2\n",
              "4    5.0  3.6  1.40  0.2\n",
              "..   ...  ...   ...  ...\n",
              "145  6.7  3.0  5.20  2.3\n",
              "146  6.3  2.5  5.00  1.9\n",
              "147  6.5  3.0  4.35  2.0\n",
              "148  6.2  3.4  5.40  2.3\n",
              "149  5.9  3.0  5.10  1.8\n",
              "\n",
              "[150 rows x 4 columns]"
            ],
            "text/html": [
              "\n",
              "  <div id=\"df-67dbf527-9a01-4219-9025-a89debb7d405\">\n",
              "    <div class=\"colab-df-container\">\n",
              "      <div>\n",
              "<style scoped>\n",
              "    .dataframe tbody tr th:only-of-type {\n",
              "        vertical-align: middle;\n",
              "    }\n",
              "\n",
              "    .dataframe tbody tr th {\n",
              "        vertical-align: top;\n",
              "    }\n",
              "\n",
              "    .dataframe thead th {\n",
              "        text-align: right;\n",
              "    }\n",
              "</style>\n",
              "<table border=\"1\" class=\"dataframe\">\n",
              "  <thead>\n",
              "    <tr style=\"text-align: right;\">\n",
              "      <th></th>\n",
              "      <th>SL</th>\n",
              "      <th>SW</th>\n",
              "      <th>PL</th>\n",
              "      <th>PW</th>\n",
              "    </tr>\n",
              "  </thead>\n",
              "  <tbody>\n",
              "    <tr>\n",
              "      <th>0</th>\n",
              "      <td>5.1</td>\n",
              "      <td>3.5</td>\n",
              "      <td>1.40</td>\n",
              "      <td>0.2</td>\n",
              "    </tr>\n",
              "    <tr>\n",
              "      <th>1</th>\n",
              "      <td>4.9</td>\n",
              "      <td>3.0</td>\n",
              "      <td>1.40</td>\n",
              "      <td>0.2</td>\n",
              "    </tr>\n",
              "    <tr>\n",
              "      <th>2</th>\n",
              "      <td>5.8</td>\n",
              "      <td>3.2</td>\n",
              "      <td>1.30</td>\n",
              "      <td>0.2</td>\n",
              "    </tr>\n",
              "    <tr>\n",
              "      <th>3</th>\n",
              "      <td>4.6</td>\n",
              "      <td>3.1</td>\n",
              "      <td>1.50</td>\n",
              "      <td>0.2</td>\n",
              "    </tr>\n",
              "    <tr>\n",
              "      <th>4</th>\n",
              "      <td>5.0</td>\n",
              "      <td>3.6</td>\n",
              "      <td>1.40</td>\n",
              "      <td>0.2</td>\n",
              "    </tr>\n",
              "    <tr>\n",
              "      <th>...</th>\n",
              "      <td>...</td>\n",
              "      <td>...</td>\n",
              "      <td>...</td>\n",
              "      <td>...</td>\n",
              "    </tr>\n",
              "    <tr>\n",
              "      <th>145</th>\n",
              "      <td>6.7</td>\n",
              "      <td>3.0</td>\n",
              "      <td>5.20</td>\n",
              "      <td>2.3</td>\n",
              "    </tr>\n",
              "    <tr>\n",
              "      <th>146</th>\n",
              "      <td>6.3</td>\n",
              "      <td>2.5</td>\n",
              "      <td>5.00</td>\n",
              "      <td>1.9</td>\n",
              "    </tr>\n",
              "    <tr>\n",
              "      <th>147</th>\n",
              "      <td>6.5</td>\n",
              "      <td>3.0</td>\n",
              "      <td>4.35</td>\n",
              "      <td>2.0</td>\n",
              "    </tr>\n",
              "    <tr>\n",
              "      <th>148</th>\n",
              "      <td>6.2</td>\n",
              "      <td>3.4</td>\n",
              "      <td>5.40</td>\n",
              "      <td>2.3</td>\n",
              "    </tr>\n",
              "    <tr>\n",
              "      <th>149</th>\n",
              "      <td>5.9</td>\n",
              "      <td>3.0</td>\n",
              "      <td>5.10</td>\n",
              "      <td>1.8</td>\n",
              "    </tr>\n",
              "  </tbody>\n",
              "</table>\n",
              "<p>150 rows × 4 columns</p>\n",
              "</div>\n",
              "      <button class=\"colab-df-convert\" onclick=\"convertToInteractive('df-67dbf527-9a01-4219-9025-a89debb7d405')\"\n",
              "              title=\"Convert this dataframe to an interactive table.\"\n",
              "              style=\"display:none;\">\n",
              "        \n",
              "  <svg xmlns=\"http://www.w3.org/2000/svg\" height=\"24px\"viewBox=\"0 0 24 24\"\n",
              "       width=\"24px\">\n",
              "    <path d=\"M0 0h24v24H0V0z\" fill=\"none\"/>\n",
              "    <path d=\"M18.56 5.44l.94 2.06.94-2.06 2.06-.94-2.06-.94-.94-2.06-.94 2.06-2.06.94zm-11 1L8.5 8.5l.94-2.06 2.06-.94-2.06-.94L8.5 2.5l-.94 2.06-2.06.94zm10 10l.94 2.06.94-2.06 2.06-.94-2.06-.94-.94-2.06-.94 2.06-2.06.94z\"/><path d=\"M17.41 7.96l-1.37-1.37c-.4-.4-.92-.59-1.43-.59-.52 0-1.04.2-1.43.59L10.3 9.45l-7.72 7.72c-.78.78-.78 2.05 0 2.83L4 21.41c.39.39.9.59 1.41.59.51 0 1.02-.2 1.41-.59l7.78-7.78 2.81-2.81c.8-.78.8-2.07 0-2.86zM5.41 20L4 18.59l7.72-7.72 1.47 1.35L5.41 20z\"/>\n",
              "  </svg>\n",
              "      </button>\n",
              "      \n",
              "  <style>\n",
              "    .colab-df-container {\n",
              "      display:flex;\n",
              "      flex-wrap:wrap;\n",
              "      gap: 12px;\n",
              "    }\n",
              "\n",
              "    .colab-df-convert {\n",
              "      background-color: #E8F0FE;\n",
              "      border: none;\n",
              "      border-radius: 50%;\n",
              "      cursor: pointer;\n",
              "      display: none;\n",
              "      fill: #1967D2;\n",
              "      height: 32px;\n",
              "      padding: 0 0 0 0;\n",
              "      width: 32px;\n",
              "    }\n",
              "\n",
              "    .colab-df-convert:hover {\n",
              "      background-color: #E2EBFA;\n",
              "      box-shadow: 0px 1px 2px rgba(60, 64, 67, 0.3), 0px 1px 3px 1px rgba(60, 64, 67, 0.15);\n",
              "      fill: #174EA6;\n",
              "    }\n",
              "\n",
              "    [theme=dark] .colab-df-convert {\n",
              "      background-color: #3B4455;\n",
              "      fill: #D2E3FC;\n",
              "    }\n",
              "\n",
              "    [theme=dark] .colab-df-convert:hover {\n",
              "      background-color: #434B5C;\n",
              "      box-shadow: 0px 1px 3px 1px rgba(0, 0, 0, 0.15);\n",
              "      filter: drop-shadow(0px 1px 2px rgba(0, 0, 0, 0.3));\n",
              "      fill: #FFFFFF;\n",
              "    }\n",
              "  </style>\n",
              "\n",
              "      <script>\n",
              "        const buttonEl =\n",
              "          document.querySelector('#df-67dbf527-9a01-4219-9025-a89debb7d405 button.colab-df-convert');\n",
              "        buttonEl.style.display =\n",
              "          google.colab.kernel.accessAllowed ? 'block' : 'none';\n",
              "\n",
              "        async function convertToInteractive(key) {\n",
              "          const element = document.querySelector('#df-67dbf527-9a01-4219-9025-a89debb7d405');\n",
              "          const dataTable =\n",
              "            await google.colab.kernel.invokeFunction('convertToInteractive',\n",
              "                                                     [key], {});\n",
              "          if (!dataTable) return;\n",
              "\n",
              "          const docLinkHtml = 'Like what you see? Visit the ' +\n",
              "            '<a target=\"_blank\" href=https://colab.research.google.com/notebooks/data_table.ipynb>data table notebook</a>'\n",
              "            + ' to learn more about interactive tables.';\n",
              "          element.innerHTML = '';\n",
              "          dataTable['output_type'] = 'display_data';\n",
              "          await google.colab.output.renderOutput(dataTable, element);\n",
              "          const docLink = document.createElement('div');\n",
              "          docLink.innerHTML = docLinkHtml;\n",
              "          element.appendChild(docLink);\n",
              "        }\n",
              "      </script>\n",
              "    </div>\n",
              "  </div>\n",
              "  "
            ]
          },
          "metadata": {},
          "execution_count": 17
        }
      ]
    },
    {
      "cell_type": "code",
      "source": [
        "freqgraph.hist(figsize=(20,15))"
      ],
      "metadata": {
        "colab": {
          "base_uri": "https://localhost:8080/",
          "height": 966
        },
        "id": "9uZX_uTJtvei",
        "outputId": "f6a16577-b9eb-4747-cc09-c08904512175"
      },
      "execution_count": 18,
      "outputs": [
        {
          "output_type": "execute_result",
          "data": {
            "text/plain": [
              "array([[<matplotlib.axes._subplots.AxesSubplot object at 0x7f5cd9daeb80>,\n",
              "        <matplotlib.axes._subplots.AxesSubplot object at 0x7f5cd9c87220>],\n",
              "       [<matplotlib.axes._subplots.AxesSubplot object at 0x7f5cd9c36640>,\n",
              "        <matplotlib.axes._subplots.AxesSubplot object at 0x7f5cd9be4a30>]],\n",
              "      dtype=object)"
            ]
          },
          "metadata": {},
          "execution_count": 18
        },
        {
          "output_type": "display_data",
          "data": {
            "text/plain": [
              "<Figure size 1440x1080 with 4 Axes>"
            ],
            "image/png": "[encoded data removed]"
          },
          "metadata": {
            "needs_background": "light"
          }
        }
      ]
    },
    {
      "cell_type": "code",
      "source": [
        "data.columns"
      ],
      "metadata": {
        "colab": {
          "base_uri": "https://localhost:8080/"
        },
        "id": "abutHQwysYck",
        "outputId": "927fc1ff-12eb-4b0e-dd57-7c1020af5be2"
      },
      "execution_count": 11,
      "outputs": [
        {
          "output_type": "execute_result",
          "data": {
            "text/plain": [
              "Index(['SL', 'SW', 'PL', 'PW', 'Classification'], dtype='object')"
            ]
          },
          "metadata": {},
          "execution_count": 11
        }
      ]
    },
    {
      "cell_type": "code",
      "source": [
        "for i in ['SL', 'SW', 'PL', 'PW']:data[i]=data[i].fillna(data[i].median())"
      ],
      "metadata": {
        "id": "0kH3Ya1rsp4z"
      },
      "execution_count": 12,
      "outputs": []
    },
    {
      "cell_type": "code",
      "source": [
        "data.isnull().sum()"
      ],
      "metadata": {
        "colab": {
          "base_uri": "https://localhost:8080/"
        },
        "id": "1ZBi1vPYtDYc",
        "outputId": "b59c2cb0-967f-4b80-fe5f-1fbeea1c603c"
      },
      "execution_count": 13,
      "outputs": [
        {
          "output_type": "execute_result",
          "data": {
            "text/plain": [
              "SL                0\n",
              "SW                0\n",
              "PL                0\n",
              "PW                0\n",
              "Classification    0\n",
              "dtype: int64"
            ]
          },
          "metadata": {},
          "execution_count": 13
        }
      ]
    },
    {
      "cell_type": "code",
      "source": [
        "plt.boxplot(adat['SL'])\n",
        "plt.title('Boxplot of SL Column')"
      ],
      "metadata": {
        "colab": {
          "base_uri": "https://localhost:8080/",
          "height": 298
        },
        "id": "a3E2DwL4tI1q",
        "outputId": "d3ae5073-1ac6-4265-c5e3-7384c069ceb1"
      },
      "execution_count": 19,
      "outputs": [
        {
          "output_type": "execute_result",
          "data": {
            "text/plain": [
              "Text(0.5, 1.0, 'Boxplot of SL Column')"
            ]
          },
          "metadata": {},
          "execution_count": 19
        },
        {
          "output_type": "display_data",
          "data": {
            "text/plain": [
              "<Figure size 432x288 with 1 Axes>"
            ],
            "image/png": "[encoded data removed]"
          },
          "metadata": {
            "needs_background": "light"
          }
        }
      ]
    },
    {
      "cell_type": "code",
      "source": [
        "plt.boxplot(data['SW'])\n",
        "plt.title('Boxplot of SW Column')"
      ],
      "metadata": {
        "colab": {
          "base_uri": "https://localhost:8080/",
          "height": 298
        },
        "id": "9rEyXzT5uwXS",
        "outputId": "513d0c12-1791-4453-ee55-59f73d70eb3c"
      },
      "execution_count": 20,
      "outputs": [
        {
          "output_type": "execute_result",
          "data": {
            "text/plain": [
              "Text(0.5, 1.0, 'Boxplot of SW Column')"
            ]
          },
          "metadata": {},
          "execution_count": 20
        },
        {
          "output_type": "display_data",
          "data": {
            "text/plain": [
              "<Figure size 432x288 with 1 Axes>"
            ],
            "image/png": "[encoded data removed]"
          },
          "metadata": {
            "needs_background": "light"
          }
        }
      ]
    },
    {
      "cell_type": "code",
      "source": [
        "plt.boxplot(data['PL'])\n",
        "plt.title('Boxplot of PL Column')"
      ],
      "metadata": {
        "colab": {
          "base_uri": "https://localhost:8080/",
          "height": 298
        },
        "id": "0KKwuB1FvADR",
        "outputId": "7ff131d0-7e8b-4ddd-8215-59b6f4d2f5b9"
      },
      "execution_count": 22,
      "outputs": [
        {
          "output_type": "execute_result",
          "data": {
            "text/plain": [
              "Text(0.5, 1.0, 'Boxplot of PL Column')"
            ]
          },
          "metadata": {},
          "execution_count": 22
        },
        {
          "output_type": "display_data",
          "data": {
            "text/plain": [
              "<Figure size 432x288 with 1 Axes>"
            ],
            "image/png": "[encoded data removed]"
          },
          "metadata": {
            "needs_background": "light"
          }
        }
      ]
    },
    {
      "cell_type": "code",
      "source": [
        "plt.boxplot(data['PL'])\n",
        "plt.title('Boxplot of PL Column')"
      ],
      "metadata": {
        "colab": {
          "base_uri": "https://localhost:8080/",
          "height": 298
        },
        "id": "ehpWu1yyvSNy",
        "outputId": "bb50e751-c23e-4049-e461-1e5f3b24cbd1"
      },
      "execution_count": 23,
      "outputs": [
        {
          "output_type": "execute_result",
          "data": {
            "text/plain": [
              "Text(0.5, 1.0, 'Boxplot of PL Column')"
            ]
          },
          "metadata": {},
          "execution_count": 23
        },
        {
          "output_type": "display_data",
          "data": {
            "text/plain": [
              "<Figure size 432x288 with 1 Axes>"
            ],
            "image/png": "[encoded data removed]"
          },
          "metadata": {
            "needs_background": "light"
          }
        }
      ]
    },
    {
      "cell_type": "code",
      "source": [
        "Q1=np.percentile(data['SW'],25, interpolation='midpoint')\n",
        "Q2=np.percentile(data['SW'],50, interpolation='midpoint')\n",
        "Q3=np.percentile(data['SW'],75, interpolation='midpoint')"
      ],
      "metadata": {
        "id": "qjEPE0a_vUIo"
      },
      "execution_count": 24,
      "outputs": []
    },
    {
      "cell_type": "code",
      "source": [
        "print(Q1)\n",
        "print(Q2)\n",
        "print(Q3)"
      ],
      "metadata": {
        "colab": {
          "base_uri": "https://localhost:8080/"
        },
        "id": "vGQBxVdmv1oY",
        "outputId": "8b1e4d70-e822-4786-b73b-12d2ea270be5"
      },
      "execution_count": 25,
      "outputs": [
        {
          "output_type": "stream",
          "name": "stdout",
          "text": [
            "2.8\n",
            "3.0\n",
            "3.25\n"
          ]
        }
      ]
    },
    {
      "cell_type": "code",
      "source": [
        "data['SW'].median()"
      ],
      "metadata": {
        "colab": {
          "base_uri": "https://localhost:8080/"
        },
        "id": "sauCZMBPv61Z",
        "outputId": "d0076d9c-0774-405c-e229-1807966a53bf"
      },
      "execution_count": 26,
      "outputs": [
        {
          "output_type": "execute_result",
          "data": {
            "text/plain": [
              "3.0"
            ]
          },
          "metadata": {},
          "execution_count": 26
        }
      ]
    },
    {
      "cell_type": "code",
      "source": [
        "IQR=Q3-Q1\n",
        "print(IQR)"
      ],
      "metadata": {
        "colab": {
          "base_uri": "https://localhost:8080/"
        },
        "id": "pzZGoBClwBsI",
        "outputId": "92681a4d-b553-424d-ee59-a69a2c328820"
      },
      "execution_count": 27,
      "outputs": [
        {
          "output_type": "stream",
          "name": "stdout",
          "text": [
            "0.4500000000000002\n"
          ]
        }
      ]
    },
    {
      "cell_type": "code",
      "source": [
        "low_limit=Q1-1.5*IQR\n",
        "up_limit=Q3+1.5*IQR"
      ],
      "metadata": {
        "id": "8-4B4cu2wHBJ"
      },
      "execution_count": 28,
      "outputs": []
    },
    {
      "cell_type": "code",
      "source": [
        "print(low_limit)\n",
        "print(up_limit)"
      ],
      "metadata": {
        "colab": {
          "base_uri": "https://localhost:8080/"
        },
        "id": "xu5hioZDwLWR",
        "outputId": "52642ac3-fbd0-4602-e7ed-0814a05706ac"
      },
      "execution_count": 29,
      "outputs": [
        {
          "output_type": "stream",
          "name": "stdout",
          "text": [
            "2.1249999999999996\n",
            "3.9250000000000003\n"
          ]
        }
      ]
    },
    {
      "cell_type": "code",
      "source": [
        "outlier=[]\n",
        "for x in data['SW']:\n",
        "  if ((x>up_limit) or (x<low_limit)):\n",
        "    outlier.append(x)"
      ],
      "metadata": {
        "id": "7Um8A_gbwQJ4"
      },
      "execution_count": 33,
      "outputs": []
    },
    {
      "cell_type": "code",
      "source": [
        "outlier"
      ],
      "metadata": {
        "colab": {
          "base_uri": "https://localhost:8080/"
        },
        "id": "xylcYmGYwYqd",
        "outputId": "4fc87882-9a4f-40a4-9f63-74060e5c3362"
      },
      "execution_count": 34,
      "outputs": [
        {
          "output_type": "execute_result",
          "data": {
            "text/plain": [
              "[4.0, 4.4, 4.1, 4.2, 2.0]"
            ]
          },
          "metadata": {},
          "execution_count": 34
        }
      ]
    },
    {
      "cell_type": "code",
      "source": [
        "data1=pd.get_dummies(data)"
      ],
      "metadata": {
        "id": "47cD9C5dwebi"
      },
      "execution_count": 35,
      "outputs": []
    },
    {
      "cell_type": "code",
      "source": [
        "data1"
      ],
      "metadata": {
        "colab": {
          "base_uri": "https://localhost:8080/",
          "height": 424
        },
        "id": "wRyyZipixoCI",
        "outputId": "50c5fb8d-6f24-4a5b-cb5f-023e46c34bf7"
      },
      "execution_count": 36,
      "outputs": [
        {
          "output_type": "execute_result",
          "data": {
            "text/plain": [
              "      SL   SW    PL   PW  Classification_Iris-setosa  \\\n",
              "0    5.1  3.5  1.40  0.2                           1   \n",
              "1    4.9  3.0  1.40  0.2                           1   \n",
              "2    5.8  3.2  1.30  0.2                           1   \n",
              "3    4.6  3.1  1.50  0.2                           1   \n",
              "4    5.0  3.6  1.40  0.2                           1   \n",
              "..   ...  ...   ...  ...                         ...   \n",
              "145  6.7  3.0  5.20  2.3                           0   \n",
              "146  6.3  2.5  5.00  1.9                           0   \n",
              "147  6.5  3.0  4.35  2.0                           0   \n",
              "148  6.2  3.4  5.40  2.3                           0   \n",
              "149  5.9  3.0  5.10  1.8                           0   \n",
              "\n",
              "     Classification_Iris-versicolor  Classification_Iris-virginica  \n",
              "0                                 0                              0  \n",
              "1                                 0                              0  \n",
              "2                                 0                              0  \n",
              "3                                 0                              0  \n",
              "4                                 0                              0  \n",
              "..                              ...                            ...  \n",
              "145                               0                              1  \n",
              "146                               0                              1  \n",
              "147                               0                              1  \n",
              "148                               0                              1  \n",
              "149                               0                              1  \n",
              "\n",
              "[150 rows x 7 columns]"
            ],
            "text/html": [
              "\n",
              "  <div id=\"df-6996514a-9439-4e0e-bb0f-e8f90e671256\">\n",
              "    <div class=\"colab-df-container\">\n",
              "      <div>\n",
              "<style scoped>\n",
              "    .dataframe tbody tr th:only-of-type {\n",
              "        vertical-align: middle;\n",
              "    }\n",
              "\n",
              "    .dataframe tbody tr th {\n",
              "        vertical-align: top;\n",
              "    }\n",
              "\n",
              "    .dataframe thead th {\n",
              "        text-align: right;\n",
              "    }\n",
              "</style>\n",
              "<table border=\"1\" class=\"dataframe\">\n",
              "  <thead>\n",
              "    <tr style=\"text-align: right;\">\n",
              "      <th></th>\n",
              "      <th>SL</th>\n",
              "      <th>SW</th>\n",
              "      <th>PL</th>\n",
              "      <th>PW</th>\n",
              "      <th>Classification_Iris-setosa</th>\n",
              "      <th>Classification_Iris-versicolor</th>\n",
              "      <th>Classification_Iris-virginica</th>\n",
              "    </tr>\n",
              "  </thead>\n",
              "  <tbody>\n",
              "    <tr>\n",
              "      <th>0</th>\n",
              "      <td>5.1</td>\n",
              "      <td>3.5</td>\n",
              "      <td>1.40</td>\n",
              "      <td>0.2</td>\n",
              "      <td>1</td>\n",
              "      <td>0</td>\n",
              "      <td>0</td>\n",
              "    </tr>\n",
              "    <tr>\n",
              "      <th>1</th>\n",
              "      <td>4.9</td>\n",
              "      <td>3.0</td>\n",
              "      <td>1.40</td>\n",
              "      <td>0.2</td>\n",
              "      <td>1</td>\n",
              "      <td>0</td>\n",
              "      <td>0</td>\n",
              "    </tr>\n",
              "    <tr>\n",
              "      <th>2</th>\n",
              "      <td>5.8</td>\n",
              "      <td>3.2</td>\n",
              "      <td>1.30</td>\n",
              "      <td>0.2</td>\n",
              "      <td>1</td>\n",
              "      <td>0</td>\n",
              "      <td>0</td>\n",
              "    </tr>\n",
              "    <tr>\n",
              "      <th>3</th>\n",
              "      <td>4.6</td>\n",
              "      <td>3.1</td>\n",
              "      <td>1.50</td>\n",
              "      <td>0.2</td>\n",
              "      <td>1</td>\n",
              "      <td>0</td>\n",
              "      <td>0</td>\n",
              "    </tr>\n",
              "    <tr>\n",
              "      <th>4</th>\n",
              "      <td>5.0</td>\n",
              "      <td>3.6</td>\n",
              "      <td>1.40</td>\n",
              "      <td>0.2</td>\n",
              "      <td>1</td>\n",
              "      <td>0</td>\n",
              "      <td>0</td>\n",
              "    </tr>\n",
              "    <tr>\n",
              "      <th>...</th>\n",
              "      <td>...</td>\n",
              "      <td>...</td>\n",
              "      <td>...</td>\n",
              "      <td>...</td>\n",
              "      <td>...</td>\n",
              "      <td>...</td>\n",
              "      <td>...</td>\n",
              "    </tr>\n",
              "    <tr>\n",
              "      <th>145</th>\n",
              "      <td>6.7</td>\n",
              "      <td>3.0</td>\n",
              "      <td>5.20</td>\n",
              "      <td>2.3</td>\n",
              "      <td>0</td>\n",
              "      <td>0</td>\n",
              "      <td>1</td>\n",
              "    </tr>\n",
              "    <tr>\n",
              "      <th>146</th>\n",
              "      <td>6.3</td>\n",
              "      <td>2.5</td>\n",
              "      <td>5.00</td>\n",
              "      <td>1.9</td>\n",
              "      <td>0</td>\n",
              "      <td>0</td>\n",
              "      <td>1</td>\n",
              "    </tr>\n",
              "    <tr>\n",
              "      <th>147</th>\n",
              "      <td>6.5</td>\n",
              "      <td>3.0</td>\n",
              "      <td>4.35</td>\n",
              "      <td>2.0</td>\n",
              "      <td>0</td>\n",
              "      <td>0</td>\n",
              "      <td>1</td>\n",
              "    </tr>\n",
              "    <tr>\n",
              "      <th>148</th>\n",
              "      <td>6.2</td>\n",
              "      <td>3.4</td>\n",
              "      <td>5.40</td>\n",
              "      <td>2.3</td>\n",
              "      <td>0</td>\n",
              "      <td>0</td>\n",
              "      <td>1</td>\n",
              "    </tr>\n",
              "    <tr>\n",
              "      <th>149</th>\n",
              "      <td>5.9</td>\n",
              "      <td>3.0</td>\n",
              "      <td>5.10</td>\n",
              "      <td>1.8</td>\n",
              "      <td>0</td>\n",
              "      <td>0</td>\n",
              "      <td>1</td>\n",
              "    </tr>\n",
              "  </tbody>\n",
              "</table>\n",
              "<p>150 rows × 7 columns</p>\n",
              "</div>\n",
              "      <button class=\"colab-df-convert\" onclick=\"convertToInteractive('df-6996514a-9439-4e0e-bb0f-e8f90e671256')\"\n",
              "              title=\"Convert this dataframe to an interactive table.\"\n",
              "              style=\"display:none;\">\n",
              "        \n",
              "  <svg xmlns=\"http://www.w3.org/2000/svg\" height=\"24px\"viewBox=\"0 0 24 24\"\n",
              "       width=\"24px\">\n",
              "    <path d=\"M0 0h24v24H0V0z\" fill=\"none\"/>\n",
              "    <path d=\"M18.56 5.44l.94 2.06.94-2.06 2.06-.94-2.06-.94-.94-2.06-.94 2.06-2.06.94zm-11 1L8.5 8.5l.94-2.06 2.06-.94-2.06-.94L8.5 2.5l-.94 2.06-2.06.94zm10 10l.94 2.06.94-2.06 2.06-.94-2.06-.94-.94-2.06-.94 2.06-2.06.94z\"/><path d=\"M17.41 7.96l-1.37-1.37c-.4-.4-.92-.59-1.43-.59-.52 0-1.04.2-1.43.59L10.3 9.45l-7.72 7.72c-.78.78-.78 2.05 0 2.83L4 21.41c.39.39.9.59 1.41.59.51 0 1.02-.2 1.41-.59l7.78-7.78 2.81-2.81c.8-.78.8-2.07 0-2.86zM5.41 20L4 18.59l7.72-7.72 1.47 1.35L5.41 20z\"/>\n",
              "  </svg>\n",
              "      </button>\n",
              "      \n",
              "  <style>\n",
              "    .colab-df-container {\n",
              "      display:flex;\n",
              "      flex-wrap:wrap;\n",
              "      gap: 12px;\n",
              "    }\n",
              "\n",
              "    .colab-df-convert {\n",
              "      background-color: #E8F0FE;\n",
              "      border: none;\n",
              "      border-radius: 50%;\n",
              "      cursor: pointer;\n",
              "      display: none;\n",
              "      fill: #1967D2;\n",
              "      height: 32px;\n",
              "      padding: 0 0 0 0;\n",
              "      width: 32px;\n",
              "    }\n",
              "\n",
              "    .colab-df-convert:hover {\n",
              "      background-color: #E2EBFA;\n",
              "      box-shadow: 0px 1px 2px rgba(60, 64, 67, 0.3), 0px 1px 3px 1px rgba(60, 64, 67, 0.15);\n",
              "      fill: #174EA6;\n",
              "    }\n",
              "\n",
              "    [theme=dark] .colab-df-convert {\n",
              "      background-color: #3B4455;\n",
              "      fill: #D2E3FC;\n",
              "    }\n",
              "\n",
              "    [theme=dark] .colab-df-convert:hover {\n",
              "      background-color: #434B5C;\n",
              "      box-shadow: 0px 1px 3px 1px rgba(0, 0, 0, 0.15);\n",
              "      filter: drop-shadow(0px 1px 2px rgba(0, 0, 0, 0.3));\n",
              "      fill: #FFFFFF;\n",
              "    }\n",
              "  </style>\n",
              "\n",
              "      <script>\n",
              "        const buttonEl =\n",
              "          document.querySelector('#df-6996514a-9439-4e0e-bb0f-e8f90e671256 button.colab-df-convert');\n",
              "        buttonEl.style.display =\n",
              "          google.colab.kernel.accessAllowed ? 'block' : 'none';\n",
              "\n",
              "        async function convertToInteractive(key) {\n",
              "          const element = document.querySelector('#df-6996514a-9439-4e0e-bb0f-e8f90e671256');\n",
              "          const dataTable =\n",
              "            await google.colab.kernel.invokeFunction('convertToInteractive',\n",
              "                                                     [key], {});\n",
              "          if (!dataTable) return;\n",
              "\n",
              "          const docLinkHtml = 'Like what you see? Visit the ' +\n",
              "            '<a target=\"_blank\" href=https://colab.research.google.com/notebooks/data_table.ipynb>data table notebook</a>'\n",
              "            + ' to learn more about interactive tables.';\n",
              "          element.innerHTML = '';\n",
              "          dataTable['output_type'] = 'display_data';\n",
              "          await google.colab.output.renderOutput(dataTable, element);\n",
              "          const docLink = document.createElement('div');\n",
              "          docLink.innerHTML = docLinkHtml;\n",
              "          element.appendChild(docLink);\n",
              "        }\n",
              "      </script>\n",
              "    </div>\n",
              "  </div>\n",
              "  "
            ]
          },
          "metadata": {},
          "execution_count": 36
        }
      ]
    },
    {
      "cell_type": "code",
      "source": [
        "#checking the multicollinearity\n",
        "data1.corr()"
      ],
      "metadata": {
        "colab": {
          "base_uri": "https://localhost:8080/",
          "height": 313
        },
        "id": "U8WWKpp1xrEw",
        "outputId": "febf3d3f-0199-47d3-ac35-e43088f0018f"
      },
      "execution_count": 37,
      "outputs": [
        {
          "output_type": "execute_result",
          "data": {
            "text/plain": [
              "                                      SL        SW        PL        PW  \\\n",
              "SL                              1.000000 -0.099107  0.830554  0.800939   \n",
              "SW                             -0.099107  1.000000 -0.405531 -0.338655   \n",
              "PL                              0.830554 -0.405531  1.000000  0.936089   \n",
              "PW                              0.800939 -0.338655  0.936089  1.000000   \n",
              "Classification_Iris-setosa     -0.699619  0.566018 -0.900883 -0.887510   \n",
              "Classification_Iris-versicolor  0.058497 -0.432639  0.195273  0.118376   \n",
              "Classification_Iris-virginica   0.641122 -0.133378  0.705610  0.769134   \n",
              "\n",
              "                                Classification_Iris-setosa  \\\n",
              "SL                                               -0.699619   \n",
              "SW                                                0.566018   \n",
              "PL                                               -0.900883   \n",
              "PW                                               -0.887510   \n",
              "Classification_Iris-setosa                        1.000000   \n",
              "Classification_Iris-versicolor                   -0.500000   \n",
              "Classification_Iris-virginica                    -0.500000   \n",
              "\n",
              "                                Classification_Iris-versicolor  \\\n",
              "SL                                                    0.058497   \n",
              "SW                                                   -0.432639   \n",
              "PL                                                    0.195273   \n",
              "PW                                                    0.118376   \n",
              "Classification_Iris-setosa                           -0.500000   \n",
              "Classification_Iris-versicolor                        1.000000   \n",
              "Classification_Iris-virginica                        -0.500000   \n",
              "\n",
              "                                Classification_Iris-virginica  \n",
              "SL                                                   0.641122  \n",
              "SW                                                  -0.133378  \n",
              "PL                                                   0.705610  \n",
              "PW                                                   0.769134  \n",
              "Classification_Iris-setosa                          -0.500000  \n",
              "Classification_Iris-versicolor                      -0.500000  \n",
              "Classification_Iris-virginica                        1.000000  "
            ],
            "text/html": [
              "\n",
              "  <div id=\"df-77dffeb7-9a9c-4a7d-a3d9-40423bf6a576\">\n",
              "    <div class=\"colab-df-container\">\n",
              "      <div>\n",
              "<style scoped>\n",
              "    .dataframe tbody tr th:only-of-type {\n",
              "        vertical-align: middle;\n",
              "    }\n",
              "\n",
              "    .dataframe tbody tr th {\n",
              "        vertical-align: top;\n",
              "    }\n",
              "\n",
              "    .dataframe thead th {\n",
              "        text-align: right;\n",
              "    }\n",
              "</style>\n",
              "<table border=\"1\" class=\"dataframe\">\n",
              "  <thead>\n",
              "    <tr style=\"text-align: right;\">\n",
              "      <th></th>\n",
              "      <th>SL</th>\n",
              "      <th>SW</th>\n",
              "      <th>PL</th>\n",
              "      <th>PW</th>\n",
              "      <th>Classification_Iris-setosa</th>\n",
              "      <th>Classification_Iris-versicolor</th>\n",
              "      <th>Classification_Iris-virginica</th>\n",
              "    </tr>\n",
              "  </thead>\n",
              "  <tbody>\n",
              "    <tr>\n",
              "      <th>SL</th>\n",
              "      <td>1.000000</td>\n",
              "      <td>-0.099107</td>\n",
              "      <td>0.830554</td>\n",
              "      <td>0.800939</td>\n",
              "      <td>-0.699619</td>\n",
              "      <td>0.058497</td>\n",
              "      <td>0.641122</td>\n",
              "    </tr>\n",
              "    <tr>\n",
              "      <th>SW</th>\n",
              "      <td>-0.099107</td>\n",
              "      <td>1.000000</td>\n",
              "      <td>-0.405531</td>\n",
              "      <td>-0.338655</td>\n",
              "      <td>0.566018</td>\n",
              "      <td>-0.432639</td>\n",
              "      <td>-0.133378</td>\n",
              "    </tr>\n",
              "    <tr>\n",
              "      <th>PL</th>\n",
              "      <td>0.830554</td>\n",
              "      <td>-0.405531</td>\n",
              "      <td>1.000000</td>\n",
              "      <td>0.936089</td>\n",
              "      <td>-0.900883</td>\n",
              "      <td>0.195273</td>\n",
              "      <td>0.705610</td>\n",
              "    </tr>\n",
              "    <tr>\n",
              "      <th>PW</th>\n",
              "      <td>0.800939</td>\n",
              "      <td>-0.338655</td>\n",
              "      <td>0.936089</td>\n",
              "      <td>1.000000</td>\n",
              "      <td>-0.887510</td>\n",
              "      <td>0.118376</td>\n",
              "      <td>0.769134</td>\n",
              "    </tr>\n",
              "    <tr>\n",
              "      <th>Classification_Iris-setosa</th>\n",
              "      <td>-0.699619</td>\n",
              "      <td>0.566018</td>\n",
              "      <td>-0.900883</td>\n",
              "      <td>-0.887510</td>\n",
              "      <td>1.000000</td>\n",
              "      <td>-0.500000</td>\n",
              "      <td>-0.500000</td>\n",
              "    </tr>\n",
              "    <tr>\n",
              "      <th>Classification_Iris-versicolor</th>\n",
              "      <td>0.058497</td>\n",
              "      <td>-0.432639</td>\n",
              "      <td>0.195273</td>\n",
              "      <td>0.118376</td>\n",
              "      <td>-0.500000</td>\n",
              "      <td>1.000000</td>\n",
              "      <td>-0.500000</td>\n",
              "    </tr>\n",
              "    <tr>\n",
              "      <th>Classification_Iris-virginica</th>\n",
              "      <td>0.641122</td>\n",
              "      <td>-0.133378</td>\n",
              "      <td>0.705610</td>\n",
              "      <td>0.769134</td>\n",
              "      <td>-0.500000</td>\n",
              "      <td>-0.500000</td>\n",
              "      <td>1.000000</td>\n",
              "    </tr>\n",
              "  </tbody>\n",
              "</table>\n",
              "</div>\n",
              "      <button class=\"colab-df-convert\" onclick=\"convertToInteractive('df-77dffeb7-9a9c-4a7d-a3d9-40423bf6a576')\"\n",
              "              title=\"Convert this dataframe to an interactive table.\"\n",
              "              style=\"display:none;\">\n",
              "        \n",
              "  <svg xmlns=\"http://www.w3.org/2000/svg\" height=\"24px\"viewBox=\"0 0 24 24\"\n",
              "       width=\"24px\">\n",
              "    <path d=\"M0 0h24v24H0V0z\" fill=\"none\"/>\n",
              "    <path d=\"M18.56 5.44l.94 2.06.94-2.06 2.06-.94-2.06-.94-.94-2.06-.94 2.06-2.06.94zm-11 1L8.5 8.5l.94-2.06 2.06-.94-2.06-.94L8.5 2.5l-.94 2.06-2.06.94zm10 10l.94 2.06.94-2.06 2.06-.94-2.06-.94-.94-2.06-.94 2.06-2.06.94z\"/><path d=\"M17.41 7.96l-1.37-1.37c-.4-.4-.92-.59-1.43-.59-.52 0-1.04.2-1.43.59L10.3 9.45l-7.72 7.72c-.78.78-.78 2.05 0 2.83L4 21.41c.39.39.9.59 1.41.59.51 0 1.02-.2 1.41-.59l7.78-7.78 2.81-2.81c.8-.78.8-2.07 0-2.86zM5.41 20L4 18.59l7.72-7.72 1.47 1.35L5.41 20z\"/>\n",
              "  </svg>\n",
              "      </button>\n",
              "      \n",
              "  <style>\n",
              "    .colab-df-container {\n",
              "      display:flex;\n",
              "      flex-wrap:wrap;\n",
              "      gap: 12px;\n",
              "    }\n",
              "\n",
              "    .colab-df-convert {\n",
              "      background-color: #E8F0FE;\n",
              "      border: none;\n",
              "      border-radius: 50%;\n",
              "      cursor: pointer;\n",
              "      display: none;\n",
              "      fill: #1967D2;\n",
              "      height: 32px;\n",
              "      padding: 0 0 0 0;\n",
              "      width: 32px;\n",
              "    }\n",
              "\n",
              "    .colab-df-convert:hover {\n",
              "      background-color: #E2EBFA;\n",
              "      box-shadow: 0px 1px 2px rgba(60, 64, 67, 0.3), 0px 1px 3px 1px rgba(60, 64, 67, 0.15);\n",
              "      fill: #174EA6;\n",
              "    }\n",
              "\n",
              "    [theme=dark] .colab-df-convert {\n",
              "      background-color: #3B4455;\n",
              "      fill: #D2E3FC;\n",
              "    }\n",
              "\n",
              "    [theme=dark] .colab-df-convert:hover {\n",
              "      background-color: #434B5C;\n",
              "      box-shadow: 0px 1px 3px 1px rgba(0, 0, 0, 0.15);\n",
              "      filter: drop-shadow(0px 1px 2px rgba(0, 0, 0, 0.3));\n",
              "      fill: #FFFFFF;\n",
              "    }\n",
              "  </style>\n",
              "\n",
              "      <script>\n",
              "        const buttonEl =\n",
              "          document.querySelector('#df-77dffeb7-9a9c-4a7d-a3d9-40423bf6a576 button.colab-df-convert');\n",
              "        buttonEl.style.display =\n",
              "          google.colab.kernel.accessAllowed ? 'block' : 'none';\n",
              "\n",
              "        async function convertToInteractive(key) {\n",
              "          const element = document.querySelector('#df-77dffeb7-9a9c-4a7d-a3d9-40423bf6a576');\n",
              "          const dataTable =\n",
              "            await google.colab.kernel.invokeFunction('convertToInteractive',\n",
              "                                                     [key], {});\n",
              "          if (!dataTable) return;\n",
              "\n",
              "          const docLinkHtml = 'Like what you see? Visit the ' +\n",
              "            '<a target=\"_blank\" href=https://colab.research.google.com/notebooks/data_table.ipynb>data table notebook</a>'\n",
              "            + ' to learn more about interactive tables.';\n",
              "          element.innerHTML = '';\n",
              "          dataTable['output_type'] = 'display_data';\n",
              "          await google.colab.output.renderOutput(dataTable, element);\n",
              "          const docLink = document.createElement('div');\n",
              "          docLink.innerHTML = docLinkHtml;\n",
              "          element.appendChild(docLink);\n",
              "        }\n",
              "      </script>\n",
              "    </div>\n",
              "  </div>\n",
              "  "
            ]
          },
          "metadata": {},
          "execution_count": 37
        }
      ]
    },
    {
      "cell_type": "code",
      "source": [
        "plt.figure(figsize=(20,20))\n",
        "sns.heatmap(data1.corr(),annot=True);"
      ],
      "metadata": {
        "colab": {
          "base_uri": "https://localhost:8080/",
          "height": 1000
        },
        "id": "n-gDJFd9x_qw",
        "outputId": "eb015f22-28fc-4425-f91b-42d643a1bacb"
      },
      "execution_count": 39,
      "outputs": [
        {
          "output_type": "display_data",
          "data": {
            "text/plain": [
              "<Figure size 1440x1440 with 2 Axes>"
            ],
            "image/png": "[encoded data removed]"
          },
          "metadata": {
            "needs_background": "light"
          }
        }
      ]
    },
    {
      "cell_type": "code",
      "source": [
        "#Label encoding (target, ie 'Classification')\n",
        "from sklearn.preprocessing import LabelEncoder\n",
        "le=LabelEncoder()"
      ],
      "metadata": {
        "id": "1n8RfoCvyIh5"
      },
      "execution_count": 40,
      "outputs": []
    },
    {
      "cell_type": "code",
      "source": [
        "data['Classification']=le.fit_transform(data['Classification'])"
      ],
      "metadata": {
        "id": "SAClh82xyvke"
      },
      "execution_count": 42,
      "outputs": []
    },
    {
      "cell_type": "code",
      "source": [
        "data"
      ],
      "metadata": {
        "colab": {
          "base_uri": "https://localhost:8080/",
          "height": 424
        },
        "id": "NFVrlVlmzFRQ",
        "outputId": "1c2e4c45-8aac-4aeb-c91d-88daa7debedf"
      },
      "execution_count": 43,
      "outputs": [
        {
          "output_type": "execute_result",
          "data": {
            "text/plain": [
              "      SL   SW    PL   PW  Classification\n",
              "0    5.1  3.5  1.40  0.2               0\n",
              "1    4.9  3.0  1.40  0.2               0\n",
              "2    5.8  3.2  1.30  0.2               0\n",
              "3    4.6  3.1  1.50  0.2               0\n",
              "4    5.0  3.6  1.40  0.2               0\n",
              "..   ...  ...   ...  ...             ...\n",
              "145  6.7  3.0  5.20  2.3               2\n",
              "146  6.3  2.5  5.00  1.9               2\n",
              "147  6.5  3.0  4.35  2.0               2\n",
              "148  6.2  3.4  5.40  2.3               2\n",
              "149  5.9  3.0  5.10  1.8               2\n",
              "\n",
              "[150 rows x 5 columns]"
            ],
            "text/html": [
              "\n",
              "  <div id=\"df-74cb3cc8-7367-4a84-af38-27349e4d505a\">\n",
              "    <div class=\"colab-df-container\">\n",
              "      <div>\n",
              "<style scoped>\n",
              "    .dataframe tbody tr th:only-of-type {\n",
              "        vertical-align: middle;\n",
              "    }\n",
              "\n",
              "    .dataframe tbody tr th {\n",
              "        vertical-align: top;\n",
              "    }\n",
              "\n",
              "    .dataframe thead th {\n",
              "        text-align: right;\n",
              "    }\n",
              "</style>\n",
              "<table border=\"1\" class=\"dataframe\">\n",
              "  <thead>\n",
              "    <tr style=\"text-align: right;\">\n",
              "      <th></th>\n",
              "      <th>SL</th>\n",
              "      <th>SW</th>\n",
              "      <th>PL</th>\n",
              "      <th>PW</th>\n",
              "      <th>Classification</th>\n",
              "    </tr>\n",
              "  </thead>\n",
              "  <tbody>\n",
              "    <tr>\n",
              "      <th>0</th>\n",
              "      <td>5.1</td>\n",
              "      <td>3.5</td>\n",
              "      <td>1.40</td>\n",
              "      <td>0.2</td>\n",
              "      <td>0</td>\n",
              "    </tr>\n",
              "    <tr>\n",
              "      <th>1</th>\n",
              "      <td>4.9</td>\n",
              "      <td>3.0</td>\n",
              "      <td>1.40</td>\n",
              "      <td>0.2</td>\n",
              "      <td>0</td>\n",
              "    </tr>\n",
              "    <tr>\n",
              "      <th>2</th>\n",
              "      <td>5.8</td>\n",
              "      <td>3.2</td>\n",
              "      <td>1.30</td>\n",
              "      <td>0.2</td>\n",
              "      <td>0</td>\n",
              "    </tr>\n",
              "    <tr>\n",
              "      <th>3</th>\n",
              "      <td>4.6</td>\n",
              "      <td>3.1</td>\n",
              "      <td>1.50</td>\n",
              "      <td>0.2</td>\n",
              "      <td>0</td>\n",
              "    </tr>\n",
              "    <tr>\n",
              "      <th>4</th>\n",
              "      <td>5.0</td>\n",
              "      <td>3.6</td>\n",
              "      <td>1.40</td>\n",
              "      <td>0.2</td>\n",
              "      <td>0</td>\n",
              "    </tr>\n",
              "    <tr>\n",
              "      <th>...</th>\n",
              "      <td>...</td>\n",
              "      <td>...</td>\n",
              "      <td>...</td>\n",
              "      <td>...</td>\n",
              "      <td>...</td>\n",
              "    </tr>\n",
              "    <tr>\n",
              "      <th>145</th>\n",
              "      <td>6.7</td>\n",
              "      <td>3.0</td>\n",
              "      <td>5.20</td>\n",
              "      <td>2.3</td>\n",
              "      <td>2</td>\n",
              "    </tr>\n",
              "    <tr>\n",
              "      <th>146</th>\n",
              "      <td>6.3</td>\n",
              "      <td>2.5</td>\n",
              "      <td>5.00</td>\n",
              "      <td>1.9</td>\n",
              "      <td>2</td>\n",
              "    </tr>\n",
              "    <tr>\n",
              "      <th>147</th>\n",
              "      <td>6.5</td>\n",
              "      <td>3.0</td>\n",
              "      <td>4.35</td>\n",
              "      <td>2.0</td>\n",
              "      <td>2</td>\n",
              "    </tr>\n",
              "    <tr>\n",
              "      <th>148</th>\n",
              "      <td>6.2</td>\n",
              "      <td>3.4</td>\n",
              "      <td>5.40</td>\n",
              "      <td>2.3</td>\n",
              "      <td>2</td>\n",
              "    </tr>\n",
              "    <tr>\n",
              "      <th>149</th>\n",
              "      <td>5.9</td>\n",
              "      <td>3.0</td>\n",
              "      <td>5.10</td>\n",
              "      <td>1.8</td>\n",
              "      <td>2</td>\n",
              "    </tr>\n",
              "  </tbody>\n",
              "</table>\n",
              "<p>150 rows × 5 columns</p>\n",
              "</div>\n",
              "      <button class=\"colab-df-convert\" onclick=\"convertToInteractive('df-74cb3cc8-7367-4a84-af38-27349e4d505a')\"\n",
              "              title=\"Convert this dataframe to an interactive table.\"\n",
              "              style=\"display:none;\">\n",
              "        \n",
              "  <svg xmlns=\"http://www.w3.org/2000/svg\" height=\"24px\"viewBox=\"0 0 24 24\"\n",
              "       width=\"24px\">\n",
              "    <path d=\"M0 0h24v24H0V0z\" fill=\"none\"/>\n",
              "    <path d=\"M18.56 5.44l.94 2.06.94-2.06 2.06-.94-2.06-.94-.94-2.06-.94 2.06-2.06.94zm-11 1L8.5 8.5l.94-2.06 2.06-.94-2.06-.94L8.5 2.5l-.94 2.06-2.06.94zm10 10l.94 2.06.94-2.06 2.06-.94-2.06-.94-.94-2.06-.94 2.06-2.06.94z\"/><path d=\"M17.41 7.96l-1.37-1.37c-.4-.4-.92-.59-1.43-.59-.52 0-1.04.2-1.43.59L10.3 9.45l-7.72 7.72c-.78.78-.78 2.05 0 2.83L4 21.41c.39.39.9.59 1.41.59.51 0 1.02-.2 1.41-.59l7.78-7.78 2.81-2.81c.8-.78.8-2.07 0-2.86zM5.41 20L4 18.59l7.72-7.72 1.47 1.35L5.41 20z\"/>\n",
              "  </svg>\n",
              "      </button>\n",
              "      \n",
              "  <style>\n",
              "    .colab-df-container {\n",
              "      display:flex;\n",
              "      flex-wrap:wrap;\n",
              "      gap: 12px;\n",
              "    }\n",
              "\n",
              "    .colab-df-convert {\n",
              "      background-color: #E8F0FE;\n",
              "      border: none;\n",
              "      border-radius: 50%;\n",
              "      cursor: pointer;\n",
              "      display: none;\n",
              "      fill: #1967D2;\n",
              "      height: 32px;\n",
              "      padding: 0 0 0 0;\n",
              "      width: 32px;\n",
              "    }\n",
              "\n",
              "    .colab-df-convert:hover {\n",
              "      background-color: #E2EBFA;\n",
              "      box-shadow: 0px 1px 2px rgba(60, 64, 67, 0.3), 0px 1px 3px 1px rgba(60, 64, 67, 0.15);\n",
              "      fill: #174EA6;\n",
              "    }\n",
              "\n",
              "    [theme=dark] .colab-df-convert {\n",
              "      background-color: #3B4455;\n",
              "      fill: #D2E3FC;\n",
              "    }\n",
              "\n",
              "    [theme=dark] .colab-df-convert:hover {\n",
              "      background-color: #434B5C;\n",
              "      box-shadow: 0px 1px 3px 1px rgba(0, 0, 0, 0.15);\n",
              "      filter: drop-shadow(0px 1px 2px rgba(0, 0, 0, 0.3));\n",
              "      fill: #FFFFFF;\n",
              "    }\n",
              "  </style>\n",
              "\n",
              "      <script>\n",
              "        const buttonEl =\n",
              "          document.querySelector('#df-74cb3cc8-7367-4a84-af38-27349e4d505a button.colab-df-convert');\n",
              "        buttonEl.style.display =\n",
              "          google.colab.kernel.accessAllowed ? 'block' : 'none';\n",
              "\n",
              "        async function convertToInteractive(key) {\n",
              "          const element = document.querySelector('#df-74cb3cc8-7367-4a84-af38-27349e4d505a');\n",
              "          const dataTable =\n",
              "            await google.colab.kernel.invokeFunction('convertToInteractive',\n",
              "                                                     [key], {});\n",
              "          if (!dataTable) return;\n",
              "\n",
              "          const docLinkHtml = 'Like what you see? Visit the ' +\n",
              "            '<a target=\"_blank\" href=https://colab.research.google.com/notebooks/data_table.ipynb>data table notebook</a>'\n",
              "            + ' to learn more about interactive tables.';\n",
              "          element.innerHTML = '';\n",
              "          dataTable['output_type'] = 'display_data';\n",
              "          await google.colab.output.renderOutput(dataTable, element);\n",
              "          const docLink = document.createElement('div');\n",
              "          docLink.innerHTML = docLinkHtml;\n",
              "          element.appendChild(docLink);\n",
              "        }\n",
              "      </script>\n",
              "    </div>\n",
              "  </div>\n",
              "  "
            ]
          },
          "metadata": {},
          "execution_count": 43
        }
      ]
    },
    {
      "cell_type": "code",
      "source": [
        "#Min Max scaling\n",
        "from sklearn.preprocessing import MinMaxScaler\n",
        "minmax = MinMaxScaler(feature_range=(0,1))"
      ],
      "metadata": {
        "id": "2qAYGNTzzP1F"
      },
      "execution_count": 44,
      "outputs": []
    },
    {
      "cell_type": "code",
      "source": [
        "X=data.drop('Classification',axis=1)\n",
        "y=data['Classification']"
      ],
      "metadata": {
        "id": "lo7dNiCSzgxh"
      },
      "execution_count": 50,
      "outputs": []
    },
    {
      "cell_type": "code",
      "source": [
        "from sklearn.model_selection import train_test_split\n",
        "X_train,X_test,y_train, y_test=train_test_split(X,y,test_size=0.2, random_state=42)\n",
        "from sklearn.linear_model import LinearRegression\n",
        "lr=LinearRegression()\n",
        "model=lr.fit(X_train,y_train)\n",
        "pred=model.predict(X_test)"
      ],
      "metadata": {
        "id": "rAtgGIzH0LQ-"
      },
      "execution_count": 51,
      "outputs": []
    },
    {
      "cell_type": "code",
      "source": [
        "X1 = minmax.fit_transform(X)"
      ],
      "metadata": {
        "id": "fpabqcxU06h-"
      },
      "execution_count": 53,
      "outputs": []
    },
    {
      "cell_type": "code",
      "source": [
        "data1.columns"
      ],
      "metadata": {
        "colab": {
          "base_uri": "https://localhost:8080/"
        },
        "id": "TA69Ym252SaU",
        "outputId": "8d396c14-d3bf-4fd0-d3c4-1c403dfb6db5"
      },
      "execution_count": 54,
      "outputs": [
        {
          "output_type": "execute_result",
          "data": {
            "text/plain": [
              "Index(['SL', 'SW', 'PL', 'PW', 'Classification_Iris-setosa',\n",
              "       'Classification_Iris-versicolor', 'Classification_Iris-virginica'],\n",
              "      dtype='object')"
            ]
          },
          "metadata": {},
          "execution_count": 54
        }
      ]
    },
    {
      "cell_type": "code",
      "source": [
        "#changing x1 back into dataframe\n",
        "X1=pd.DataFrame(X1,columns=['SL', 'SW', 'PL', 'PW'])"
      ],
      "metadata": {
        "id": "jQfC01Kx2YkX"
      },
      "execution_count": 59,
      "outputs": []
    },
    {
      "cell_type": "code",
      "source": [
        "X1.describe()"
      ],
      "metadata": {
        "colab": {
          "base_uri": "https://localhost:8080/",
          "height": 300
        },
        "id": "CochCis84Z8c",
        "outputId": "12d4fbea-e602-47a9-a75a-72d9424723be"
      },
      "execution_count": 61,
      "outputs": [
        {
          "output_type": "execute_result",
          "data": {
            "text/plain": [
              "               SL          SW          PL          PW\n",
              "count  150.000000  150.000000  150.000000  150.000000\n",
              "mean     0.431481    0.436389    0.471186    0.457778\n",
              "std      0.224602    0.175831    0.293123    0.317984\n",
              "min      0.000000    0.000000    0.000000    0.000000\n",
              "25%      0.250000    0.333333    0.101695    0.083333\n",
              "50%      0.416667    0.416667    0.567797    0.500000\n",
              "75%      0.583333    0.531250    0.694915    0.708333\n",
              "max      1.000000    1.000000    1.000000    1.000000"
            ],
            "text/html": [
              "\n",
              "  <div id=\"df-bb8d850a-c835-46a5-a44d-f708b846118c\">\n",
              "    <div class=\"colab-df-container\">\n",
              "      <div>\n",
              "<style scoped>\n",
              "    .dataframe tbody tr th:only-of-type {\n",
              "        vertical-align: middle;\n",
              "    }\n",
              "\n",
              "    .dataframe tbody tr th {\n",
              "        vertical-align: top;\n",
              "    }\n",
              "\n",
              "    .dataframe thead th {\n",
              "        text-align: right;\n",
              "    }\n",
              "</style>\n",
              "<table border=\"1\" class=\"dataframe\">\n",
              "  <thead>\n",
              "    <tr style=\"text-align: right;\">\n",
              "      <th></th>\n",
              "      <th>SL</th>\n",
              "      <th>SW</th>\n",
              "      <th>PL</th>\n",
              "      <th>PW</th>\n",
              "    </tr>\n",
              "  </thead>\n",
              "  <tbody>\n",
              "    <tr>\n",
              "      <th>count</th>\n",
              "      <td>150.000000</td>\n",
              "      <td>150.000000</td>\n",
              "      <td>150.000000</td>\n",
              "      <td>150.000000</td>\n",
              "    </tr>\n",
              "    <tr>\n",
              "      <th>mean</th>\n",
              "      <td>0.431481</td>\n",
              "      <td>0.436389</td>\n",
              "      <td>0.471186</td>\n",
              "      <td>0.457778</td>\n",
              "    </tr>\n",
              "    <tr>\n",
              "      <th>std</th>\n",
              "      <td>0.224602</td>\n",
              "      <td>0.175831</td>\n",
              "      <td>0.293123</td>\n",
              "      <td>0.317984</td>\n",
              "    </tr>\n",
              "    <tr>\n",
              "      <th>min</th>\n",
              "      <td>0.000000</td>\n",
              "      <td>0.000000</td>\n",
              "      <td>0.000000</td>\n",
              "      <td>0.000000</td>\n",
              "    </tr>\n",
              "    <tr>\n",
              "      <th>25%</th>\n",
              "      <td>0.250000</td>\n",
              "      <td>0.333333</td>\n",
              "      <td>0.101695</td>\n",
              "      <td>0.083333</td>\n",
              "    </tr>\n",
              "    <tr>\n",
              "      <th>50%</th>\n",
              "      <td>0.416667</td>\n",
              "      <td>0.416667</td>\n",
              "      <td>0.567797</td>\n",
              "      <td>0.500000</td>\n",
              "    </tr>\n",
              "    <tr>\n",
              "      <th>75%</th>\n",
              "      <td>0.583333</td>\n",
              "      <td>0.531250</td>\n",
              "      <td>0.694915</td>\n",
              "      <td>0.708333</td>\n",
              "    </tr>\n",
              "    <tr>\n",
              "      <th>max</th>\n",
              "      <td>1.000000</td>\n",
              "      <td>1.000000</td>\n",
              "      <td>1.000000</td>\n",
              "      <td>1.000000</td>\n",
              "    </tr>\n",
              "  </tbody>\n",
              "</table>\n",
              "</div>\n",
              "      <button class=\"colab-df-convert\" onclick=\"convertToInteractive('df-bb8d850a-c835-46a5-a44d-f708b846118c')\"\n",
              "              title=\"Convert this dataframe to an interactive table.\"\n",
              "              style=\"display:none;\">\n",
              "        \n",
              "  <svg xmlns=\"http://www.w3.org/2000/svg\" height=\"24px\"viewBox=\"0 0 24 24\"\n",
              "       width=\"24px\">\n",
              "    <path d=\"M0 0h24v24H0V0z\" fill=\"none\"/>\n",
              "    <path d=\"M18.56 5.44l.94 2.06.94-2.06 2.06-.94-2.06-.94-.94-2.06-.94 2.06-2.06.94zm-11 1L8.5 8.5l.94-2.06 2.06-.94-2.06-.94L8.5 2.5l-.94 2.06-2.06.94zm10 10l.94 2.06.94-2.06 2.06-.94-2.06-.94-.94-2.06-.94 2.06-2.06.94z\"/><path d=\"M17.41 7.96l-1.37-1.37c-.4-.4-.92-.59-1.43-.59-.52 0-1.04.2-1.43.59L10.3 9.45l-7.72 7.72c-.78.78-.78 2.05 0 2.83L4 21.41c.39.39.9.59 1.41.59.51 0 1.02-.2 1.41-.59l7.78-7.78 2.81-2.81c.8-.78.8-2.07 0-2.86zM5.41 20L4 18.59l7.72-7.72 1.47 1.35L5.41 20z\"/>\n",
              "  </svg>\n",
              "      </button>\n",
              "      \n",
              "  <style>\n",
              "    .colab-df-container {\n",
              "      display:flex;\n",
              "      flex-wrap:wrap;\n",
              "      gap: 12px;\n",
              "    }\n",
              "\n",
              "    .colab-df-convert {\n",
              "      background-color: #E8F0FE;\n",
              "      border: none;\n",
              "      border-radius: 50%;\n",
              "      cursor: pointer;\n",
              "      display: none;\n",
              "      fill: #1967D2;\n",
              "      height: 32px;\n",
              "      padding: 0 0 0 0;\n",
              "      width: 32px;\n",
              "    }\n",
              "\n",
              "    .colab-df-convert:hover {\n",
              "      background-color: #E2EBFA;\n",
              "      box-shadow: 0px 1px 2px rgba(60, 64, 67, 0.3), 0px 1px 3px 1px rgba(60, 64, 67, 0.15);\n",
              "      fill: #174EA6;\n",
              "    }\n",
              "\n",
              "    [theme=dark] .colab-df-convert {\n",
              "      background-color: #3B4455;\n",
              "      fill: #D2E3FC;\n",
              "    }\n",
              "\n",
              "    [theme=dark] .colab-df-convert:hover {\n",
              "      background-color: #434B5C;\n",
              "      box-shadow: 0px 1px 3px 1px rgba(0, 0, 0, 0.15);\n",
              "      filter: drop-shadow(0px 1px 2px rgba(0, 0, 0, 0.3));\n",
              "      fill: #FFFFFF;\n",
              "    }\n",
              "  </style>\n",
              "\n",
              "      <script>\n",
              "        const buttonEl =\n",
              "          document.querySelector('#df-bb8d850a-c835-46a5-a44d-f708b846118c button.colab-df-convert');\n",
              "        buttonEl.style.display =\n",
              "          google.colab.kernel.accessAllowed ? 'block' : 'none';\n",
              "\n",
              "        async function convertToInteractive(key) {\n",
              "          const element = document.querySelector('#df-bb8d850a-c835-46a5-a44d-f708b846118c');\n",
              "          const dataTable =\n",
              "            await google.colab.kernel.invokeFunction('convertToInteractive',\n",
              "                                                     [key], {});\n",
              "          if (!dataTable) return;\n",
              "\n",
              "          const docLinkHtml = 'Like what you see? Visit the ' +\n",
              "            '<a target=\"_blank\" href=https://colab.research.google.com/notebooks/data_table.ipynb>data table notebook</a>'\n",
              "            + ' to learn more about interactive tables.';\n",
              "          element.innerHTML = '';\n",
              "          dataTable['output_type'] = 'display_data';\n",
              "          await google.colab.output.renderOutput(dataTable, element);\n",
              "          const docLink = document.createElement('div');\n",
              "          docLink.innerHTML = docLinkHtml;\n",
              "          element.appendChild(docLink);\n",
              "        }\n",
              "      </script>\n",
              "    </div>\n",
              "  </div>\n",
              "  "
            ]
          },
          "metadata": {},
          "execution_count": 61
        }
      ]
    },
    {
      "cell_type": "markdown",
      "source": [
        "**3. Find out which classification model gives the best result (try all the\n",
        "classification algorithms discussed in the session)**"
      ],
      "metadata": {
        "id": "DmATRBe65g_M"
      }
    },
    {
      "cell_type": "markdown",
      "source": [
        "#Logistic Regression"
      ],
      "metadata": {
        "id": "YvW4gcg08fTx"
      }
    },
    {
      "cell_type": "code",
      "source": [
        "\n",
        "X=data.drop('Classification',axis=1)#x contains the independent variables\n",
        "y=data['Classification']#targe\n"
      ],
      "metadata": {
        "id": "-pkSSdWV4gbD"
      },
      "execution_count": 63,
      "outputs": []
    },
    {
      "cell_type": "code",
      "source": [
        "from sklearn.model_selection import train_test_split\n",
        "X_train,X_test,y_train,y_test=train_test_split(X,y,test_size=0.25,random_state=42)#tarin data ,test data splitting"
      ],
      "metadata": {
        "id": "CJI-KXQs6yXS"
      },
      "execution_count": 64,
      "outputs": []
    },
    {
      "cell_type": "code",
      "source": [
        "from sklearn.linear_model import LogisticRegression#Logistic Regression is present in linear_model\n",
        "lr=LogisticRegression()#creating an instance\n",
        "model=lr.fit(X_train,y_train)\n",
        "y_pred=model.predict(X_test)"
      ],
      "metadata": {
        "colab": {
          "base_uri": "https://localhost:8080/"
        },
        "id": "_HWk-2rJ8IJU",
        "outputId": "2be4dc34-64bb-47d0-aa3e-089a4e046258"
      },
      "execution_count": 69,
      "outputs": [
        {
          "output_type": "stream",
          "name": "stderr",
          "text": [
            "/usr/local/lib/python3.8/dist-packages/sklearn/linear_model/_logistic.py:814: ConvergenceWarning: lbfgs failed to converge (status=1):\n",
            "STOP: TOTAL NO. of ITERATIONS REACHED LIMIT.\n",
            "\n",
            "Increase the number of iterations (max_iter) or scale the data as shown in:\n",
            "    https://scikit-learn.org/stable/modules/preprocessing.html\n",
            "Please also refer to the documentation for alternative solver options:\n",
            "    https://scikit-learn.org/stable/modules/linear_model.html#logistic-regression\n",
            "  n_iter_i = _check_optimize_result(\n"
          ]
        }
      ]
    },
    {
      "cell_type": "code",
      "source": [
        "# model validation checking \n",
        "from sklearn.metrics import confusion_matrix,accuracy_score"
      ],
      "metadata": {
        "id": "ubo-v0Dz7HIC"
      },
      "execution_count": 66,
      "outputs": []
    },
    {
      "cell_type": "code",
      "source": [
        "print(confusion_matrix(y_test,y_pred))"
      ],
      "metadata": {
        "colab": {
          "base_uri": "https://localhost:8080/"
        },
        "id": "XTIWUfPe7K8a",
        "outputId": "abb63bd1-a914-4863-a6b9-211a3a8de07c"
      },
      "execution_count": 70,
      "outputs": [
        {
          "output_type": "stream",
          "name": "stdout",
          "text": [
            "[[14  1  0]\n",
            " [ 0 11  0]\n",
            " [ 0  0 12]]\n"
          ]
        }
      ]
    },
    {
      "cell_type": "code",
      "source": [
        "print(accuracy_score(y_test,y_pred))"
      ],
      "metadata": {
        "colab": {
          "base_uri": "https://localhost:8080/"
        },
        "id": "8WjPSpBW8PeZ",
        "outputId": "552e73c2-8fbf-4576-bcd9-69186f72e37d"
      },
      "execution_count": 71,
      "outputs": [
        {
          "output_type": "stream",
          "name": "stdout",
          "text": [
            "0.9736842105263158\n"
          ]
        }
      ]
    },
    {
      "cell_type": "markdown",
      "source": [
        "#KNN"
      ],
      "metadata": {
        "id": "T1KYNhn-8iCq"
      }
    },
    {
      "cell_type": "code",
      "source": [
        "#knn\n",
        "from sklearn.neighbors import KNeighborsClassifier\n",
        "metric_k= []#empty list for appending accuracy of model for each k values\n",
        "neighbors = np.arange(3, 15)#k value from 3 to 14\n",
        "\n",
        "for k in neighbors:\n",
        "  knn=KNeighborsClassifier(n_neighbors=k)\n",
        "  model2=knn.fit(X_train,y_train)\n",
        "  y_pred_knn=model2.predict(X_test)\n",
        "  acc=accuracy_score(y_test,y_pred_knn)\n",
        "  metric_k.append(acc)#appending accuracy of model for each k values"
      ],
      "metadata": {
        "id": "-milYmKm8jN8"
      },
      "execution_count": 74,
      "outputs": []
    },
    {
      "cell_type": "code",
      "source": [
        "metric_k"
      ],
      "metadata": {
        "colab": {
          "base_uri": "https://localhost:8080/"
        },
        "id": "mhSptZp389Gk",
        "outputId": "f3c7f044-aa34-49ae-d46c-fa0eee436734"
      },
      "execution_count": 75,
      "outputs": [
        {
          "output_type": "execute_result",
          "data": {
            "text/plain": [
              "[0.9473684210526315,\n",
              " 0.9736842105263158,\n",
              " 0.9473684210526315,\n",
              " 0.9473684210526315,\n",
              " 0.9473684210526315,\n",
              " 0.9736842105263158,\n",
              " 0.9736842105263158,\n",
              " 0.9736842105263158,\n",
              " 0.9736842105263158,\n",
              " 0.9736842105263158,\n",
              " 0.9736842105263158,\n",
              " 0.9736842105263158]"
            ]
          },
          "metadata": {},
          "execution_count": 75
        }
      ]
    },
    {
      "cell_type": "code",
      "source": [
        "#Ploting line graph of accuracy of model for each value of k \n",
        "plt.plot(neighbors,metric_k,'o-')\n",
        "plt.xlabel('k value')\n",
        "plt.ylabel('accuracy')\n",
        "plt.grid()"
      ],
      "metadata": {
        "colab": {
          "base_uri": "https://localhost:8080/",
          "height": 283
        },
        "id": "AoWMVQCY9GMp",
        "outputId": "d8bea826-4e72-40cb-c154-d1bc207ae16a"
      },
      "execution_count": 76,
      "outputs": [
        {
          "output_type": "display_data",
          "data": {
            "text/plain": [
              "<Figure size 432x288 with 1 Axes>"
            ],
            "image/png": "[encoded data removed]"
          },
          "metadata": {
            "needs_background": "light"
          }
        }
      ]
    },
    {
      "cell_type": "code",
      "source": [
        "#accuracy is more for k=4,so creating model using k=4\n",
        "knn=KNeighborsClassifier(n_neighbors=4)\n",
        "model2=knn.fit(X_train,y_train)\n",
        "y_pred_knn=model2.predict(X_test)"
      ],
      "metadata": {
        "id": "wcV4moYi9Igw"
      },
      "execution_count": 77,
      "outputs": []
    },
    {
      "cell_type": "code",
      "source": [
        "print(confusion_matrix(y_test,y_pred_knn))"
      ],
      "metadata": {
        "colab": {
          "base_uri": "https://localhost:8080/"
        },
        "id": "sdR3CZJd9RQA",
        "outputId": "481bce73-f25c-4cd1-9165-3f8b8918068b"
      },
      "execution_count": 78,
      "outputs": [
        {
          "output_type": "stream",
          "name": "stdout",
          "text": [
            "[[14  1  0]\n",
            " [ 0 11  0]\n",
            " [ 0  0 12]]\n"
          ]
        }
      ]
    },
    {
      "cell_type": "code",
      "source": [
        "print(accuracy_score(y_test,y_pred_knn))"
      ],
      "metadata": {
        "colab": {
          "base_uri": "https://localhost:8080/"
        },
        "id": "hBN0RUee9VoA",
        "outputId": "ff5167fc-9896-4d63-dff1-33afd10f25ce"
      },
      "execution_count": 79,
      "outputs": [
        {
          "output_type": "stream",
          "name": "stdout",
          "text": [
            "0.9736842105263158\n"
          ]
        }
      ]
    },
    {
      "cell_type": "markdown",
      "source": [
        "#SVM model"
      ],
      "metadata": {
        "id": "6n3sMfo_9eH0"
      }
    },
    {
      "cell_type": "code",
      "source": [
        "from sklearn.svm import SVC#support vector classifier"
      ],
      "metadata": {
        "id": "ccdviNp19gwY"
      },
      "execution_count": 80,
      "outputs": []
    },
    {
      "cell_type": "markdown",
      "source": [
        "#SVM kernel=rbf"
      ],
      "metadata": {
        "id": "b2dCxyJf9lrR"
      }
    },
    {
      "cell_type": "code",
      "source": [
        "svm_clf=SVC(kernel='rbf')\n",
        "svm_model=svm_clf.fit(X_train,y_train)\n",
        "y_pred=svm_model.predict(X_test)"
      ],
      "metadata": {
        "id": "baJekkv79pD5"
      },
      "execution_count": 81,
      "outputs": []
    },
    {
      "cell_type": "code",
      "source": [
        "confusion_matrix(y_test,y_pred)"
      ],
      "metadata": {
        "colab": {
          "base_uri": "https://localhost:8080/"
        },
        "id": "W-SBGWTK9vrZ",
        "outputId": "fe3c9847-82d3-4b49-a11c-efbc6d093efb"
      },
      "execution_count": 82,
      "outputs": [
        {
          "output_type": "execute_result",
          "data": {
            "text/plain": [
              "array([[14,  1,  0],\n",
              "       [ 0, 11,  0],\n",
              "       [ 0,  0, 12]])"
            ]
          },
          "metadata": {},
          "execution_count": 82
        }
      ]
    },
    {
      "cell_type": "code",
      "source": [
        "accuracy_score(y_test,y_pred)"
      ],
      "metadata": {
        "colab": {
          "base_uri": "https://localhost:8080/"
        },
        "id": "ZmEldxut9y8M",
        "outputId": "ac0d9806-0715-4694-c5ba-2ca71b3738e5"
      },
      "execution_count": 83,
      "outputs": [
        {
          "output_type": "execute_result",
          "data": {
            "text/plain": [
              "0.9736842105263158"
            ]
          },
          "metadata": {},
          "execution_count": 83
        }
      ]
    },
    {
      "cell_type": "markdown",
      "source": [
        "#SVM kernel=linear"
      ],
      "metadata": {
        "id": "XKQ97qiw95oR"
      }
    },
    {
      "cell_type": "code",
      "source": [
        "svm_clf_linear=SVC(kernel='linear')\n",
        "svm_model_linear=svm_clf.fit(X_train,y_train)\n",
        "y_pred=svm_model_linear.predict(X_test)"
      ],
      "metadata": {
        "id": "uUPJMk3C92hp"
      },
      "execution_count": 84,
      "outputs": []
    },
    {
      "cell_type": "code",
      "source": [
        "confusion_matrix(y_test,y_pred)"
      ],
      "metadata": {
        "colab": {
          "base_uri": "https://localhost:8080/"
        },
        "id": "e6EXnVkn-BJA",
        "outputId": "b175d1af-2eec-4faf-cad0-baeb514c2999"
      },
      "execution_count": 85,
      "outputs": [
        {
          "output_type": "execute_result",
          "data": {
            "text/plain": [
              "array([[14,  1,  0],\n",
              "       [ 0, 11,  0],\n",
              "       [ 0,  0, 12]])"
            ]
          },
          "metadata": {},
          "execution_count": 85
        }
      ]
    },
    {
      "cell_type": "code",
      "source": [
        "accuracy_score(y_test,y_pred)"
      ],
      "metadata": {
        "colab": {
          "base_uri": "https://localhost:8080/"
        },
        "id": "aMaDPf1p-EkB",
        "outputId": "b36bf836-5f19-4b69-d757-787dbab2a6ed"
      },
      "execution_count": 86,
      "outputs": [
        {
          "output_type": "execute_result",
          "data": {
            "text/plain": [
              "0.9736842105263158"
            ]
          },
          "metadata": {},
          "execution_count": 86
        }
      ]
    },
    {
      "cell_type": "markdown",
      "source": [
        "#SVM kernel=polynomial"
      ],
      "metadata": {
        "id": "1UEVx6r--HsA"
      }
    },
    {
      "cell_type": "code",
      "source": [
        "svm_clf_linear=SVC(kernel='poly')\n",
        "svm_model_poly=svm_clf.fit(X_train,y_train)\n",
        "y_pred=svm_model_poly.predict(X_test)"
      ],
      "metadata": {
        "id": "eFDebEH3-L06"
      },
      "execution_count": 87,
      "outputs": []
    },
    {
      "cell_type": "code",
      "source": [
        "confusion_matrix(y_test,y_pred)"
      ],
      "metadata": {
        "colab": {
          "base_uri": "https://localhost:8080/"
        },
        "id": "0X4zYvIP-L7J",
        "outputId": "e9791f48-2788-4cad-ec0a-6497149e794f"
      },
      "execution_count": 88,
      "outputs": [
        {
          "output_type": "execute_result",
          "data": {
            "text/plain": [
              "array([[14,  1,  0],\n",
              "       [ 0, 11,  0],\n",
              "       [ 0,  0, 12]])"
            ]
          },
          "metadata": {},
          "execution_count": 88
        }
      ]
    },
    {
      "cell_type": "code",
      "source": [
        "accuracy_score(y_test,y_pred)"
      ],
      "metadata": {
        "colab": {
          "base_uri": "https://localhost:8080/"
        },
        "id": "06iAjg0t-VT5",
        "outputId": "d6663a5f-23d7-4542-8cf0-513c83adab42"
      },
      "execution_count": 89,
      "outputs": [
        {
          "output_type": "execute_result",
          "data": {
            "text/plain": [
              "0.9736842105263158"
            ]
          },
          "metadata": {},
          "execution_count": 89
        }
      ]
    },
    {
      "cell_type": "markdown",
      "source": [
        "#Decision trees"
      ],
      "metadata": {
        "id": "-4oGdH3L-ZIA"
      }
    },
    {
      "cell_type": "code",
      "source": [
        "from sklearn.tree import DecisionTreeClassifier\n",
        "dt_clf= DecisionTreeClassifier(random_state=42)\n",
        "dt_model=dt_clf.fit(X_train,y_train)\n",
        "y_pred=dt_model.predict(X_test)"
      ],
      "metadata": {
        "id": "eroxraG5-caL"
      },
      "execution_count": 90,
      "outputs": []
    },
    {
      "cell_type": "code",
      "source": [
        "confusion_matrix(y_test,y_pred)"
      ],
      "metadata": {
        "colab": {
          "base_uri": "https://localhost:8080/"
        },
        "id": "3Xbc3VXs-i7w",
        "outputId": "da92caf2-5302-4f00-afd5-863e8326c6af"
      },
      "execution_count": 91,
      "outputs": [
        {
          "output_type": "execute_result",
          "data": {
            "text/plain": [
              "array([[15,  0,  0],\n",
              "       [ 0, 11,  0],\n",
              "       [ 0,  0, 12]])"
            ]
          },
          "metadata": {},
          "execution_count": 91
        }
      ]
    },
    {
      "cell_type": "code",
      "source": [
        "accuracy_score(y_test,y_pred)"
      ],
      "metadata": {
        "colab": {
          "base_uri": "https://localhost:8080/"
        },
        "id": "gECSmIWd-md4",
        "outputId": "5383f7d5-c2bc-4039-c7b6-d877d095bdf4"
      },
      "execution_count": 92,
      "outputs": [
        {
          "output_type": "execute_result",
          "data": {
            "text/plain": [
              "1.0"
            ]
          },
          "metadata": {},
          "execution_count": 92
        }
      ]
    },
    {
      "cell_type": "markdown",
      "source": [
        "#Random Forest"
      ],
      "metadata": {
        "id": "ZvrLhZas-pm4"
      }
    },
    {
      "cell_type": "code",
      "source": [
        "from sklearn.ensemble import RandomForestClassifier\n",
        "rf_clf= RandomForestClassifier(random_state=42)\n",
        "rf_model=rf_clf.fit(X_train,y_train)\n",
        "y_pred=rf_model.predict(X_test)"
      ],
      "metadata": {
        "id": "Cb1eBlo3-swo"
      },
      "execution_count": 93,
      "outputs": []
    },
    {
      "cell_type": "code",
      "source": [
        "confusion_matrix(y_test,y_pred)"
      ],
      "metadata": {
        "colab": {
          "base_uri": "https://localhost:8080/"
        },
        "id": "m-zs2YDZ-zSX",
        "outputId": "7c69ed2e-ac88-4b40-ccab-d6edc1717526"
      },
      "execution_count": 94,
      "outputs": [
        {
          "output_type": "execute_result",
          "data": {
            "text/plain": [
              "array([[15,  0,  0],\n",
              "       [ 0, 11,  0],\n",
              "       [ 0,  0, 12]])"
            ]
          },
          "metadata": {},
          "execution_count": 94
        }
      ]
    },
    {
      "cell_type": "code",
      "source": [
        "accuracy_score(y_test,y_pred)"
      ],
      "metadata": {
        "colab": {
          "base_uri": "https://localhost:8080/"
        },
        "id": "_RQqsuEz-3Pw",
        "outputId": "77b52745-ff68-4d9c-ee55-1fc0e7fa1bd0"
      },
      "execution_count": 95,
      "outputs": [
        {
          "output_type": "execute_result",
          "data": {
            "text/plain": [
              "1.0"
            ]
          },
          "metadata": {},
          "execution_count": 95
        }
      ]
    },
    {
      "cell_type": "markdown",
      "source": [
        "Accuracy of different Classification models on Iris dataset\n",
        "1. Logistic Regression:-97.36%\n",
        "\n",
        "2. Knn:-97.36%\n",
        "\n",
        "3. a.SVM(kernel=rbf):-97.36%\n",
        "\n",
        "3. b.SVM(kernel=linear):-97.36%\n",
        "\n",
        "3. c.SVM(kernel=poly):-97.36%\n",
        "\n",
        "4. Decision Trees:-100%\n",
        "\n",
        "5.Random Forest:-100%"
      ],
      "metadata": {
        "id": "xtcaW5yA-_Y6"
      }
    },
    {
      "cell_type": "markdown",
      "source": [
        "Decision Tree and Random Forest gives the best result."
      ],
      "metadata": {
        "id": "XPlenuHCAUQK"
      }
    }
  ]
}